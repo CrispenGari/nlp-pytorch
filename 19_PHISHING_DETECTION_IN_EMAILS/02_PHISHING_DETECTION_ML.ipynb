{
  "nbformat": 4,
  "nbformat_minor": 0,
  "metadata": {
    "colab": {
      "provenance": [],
      "gpuType": "T4"
    },
    "kernelspec": {
      "name": "python3",
      "display_name": "Python 3"
    },
    "language_info": {
      "name": "python"
    },
    "accelerator": "GPU"
  },
  "cells": [
    {
      "cell_type": "markdown",
      "source": [
        "### 🖋️ Phishing Detection in Email Bodies\n",
        "\n",
        "In this notebook, we will build a **classification model** for the **Phishing detection on the email body** task using ML algorithmns such as `Logistic Regression` and `Random Forest Classifier`.  \n",
        "The goal is to predict the phishing of a given email body.  \n",
        "\n",
        "The dataset that we are using will be loaded from google drive and which was previously processed in the previous notebook.\n",
        "\n",
        "\n",
        "---\n",
        "\n",
        "### ⚙️ Installing Helper Packages\n",
        "\n",
        "In the following code cell, we will install the packages `helperfns`, `kaggle`, and `pigmenta`.  \n",
        "These libraries provide useful utilities for machine learning workflows, including data preprocessing, visualization, and experiment management.\n",
        "\n",
        "**References:**\n",
        "\n",
        "1. [helperfns on PyPI](https://pypi.org/project/helperfns/)  \n",
        "2. [pigmenta on PyPI](https://pypi.org/project/pigmenta/)\n"
      ],
      "metadata": {
        "id": "J74IbBIgebh_"
      }
    },
    {
      "cell_type": "code",
      "source": [
        "!pip install helperfns pigmenta -q"
      ],
      "metadata": {
        "colab": {
          "base_uri": "https://localhost:8080/"
        },
        "id": "i1ggOv-jlagd",
        "outputId": "65b7efde-a2a8-4116-9ee9-02afecf1b39e"
      },
      "execution_count": 1,
      "outputs": [
        {
          "output_type": "stream",
          "name": "stdout",
          "text": [
            "\u001b[2K   \u001b[90m━━━━━━━━━━━━━━━━━━━━━━━━━━━━━━━━━━━━━━━━\u001b[0m \u001b[32m186.5/186.5 kB\u001b[0m \u001b[31m16.3 MB/s\u001b[0m eta \u001b[36m0:00:00\u001b[0m\n",
            "\u001b[2K   \u001b[90m━━━━━━━━━━━━━━━━━━━━━━━━━━━━━━━━━━━━━━━━\u001b[0m \u001b[32m650.3/650.3 kB\u001b[0m \u001b[31m38.9 MB/s\u001b[0m eta \u001b[36m0:00:00\u001b[0m\n",
            "\u001b[?25h"
          ]
        }
      ]
    },
    {
      "cell_type": "markdown",
      "source": [
        "In the following code cell, we will import all the essential Python libraries required for this notebook. These libraries will be used for data preprocessing, visualization, feature extraction, and building the `Logistic Regression` and `Random Forest Classifier`.\n"
      ],
      "metadata": {
        "id": "ddhEhu2oLNYv"
      }
    },
    {
      "cell_type": "code",
      "source": [
        "import random\n",
        "import re\n",
        "import numpy as np\n",
        "import pandas as pd\n",
        "import seaborn as sns\n",
        "import matplotlib.pyplot as plt\n",
        "import warnings\n",
        "import sklearn\n",
        "\n",
        "from pigmenta import PALETTES\n",
        "from sklearn.preprocessing import LabelEncoder\n",
        "from collections import Counter\n",
        "from helperfns.visualization import plot_wordcloud, plot_classification_report, plot_complicated_confusion_matrix\n",
        "from sklearn.utils import resample\n",
        "from sklearn.model_selection import train_test_split, GridSearchCV\n",
        "from sklearn.feature_extraction.text import TfidfVectorizer, CountVectorizer, HashingVectorizer\n",
        "from sklearn.metrics import f1_score, accuracy_score, precision_score, recall_score\n",
        "from sklearn.linear_model import LogisticRegression\n",
        "from sklearn.ensemble import RandomForestClassifier\n",
        "from sklearn.pipeline import Pipeline\n",
        "from google.colab import drive\n",
        "from helperfns.tables import tabulate_data\n",
        "\n",
        "warnings.filterwarnings('ignore')\n",
        "print(\"Pandas: \", pd.__version__)\n",
        "print(\"Seaborn: \", sns.__version__)\n",
        "print(\"Sklearn: \", sklearn.__version__)\n",
        "print(\"Numpy: \", np.__version__)"
      ],
      "metadata": {
        "id": "sH_whucyLOAX",
        "colab": {
          "base_uri": "https://localhost:8080/"
        },
        "outputId": "400ae9ec-ad61-4d3d-8401-6f87724dbb5d"
      },
      "execution_count": 31,
      "outputs": [
        {
          "output_type": "stream",
          "name": "stdout",
          "text": [
            "Pandas:  2.2.2\n",
            "Seaborn:  0.13.2\n",
            "Sklearn:  1.6.1\n",
            "Numpy:  2.0.2\n"
          ]
        }
      ]
    },
    {
      "cell_type": "markdown",
      "source": [
        "### Seed  \n",
        "\n",
        "In the following code cell, we will set a fixed random seed to ensure **reproducibility** of all random operations in this notebook. This guarantees that results remain consistent across multiple runs.\n"
      ],
      "metadata": {
        "id": "DTEprNX3eHHt"
      }
    },
    {
      "cell_type": "code",
      "source": [
        "SEED = 23\n",
        "np.random.seed(SEED)\n",
        "random.seed(SEED)"
      ],
      "metadata": {
        "id": "uUX7YSIQeSVs"
      },
      "execution_count": 3,
      "outputs": []
    },
    {
      "cell_type": "markdown",
      "source": [
        "### Mounting Google Drive\n",
        "In the following code cell we are going to mount the google drive where our dataset will be loaded that was previously cleaned in the previous notebook."
      ],
      "metadata": {
        "id": "oX1z6wOzpU45"
      }
    },
    {
      "cell_type": "code",
      "source": [
        "drive.mount('/content/MyDrive')"
      ],
      "metadata": {
        "colab": {
          "base_uri": "https://localhost:8080/"
        },
        "id": "V50lqVEWpgdb",
        "outputId": "84f02d9b-6803-47da-d201-bd457734cd8c"
      },
      "execution_count": 5,
      "outputs": [
        {
          "output_type": "stream",
          "name": "stdout",
          "text": [
            "Mounted at /content/MyDrive\n"
          ]
        }
      ]
    },
    {
      "cell_type": "markdown",
      "source": [
        "### 📂 Dataset\n",
        "\n",
        "Next, we will read our data from text files into a **Pandas DataFrame** using the `read_csv` method.  \n",
        "We will load only the `clean_phishing_email.csv` file, as it contains the email body samples along with their corresponding **labels**.\n",
        "\n",
        "**Objective:** Accurately identify the phishing emails based on the email body."
      ],
      "metadata": {
        "id": "gTg6sHCDd4iD"
      }
    },
    {
      "cell_type": "code",
      "source": [
        "dataframe = pd.read_csv(\"/content/MyDrive/MyDrive/NLP Data/zim/clean_phishing_email.csv\")\n",
        "dataframe.head(2)"
      ],
      "metadata": {
        "colab": {
          "base_uri": "https://localhost:8080/",
          "height": 112
        },
        "id": "mAF5kyVRLOCK",
        "outputId": "2b25fcec-da41-4df9-9d69-af5c920f2440"
      },
      "execution_count": 6,
      "outputs": [
        {
          "output_type": "execute_result",
          "data": {
            "text/plain": [
              "                                                body     label\n",
              "0  buck up your troubles caused by small dimensio...  phishing\n",
              "1  upgrade your sex and pleasures with these tech...  phishing"
            ],
            "text/html": [
              "\n",
              "  <div id=\"df-61f3a384-336a-493b-b903-d90edaa21a4d\" class=\"colab-df-container\">\n",
              "    <div>\n",
              "<style scoped>\n",
              "    .dataframe tbody tr th:only-of-type {\n",
              "        vertical-align: middle;\n",
              "    }\n",
              "\n",
              "    .dataframe tbody tr th {\n",
              "        vertical-align: top;\n",
              "    }\n",
              "\n",
              "    .dataframe thead th {\n",
              "        text-align: right;\n",
              "    }\n",
              "</style>\n",
              "<table border=\"1\" class=\"dataframe\">\n",
              "  <thead>\n",
              "    <tr style=\"text-align: right;\">\n",
              "      <th></th>\n",
              "      <th>body</th>\n",
              "      <th>label</th>\n",
              "    </tr>\n",
              "  </thead>\n",
              "  <tbody>\n",
              "    <tr>\n",
              "      <th>0</th>\n",
              "      <td>buck up your troubles caused by small dimensio...</td>\n",
              "      <td>phishing</td>\n",
              "    </tr>\n",
              "    <tr>\n",
              "      <th>1</th>\n",
              "      <td>upgrade your sex and pleasures with these tech...</td>\n",
              "      <td>phishing</td>\n",
              "    </tr>\n",
              "  </tbody>\n",
              "</table>\n",
              "</div>\n",
              "    <div class=\"colab-df-buttons\">\n",
              "\n",
              "  <div class=\"colab-df-container\">\n",
              "    <button class=\"colab-df-convert\" onclick=\"convertToInteractive('df-61f3a384-336a-493b-b903-d90edaa21a4d')\"\n",
              "            title=\"Convert this dataframe to an interactive table.\"\n",
              "            style=\"display:none;\">\n",
              "\n",
              "  <svg xmlns=\"http://www.w3.org/2000/svg\" height=\"24px\" viewBox=\"0 -960 960 960\">\n",
              "    <path d=\"M120-120v-720h720v720H120Zm60-500h600v-160H180v160Zm220 220h160v-160H400v160Zm0 220h160v-160H400v160ZM180-400h160v-160H180v160Zm440 0h160v-160H620v160ZM180-180h160v-160H180v160Zm440 0h160v-160H620v160Z\"/>\n",
              "  </svg>\n",
              "    </button>\n",
              "\n",
              "  <style>\n",
              "    .colab-df-container {\n",
              "      display:flex;\n",
              "      gap: 12px;\n",
              "    }\n",
              "\n",
              "    .colab-df-convert {\n",
              "      background-color: #E8F0FE;\n",
              "      border: none;\n",
              "      border-radius: 50%;\n",
              "      cursor: pointer;\n",
              "      display: none;\n",
              "      fill: #1967D2;\n",
              "      height: 32px;\n",
              "      padding: 0 0 0 0;\n",
              "      width: 32px;\n",
              "    }\n",
              "\n",
              "    .colab-df-convert:hover {\n",
              "      background-color: #E2EBFA;\n",
              "      box-shadow: 0px 1px 2px rgba(60, 64, 67, 0.3), 0px 1px 3px 1px rgba(60, 64, 67, 0.15);\n",
              "      fill: #174EA6;\n",
              "    }\n",
              "\n",
              "    .colab-df-buttons div {\n",
              "      margin-bottom: 4px;\n",
              "    }\n",
              "\n",
              "    [theme=dark] .colab-df-convert {\n",
              "      background-color: #3B4455;\n",
              "      fill: #D2E3FC;\n",
              "    }\n",
              "\n",
              "    [theme=dark] .colab-df-convert:hover {\n",
              "      background-color: #434B5C;\n",
              "      box-shadow: 0px 1px 3px 1px rgba(0, 0, 0, 0.15);\n",
              "      filter: drop-shadow(0px 1px 2px rgba(0, 0, 0, 0.3));\n",
              "      fill: #FFFFFF;\n",
              "    }\n",
              "  </style>\n",
              "\n",
              "    <script>\n",
              "      const buttonEl =\n",
              "        document.querySelector('#df-61f3a384-336a-493b-b903-d90edaa21a4d button.colab-df-convert');\n",
              "      buttonEl.style.display =\n",
              "        google.colab.kernel.accessAllowed ? 'block' : 'none';\n",
              "\n",
              "      async function convertToInteractive(key) {\n",
              "        const element = document.querySelector('#df-61f3a384-336a-493b-b903-d90edaa21a4d');\n",
              "        const dataTable =\n",
              "          await google.colab.kernel.invokeFunction('convertToInteractive',\n",
              "                                                    [key], {});\n",
              "        if (!dataTable) return;\n",
              "\n",
              "        const docLinkHtml = 'Like what you see? Visit the ' +\n",
              "          '<a target=\"_blank\" href=https://colab.research.google.com/notebooks/data_table.ipynb>data table notebook</a>'\n",
              "          + ' to learn more about interactive tables.';\n",
              "        element.innerHTML = '';\n",
              "        dataTable['output_type'] = 'display_data';\n",
              "        await google.colab.output.renderOutput(dataTable, element);\n",
              "        const docLink = document.createElement('div');\n",
              "        docLink.innerHTML = docLinkHtml;\n",
              "        element.appendChild(docLink);\n",
              "      }\n",
              "    </script>\n",
              "  </div>\n",
              "\n",
              "\n",
              "    <div id=\"df-ac6644bb-8998-43a1-90e4-e69a842519b7\">\n",
              "      <button class=\"colab-df-quickchart\" onclick=\"quickchart('df-ac6644bb-8998-43a1-90e4-e69a842519b7')\"\n",
              "                title=\"Suggest charts\"\n",
              "                style=\"display:none;\">\n",
              "\n",
              "<svg xmlns=\"http://www.w3.org/2000/svg\" height=\"24px\"viewBox=\"0 0 24 24\"\n",
              "     width=\"24px\">\n",
              "    <g>\n",
              "        <path d=\"M19 3H5c-1.1 0-2 .9-2 2v14c0 1.1.9 2 2 2h14c1.1 0 2-.9 2-2V5c0-1.1-.9-2-2-2zM9 17H7v-7h2v7zm4 0h-2V7h2v10zm4 0h-2v-4h2v4z\"/>\n",
              "    </g>\n",
              "</svg>\n",
              "      </button>\n",
              "\n",
              "<style>\n",
              "  .colab-df-quickchart {\n",
              "      --bg-color: #E8F0FE;\n",
              "      --fill-color: #1967D2;\n",
              "      --hover-bg-color: #E2EBFA;\n",
              "      --hover-fill-color: #174EA6;\n",
              "      --disabled-fill-color: #AAA;\n",
              "      --disabled-bg-color: #DDD;\n",
              "  }\n",
              "\n",
              "  [theme=dark] .colab-df-quickchart {\n",
              "      --bg-color: #3B4455;\n",
              "      --fill-color: #D2E3FC;\n",
              "      --hover-bg-color: #434B5C;\n",
              "      --hover-fill-color: #FFFFFF;\n",
              "      --disabled-bg-color: #3B4455;\n",
              "      --disabled-fill-color: #666;\n",
              "  }\n",
              "\n",
              "  .colab-df-quickchart {\n",
              "    background-color: var(--bg-color);\n",
              "    border: none;\n",
              "    border-radius: 50%;\n",
              "    cursor: pointer;\n",
              "    display: none;\n",
              "    fill: var(--fill-color);\n",
              "    height: 32px;\n",
              "    padding: 0;\n",
              "    width: 32px;\n",
              "  }\n",
              "\n",
              "  .colab-df-quickchart:hover {\n",
              "    background-color: var(--hover-bg-color);\n",
              "    box-shadow: 0 1px 2px rgba(60, 64, 67, 0.3), 0 1px 3px 1px rgba(60, 64, 67, 0.15);\n",
              "    fill: var(--button-hover-fill-color);\n",
              "  }\n",
              "\n",
              "  .colab-df-quickchart-complete:disabled,\n",
              "  .colab-df-quickchart-complete:disabled:hover {\n",
              "    background-color: var(--disabled-bg-color);\n",
              "    fill: var(--disabled-fill-color);\n",
              "    box-shadow: none;\n",
              "  }\n",
              "\n",
              "  .colab-df-spinner {\n",
              "    border: 2px solid var(--fill-color);\n",
              "    border-color: transparent;\n",
              "    border-bottom-color: var(--fill-color);\n",
              "    animation:\n",
              "      spin 1s steps(1) infinite;\n",
              "  }\n",
              "\n",
              "  @keyframes spin {\n",
              "    0% {\n",
              "      border-color: transparent;\n",
              "      border-bottom-color: var(--fill-color);\n",
              "      border-left-color: var(--fill-color);\n",
              "    }\n",
              "    20% {\n",
              "      border-color: transparent;\n",
              "      border-left-color: var(--fill-color);\n",
              "      border-top-color: var(--fill-color);\n",
              "    }\n",
              "    30% {\n",
              "      border-color: transparent;\n",
              "      border-left-color: var(--fill-color);\n",
              "      border-top-color: var(--fill-color);\n",
              "      border-right-color: var(--fill-color);\n",
              "    }\n",
              "    40% {\n",
              "      border-color: transparent;\n",
              "      border-right-color: var(--fill-color);\n",
              "      border-top-color: var(--fill-color);\n",
              "    }\n",
              "    60% {\n",
              "      border-color: transparent;\n",
              "      border-right-color: var(--fill-color);\n",
              "    }\n",
              "    80% {\n",
              "      border-color: transparent;\n",
              "      border-right-color: var(--fill-color);\n",
              "      border-bottom-color: var(--fill-color);\n",
              "    }\n",
              "    90% {\n",
              "      border-color: transparent;\n",
              "      border-bottom-color: var(--fill-color);\n",
              "    }\n",
              "  }\n",
              "</style>\n",
              "\n",
              "      <script>\n",
              "        async function quickchart(key) {\n",
              "          const quickchartButtonEl =\n",
              "            document.querySelector('#' + key + ' button');\n",
              "          quickchartButtonEl.disabled = true;  // To prevent multiple clicks.\n",
              "          quickchartButtonEl.classList.add('colab-df-spinner');\n",
              "          try {\n",
              "            const charts = await google.colab.kernel.invokeFunction(\n",
              "                'suggestCharts', [key], {});\n",
              "          } catch (error) {\n",
              "            console.error('Error during call to suggestCharts:', error);\n",
              "          }\n",
              "          quickchartButtonEl.classList.remove('colab-df-spinner');\n",
              "          quickchartButtonEl.classList.add('colab-df-quickchart-complete');\n",
              "        }\n",
              "        (() => {\n",
              "          let quickchartButtonEl =\n",
              "            document.querySelector('#df-ac6644bb-8998-43a1-90e4-e69a842519b7 button');\n",
              "          quickchartButtonEl.style.display =\n",
              "            google.colab.kernel.accessAllowed ? 'block' : 'none';\n",
              "        })();\n",
              "      </script>\n",
              "    </div>\n",
              "\n",
              "    </div>\n",
              "  </div>\n"
            ],
            "application/vnd.google.colaboratory.intrinsic+json": {
              "type": "dataframe",
              "variable_name": "dataframe",
              "summary": "{\n  \"name\": \"dataframe\",\n  \"rows\": 98260,\n  \"fields\": [\n    {\n      \"column\": \"body\",\n      \"properties\": {\n        \"dtype\": \"string\",\n        \"num_unique_values\": 83167,\n        \"samples\": [\n          \"fyi in the attached article gov davis mentions that enron is one of the generators that have agreed to accept less than cents on the dollar of course no one has made such a claim the governor will say whatever it takes to make his story and polling numbers work jim forwarded by james d steffes na enron on pm karen denne am to jeff dasovich na enron enron richard shapiro na enron enron james d steffes na enron enron steven j kean na enron enron mark palmer corp enron enron cc subject merrill lynch report governor davis comes to wall street davis is saying he ' s had discussions with us about taking a loss on our debts have we had any such conversations w him i told the media yesterday we hadn ' t been contacted by him forwarded by karen denne corp enron on am from ann m schmidt on am to karen denne corp enron enron cc subject merrill lynch report governor davis comes to wall street karen fyi ann governor davis comes to wall street new york m e r r i l l l y n c h research bulletin fixed income research reference number united states mar leo j kelser highlights of this issue governor gray davis of california met with a group of sell side and rating agency analysts in new york yesterday the governor outlined his plan for restoring the utilities to financial viability so that they can meet their obligations below we summarize a few highlights from the meeting trying to fit solution within existing rate structure the governor talked about the need to find a solution to the utilities ' problems within the context of their existing rate structures he indicated that the temporary rate hike from january would be made permanent and that a rate reduction that went into effect in january would be reversed in march status of negotiations with pg e as we noted in a february th comment the governor has reached an agreement in principle with southern california edison eix b cc to address that utility ' s past under collections he hopes to also have an agreement with pg e within the next days suggesting that progress was made in particular in the last days however the governor acknowledged that reaching an agreement with pg e was more difficult due to its larger under collected balance and lower rates compared with sce some generators agree to haircut the governor indicated that a couple of unnamed generators have voluntarily agreed to accept less than cents on the dollar for their past due receivables when pressed about which parties they ' ve had constructive discussions with he identified williams wmb baa bbb enron ene baal bbb and dynegy dyn baa bbb we note that most of the generators and marketers with exposure to california have established reserves against possible losses importantly the governor said that he hoped that the banks and bondholders would not be asked to take a haircut prospects for legislation and possibility of ballot initiative the governor said he is quite confident that he can reach an agreement with the utilities that the legislature can support although he admitted that he couldn ' t prevent someone from proposing a ballot initiative the governor said that in the end the acid test with the public is how it affects their pocket books thus if there is ultimately a ballot initiative governor davis is optimistic that the public will be supportive of his plan given the limited impact on electric rates status of defaulted utility debt as we have commented in the past it appears unlikely that the resulting legislation will pass with the required majority to go into effect immediately accordingly there will be a several month lag before the utilities receive any cash in response to a question it appears that the state will not step in to help the utilities pay off any maturing or defaulted commercial paper but the governor and his advisers hope that legislation will provide enough certainty so that the companies can get bridge financing essentially it appears the governor is leaving it up to the utilities to find the money from their banks governor ' s strategy to keep the lights on the governor stated that a key reason that deregulation failed in california was that no new power plants were built in the state for over twelve years in the intervening time demand caught up with supply in response he has proposed various conservation initiatives and is trying to expedite the construction of new power plants he set a goal of having megawatts mws of new supply on line by in addition the governor highlighted the need for additional investment in the transmission infrastructure in particular he cited the need to expand the capacity to import more power from arizona as well to improve the ability to move power from south to north within the state he suggested that part of the rationale for the state taking over the utilities ' transmission grids was to ensure that the additional investment takes place he also suggested that the state would lease the transmission lines back to the utilities to allow them to continue to operate them in the meantime the focus is to move away from california ' s over reliance on the spot market in that vein calpine cpn bal bb yesterday announced the signing of two long term contracts with the state ' s department of water resources dwr one of those contracts was to sell up to mws over a ten year term the other was to provide up to mw of peaking capacity under a year contract earlier in february cpn had reached agreement with the dwr on a separate year contract for an additional mws eix wmb mlpf s was a manager of the most recent public offering of securities of this company within the last three years copyright merrill lynch pierce fenner smith incorporated mlpf s all rights reserved any unauthorized use or disclosure is prohibited this report has been prepared and issued by mlpf s and or one of its affiliates and has been approved for publication in the united kingdom by merrill lynch pierce fenner has been considered and distributed in australia by merrill lynch equities australia limited acn a licensed securities dealer under the australian corporations law is distributed in hong kong by merrill lynch asia pacific ltd which is regulated by the hong kong sfc and is distributed in singapore by merrill lynch international bank ltd merchant bank and merrill lynch singapore pte ltd which are regulated by the monetary authority of singapore the information herein was obtained from various sources we do not guarantee its accuracy or completeness additional information available neither the information nor any opinion expressed constitutes an offer or an invitation to make an offer to buy or sell any securities or any options futures or other derivatives related to such securities related investments mlpf s and its affiliates may trade for their own accounts as odd lot dealer market maker block positioner specialist and or arbitrageur in any securities of this issuer s or in related investments and may be on the opposite side of public orders mlpf s its affiliates directors officers employees and employee benefit programs may have a long or short position in any securities of this issuer s or in related investments mlpf s or its affiliates may from time to time perform investment banking or other services for or solicit investment banking or other business from any entity mentioned in this report this research report is prepared for general circulation and is circulated for general information only it does not have regard to the specific investment objectives financial situation and the particular needs of any specific person who may receive this report investors should seek financial advice regarding the appropriateness of investing in any securities or investment strategies discussed or recommended in this report and should understand that statements regarding future prospects may not be realized investors should note that income from such securities if any may fluctuate and that each security ' s price or value may rise or fall accordingly investors may receive back less than originally invested past performance is not necessarily a guide to future performance the bonds of the company are traded over the counter retail sales and or distribution of this report may be made only in states where these securities are exempt from registration or have been qualified for sale mlpf s usually makes a market in the bonds of this company foreign currency rates of exchange may adversely affect the value price or income of any security or related investment mentioned in this report in addition investors in securities such as adrs whose values are influenced by the currency of the underlying security effectively assume currency risk provider id mar gm\",\n          \"real time trading opportunity just a reminder about the info session for the real time position scheduled today in mt hood at am if you are interested in this position please remember to let amy know by close of business on monday april rd forwarded by grace rodriguez pdx ect on am amy fitzpatrick am to portland west desk cc subject real time trading opportunity a position has recently become available in the real time trading group reporting to bill williams bill will be holding an information session on thursday april at am in mt hood for anyone who would like to learn more about this opportunity interested candidates should let amy fitzpatrick know by close of business on monday april real time trading real time trading is responsible for the physical and financial integrity of prescheduled energy transactions this includes managing curtailed schedules and preserving enron ' s financial rights with non performing trading counterparties the group is required to maintain records and update databases that explain supply or market interruptions in order to minimize customer billing dispute issues in addition real time trading is responsible for the hourly trading of energy in the california iso and bilateral markets traders are expected to initiate profitable trades while maintaining an acceptable amount of risk exposure to the company the group is expected to know all settlements requirements and charges related to each type of trade each trader is capable of interfacing with customers and responding to internal and external billing inquiries real time is required to administer terms of service desk contracts which may include the selling of excess generation and purchasing energy for customer ' s load requirement also each trader is responsible for gathering and reporting information on unit outages transmission line derations and other information that is useful for all west desk trading activity job duties confirm purchases and sale of power for enron power marketing work closely with volume risk management and dispute settlement groups aid in preparation of price and deal reports and assist in the resolution of volume price discrepancies interface with service and middle marketing customers to resolve real time questions and concerns assist in testing and implementation of fsp and oati real time tagging work closely with information technology and fundamentals group to maintain and develop real time tools and systems qualifications bachelors in finance business accounting or related field to years of previous power industry experience in wscc is preferred excellent problem solving and communication skills working knowledge of excel access visual basic and sql self motivated detail oriented\",\n          \"we have a deal attached are the final communication materials the only changes are the addition of legend language at the end of the external q a employee email messages and talking points and a change in one question in the external and internal q a q when will the q be filed a it is scheduled to be filed on november please forward these materials to your direct reports as briefing materials for floor staff meetings we will run the etv ad notifying employees to check their email for an important video message through the weekend and monday morning call me if you have any questions thank you all for your assistance in communicating these messages with employees karen x attachments press release issued by dynegy and posted on www enron com in the press room timeline for communication rollout key messages for use with internal and external audiences talking points for use with employees email to employees w link to q as video script to be viewed by employees on the intranet upfront external q a for use with the media and external audiences internal q a for background use in meetings with employees intranet q a posted on the web for employees\"\n        ],\n        \"semantic_type\": \"\",\n        \"description\": \"\"\n      }\n    },\n    {\n      \"column\": \"label\",\n      \"properties\": {\n        \"dtype\": \"category\",\n        \"num_unique_values\": 2,\n        \"samples\": [\n          \"legitimate\",\n          \"phishing\"\n        ],\n        \"semantic_type\": \"\",\n        \"description\": \"\"\n      }\n    }\n  ]\n}"
            }
          },
          "metadata": {},
          "execution_count": 6
        }
      ]
    },
    {
      "cell_type": "markdown",
      "source": [
        "In the following code cell, we will **check the size of the dataset**."
      ],
      "metadata": {
        "id": "pxIO5ZLidlIM"
      }
    },
    {
      "cell_type": "code",
      "source": [
        "print(f\"The dataset size is: {len(dataframe):,}\")"
      ],
      "metadata": {
        "id": "Gd0Bt4mrLOE4",
        "colab": {
          "base_uri": "https://localhost:8080/"
        },
        "outputId": "b4145188-2b8c-4b23-bb9d-7932cdc1f2f2"
      },
      "execution_count": 7,
      "outputs": [
        {
          "output_type": "stream",
          "name": "stdout",
          "text": [
            "The dataset size is: 98,260\n"
          ]
        }
      ]
    },
    {
      "cell_type": "markdown",
      "source": [
        "In the following code cell we are going to remove `nan` values from the dataset if there are any."
      ],
      "metadata": {
        "id": "jrVaXuv3MZ3O"
      }
    },
    {
      "cell_type": "code",
      "source": [
        "if sum(dataframe.isna().any()):\n",
        "  dataframe.dropna(inplace=True)\n",
        "  dataframe.reset_index(drop=True, inplace=True)\n",
        "dataframe.isna().any()\n",
        "dataframe.head(2)"
      ],
      "metadata": {
        "id": "vFcvdOABMaRG",
        "colab": {
          "base_uri": "https://localhost:8080/",
          "height": 112
        },
        "outputId": "3425d47b-443a-449e-b69b-1e9abee5e219"
      },
      "execution_count": 8,
      "outputs": [
        {
          "output_type": "execute_result",
          "data": {
            "text/plain": [
              "                                                body     label\n",
              "0  buck up your troubles caused by small dimensio...  phishing\n",
              "1  upgrade your sex and pleasures with these tech...  phishing"
            ],
            "text/html": [
              "\n",
              "  <div id=\"df-bab1b54e-0743-420a-9929-7186db77487a\" class=\"colab-df-container\">\n",
              "    <div>\n",
              "<style scoped>\n",
              "    .dataframe tbody tr th:only-of-type {\n",
              "        vertical-align: middle;\n",
              "    }\n",
              "\n",
              "    .dataframe tbody tr th {\n",
              "        vertical-align: top;\n",
              "    }\n",
              "\n",
              "    .dataframe thead th {\n",
              "        text-align: right;\n",
              "    }\n",
              "</style>\n",
              "<table border=\"1\" class=\"dataframe\">\n",
              "  <thead>\n",
              "    <tr style=\"text-align: right;\">\n",
              "      <th></th>\n",
              "      <th>body</th>\n",
              "      <th>label</th>\n",
              "    </tr>\n",
              "  </thead>\n",
              "  <tbody>\n",
              "    <tr>\n",
              "      <th>0</th>\n",
              "      <td>buck up your troubles caused by small dimensio...</td>\n",
              "      <td>phishing</td>\n",
              "    </tr>\n",
              "    <tr>\n",
              "      <th>1</th>\n",
              "      <td>upgrade your sex and pleasures with these tech...</td>\n",
              "      <td>phishing</td>\n",
              "    </tr>\n",
              "  </tbody>\n",
              "</table>\n",
              "</div>\n",
              "    <div class=\"colab-df-buttons\">\n",
              "\n",
              "  <div class=\"colab-df-container\">\n",
              "    <button class=\"colab-df-convert\" onclick=\"convertToInteractive('df-bab1b54e-0743-420a-9929-7186db77487a')\"\n",
              "            title=\"Convert this dataframe to an interactive table.\"\n",
              "            style=\"display:none;\">\n",
              "\n",
              "  <svg xmlns=\"http://www.w3.org/2000/svg\" height=\"24px\" viewBox=\"0 -960 960 960\">\n",
              "    <path d=\"M120-120v-720h720v720H120Zm60-500h600v-160H180v160Zm220 220h160v-160H400v160Zm0 220h160v-160H400v160ZM180-400h160v-160H180v160Zm440 0h160v-160H620v160ZM180-180h160v-160H180v160Zm440 0h160v-160H620v160Z\"/>\n",
              "  </svg>\n",
              "    </button>\n",
              "\n",
              "  <style>\n",
              "    .colab-df-container {\n",
              "      display:flex;\n",
              "      gap: 12px;\n",
              "    }\n",
              "\n",
              "    .colab-df-convert {\n",
              "      background-color: #E8F0FE;\n",
              "      border: none;\n",
              "      border-radius: 50%;\n",
              "      cursor: pointer;\n",
              "      display: none;\n",
              "      fill: #1967D2;\n",
              "      height: 32px;\n",
              "      padding: 0 0 0 0;\n",
              "      width: 32px;\n",
              "    }\n",
              "\n",
              "    .colab-df-convert:hover {\n",
              "      background-color: #E2EBFA;\n",
              "      box-shadow: 0px 1px 2px rgba(60, 64, 67, 0.3), 0px 1px 3px 1px rgba(60, 64, 67, 0.15);\n",
              "      fill: #174EA6;\n",
              "    }\n",
              "\n",
              "    .colab-df-buttons div {\n",
              "      margin-bottom: 4px;\n",
              "    }\n",
              "\n",
              "    [theme=dark] .colab-df-convert {\n",
              "      background-color: #3B4455;\n",
              "      fill: #D2E3FC;\n",
              "    }\n",
              "\n",
              "    [theme=dark] .colab-df-convert:hover {\n",
              "      background-color: #434B5C;\n",
              "      box-shadow: 0px 1px 3px 1px rgba(0, 0, 0, 0.15);\n",
              "      filter: drop-shadow(0px 1px 2px rgba(0, 0, 0, 0.3));\n",
              "      fill: #FFFFFF;\n",
              "    }\n",
              "  </style>\n",
              "\n",
              "    <script>\n",
              "      const buttonEl =\n",
              "        document.querySelector('#df-bab1b54e-0743-420a-9929-7186db77487a button.colab-df-convert');\n",
              "      buttonEl.style.display =\n",
              "        google.colab.kernel.accessAllowed ? 'block' : 'none';\n",
              "\n",
              "      async function convertToInteractive(key) {\n",
              "        const element = document.querySelector('#df-bab1b54e-0743-420a-9929-7186db77487a');\n",
              "        const dataTable =\n",
              "          await google.colab.kernel.invokeFunction('convertToInteractive',\n",
              "                                                    [key], {});\n",
              "        if (!dataTable) return;\n",
              "\n",
              "        const docLinkHtml = 'Like what you see? Visit the ' +\n",
              "          '<a target=\"_blank\" href=https://colab.research.google.com/notebooks/data_table.ipynb>data table notebook</a>'\n",
              "          + ' to learn more about interactive tables.';\n",
              "        element.innerHTML = '';\n",
              "        dataTable['output_type'] = 'display_data';\n",
              "        await google.colab.output.renderOutput(dataTable, element);\n",
              "        const docLink = document.createElement('div');\n",
              "        docLink.innerHTML = docLinkHtml;\n",
              "        element.appendChild(docLink);\n",
              "      }\n",
              "    </script>\n",
              "  </div>\n",
              "\n",
              "\n",
              "    <div id=\"df-0ba90e63-8934-46df-acb1-a9df76364c79\">\n",
              "      <button class=\"colab-df-quickchart\" onclick=\"quickchart('df-0ba90e63-8934-46df-acb1-a9df76364c79')\"\n",
              "                title=\"Suggest charts\"\n",
              "                style=\"display:none;\">\n",
              "\n",
              "<svg xmlns=\"http://www.w3.org/2000/svg\" height=\"24px\"viewBox=\"0 0 24 24\"\n",
              "     width=\"24px\">\n",
              "    <g>\n",
              "        <path d=\"M19 3H5c-1.1 0-2 .9-2 2v14c0 1.1.9 2 2 2h14c1.1 0 2-.9 2-2V5c0-1.1-.9-2-2-2zM9 17H7v-7h2v7zm4 0h-2V7h2v10zm4 0h-2v-4h2v4z\"/>\n",
              "    </g>\n",
              "</svg>\n",
              "      </button>\n",
              "\n",
              "<style>\n",
              "  .colab-df-quickchart {\n",
              "      --bg-color: #E8F0FE;\n",
              "      --fill-color: #1967D2;\n",
              "      --hover-bg-color: #E2EBFA;\n",
              "      --hover-fill-color: #174EA6;\n",
              "      --disabled-fill-color: #AAA;\n",
              "      --disabled-bg-color: #DDD;\n",
              "  }\n",
              "\n",
              "  [theme=dark] .colab-df-quickchart {\n",
              "      --bg-color: #3B4455;\n",
              "      --fill-color: #D2E3FC;\n",
              "      --hover-bg-color: #434B5C;\n",
              "      --hover-fill-color: #FFFFFF;\n",
              "      --disabled-bg-color: #3B4455;\n",
              "      --disabled-fill-color: #666;\n",
              "  }\n",
              "\n",
              "  .colab-df-quickchart {\n",
              "    background-color: var(--bg-color);\n",
              "    border: none;\n",
              "    border-radius: 50%;\n",
              "    cursor: pointer;\n",
              "    display: none;\n",
              "    fill: var(--fill-color);\n",
              "    height: 32px;\n",
              "    padding: 0;\n",
              "    width: 32px;\n",
              "  }\n",
              "\n",
              "  .colab-df-quickchart:hover {\n",
              "    background-color: var(--hover-bg-color);\n",
              "    box-shadow: 0 1px 2px rgba(60, 64, 67, 0.3), 0 1px 3px 1px rgba(60, 64, 67, 0.15);\n",
              "    fill: var(--button-hover-fill-color);\n",
              "  }\n",
              "\n",
              "  .colab-df-quickchart-complete:disabled,\n",
              "  .colab-df-quickchart-complete:disabled:hover {\n",
              "    background-color: var(--disabled-bg-color);\n",
              "    fill: var(--disabled-fill-color);\n",
              "    box-shadow: none;\n",
              "  }\n",
              "\n",
              "  .colab-df-spinner {\n",
              "    border: 2px solid var(--fill-color);\n",
              "    border-color: transparent;\n",
              "    border-bottom-color: var(--fill-color);\n",
              "    animation:\n",
              "      spin 1s steps(1) infinite;\n",
              "  }\n",
              "\n",
              "  @keyframes spin {\n",
              "    0% {\n",
              "      border-color: transparent;\n",
              "      border-bottom-color: var(--fill-color);\n",
              "      border-left-color: var(--fill-color);\n",
              "    }\n",
              "    20% {\n",
              "      border-color: transparent;\n",
              "      border-left-color: var(--fill-color);\n",
              "      border-top-color: var(--fill-color);\n",
              "    }\n",
              "    30% {\n",
              "      border-color: transparent;\n",
              "      border-left-color: var(--fill-color);\n",
              "      border-top-color: var(--fill-color);\n",
              "      border-right-color: var(--fill-color);\n",
              "    }\n",
              "    40% {\n",
              "      border-color: transparent;\n",
              "      border-right-color: var(--fill-color);\n",
              "      border-top-color: var(--fill-color);\n",
              "    }\n",
              "    60% {\n",
              "      border-color: transparent;\n",
              "      border-right-color: var(--fill-color);\n",
              "    }\n",
              "    80% {\n",
              "      border-color: transparent;\n",
              "      border-right-color: var(--fill-color);\n",
              "      border-bottom-color: var(--fill-color);\n",
              "    }\n",
              "    90% {\n",
              "      border-color: transparent;\n",
              "      border-bottom-color: var(--fill-color);\n",
              "    }\n",
              "  }\n",
              "</style>\n",
              "\n",
              "      <script>\n",
              "        async function quickchart(key) {\n",
              "          const quickchartButtonEl =\n",
              "            document.querySelector('#' + key + ' button');\n",
              "          quickchartButtonEl.disabled = true;  // To prevent multiple clicks.\n",
              "          quickchartButtonEl.classList.add('colab-df-spinner');\n",
              "          try {\n",
              "            const charts = await google.colab.kernel.invokeFunction(\n",
              "                'suggestCharts', [key], {});\n",
              "          } catch (error) {\n",
              "            console.error('Error during call to suggestCharts:', error);\n",
              "          }\n",
              "          quickchartButtonEl.classList.remove('colab-df-spinner');\n",
              "          quickchartButtonEl.classList.add('colab-df-quickchart-complete');\n",
              "        }\n",
              "        (() => {\n",
              "          let quickchartButtonEl =\n",
              "            document.querySelector('#df-0ba90e63-8934-46df-acb1-a9df76364c79 button');\n",
              "          quickchartButtonEl.style.display =\n",
              "            google.colab.kernel.accessAllowed ? 'block' : 'none';\n",
              "        })();\n",
              "      </script>\n",
              "    </div>\n",
              "\n",
              "    </div>\n",
              "  </div>\n"
            ],
            "application/vnd.google.colaboratory.intrinsic+json": {
              "type": "dataframe",
              "variable_name": "dataframe",
              "summary": "{\n  \"name\": \"dataframe\",\n  \"rows\": 98225,\n  \"fields\": [\n    {\n      \"column\": \"body\",\n      \"properties\": {\n        \"dtype\": \"string\",\n        \"num_unique_values\": 83167,\n        \"samples\": [\n          \"fyi in the attached article gov davis mentions that enron is one of the generators that have agreed to accept less than cents on the dollar of course no one has made such a claim the governor will say whatever it takes to make his story and polling numbers work jim forwarded by james d steffes na enron on pm karen denne am to jeff dasovich na enron enron richard shapiro na enron enron james d steffes na enron enron steven j kean na enron enron mark palmer corp enron enron cc subject merrill lynch report governor davis comes to wall street davis is saying he ' s had discussions with us about taking a loss on our debts have we had any such conversations w him i told the media yesterday we hadn ' t been contacted by him forwarded by karen denne corp enron on am from ann m schmidt on am to karen denne corp enron enron cc subject merrill lynch report governor davis comes to wall street karen fyi ann governor davis comes to wall street new york m e r r i l l l y n c h research bulletin fixed income research reference number united states mar leo j kelser highlights of this issue governor gray davis of california met with a group of sell side and rating agency analysts in new york yesterday the governor outlined his plan for restoring the utilities to financial viability so that they can meet their obligations below we summarize a few highlights from the meeting trying to fit solution within existing rate structure the governor talked about the need to find a solution to the utilities ' problems within the context of their existing rate structures he indicated that the temporary rate hike from january would be made permanent and that a rate reduction that went into effect in january would be reversed in march status of negotiations with pg e as we noted in a february th comment the governor has reached an agreement in principle with southern california edison eix b cc to address that utility ' s past under collections he hopes to also have an agreement with pg e within the next days suggesting that progress was made in particular in the last days however the governor acknowledged that reaching an agreement with pg e was more difficult due to its larger under collected balance and lower rates compared with sce some generators agree to haircut the governor indicated that a couple of unnamed generators have voluntarily agreed to accept less than cents on the dollar for their past due receivables when pressed about which parties they ' ve had constructive discussions with he identified williams wmb baa bbb enron ene baal bbb and dynegy dyn baa bbb we note that most of the generators and marketers with exposure to california have established reserves against possible losses importantly the governor said that he hoped that the banks and bondholders would not be asked to take a haircut prospects for legislation and possibility of ballot initiative the governor said he is quite confident that he can reach an agreement with the utilities that the legislature can support although he admitted that he couldn ' t prevent someone from proposing a ballot initiative the governor said that in the end the acid test with the public is how it affects their pocket books thus if there is ultimately a ballot initiative governor davis is optimistic that the public will be supportive of his plan given the limited impact on electric rates status of defaulted utility debt as we have commented in the past it appears unlikely that the resulting legislation will pass with the required majority to go into effect immediately accordingly there will be a several month lag before the utilities receive any cash in response to a question it appears that the state will not step in to help the utilities pay off any maturing or defaulted commercial paper but the governor and his advisers hope that legislation will provide enough certainty so that the companies can get bridge financing essentially it appears the governor is leaving it up to the utilities to find the money from their banks governor ' s strategy to keep the lights on the governor stated that a key reason that deregulation failed in california was that no new power plants were built in the state for over twelve years in the intervening time demand caught up with supply in response he has proposed various conservation initiatives and is trying to expedite the construction of new power plants he set a goal of having megawatts mws of new supply on line by in addition the governor highlighted the need for additional investment in the transmission infrastructure in particular he cited the need to expand the capacity to import more power from arizona as well to improve the ability to move power from south to north within the state he suggested that part of the rationale for the state taking over the utilities ' transmission grids was to ensure that the additional investment takes place he also suggested that the state would lease the transmission lines back to the utilities to allow them to continue to operate them in the meantime the focus is to move away from california ' s over reliance on the spot market in that vein calpine cpn bal bb yesterday announced the signing of two long term contracts with the state ' s department of water resources dwr one of those contracts was to sell up to mws over a ten year term the other was to provide up to mw of peaking capacity under a year contract earlier in february cpn had reached agreement with the dwr on a separate year contract for an additional mws eix wmb mlpf s was a manager of the most recent public offering of securities of this company within the last three years copyright merrill lynch pierce fenner smith incorporated mlpf s all rights reserved any unauthorized use or disclosure is prohibited this report has been prepared and issued by mlpf s and or one of its affiliates and has been approved for publication in the united kingdom by merrill lynch pierce fenner has been considered and distributed in australia by merrill lynch equities australia limited acn a licensed securities dealer under the australian corporations law is distributed in hong kong by merrill lynch asia pacific ltd which is regulated by the hong kong sfc and is distributed in singapore by merrill lynch international bank ltd merchant bank and merrill lynch singapore pte ltd which are regulated by the monetary authority of singapore the information herein was obtained from various sources we do not guarantee its accuracy or completeness additional information available neither the information nor any opinion expressed constitutes an offer or an invitation to make an offer to buy or sell any securities or any options futures or other derivatives related to such securities related investments mlpf s and its affiliates may trade for their own accounts as odd lot dealer market maker block positioner specialist and or arbitrageur in any securities of this issuer s or in related investments and may be on the opposite side of public orders mlpf s its affiliates directors officers employees and employee benefit programs may have a long or short position in any securities of this issuer s or in related investments mlpf s or its affiliates may from time to time perform investment banking or other services for or solicit investment banking or other business from any entity mentioned in this report this research report is prepared for general circulation and is circulated for general information only it does not have regard to the specific investment objectives financial situation and the particular needs of any specific person who may receive this report investors should seek financial advice regarding the appropriateness of investing in any securities or investment strategies discussed or recommended in this report and should understand that statements regarding future prospects may not be realized investors should note that income from such securities if any may fluctuate and that each security ' s price or value may rise or fall accordingly investors may receive back less than originally invested past performance is not necessarily a guide to future performance the bonds of the company are traded over the counter retail sales and or distribution of this report may be made only in states where these securities are exempt from registration or have been qualified for sale mlpf s usually makes a market in the bonds of this company foreign currency rates of exchange may adversely affect the value price or income of any security or related investment mentioned in this report in addition investors in securities such as adrs whose values are influenced by the currency of the underlying security effectively assume currency risk provider id mar gm\",\n          \"real time trading opportunity just a reminder about the info session for the real time position scheduled today in mt hood at am if you are interested in this position please remember to let amy know by close of business on monday april rd forwarded by grace rodriguez pdx ect on am amy fitzpatrick am to portland west desk cc subject real time trading opportunity a position has recently become available in the real time trading group reporting to bill williams bill will be holding an information session on thursday april at am in mt hood for anyone who would like to learn more about this opportunity interested candidates should let amy fitzpatrick know by close of business on monday april real time trading real time trading is responsible for the physical and financial integrity of prescheduled energy transactions this includes managing curtailed schedules and preserving enron ' s financial rights with non performing trading counterparties the group is required to maintain records and update databases that explain supply or market interruptions in order to minimize customer billing dispute issues in addition real time trading is responsible for the hourly trading of energy in the california iso and bilateral markets traders are expected to initiate profitable trades while maintaining an acceptable amount of risk exposure to the company the group is expected to know all settlements requirements and charges related to each type of trade each trader is capable of interfacing with customers and responding to internal and external billing inquiries real time is required to administer terms of service desk contracts which may include the selling of excess generation and purchasing energy for customer ' s load requirement also each trader is responsible for gathering and reporting information on unit outages transmission line derations and other information that is useful for all west desk trading activity job duties confirm purchases and sale of power for enron power marketing work closely with volume risk management and dispute settlement groups aid in preparation of price and deal reports and assist in the resolution of volume price discrepancies interface with service and middle marketing customers to resolve real time questions and concerns assist in testing and implementation of fsp and oati real time tagging work closely with information technology and fundamentals group to maintain and develop real time tools and systems qualifications bachelors in finance business accounting or related field to years of previous power industry experience in wscc is preferred excellent problem solving and communication skills working knowledge of excel access visual basic and sql self motivated detail oriented\",\n          \"we have a deal attached are the final communication materials the only changes are the addition of legend language at the end of the external q a employee email messages and talking points and a change in one question in the external and internal q a q when will the q be filed a it is scheduled to be filed on november please forward these materials to your direct reports as briefing materials for floor staff meetings we will run the etv ad notifying employees to check their email for an important video message through the weekend and monday morning call me if you have any questions thank you all for your assistance in communicating these messages with employees karen x attachments press release issued by dynegy and posted on www enron com in the press room timeline for communication rollout key messages for use with internal and external audiences talking points for use with employees email to employees w link to q as video script to be viewed by employees on the intranet upfront external q a for use with the media and external audiences internal q a for background use in meetings with employees intranet q a posted on the web for employees\"\n        ],\n        \"semantic_type\": \"\",\n        \"description\": \"\"\n      }\n    },\n    {\n      \"column\": \"label\",\n      \"properties\": {\n        \"dtype\": \"category\",\n        \"num_unique_values\": 2,\n        \"samples\": [\n          \"legitimate\",\n          \"phishing\"\n        ],\n        \"semantic_type\": \"\",\n        \"description\": \"\"\n      }\n    }\n  ]\n}"
            }
          },
          "metadata": {},
          "execution_count": 8
        }
      ]
    },
    {
      "cell_type": "markdown",
      "source": [
        "In the following code cell, we are going to define a threshold value and filter out all text entries that contain fewer words than this threshold. We want to make sure that short emails are removed."
      ],
      "metadata": {
        "id": "WkDG7ZqzMYY3"
      }
    },
    {
      "cell_type": "code",
      "source": [
        "threshold = 100\n",
        "dataframe = dataframe[dataframe['body'].apply(lambda x: len(str(x).split()) >= threshold)].reset_index(drop=True)\n",
        "dataframe.head(2)"
      ],
      "metadata": {
        "id": "oijRctj_LOHX",
        "colab": {
          "base_uri": "https://localhost:8080/",
          "height": 112
        },
        "outputId": "59545578-1b0c-467e-a3d9-c5bbc55893f6"
      },
      "execution_count": 9,
      "outputs": [
        {
          "output_type": "execute_result",
          "data": {
            "text/plain": [
              "                                                body       label\n",
              "0  the daily top from cnn com top videos and stor...    phishing\n",
              "1  would anyone object to removing so from this l...  legitimate"
            ],
            "text/html": [
              "\n",
              "  <div id=\"df-59c36b5f-5490-4b9c-8380-ecda661dc4ea\" class=\"colab-df-container\">\n",
              "    <div>\n",
              "<style scoped>\n",
              "    .dataframe tbody tr th:only-of-type {\n",
              "        vertical-align: middle;\n",
              "    }\n",
              "\n",
              "    .dataframe tbody tr th {\n",
              "        vertical-align: top;\n",
              "    }\n",
              "\n",
              "    .dataframe thead th {\n",
              "        text-align: right;\n",
              "    }\n",
              "</style>\n",
              "<table border=\"1\" class=\"dataframe\">\n",
              "  <thead>\n",
              "    <tr style=\"text-align: right;\">\n",
              "      <th></th>\n",
              "      <th>body</th>\n",
              "      <th>label</th>\n",
              "    </tr>\n",
              "  </thead>\n",
              "  <tbody>\n",
              "    <tr>\n",
              "      <th>0</th>\n",
              "      <td>the daily top from cnn com top videos and stor...</td>\n",
              "      <td>phishing</td>\n",
              "    </tr>\n",
              "    <tr>\n",
              "      <th>1</th>\n",
              "      <td>would anyone object to removing so from this l...</td>\n",
              "      <td>legitimate</td>\n",
              "    </tr>\n",
              "  </tbody>\n",
              "</table>\n",
              "</div>\n",
              "    <div class=\"colab-df-buttons\">\n",
              "\n",
              "  <div class=\"colab-df-container\">\n",
              "    <button class=\"colab-df-convert\" onclick=\"convertToInteractive('df-59c36b5f-5490-4b9c-8380-ecda661dc4ea')\"\n",
              "            title=\"Convert this dataframe to an interactive table.\"\n",
              "            style=\"display:none;\">\n",
              "\n",
              "  <svg xmlns=\"http://www.w3.org/2000/svg\" height=\"24px\" viewBox=\"0 -960 960 960\">\n",
              "    <path d=\"M120-120v-720h720v720H120Zm60-500h600v-160H180v160Zm220 220h160v-160H400v160Zm0 220h160v-160H400v160ZM180-400h160v-160H180v160Zm440 0h160v-160H620v160ZM180-180h160v-160H180v160Zm440 0h160v-160H620v160Z\"/>\n",
              "  </svg>\n",
              "    </button>\n",
              "\n",
              "  <style>\n",
              "    .colab-df-container {\n",
              "      display:flex;\n",
              "      gap: 12px;\n",
              "    }\n",
              "\n",
              "    .colab-df-convert {\n",
              "      background-color: #E8F0FE;\n",
              "      border: none;\n",
              "      border-radius: 50%;\n",
              "      cursor: pointer;\n",
              "      display: none;\n",
              "      fill: #1967D2;\n",
              "      height: 32px;\n",
              "      padding: 0 0 0 0;\n",
              "      width: 32px;\n",
              "    }\n",
              "\n",
              "    .colab-df-convert:hover {\n",
              "      background-color: #E2EBFA;\n",
              "      box-shadow: 0px 1px 2px rgba(60, 64, 67, 0.3), 0px 1px 3px 1px rgba(60, 64, 67, 0.15);\n",
              "      fill: #174EA6;\n",
              "    }\n",
              "\n",
              "    .colab-df-buttons div {\n",
              "      margin-bottom: 4px;\n",
              "    }\n",
              "\n",
              "    [theme=dark] .colab-df-convert {\n",
              "      background-color: #3B4455;\n",
              "      fill: #D2E3FC;\n",
              "    }\n",
              "\n",
              "    [theme=dark] .colab-df-convert:hover {\n",
              "      background-color: #434B5C;\n",
              "      box-shadow: 0px 1px 3px 1px rgba(0, 0, 0, 0.15);\n",
              "      filter: drop-shadow(0px 1px 2px rgba(0, 0, 0, 0.3));\n",
              "      fill: #FFFFFF;\n",
              "    }\n",
              "  </style>\n",
              "\n",
              "    <script>\n",
              "      const buttonEl =\n",
              "        document.querySelector('#df-59c36b5f-5490-4b9c-8380-ecda661dc4ea button.colab-df-convert');\n",
              "      buttonEl.style.display =\n",
              "        google.colab.kernel.accessAllowed ? 'block' : 'none';\n",
              "\n",
              "      async function convertToInteractive(key) {\n",
              "        const element = document.querySelector('#df-59c36b5f-5490-4b9c-8380-ecda661dc4ea');\n",
              "        const dataTable =\n",
              "          await google.colab.kernel.invokeFunction('convertToInteractive',\n",
              "                                                    [key], {});\n",
              "        if (!dataTable) return;\n",
              "\n",
              "        const docLinkHtml = 'Like what you see? Visit the ' +\n",
              "          '<a target=\"_blank\" href=https://colab.research.google.com/notebooks/data_table.ipynb>data table notebook</a>'\n",
              "          + ' to learn more about interactive tables.';\n",
              "        element.innerHTML = '';\n",
              "        dataTable['output_type'] = 'display_data';\n",
              "        await google.colab.output.renderOutput(dataTable, element);\n",
              "        const docLink = document.createElement('div');\n",
              "        docLink.innerHTML = docLinkHtml;\n",
              "        element.appendChild(docLink);\n",
              "      }\n",
              "    </script>\n",
              "  </div>\n",
              "\n",
              "\n",
              "    <div id=\"df-33817c6a-1018-4b1e-a401-2a9aeac6ed82\">\n",
              "      <button class=\"colab-df-quickchart\" onclick=\"quickchart('df-33817c6a-1018-4b1e-a401-2a9aeac6ed82')\"\n",
              "                title=\"Suggest charts\"\n",
              "                style=\"display:none;\">\n",
              "\n",
              "<svg xmlns=\"http://www.w3.org/2000/svg\" height=\"24px\"viewBox=\"0 0 24 24\"\n",
              "     width=\"24px\">\n",
              "    <g>\n",
              "        <path d=\"M19 3H5c-1.1 0-2 .9-2 2v14c0 1.1.9 2 2 2h14c1.1 0 2-.9 2-2V5c0-1.1-.9-2-2-2zM9 17H7v-7h2v7zm4 0h-2V7h2v10zm4 0h-2v-4h2v4z\"/>\n",
              "    </g>\n",
              "</svg>\n",
              "      </button>\n",
              "\n",
              "<style>\n",
              "  .colab-df-quickchart {\n",
              "      --bg-color: #E8F0FE;\n",
              "      --fill-color: #1967D2;\n",
              "      --hover-bg-color: #E2EBFA;\n",
              "      --hover-fill-color: #174EA6;\n",
              "      --disabled-fill-color: #AAA;\n",
              "      --disabled-bg-color: #DDD;\n",
              "  }\n",
              "\n",
              "  [theme=dark] .colab-df-quickchart {\n",
              "      --bg-color: #3B4455;\n",
              "      --fill-color: #D2E3FC;\n",
              "      --hover-bg-color: #434B5C;\n",
              "      --hover-fill-color: #FFFFFF;\n",
              "      --disabled-bg-color: #3B4455;\n",
              "      --disabled-fill-color: #666;\n",
              "  }\n",
              "\n",
              "  .colab-df-quickchart {\n",
              "    background-color: var(--bg-color);\n",
              "    border: none;\n",
              "    border-radius: 50%;\n",
              "    cursor: pointer;\n",
              "    display: none;\n",
              "    fill: var(--fill-color);\n",
              "    height: 32px;\n",
              "    padding: 0;\n",
              "    width: 32px;\n",
              "  }\n",
              "\n",
              "  .colab-df-quickchart:hover {\n",
              "    background-color: var(--hover-bg-color);\n",
              "    box-shadow: 0 1px 2px rgba(60, 64, 67, 0.3), 0 1px 3px 1px rgba(60, 64, 67, 0.15);\n",
              "    fill: var(--button-hover-fill-color);\n",
              "  }\n",
              "\n",
              "  .colab-df-quickchart-complete:disabled,\n",
              "  .colab-df-quickchart-complete:disabled:hover {\n",
              "    background-color: var(--disabled-bg-color);\n",
              "    fill: var(--disabled-fill-color);\n",
              "    box-shadow: none;\n",
              "  }\n",
              "\n",
              "  .colab-df-spinner {\n",
              "    border: 2px solid var(--fill-color);\n",
              "    border-color: transparent;\n",
              "    border-bottom-color: var(--fill-color);\n",
              "    animation:\n",
              "      spin 1s steps(1) infinite;\n",
              "  }\n",
              "\n",
              "  @keyframes spin {\n",
              "    0% {\n",
              "      border-color: transparent;\n",
              "      border-bottom-color: var(--fill-color);\n",
              "      border-left-color: var(--fill-color);\n",
              "    }\n",
              "    20% {\n",
              "      border-color: transparent;\n",
              "      border-left-color: var(--fill-color);\n",
              "      border-top-color: var(--fill-color);\n",
              "    }\n",
              "    30% {\n",
              "      border-color: transparent;\n",
              "      border-left-color: var(--fill-color);\n",
              "      border-top-color: var(--fill-color);\n",
              "      border-right-color: var(--fill-color);\n",
              "    }\n",
              "    40% {\n",
              "      border-color: transparent;\n",
              "      border-right-color: var(--fill-color);\n",
              "      border-top-color: var(--fill-color);\n",
              "    }\n",
              "    60% {\n",
              "      border-color: transparent;\n",
              "      border-right-color: var(--fill-color);\n",
              "    }\n",
              "    80% {\n",
              "      border-color: transparent;\n",
              "      border-right-color: var(--fill-color);\n",
              "      border-bottom-color: var(--fill-color);\n",
              "    }\n",
              "    90% {\n",
              "      border-color: transparent;\n",
              "      border-bottom-color: var(--fill-color);\n",
              "    }\n",
              "  }\n",
              "</style>\n",
              "\n",
              "      <script>\n",
              "        async function quickchart(key) {\n",
              "          const quickchartButtonEl =\n",
              "            document.querySelector('#' + key + ' button');\n",
              "          quickchartButtonEl.disabled = true;  // To prevent multiple clicks.\n",
              "          quickchartButtonEl.classList.add('colab-df-spinner');\n",
              "          try {\n",
              "            const charts = await google.colab.kernel.invokeFunction(\n",
              "                'suggestCharts', [key], {});\n",
              "          } catch (error) {\n",
              "            console.error('Error during call to suggestCharts:', error);\n",
              "          }\n",
              "          quickchartButtonEl.classList.remove('colab-df-spinner');\n",
              "          quickchartButtonEl.classList.add('colab-df-quickchart-complete');\n",
              "        }\n",
              "        (() => {\n",
              "          let quickchartButtonEl =\n",
              "            document.querySelector('#df-33817c6a-1018-4b1e-a401-2a9aeac6ed82 button');\n",
              "          quickchartButtonEl.style.display =\n",
              "            google.colab.kernel.accessAllowed ? 'block' : 'none';\n",
              "        })();\n",
              "      </script>\n",
              "    </div>\n",
              "\n",
              "    </div>\n",
              "  </div>\n"
            ],
            "application/vnd.google.colaboratory.intrinsic+json": {
              "type": "dataframe",
              "variable_name": "dataframe",
              "summary": "{\n  \"name\": \"dataframe\",\n  \"rows\": 51487,\n  \"fields\": [\n    {\n      \"column\": \"body\",\n      \"properties\": {\n        \"dtype\": \"string\",\n        \"num_unique_values\": 45793,\n        \"samples\": [\n          \"send wekalist mailing list submissions to iuxxdkqk scms waikato ac nz to subscribe or unsubscribe via the world wide web visit or via email send a message with subject or body 'help' to ohwwlejs pbfotbp scms waikato ac nz you can reach the person managing the list at pobypuhs hvhzj scms waikato ac nz when replying please edit your subject line so it is more specific than re contents of wekalist digest today's topics re feature selection mark hall re dbscan algorithm need help weka attribution selection method 'wrapper' adrienne heinrich string kernel lambda pruning dr alexander k seewald represent missing values on a database bruno ren\\u00e9 santos weka error could not find main class ashutosh from vafzs org sat apr message date thu mar from mark hall subject re wekalist feature selection to weka machine learning workbench list message id gb local content type text plain charset us ascii each of these values is the value of the chi squared statistic for the corresponding attribute with respect to the class cheers mark on tue mar at pm jirjvz com wrote hi all i am using chi squared ranking filter for attribute selection however i cannot figure out what the numbers in the first column of the results signify such as etc shown below how are these numbers related to the significance p value for the attribute it appears that their increasing value makes the attribute more worthy another question on what basis does ranker algorithm rank the attributes i am using the following scheme evaluator weka attributeselection chisquaredattributeeval search weka attributeselection ranker t e n ranked attributes a a a a a selected attributes thank you very much _______________________________________________ wekalist mailing list iuxxdkqk scms waikato ac nz mark hall senior developer consultant pentaho open source business intelligence citadel international suite hazeltine national dr orlando fl usa office mobile fax skype mark andrew hall yahoo mark_andrew_hall download the latest release today from yoakecuzi com sat apr message date thu mar from subject re wekalist dbscan algorithm need help to weka machine learning workbench list message id yl n l z ki oy f w gmail com content type text plain charset iso on wed mar at pm rafiqul haque wrote dear experts i am dealing with large dataset and instances and attributes i am using dbscan clustering algorith i have found big problem with its parameter values epsilon and minpoints i enetered following i epsilon minpoints ii epsilon minpoints iii epsilon minpoints iv epsilon minpoints i found for first three inputs respectively but of instances have been detected as noise in case of last one number of cluster was i would be greatful if anyone can solve my following questions i what are appropriate values epsilon and minpts for my dataset attributes and instances ii is there any computational way or else to understand the possible appropriate parameter values iii can you please provide me any documents or sites for r tree data structure i am looking for an early reply thanking you in advance rafik nb i am using weka workbench version and attributes in my dataset are nominal missing values are replaced by weka filter unsupervised attribute replacemissingvalues there are no specific appropriate values for all datasets it depends on your dataset distribution and not that much if not at all on the number of instances and or attributes you have especially for dbscan actually main critique against dbscan is the correct selection of the eps and minpts values which is dataset specific you need to try several values to obtain good results but you should first take into account your dataset's distribution perhaps you should also see what each of the parameters mean search for a paper book site on dbscan from the data you've provided i'd assume that for the first two runs minpts is too high while on the last one eps is too high thus getting a single cluster based on the other runs the rd one's results make sense but that doesn't mean that they are correct necessarily finally although it's quite unlikely to happen the of your data might actually be noise given that you work on a dimensional space it's not hard to tell why they are classified as such perhaps you should try attribute selection first before clustering and maybe do a normalization standardization on your values so that you won't get too high distances cheers george v next part an html attachment was scrubbed url from qwibesmx hqnsghym com sat apr message date thu mar from adrienne heinrich subject wekalist weka attribution selection method 'wrapper' to iuxxdkqk scms waikato ac nz message id content type text plain charset iso dear all we are using weka for pre evaluating different classifiers and attribute selection methods i noticed that the combination 'wrapper' and 'decision stump' is not available i am not familiar with the 'wrapper' method therefore i am wondering why this combination is not possible is there an algorithmic reason which could explain this thank you in advance for your input adrienne heinrich adrienne heinrich research scientist video processing analysis group philips research philips research laboratories high tech campus ae eindhoven the netherlands phone fax email qwibesmx hqnsghym com next part an html attachment was scrubbed url from fxqf at sat apr message date thu mar from dr alexander k seewald subject wekalist string kernel lambda pruning to iuxxdkqk scms waikato ac nz message id ga at content type text plain charset us ascii hi josef yes maxsubsequencelength should have no effect when pruning is off i've double checked the code to make sure as i did not test this before don't forget that with lambda pruning off you'll need lots of memory our paper seewald a k kleedorfer f an approximation of the string subsequence kernel for practical svm classification and redundancy clustering journal for advances in data analysis and classification vol number december pp doi s has a nifty formula to compute just how much it should be referenced in the supportvector stringkernel java source code best alex dr alexander k seewald seewald solutions www seewald at tel fax from cbymjixdb com sat apr message date thu mar from bruno ren\\u00e9 santos subject wekalist represent missing values on a database to iuxxdkqk scms waikato ac nz message id as o a go rn r n vpr gmail com content type text plain charset utf how do i represent a missing value on a database i tried but weka turns this into a new value class thanx bruno bruno ren\\u00e3 santos lisboa portugal next part an html attachment was scrubbed url from t j cuv com sat apr message date thu mar from ashutosh subject wekalist weka error could not find main class to message id c fa a c a cf d e content type text plain charset iso hello list i have had this problem before and somehow i have circumvented it but not today i have installed the latest version of jvm i checked out the bug suggestions for previous versions from the wiki but they don't apply to this version as classpath is already added to the runweka bat file i am able to open weka by double clicking on the weka jar file however the maxheap from the runweka ini is not getting picked up m and weka crashes when i am trying to load a big file in addition i am unable to run this command from the command prompt javaw jar xmx m classpath weka jar nothing happens when i run it i am using windows xp professional and i even cleared out everything from the classpath variable help please thanks next part an html attachment was scrubbed url _______________________________________________ wekalist mailing list iuxxdkqk scms waikato ac nz end of wekalist digest vol issue\",\n          \"fw s a v e on pre scription dru gs now save on prescription drugs now buy factory direct at a fraction of the cost eliminate the middle man save up to weekly specials on cialis viagra meridia ultram soma prozac xanax valium ambien zyban propecia celebrex vioxx lipitor zolof penis enlargement pills no prescription required don ' t wait another second visit our site and start saving why was this email sent to you at some point you registered or made a purchase on a web site with privacy policies explaining that they may share your information with partners who will send you valuable offers from time to time if you no longer wish to be notified of the latest scientific breakthroughs or valuable offers you may simply choose to take yourself out of the database permanently by choosing this link\",\n          \"this is a multi part message in mime format _nextpart_ _ fd b_ c f da content type text plain charset windows content transfer encoding quoted printable when aig talks annuities your clients listen year guaranteed a year guaranteed commission call or e mail us today or please fill out the form below for more information name e mail phone city state aig annuity for agent use only we don't want anyone to receive our mailings who does not wish to this is professional communication sent to insurance professionals to be removed from this mailing list do not reply to this message instead go here legal notice _nextpart_ _ fd b_ c f da content type text html charset iso content transfer encoding quoted printable commission on myg annuities call or e mail us today or please fill out the form below for more information name e mail phone city state for agent use only we don't want anyone to receive our mailings who does not wish to this is professional communication sent to insurance professionals to be removed from this mailing list do not reply to this message instead go here legal notice _nextpart_ _ fd b_ c f da\"\n        ],\n        \"semantic_type\": \"\",\n        \"description\": \"\"\n      }\n    },\n    {\n      \"column\": \"label\",\n      \"properties\": {\n        \"dtype\": \"category\",\n        \"num_unique_values\": 2,\n        \"samples\": [\n          \"legitimate\",\n          \"phishing\"\n        ],\n        \"semantic_type\": \"\",\n        \"description\": \"\"\n      }\n    }\n  ]\n}"
            }
          },
          "metadata": {},
          "execution_count": 9
        }
      ]
    },
    {
      "cell_type": "markdown",
      "source": [
        "Next, we are going to inspect a few examples from the dataset after removing all rows containing text with fewer words than the defined threshold."
      ],
      "metadata": {
        "id": "US7gkNw-dOjv"
      }
    },
    {
      "cell_type": "code",
      "source": [
        "print(f\"The dataset size is: {len(dataframe):,}\")"
      ],
      "metadata": {
        "id": "n8UKpp5gLOJu",
        "colab": {
          "base_uri": "https://localhost:8080/"
        },
        "outputId": "ea02edec-56ba-4f8e-f9d2-89a12fa36b72"
      },
      "execution_count": 11,
      "outputs": [
        {
          "output_type": "stream",
          "name": "stdout",
          "text": [
            "The dataset size is: 51,487\n"
          ]
        }
      ]
    },
    {
      "cell_type": "markdown",
      "source": [
        "In this section, we will **visualize the dataset** using charts.  \n",
        "First, we will examine the **distribution of labels** with a bar chart to understand how the text samples are distributed across different labels."
      ],
      "metadata": {
        "id": "fKnRBKZHl9f_"
      }
    },
    {
      "cell_type": "code",
      "source": [
        "sns.set(font_scale=.8)\n",
        "sns.set_style(\"white\", rc={\"axes.spines.right\": True, \"axes.spines.top\": True})\n",
        "sns.set(rc={\"axes.facecolor\": \"#FFFFFF\", \"figure.facecolor\": \"#FFFFFF\"})\n",
        "\n",
        "plt.figure(figsize=(5, 4))\n",
        "sns.countplot(data=dataframe, y=\"label\", palette=PALETTES.christmas,\n",
        "              legend=False,  fill=True)\n",
        "plt.xlabel(\"Label\", fontsize=10)\n",
        "plt.ylabel(\"Frequency\", fontsize=10)\n",
        "plt.xticks(fontsize=10)\n",
        "plt.yticks(fontsize=10)\n",
        "plt.title(f\"Label distribution in the dataset\", fontsize=12, weight=\"bold\")\n",
        "plt.minorticks_on()\n",
        "plt.grid(which='major', color='gray', linestyle='-', linewidth=0.5)\n",
        "plt.grid(which='minor', color='#7ED4AD', linestyle='--', linewidth=0.3)\n",
        "plt.tight_layout()\n",
        "plt.show()"
      ],
      "metadata": {
        "colab": {
          "base_uri": "https://localhost:8080/",
          "height": 401
        },
        "id": "bv3C1Ei2kCv5",
        "outputId": "3fd5670a-56e7-41ab-a1fc-d987e0fe3d33"
      },
      "execution_count": 12,
      "outputs": [
        {
          "output_type": "display_data",
          "data": {
            "text/plain": [
              "<Figure size 500x400 with 1 Axes>"
            ],
            "image/png": "[encoded data removed]"
          },
          "metadata": {}
        }
      ]
    },
    {
      "cell_type": "markdown",
      "source": [
        "### ⚖️ Handling Class Imbalance\n",
        "\n",
        "The dataset is **not balanced**, meaning some labels classes have significantly more examples than others.  \n",
        "To ensure that **accuracy** remains a reliable performance metric, we will **downsample the majority classes** so that each labels class has approximately the same number of samples as the minority class `(Ngwenya and Garidzira, 2025)`.  \n",
        "\n",
        "This approach helps prevent the model from becoming biased toward the majority classes and allows for a more fair evaluation of model performance.\n",
        "\n",
        "> Ngwenya, S. and Garidzira, T.C., 2025. Enhanced Fake News Detection with Domain-Specific Word Embeddings: A TorchText-Based Method for News Semantics Representation. The Indonesian Journal of Computer Science, 14(4).\n"
      ],
      "metadata": {
        "id": "yDCq-1D2ke3f"
      }
    },
    {
      "cell_type": "code",
      "source": [
        "new_dataframe = dataframe.copy()\n",
        "\n",
        "min_class_count = new_dataframe['label'].value_counts().min()\n",
        "downsampled_list = []\n",
        "for label in new_dataframe['label'].unique():\n",
        "    class_df = new_dataframe[new_dataframe['label'] == label]\n",
        "    downsampled_class_df = resample(\n",
        "        class_df,\n",
        "        replace=False,\n",
        "        n_samples=min_class_count,\n",
        "        random_state=SEED\n",
        "    )\n",
        "    downsampled_list.append(downsampled_class_df)\n",
        "balanced_df = pd.concat(downsampled_list).reset_index(drop=True)"
      ],
      "metadata": {
        "id": "v7DmyYM0kez3"
      },
      "execution_count": 13,
      "outputs": []
    },
    {
      "cell_type": "markdown",
      "source": [
        "### 🍰 Visualizing the Balanced Dataset\n",
        "\n",
        "In the following code cell, we are going to **visualize the distribution** of the balanced dataset using a **pie chart**.  \n",
        "This visualization helps us confirm that all label classes now have approximately equal representation after the downsampling process."
      ],
      "metadata": {
        "id": "A-qKImNfkewh"
      }
    },
    {
      "cell_type": "code",
      "source": [
        "samples = dict(balanced_df.label.value_counts())\n",
        "\n",
        "def fmt(x, total):\n",
        "    return '{:.1f}%\\n({:.0f})'.format(x, total*x/100)\n",
        "\n",
        "plt.figure(figsize=(3, 3))\n",
        "plt.pie(\n",
        "    list(samples.values()),\n",
        "    labels=list(samples.keys()),\n",
        "    pctdistance=0.6, shadow=True,\n",
        "    autopct=lambda x: fmt(x, sum(samples.values())),\n",
        "    textprops={'color': 'black', 'fontsize': 8, 'weight': 'bold'},\n",
        "    radius=.6, colors=PALETTES.christmas,\n",
        "    explode=[.01 for _ in range(len(samples))]\n",
        ")\n",
        "plt.axis('equal')\n",
        "plt.title(\"Labels Distribution\", fontsize=10, weight=\"bold\")\n",
        "plt.legend(\n",
        "    labels=list(samples.keys()),\n",
        "    fontsize=8, loc=\"upper center\",\n",
        "    bbox_to_anchor=(0.5, -0.03),\n",
        "    title=\"Labels\", ncol=3, frameon=False, title_fontsize=8\n",
        ")\n",
        "plt.show()"
      ],
      "metadata": {
        "colab": {
          "base_uri": "https://localhost:8080/",
          "height": 334
        },
        "id": "q44lQl8VketG",
        "outputId": "54958120-3d9e-4603-c69e-c9cfe2e6fdaf"
      },
      "execution_count": 14,
      "outputs": [
        {
          "output_type": "display_data",
          "data": {
            "text/plain": [
              "<Figure size 300x300 with 1 Axes>"
            ],
            "image/png": "[encoded data removed]"
          },
          "metadata": {}
        }
      ]
    },
    {
      "cell_type": "code",
      "source": [
        "print(f\"The size of the balanced dataset is: {len(balanced_df):,}\")"
      ],
      "metadata": {
        "colab": {
          "base_uri": "https://localhost:8080/"
        },
        "id": "ky4s1ShGkep-",
        "outputId": "c4e993ed-d965-4d4d-8fb6-217c59a485c4"
      },
      "execution_count": 17,
      "outputs": [
        {
          "output_type": "stream",
          "name": "stdout",
          "text": [
            "The size of the balanced dataset is: 40,812\n"
          ]
        }
      ]
    },
    {
      "cell_type": "markdown",
      "source": [
        "In the following code cell, we will **split the dataset into two subsets**: a **training set** for model training and a **test set** for evaluating model performance.\n"
      ],
      "metadata": {
        "id": "3hh-u8unkem3"
      }
    },
    {
      "cell_type": "code",
      "source": [
        "train, test = train_test_split(balanced_df, test_size=0.2, random_state=SEED)"
      ],
      "metadata": {
        "id": "mdvFu_8Lkejm"
      },
      "execution_count": 18,
      "outputs": []
    },
    {
      "cell_type": "markdown",
      "source": [
        "In the following code cell, we will examine the **distribution of each label** in the dataset. This allows us to verify the balance between best `legitimate` and `phishing` before training the models.\n"
      ],
      "metadata": {
        "id": "zhCq2YV3omld"
      }
    },
    {
      "cell_type": "code",
      "source": [
        "\n",
        "train_dist_label\t= {i:0 for i in train.label.unique()}\n",
        "for val in train.label:\n",
        "  train_dist_label[val] += 1\n",
        "\n",
        "test_dist_label\t= {i:0 for i in test.label.unique()}\n",
        "for val in test.label:\n",
        "  test_dist_label[val] += 1\n",
        "\n",
        "fig, axes = plt.subplots(1, 2)\n",
        "\n",
        "axes[0].pie(train_dist_label.values(), labels=train_dist_label.keys(), autopct='%1.1f%%',\n",
        "            textprops={'color': 'black', 'fontsize':8}, radius=.6,\n",
        "            colors= PALETTES.christmas\n",
        "            )\n",
        "axes[0].set_title(\"Training\", fontsize=10)\n",
        "\n",
        "axes[1].pie(test_dist_label.values(), labels=test_dist_label.keys(), autopct='%1.1f%%',\n",
        "            textprops={'color': 'black', 'fontsize':8}, radius=.6,\n",
        "            colors= PALETTES.christmas\n",
        "            )\n",
        "axes[1].set_title(\"Testing\", fontsize=10)\n",
        "\n",
        "\n",
        "fig.legend(train.label.value_counts().index, loc=\"upper center\", bbox_to_anchor=(0.5, 1.01), ncol=3, fontsize=8)\n",
        "plt.tight_layout()\n",
        "plt.show()"
      ],
      "metadata": {
        "colab": {
          "base_uri": "https://localhost:8080/",
          "height": 422
        },
        "id": "pJxZJN2wkef_",
        "outputId": "f0eb55a7-822b-48dc-c0d9-a40419fd39af"
      },
      "execution_count": 21,
      "outputs": [
        {
          "output_type": "display_data",
          "data": {
            "text/plain": [
              "<Figure size 640x480 with 2 Axes>"
            ],
            "image/png": "[encoded data removed]"
          },
          "metadata": {}
        }
      ]
    },
    {
      "cell_type": "markdown",
      "source": [
        "In the following code cell, we will **extract the features and labels** from the dataset. Additionally, we will **clean the book descriptions** by removing unwanted characters and formatting, preparing the text data for model training.\n"
      ],
      "metadata": {
        "id": "VdOCbNEMq1EF"
      }
    },
    {
      "cell_type": "code",
      "source": [
        "train_texts = train.body.values\n",
        "train_labels = train.label.values\n",
        "\n",
        "test_texts = test.body.values\n",
        "test_labels = test.label.values"
      ],
      "metadata": {
        "id": "4VPO0xUAqxbv"
      },
      "execution_count": 22,
      "outputs": []
    },
    {
      "cell_type": "markdown",
      "source": [
        "### Most commmon words\n",
        "\n",
        "In the following code cell we are going to use the `Counter` object to check create a word to count mapping of words in the training and testing dataset."
      ],
      "metadata": {
        "id": "uYZLCLRDrwO8"
      }
    },
    {
      "cell_type": "code",
      "source": [
        "test_counter = Counter()\n",
        "train_counter = Counter()\n",
        "\n",
        "for line in train_texts:\n",
        "    train_counter.update(line.lower().split())\n",
        "\n",
        "for line in test_texts:\n",
        "    test_counter.update(line.lower().split())"
      ],
      "metadata": {
        "id": "qWs7C-cTsAPO"
      },
      "execution_count": 24,
      "outputs": []
    },
    {
      "cell_type": "markdown",
      "source": [
        "In the next code cell we are going to visualize the most common words in the training and testing subset."
      ],
      "metadata": {
        "id": "m2_0LBOysLKs"
      }
    },
    {
      "cell_type": "code",
      "source": [
        "plot_wordcloud(\n",
        "    train_counter, title=\"Most Common Words in the Train Set\", mask=\"head\", figsize=(4, 4),\n",
        "    fontsize=10\n",
        ")\n",
        "plot_wordcloud(\n",
        "    test_counter, title=\"Most Common Words in the Test Set\", mask=\"head\", figsize=(4, 4),\n",
        "    fontsize=10\n",
        ")"
      ],
      "metadata": {
        "colab": {
          "base_uri": "https://localhost:8080/",
          "height": 711
        },
        "id": "dlJvzP-ysTFy",
        "outputId": "3a575fd9-b488-47cc-af81-4a5108639861"
      },
      "execution_count": 25,
      "outputs": [
        {
          "output_type": "display_data",
          "data": {
            "text/plain": [
              "<Figure size 400x400 with 1 Axes>"
            ],
            "image/png": "[encoded data removed]"
          },
          "metadata": {}
        },
        {
          "output_type": "display_data",
          "data": {
            "text/plain": [
              "<Figure size 400x400 with 1 Axes>"
            ],
            "image/png": "[encoded data removed]"
          },
          "metadata": {}
        }
      ]
    },
    {
      "cell_type": "markdown",
      "source": [
        "The most appearing words in the training and testing subset for email body are `stopword`. According to `Sarica and  Luo (2024)`,  stopwords are words that carries less semantic meaning on their own  for example words like \"the\", \"of\", \"to\", etc. and we are going to remove these words during text preprocessing.\n",
        "\n",
        "> S. Sarica and J. Luo, “Correction: Stopwords in technical language processing,” PLoS One, vol. 19, no. 12, p. e0315195, Dec. 2024, doi: 10.1371/journal.pone.0315195.\n",
        "\n",
        "\n",
        "\n",
        "Our labels are categorical, so we want to convert them to numbers. For that we are going to use the `LabelEncoder` to encode our labels to become `numerical`."
      ],
      "metadata": {
        "id": "lvlcG-LUrbZ-"
      }
    },
    {
      "cell_type": "code",
      "source": [
        "label_encoder = LabelEncoder()\n",
        "y_train = label_encoder.fit_transform(train_labels.reshape(-1, 1))\n",
        "y_test = label_encoder.transform(test_labels.reshape(-1, 1))"
      ],
      "metadata": {
        "id": "aLwOkY7ptQyz"
      },
      "execution_count": 27,
      "outputs": []
    },
    {
      "cell_type": "markdown",
      "source": [
        "In the following code cell we are going to check a sample of encoded labels."
      ],
      "metadata": {
        "id": "-EgEvCvXtiZb"
      }
    },
    {
      "cell_type": "code",
      "source": [
        "y_train[:2], y_test[:2]"
      ],
      "metadata": {
        "colab": {
          "base_uri": "https://localhost:8080/"
        },
        "id": "pv65EEMPthNp",
        "outputId": "699baf2a-5540-457b-b2d3-9b34a1177b69"
      },
      "execution_count": 28,
      "outputs": [
        {
          "output_type": "execute_result",
          "data": {
            "text/plain": [
              "(array([0, 1]), array([1, 0]))"
            ]
          },
          "metadata": {},
          "execution_count": 28
        }
      ]
    },
    {
      "cell_type": "markdown",
      "source": [
        "In the following code cell, we will create **pipelines for the model** as a list, pairing **`LogisticRegression`** and **`RandomForestClassifier`** with different vectorizers — **`CountVectorizer`**, **`HashingVectorizer`**, and **`TfidfVectorizer`**.\n",
        "\n",
        "\n",
        "This will allow us to **compare their performance** and determine the most effective feature representation for predicting phishing from email bodies.\n",
        "\n",
        "\n",
        "\n",
        "> **Note:** We are filtering out stopword to be `english` in the vectorizers.\n"
      ],
      "metadata": {
        "id": "z-bBjr3ctDXA"
      }
    },
    {
      "cell_type": "code",
      "source": [
        "scores_data = []\n",
        "\n",
        "vectorizers = [\n",
        "    (\"CountVectorizer\", CountVectorizer(stop_words='english')),\n",
        "    (\"TfidfVectorizer\", TfidfVectorizer(stop_words='english')),\n",
        "    (\"HashingVectorizer\", HashingVectorizer(alternate_sign=False, stop_words='english'))\n",
        "]\n",
        "\n",
        "classifiers = [\n",
        "    (\"Logistic Regression\", LogisticRegression(max_iter=100)),\n",
        "    (\"Random Forest Classifier\", RandomForestClassifier(n_estimators=100))\n",
        "]\n",
        "\n",
        "for vec_name, vect in vectorizers:\n",
        "    for clf_name, clf in classifiers:\n",
        "        pipe = Pipeline([\n",
        "            (\"vect\", vect),\n",
        "            (\"clf\", clf)\n",
        "        ])\n",
        "        pipe.fit(train_texts, y_train)\n",
        "        score = pipe.score(test_texts, y_test)\n",
        "        scores_data.append({\"vectorizer\": vec_name, \"classifier\": clf_name, \"score\": score})\n",
        "        print(f\"{vec_name} + {clf_name}: {score:.4f}\")\n",
        "    print()"
      ],
      "metadata": {
        "id": "Znm0Qu8Rkecj"
      },
      "execution_count": null,
      "outputs": []
    },
    {
      "cell_type": "code",
      "source": [
        "scores_df = pd.DataFrame(scores_data)\n",
        "scores_df.head(10)"
      ],
      "metadata": {
        "colab": {
          "base_uri": "https://localhost:8080/",
          "height": 237
        },
        "id": "eiL0A5J7z3Sp",
        "outputId": "077bbbe7-bbef-446b-8045-13bb72f32d27"
      },
      "execution_count": 34,
      "outputs": [
        {
          "output_type": "execute_result",
          "data": {
            "text/plain": [
              "          vectorizer                classifier     score\n",
              "0    CountVectorizer       Logistic Regression  0.990567\n",
              "1    CountVectorizer  Random Forest Classifier  0.986157\n",
              "2    TfidfVectorizer       Logistic Regression  0.984687\n",
              "3    TfidfVectorizer  Random Forest Classifier  0.987505\n",
              "4  HashingVectorizer       Logistic Regression  0.981134\n",
              "5  HashingVectorizer  Random Forest Classifier  0.985667"
            ],
            "text/html": [
              "\n",
              "  <div id=\"df-61d4a062-d713-4e53-bfb8-86bc94c8c60b\" class=\"colab-df-container\">\n",
              "    <div>\n",
              "<style scoped>\n",
              "    .dataframe tbody tr th:only-of-type {\n",
              "        vertical-align: middle;\n",
              "    }\n",
              "\n",
              "    .dataframe tbody tr th {\n",
              "        vertical-align: top;\n",
              "    }\n",
              "\n",
              "    .dataframe thead th {\n",
              "        text-align: right;\n",
              "    }\n",
              "</style>\n",
              "<table border=\"1\" class=\"dataframe\">\n",
              "  <thead>\n",
              "    <tr style=\"text-align: right;\">\n",
              "      <th></th>\n",
              "      <th>vectorizer</th>\n",
              "      <th>classifier</th>\n",
              "      <th>score</th>\n",
              "    </tr>\n",
              "  </thead>\n",
              "  <tbody>\n",
              "    <tr>\n",
              "      <th>0</th>\n",
              "      <td>CountVectorizer</td>\n",
              "      <td>Logistic Regression</td>\n",
              "      <td>0.990567</td>\n",
              "    </tr>\n",
              "    <tr>\n",
              "      <th>1</th>\n",
              "      <td>CountVectorizer</td>\n",
              "      <td>Random Forest Classifier</td>\n",
              "      <td>0.986157</td>\n",
              "    </tr>\n",
              "    <tr>\n",
              "      <th>2</th>\n",
              "      <td>TfidfVectorizer</td>\n",
              "      <td>Logistic Regression</td>\n",
              "      <td>0.984687</td>\n",
              "    </tr>\n",
              "    <tr>\n",
              "      <th>3</th>\n",
              "      <td>TfidfVectorizer</td>\n",
              "      <td>Random Forest Classifier</td>\n",
              "      <td>0.987505</td>\n",
              "    </tr>\n",
              "    <tr>\n",
              "      <th>4</th>\n",
              "      <td>HashingVectorizer</td>\n",
              "      <td>Logistic Regression</td>\n",
              "      <td>0.981134</td>\n",
              "    </tr>\n",
              "    <tr>\n",
              "      <th>5</th>\n",
              "      <td>HashingVectorizer</td>\n",
              "      <td>Random Forest Classifier</td>\n",
              "      <td>0.985667</td>\n",
              "    </tr>\n",
              "  </tbody>\n",
              "</table>\n",
              "</div>\n",
              "    <div class=\"colab-df-buttons\">\n",
              "\n",
              "  <div class=\"colab-df-container\">\n",
              "    <button class=\"colab-df-convert\" onclick=\"convertToInteractive('df-61d4a062-d713-4e53-bfb8-86bc94c8c60b')\"\n",
              "            title=\"Convert this dataframe to an interactive table.\"\n",
              "            style=\"display:none;\">\n",
              "\n",
              "  <svg xmlns=\"http://www.w3.org/2000/svg\" height=\"24px\" viewBox=\"0 -960 960 960\">\n",
              "    <path d=\"M120-120v-720h720v720H120Zm60-500h600v-160H180v160Zm220 220h160v-160H400v160Zm0 220h160v-160H400v160ZM180-400h160v-160H180v160Zm440 0h160v-160H620v160ZM180-180h160v-160H180v160Zm440 0h160v-160H620v160Z\"/>\n",
              "  </svg>\n",
              "    </button>\n",
              "\n",
              "  <style>\n",
              "    .colab-df-container {\n",
              "      display:flex;\n",
              "      gap: 12px;\n",
              "    }\n",
              "\n",
              "    .colab-df-convert {\n",
              "      background-color: #E8F0FE;\n",
              "      border: none;\n",
              "      border-radius: 50%;\n",
              "      cursor: pointer;\n",
              "      display: none;\n",
              "      fill: #1967D2;\n",
              "      height: 32px;\n",
              "      padding: 0 0 0 0;\n",
              "      width: 32px;\n",
              "    }\n",
              "\n",
              "    .colab-df-convert:hover {\n",
              "      background-color: #E2EBFA;\n",
              "      box-shadow: 0px 1px 2px rgba(60, 64, 67, 0.3), 0px 1px 3px 1px rgba(60, 64, 67, 0.15);\n",
              "      fill: #174EA6;\n",
              "    }\n",
              "\n",
              "    .colab-df-buttons div {\n",
              "      margin-bottom: 4px;\n",
              "    }\n",
              "\n",
              "    [theme=dark] .colab-df-convert {\n",
              "      background-color: #3B4455;\n",
              "      fill: #D2E3FC;\n",
              "    }\n",
              "\n",
              "    [theme=dark] .colab-df-convert:hover {\n",
              "      background-color: #434B5C;\n",
              "      box-shadow: 0px 1px 3px 1px rgba(0, 0, 0, 0.15);\n",
              "      filter: drop-shadow(0px 1px 2px rgba(0, 0, 0, 0.3));\n",
              "      fill: #FFFFFF;\n",
              "    }\n",
              "  </style>\n",
              "\n",
              "    <script>\n",
              "      const buttonEl =\n",
              "        document.querySelector('#df-61d4a062-d713-4e53-bfb8-86bc94c8c60b button.colab-df-convert');\n",
              "      buttonEl.style.display =\n",
              "        google.colab.kernel.accessAllowed ? 'block' : 'none';\n",
              "\n",
              "      async function convertToInteractive(key) {\n",
              "        const element = document.querySelector('#df-61d4a062-d713-4e53-bfb8-86bc94c8c60b');\n",
              "        const dataTable =\n",
              "          await google.colab.kernel.invokeFunction('convertToInteractive',\n",
              "                                                    [key], {});\n",
              "        if (!dataTable) return;\n",
              "\n",
              "        const docLinkHtml = 'Like what you see? Visit the ' +\n",
              "          '<a target=\"_blank\" href=https://colab.research.google.com/notebooks/data_table.ipynb>data table notebook</a>'\n",
              "          + ' to learn more about interactive tables.';\n",
              "        element.innerHTML = '';\n",
              "        dataTable['output_type'] = 'display_data';\n",
              "        await google.colab.output.renderOutput(dataTable, element);\n",
              "        const docLink = document.createElement('div');\n",
              "        docLink.innerHTML = docLinkHtml;\n",
              "        element.appendChild(docLink);\n",
              "      }\n",
              "    </script>\n",
              "  </div>\n",
              "\n",
              "\n",
              "    <div id=\"df-e7d03641-04aa-4045-a260-6e89bdf899e2\">\n",
              "      <button class=\"colab-df-quickchart\" onclick=\"quickchart('df-e7d03641-04aa-4045-a260-6e89bdf899e2')\"\n",
              "                title=\"Suggest charts\"\n",
              "                style=\"display:none;\">\n",
              "\n",
              "<svg xmlns=\"http://www.w3.org/2000/svg\" height=\"24px\"viewBox=\"0 0 24 24\"\n",
              "     width=\"24px\">\n",
              "    <g>\n",
              "        <path d=\"M19 3H5c-1.1 0-2 .9-2 2v14c0 1.1.9 2 2 2h14c1.1 0 2-.9 2-2V5c0-1.1-.9-2-2-2zM9 17H7v-7h2v7zm4 0h-2V7h2v10zm4 0h-2v-4h2v4z\"/>\n",
              "    </g>\n",
              "</svg>\n",
              "      </button>\n",
              "\n",
              "<style>\n",
              "  .colab-df-quickchart {\n",
              "      --bg-color: #E8F0FE;\n",
              "      --fill-color: #1967D2;\n",
              "      --hover-bg-color: #E2EBFA;\n",
              "      --hover-fill-color: #174EA6;\n",
              "      --disabled-fill-color: #AAA;\n",
              "      --disabled-bg-color: #DDD;\n",
              "  }\n",
              "\n",
              "  [theme=dark] .colab-df-quickchart {\n",
              "      --bg-color: #3B4455;\n",
              "      --fill-color: #D2E3FC;\n",
              "      --hover-bg-color: #434B5C;\n",
              "      --hover-fill-color: #FFFFFF;\n",
              "      --disabled-bg-color: #3B4455;\n",
              "      --disabled-fill-color: #666;\n",
              "  }\n",
              "\n",
              "  .colab-df-quickchart {\n",
              "    background-color: var(--bg-color);\n",
              "    border: none;\n",
              "    border-radius: 50%;\n",
              "    cursor: pointer;\n",
              "    display: none;\n",
              "    fill: var(--fill-color);\n",
              "    height: 32px;\n",
              "    padding: 0;\n",
              "    width: 32px;\n",
              "  }\n",
              "\n",
              "  .colab-df-quickchart:hover {\n",
              "    background-color: var(--hover-bg-color);\n",
              "    box-shadow: 0 1px 2px rgba(60, 64, 67, 0.3), 0 1px 3px 1px rgba(60, 64, 67, 0.15);\n",
              "    fill: var(--button-hover-fill-color);\n",
              "  }\n",
              "\n",
              "  .colab-df-quickchart-complete:disabled,\n",
              "  .colab-df-quickchart-complete:disabled:hover {\n",
              "    background-color: var(--disabled-bg-color);\n",
              "    fill: var(--disabled-fill-color);\n",
              "    box-shadow: none;\n",
              "  }\n",
              "\n",
              "  .colab-df-spinner {\n",
              "    border: 2px solid var(--fill-color);\n",
              "    border-color: transparent;\n",
              "    border-bottom-color: var(--fill-color);\n",
              "    animation:\n",
              "      spin 1s steps(1) infinite;\n",
              "  }\n",
              "\n",
              "  @keyframes spin {\n",
              "    0% {\n",
              "      border-color: transparent;\n",
              "      border-bottom-color: var(--fill-color);\n",
              "      border-left-color: var(--fill-color);\n",
              "    }\n",
              "    20% {\n",
              "      border-color: transparent;\n",
              "      border-left-color: var(--fill-color);\n",
              "      border-top-color: var(--fill-color);\n",
              "    }\n",
              "    30% {\n",
              "      border-color: transparent;\n",
              "      border-left-color: var(--fill-color);\n",
              "      border-top-color: var(--fill-color);\n",
              "      border-right-color: var(--fill-color);\n",
              "    }\n",
              "    40% {\n",
              "      border-color: transparent;\n",
              "      border-right-color: var(--fill-color);\n",
              "      border-top-color: var(--fill-color);\n",
              "    }\n",
              "    60% {\n",
              "      border-color: transparent;\n",
              "      border-right-color: var(--fill-color);\n",
              "    }\n",
              "    80% {\n",
              "      border-color: transparent;\n",
              "      border-right-color: var(--fill-color);\n",
              "      border-bottom-color: var(--fill-color);\n",
              "    }\n",
              "    90% {\n",
              "      border-color: transparent;\n",
              "      border-bottom-color: var(--fill-color);\n",
              "    }\n",
              "  }\n",
              "</style>\n",
              "\n",
              "      <script>\n",
              "        async function quickchart(key) {\n",
              "          const quickchartButtonEl =\n",
              "            document.querySelector('#' + key + ' button');\n",
              "          quickchartButtonEl.disabled = true;  // To prevent multiple clicks.\n",
              "          quickchartButtonEl.classList.add('colab-df-spinner');\n",
              "          try {\n",
              "            const charts = await google.colab.kernel.invokeFunction(\n",
              "                'suggestCharts', [key], {});\n",
              "          } catch (error) {\n",
              "            console.error('Error during call to suggestCharts:', error);\n",
              "          }\n",
              "          quickchartButtonEl.classList.remove('colab-df-spinner');\n",
              "          quickchartButtonEl.classList.add('colab-df-quickchart-complete');\n",
              "        }\n",
              "        (() => {\n",
              "          let quickchartButtonEl =\n",
              "            document.querySelector('#df-e7d03641-04aa-4045-a260-6e89bdf899e2 button');\n",
              "          quickchartButtonEl.style.display =\n",
              "            google.colab.kernel.accessAllowed ? 'block' : 'none';\n",
              "        })();\n",
              "      </script>\n",
              "    </div>\n",
              "\n",
              "    </div>\n",
              "  </div>\n"
            ],
            "application/vnd.google.colaboratory.intrinsic+json": {
              "type": "dataframe",
              "variable_name": "scores_df",
              "summary": "{\n  \"name\": \"scores_df\",\n  \"rows\": 6,\n  \"fields\": [\n    {\n      \"column\": \"vectorizer\",\n      \"properties\": {\n        \"dtype\": \"string\",\n        \"num_unique_values\": 3,\n        \"samples\": [\n          \"CountVectorizer\",\n          \"TfidfVectorizer\",\n          \"HashingVectorizer\"\n        ],\n        \"semantic_type\": \"\",\n        \"description\": \"\"\n      }\n    },\n    {\n      \"column\": \"classifier\",\n      \"properties\": {\n        \"dtype\": \"category\",\n        \"num_unique_values\": 2,\n        \"samples\": [\n          \"Random Forest Classifier\",\n          \"Logistic Regression\"\n        ],\n        \"semantic_type\": \"\",\n        \"description\": \"\"\n      }\n    },\n    {\n      \"column\": \"score\",\n      \"properties\": {\n        \"dtype\": \"number\",\n        \"std\": 0.0031190838431905295,\n        \"min\": 0.9811343868675731,\n        \"max\": 0.9905671934337866,\n        \"num_unique_values\": 6,\n        \"samples\": [\n          0.9905671934337866,\n          0.9861570501041284\n        ],\n        \"semantic_type\": \"\",\n        \"description\": \"\"\n      }\n    }\n  ]\n}"
            }
          },
          "metadata": {},
          "execution_count": 34
        }
      ]
    },
    {
      "cell_type": "markdown",
      "source": [
        "In the following code cell, we will **visualize the performance of each vectorizer** with **corresponding classifier** by plotting their corresponding **accuracy scores**.\n",
        "\n",
        "This helps us compare which feature representation works best for predicting phishing from email bodies.\n"
      ],
      "metadata": {
        "id": "UH6gp6kdKD5W"
      }
    },
    {
      "cell_type": "code",
      "source": [
        "plt.figure(figsize=(5, 3))\n",
        "sns.barplot(data=scores_df, x=\"vectorizer\",\n",
        "            y=\"score\", hue=\"classifier\",\n",
        "            palette=PALETTES.christmas, width= .5\n",
        "            )\n",
        "\n",
        "plt.title(\"Classifier Accuracy by Vectorizer\", fontsize=10)\n",
        "plt.ylabel(\"Accuracy Score\", fontdict={'fontsize': 8})\n",
        "plt.xlabel(\"\", fontdict={'fontsize': 8})\n",
        "plt.ylim(0, 1.0)\n",
        "plt.legend(fontsize=8,  loc='upper center', bbox_to_anchor=(0.5, -0.15), ncol=2)\n",
        "plt.xticks(fontsize=8)\n",
        "plt.yticks(fontsize=8)\n",
        "\n",
        "plt.minorticks_on()\n",
        "plt.grid(which='major', color='gray', linestyle='-', linewidth=0.5)\n",
        "plt.grid(which='minor', color='#7ED4AD', linestyle='--', linewidth=0.3)\n",
        "\n",
        "plt.tight_layout()\n",
        "plt.show()"
      ],
      "metadata": {
        "colab": {
          "base_uri": "https://localhost:8080/",
          "height": 294
        },
        "id": "Fq7YOl3nCb4y",
        "outputId": "eca8f16a-cc4c-413a-e412-dfc0f0013dcf"
      },
      "execution_count": 33,
      "outputs": [
        {
          "output_type": "display_data",
          "data": {
            "text/plain": [
              "<Figure size 500x300 with 1 Axes>"
            ],
            "image/png": "[encoded data removed]"
          },
          "metadata": {}
        }
      ]
    },
    {
      "cell_type": "markdown",
      "source": [
        "In the following code cell, we will create two classifiers—**Random Forest** and **Logistic Regression**—each paired with suitable vectorizers. Our goal is to determine which combination produces the best performance for predicting phishing in email body text.\n",
        "\n",
        "\n",
        "> We will then conduct further evaluations on the best-performing model."
      ],
      "metadata": {
        "id": "FLFyf2kSCb1h"
      }
    },
    {
      "cell_type": "code",
      "source": [
        "lr_pipe = Pipeline([\n",
        "    (\"vect\",  CountVectorizer(stop_words='english')),\n",
        "    (\"clf\", LogisticRegression(max_iter=100))\n",
        "])\n",
        "rf_pipe = Pipeline([\n",
        "    (\"vect\",  TfidfVectorizer(stop_words='english')),\n",
        "    (\"clf\", RandomForestClassifier(n_estimators=100))\n",
        "])\n",
        "\n",
        "lr_pipe.fit(train_texts, y_train)\n",
        "rf_pipe.fit(train_texts, y_train)\n"
      ],
      "metadata": {
        "colab": {
          "base_uri": "https://localhost:8080/",
          "height": 155
        },
        "id": "7S1ASURRCbxv",
        "outputId": "07c32703-4d89-4e4e-9d93-41e7319f34ce"
      },
      "execution_count": 40,
      "outputs": [
        {
          "output_type": "execute_result",
          "data": {
            "text/plain": [
              "Pipeline(steps=[('vect', TfidfVectorizer(stop_words='english')),\n",
              "                ('clf', RandomForestClassifier())])"
            ],
            "text/html": [
              "<style>#sk-container-id-2 {\n",
              "  /* Definition of color scheme common for light and dark mode */\n",
              "  --sklearn-color-text: #000;\n",
              "  --sklearn-color-text-muted: #666;\n",
              "  --sklearn-color-line: gray;\n",
              "  /* Definition of color scheme for unfitted estimators */\n",
              "  --sklearn-color-unfitted-level-0: #fff5e6;\n",
              "  --sklearn-color-unfitted-level-1: #f6e4d2;\n",
              "  --sklearn-color-unfitted-level-2: #ffe0b3;\n",
              "  --sklearn-color-unfitted-level-3: chocolate;\n",
              "  /* Definition of color scheme for fitted estimators */\n",
              "  --sklearn-color-fitted-level-0: #f0f8ff;\n",
              "  --sklearn-color-fitted-level-1: #d4ebff;\n",
              "  --sklearn-color-fitted-level-2: #b3dbfd;\n",
              "  --sklearn-color-fitted-level-3: cornflowerblue;\n",
              "\n",
              "  /* Specific color for light theme */\n",
              "  --sklearn-color-text-on-default-background: var(--sg-text-color, var(--theme-code-foreground, var(--jp-content-font-color1, black)));\n",
              "  --sklearn-color-background: var(--sg-background-color, var(--theme-background, var(--jp-layout-color0, white)));\n",
              "  --sklearn-color-border-box: var(--sg-text-color, var(--theme-code-foreground, var(--jp-content-font-color1, black)));\n",
              "  --sklearn-color-icon: #696969;\n",
              "\n",
              "  @media (prefers-color-scheme: dark) {\n",
              "    /* Redefinition of color scheme for dark theme */\n",
              "    --sklearn-color-text-on-default-background: var(--sg-text-color, var(--theme-code-foreground, var(--jp-content-font-color1, white)));\n",
              "    --sklearn-color-background: var(--sg-background-color, var(--theme-background, var(--jp-layout-color0, #111)));\n",
              "    --sklearn-color-border-box: var(--sg-text-color, var(--theme-code-foreground, var(--jp-content-font-color1, white)));\n",
              "    --sklearn-color-icon: #878787;\n",
              "  }\n",
              "}\n",
              "\n",
              "#sk-container-id-2 {\n",
              "  color: var(--sklearn-color-text);\n",
              "}\n",
              "\n",
              "#sk-container-id-2 pre {\n",
              "  padding: 0;\n",
              "}\n",
              "\n",
              "#sk-container-id-2 input.sk-hidden--visually {\n",
              "  border: 0;\n",
              "  clip: rect(1px 1px 1px 1px);\n",
              "  clip: rect(1px, 1px, 1px, 1px);\n",
              "  height: 1px;\n",
              "  margin: -1px;\n",
              "  overflow: hidden;\n",
              "  padding: 0;\n",
              "  position: absolute;\n",
              "  width: 1px;\n",
              "}\n",
              "\n",
              "#sk-container-id-2 div.sk-dashed-wrapped {\n",
              "  border: 1px dashed var(--sklearn-color-line);\n",
              "  margin: 0 0.4em 0.5em 0.4em;\n",
              "  box-sizing: border-box;\n",
              "  padding-bottom: 0.4em;\n",
              "  background-color: var(--sklearn-color-background);\n",
              "}\n",
              "\n",
              "#sk-container-id-2 div.sk-container {\n",
              "  /* jupyter's `normalize.less` sets `[hidden] { display: none; }`\n",
              "     but bootstrap.min.css set `[hidden] { display: none !important; }`\n",
              "     so we also need the `!important` here to be able to override the\n",
              "     default hidden behavior on the sphinx rendered scikit-learn.org.\n",
              "     See: https://github.com/scikit-learn/scikit-learn/issues/21755 */\n",
              "  display: inline-block !important;\n",
              "  position: relative;\n",
              "}\n",
              "\n",
              "#sk-container-id-2 div.sk-text-repr-fallback {\n",
              "  display: none;\n",
              "}\n",
              "\n",
              "div.sk-parallel-item,\n",
              "div.sk-serial,\n",
              "div.sk-item {\n",
              "  /* draw centered vertical line to link estimators */\n",
              "  background-image: linear-gradient(var(--sklearn-color-text-on-default-background), var(--sklearn-color-text-on-default-background));\n",
              "  background-size: 2px 100%;\n",
              "  background-repeat: no-repeat;\n",
              "  background-position: center center;\n",
              "}\n",
              "\n",
              "/* Parallel-specific style estimator block */\n",
              "\n",
              "#sk-container-id-2 div.sk-parallel-item::after {\n",
              "  content: \"\";\n",
              "  width: 100%;\n",
              "  border-bottom: 2px solid var(--sklearn-color-text-on-default-background);\n",
              "  flex-grow: 1;\n",
              "}\n",
              "\n",
              "#sk-container-id-2 div.sk-parallel {\n",
              "  display: flex;\n",
              "  align-items: stretch;\n",
              "  justify-content: center;\n",
              "  background-color: var(--sklearn-color-background);\n",
              "  position: relative;\n",
              "}\n",
              "\n",
              "#sk-container-id-2 div.sk-parallel-item {\n",
              "  display: flex;\n",
              "  flex-direction: column;\n",
              "}\n",
              "\n",
              "#sk-container-id-2 div.sk-parallel-item:first-child::after {\n",
              "  align-self: flex-end;\n",
              "  width: 50%;\n",
              "}\n",
              "\n",
              "#sk-container-id-2 div.sk-parallel-item:last-child::after {\n",
              "  align-self: flex-start;\n",
              "  width: 50%;\n",
              "}\n",
              "\n",
              "#sk-container-id-2 div.sk-parallel-item:only-child::after {\n",
              "  width: 0;\n",
              "}\n",
              "\n",
              "/* Serial-specific style estimator block */\n",
              "\n",
              "#sk-container-id-2 div.sk-serial {\n",
              "  display: flex;\n",
              "  flex-direction: column;\n",
              "  align-items: center;\n",
              "  background-color: var(--sklearn-color-background);\n",
              "  padding-right: 1em;\n",
              "  padding-left: 1em;\n",
              "}\n",
              "\n",
              "\n",
              "/* Toggleable style: style used for estimator/Pipeline/ColumnTransformer box that is\n",
              "clickable and can be expanded/collapsed.\n",
              "- Pipeline and ColumnTransformer use this feature and define the default style\n",
              "- Estimators will overwrite some part of the style using the `sk-estimator` class\n",
              "*/\n",
              "\n",
              "/* Pipeline and ColumnTransformer style (default) */\n",
              "\n",
              "#sk-container-id-2 div.sk-toggleable {\n",
              "  /* Default theme specific background. It is overwritten whether we have a\n",
              "  specific estimator or a Pipeline/ColumnTransformer */\n",
              "  background-color: var(--sklearn-color-background);\n",
              "}\n",
              "\n",
              "/* Toggleable label */\n",
              "#sk-container-id-2 label.sk-toggleable__label {\n",
              "  cursor: pointer;\n",
              "  display: flex;\n",
              "  width: 100%;\n",
              "  margin-bottom: 0;\n",
              "  padding: 0.5em;\n",
              "  box-sizing: border-box;\n",
              "  text-align: center;\n",
              "  align-items: start;\n",
              "  justify-content: space-between;\n",
              "  gap: 0.5em;\n",
              "}\n",
              "\n",
              "#sk-container-id-2 label.sk-toggleable__label .caption {\n",
              "  font-size: 0.6rem;\n",
              "  font-weight: lighter;\n",
              "  color: var(--sklearn-color-text-muted);\n",
              "}\n",
              "\n",
              "#sk-container-id-2 label.sk-toggleable__label-arrow:before {\n",
              "  /* Arrow on the left of the label */\n",
              "  content: \"▸\";\n",
              "  float: left;\n",
              "  margin-right: 0.25em;\n",
              "  color: var(--sklearn-color-icon);\n",
              "}\n",
              "\n",
              "#sk-container-id-2 label.sk-toggleable__label-arrow:hover:before {\n",
              "  color: var(--sklearn-color-text);\n",
              "}\n",
              "\n",
              "/* Toggleable content - dropdown */\n",
              "\n",
              "#sk-container-id-2 div.sk-toggleable__content {\n",
              "  max-height: 0;\n",
              "  max-width: 0;\n",
              "  overflow: hidden;\n",
              "  text-align: left;\n",
              "  /* unfitted */\n",
              "  background-color: var(--sklearn-color-unfitted-level-0);\n",
              "}\n",
              "\n",
              "#sk-container-id-2 div.sk-toggleable__content.fitted {\n",
              "  /* fitted */\n",
              "  background-color: var(--sklearn-color-fitted-level-0);\n",
              "}\n",
              "\n",
              "#sk-container-id-2 div.sk-toggleable__content pre {\n",
              "  margin: 0.2em;\n",
              "  border-radius: 0.25em;\n",
              "  color: var(--sklearn-color-text);\n",
              "  /* unfitted */\n",
              "  background-color: var(--sklearn-color-unfitted-level-0);\n",
              "}\n",
              "\n",
              "#sk-container-id-2 div.sk-toggleable__content.fitted pre {\n",
              "  /* unfitted */\n",
              "  background-color: var(--sklearn-color-fitted-level-0);\n",
              "}\n",
              "\n",
              "#sk-container-id-2 input.sk-toggleable__control:checked~div.sk-toggleable__content {\n",
              "  /* Expand drop-down */\n",
              "  max-height: 200px;\n",
              "  max-width: 100%;\n",
              "  overflow: auto;\n",
              "}\n",
              "\n",
              "#sk-container-id-2 input.sk-toggleable__control:checked~label.sk-toggleable__label-arrow:before {\n",
              "  content: \"▾\";\n",
              "}\n",
              "\n",
              "/* Pipeline/ColumnTransformer-specific style */\n",
              "\n",
              "#sk-container-id-2 div.sk-label input.sk-toggleable__control:checked~label.sk-toggleable__label {\n",
              "  color: var(--sklearn-color-text);\n",
              "  background-color: var(--sklearn-color-unfitted-level-2);\n",
              "}\n",
              "\n",
              "#sk-container-id-2 div.sk-label.fitted input.sk-toggleable__control:checked~label.sk-toggleable__label {\n",
              "  background-color: var(--sklearn-color-fitted-level-2);\n",
              "}\n",
              "\n",
              "/* Estimator-specific style */\n",
              "\n",
              "/* Colorize estimator box */\n",
              "#sk-container-id-2 div.sk-estimator input.sk-toggleable__control:checked~label.sk-toggleable__label {\n",
              "  /* unfitted */\n",
              "  background-color: var(--sklearn-color-unfitted-level-2);\n",
              "}\n",
              "\n",
              "#sk-container-id-2 div.sk-estimator.fitted input.sk-toggleable__control:checked~label.sk-toggleable__label {\n",
              "  /* fitted */\n",
              "  background-color: var(--sklearn-color-fitted-level-2);\n",
              "}\n",
              "\n",
              "#sk-container-id-2 div.sk-label label.sk-toggleable__label,\n",
              "#sk-container-id-2 div.sk-label label {\n",
              "  /* The background is the default theme color */\n",
              "  color: var(--sklearn-color-text-on-default-background);\n",
              "}\n",
              "\n",
              "/* On hover, darken the color of the background */\n",
              "#sk-container-id-2 div.sk-label:hover label.sk-toggleable__label {\n",
              "  color: var(--sklearn-color-text);\n",
              "  background-color: var(--sklearn-color-unfitted-level-2);\n",
              "}\n",
              "\n",
              "/* Label box, darken color on hover, fitted */\n",
              "#sk-container-id-2 div.sk-label.fitted:hover label.sk-toggleable__label.fitted {\n",
              "  color: var(--sklearn-color-text);\n",
              "  background-color: var(--sklearn-color-fitted-level-2);\n",
              "}\n",
              "\n",
              "/* Estimator label */\n",
              "\n",
              "#sk-container-id-2 div.sk-label label {\n",
              "  font-family: monospace;\n",
              "  font-weight: bold;\n",
              "  display: inline-block;\n",
              "  line-height: 1.2em;\n",
              "}\n",
              "\n",
              "#sk-container-id-2 div.sk-label-container {\n",
              "  text-align: center;\n",
              "}\n",
              "\n",
              "/* Estimator-specific */\n",
              "#sk-container-id-2 div.sk-estimator {\n",
              "  font-family: monospace;\n",
              "  border: 1px dotted var(--sklearn-color-border-box);\n",
              "  border-radius: 0.25em;\n",
              "  box-sizing: border-box;\n",
              "  margin-bottom: 0.5em;\n",
              "  /* unfitted */\n",
              "  background-color: var(--sklearn-color-unfitted-level-0);\n",
              "}\n",
              "\n",
              "#sk-container-id-2 div.sk-estimator.fitted {\n",
              "  /* fitted */\n",
              "  background-color: var(--sklearn-color-fitted-level-0);\n",
              "}\n",
              "\n",
              "/* on hover */\n",
              "#sk-container-id-2 div.sk-estimator:hover {\n",
              "  /* unfitted */\n",
              "  background-color: var(--sklearn-color-unfitted-level-2);\n",
              "}\n",
              "\n",
              "#sk-container-id-2 div.sk-estimator.fitted:hover {\n",
              "  /* fitted */\n",
              "  background-color: var(--sklearn-color-fitted-level-2);\n",
              "}\n",
              "\n",
              "/* Specification for estimator info (e.g. \"i\" and \"?\") */\n",
              "\n",
              "/* Common style for \"i\" and \"?\" */\n",
              "\n",
              ".sk-estimator-doc-link,\n",
              "a:link.sk-estimator-doc-link,\n",
              "a:visited.sk-estimator-doc-link {\n",
              "  float: right;\n",
              "  font-size: smaller;\n",
              "  line-height: 1em;\n",
              "  font-family: monospace;\n",
              "  background-color: var(--sklearn-color-background);\n",
              "  border-radius: 1em;\n",
              "  height: 1em;\n",
              "  width: 1em;\n",
              "  text-decoration: none !important;\n",
              "  margin-left: 0.5em;\n",
              "  text-align: center;\n",
              "  /* unfitted */\n",
              "  border: var(--sklearn-color-unfitted-level-1) 1pt solid;\n",
              "  color: var(--sklearn-color-unfitted-level-1);\n",
              "}\n",
              "\n",
              ".sk-estimator-doc-link.fitted,\n",
              "a:link.sk-estimator-doc-link.fitted,\n",
              "a:visited.sk-estimator-doc-link.fitted {\n",
              "  /* fitted */\n",
              "  border: var(--sklearn-color-fitted-level-1) 1pt solid;\n",
              "  color: var(--sklearn-color-fitted-level-1);\n",
              "}\n",
              "\n",
              "/* On hover */\n",
              "div.sk-estimator:hover .sk-estimator-doc-link:hover,\n",
              ".sk-estimator-doc-link:hover,\n",
              "div.sk-label-container:hover .sk-estimator-doc-link:hover,\n",
              ".sk-estimator-doc-link:hover {\n",
              "  /* unfitted */\n",
              "  background-color: var(--sklearn-color-unfitted-level-3);\n",
              "  color: var(--sklearn-color-background);\n",
              "  text-decoration: none;\n",
              "}\n",
              "\n",
              "div.sk-estimator.fitted:hover .sk-estimator-doc-link.fitted:hover,\n",
              ".sk-estimator-doc-link.fitted:hover,\n",
              "div.sk-label-container:hover .sk-estimator-doc-link.fitted:hover,\n",
              ".sk-estimator-doc-link.fitted:hover {\n",
              "  /* fitted */\n",
              "  background-color: var(--sklearn-color-fitted-level-3);\n",
              "  color: var(--sklearn-color-background);\n",
              "  text-decoration: none;\n",
              "}\n",
              "\n",
              "/* Span, style for the box shown on hovering the info icon */\n",
              ".sk-estimator-doc-link span {\n",
              "  display: none;\n",
              "  z-index: 9999;\n",
              "  position: relative;\n",
              "  font-weight: normal;\n",
              "  right: .2ex;\n",
              "  padding: .5ex;\n",
              "  margin: .5ex;\n",
              "  width: min-content;\n",
              "  min-width: 20ex;\n",
              "  max-width: 50ex;\n",
              "  color: var(--sklearn-color-text);\n",
              "  box-shadow: 2pt 2pt 4pt #999;\n",
              "  /* unfitted */\n",
              "  background: var(--sklearn-color-unfitted-level-0);\n",
              "  border: .5pt solid var(--sklearn-color-unfitted-level-3);\n",
              "}\n",
              "\n",
              ".sk-estimator-doc-link.fitted span {\n",
              "  /* fitted */\n",
              "  background: var(--sklearn-color-fitted-level-0);\n",
              "  border: var(--sklearn-color-fitted-level-3);\n",
              "}\n",
              "\n",
              ".sk-estimator-doc-link:hover span {\n",
              "  display: block;\n",
              "}\n",
              "\n",
              "/* \"?\"-specific style due to the `<a>` HTML tag */\n",
              "\n",
              "#sk-container-id-2 a.estimator_doc_link {\n",
              "  float: right;\n",
              "  font-size: 1rem;\n",
              "  line-height: 1em;\n",
              "  font-family: monospace;\n",
              "  background-color: var(--sklearn-color-background);\n",
              "  border-radius: 1rem;\n",
              "  height: 1rem;\n",
              "  width: 1rem;\n",
              "  text-decoration: none;\n",
              "  /* unfitted */\n",
              "  color: var(--sklearn-color-unfitted-level-1);\n",
              "  border: var(--sklearn-color-unfitted-level-1) 1pt solid;\n",
              "}\n",
              "\n",
              "#sk-container-id-2 a.estimator_doc_link.fitted {\n",
              "  /* fitted */\n",
              "  border: var(--sklearn-color-fitted-level-1) 1pt solid;\n",
              "  color: var(--sklearn-color-fitted-level-1);\n",
              "}\n",
              "\n",
              "/* On hover */\n",
              "#sk-container-id-2 a.estimator_doc_link:hover {\n",
              "  /* unfitted */\n",
              "  background-color: var(--sklearn-color-unfitted-level-3);\n",
              "  color: var(--sklearn-color-background);\n",
              "  text-decoration: none;\n",
              "}\n",
              "\n",
              "#sk-container-id-2 a.estimator_doc_link.fitted:hover {\n",
              "  /* fitted */\n",
              "  background-color: var(--sklearn-color-fitted-level-3);\n",
              "}\n",
              "</style><div id=\"sk-container-id-2\" class=\"sk-top-container\"><div class=\"sk-text-repr-fallback\"><pre>Pipeline(steps=[(&#x27;vect&#x27;, TfidfVectorizer(stop_words=&#x27;english&#x27;)),\n",
              "                (&#x27;clf&#x27;, RandomForestClassifier())])</pre><b>In a Jupyter environment, please rerun this cell to show the HTML representation or trust the notebook. <br />On GitHub, the HTML representation is unable to render, please try loading this page with nbviewer.org.</b></div><div class=\"sk-container\" hidden><div class=\"sk-item sk-dashed-wrapped\"><div class=\"sk-label-container\"><div class=\"sk-label fitted sk-toggleable\"><input class=\"sk-toggleable__control sk-hidden--visually\" id=\"sk-estimator-id-4\" type=\"checkbox\" ><label for=\"sk-estimator-id-4\" class=\"sk-toggleable__label fitted sk-toggleable__label-arrow\"><div><div>Pipeline</div></div><div><a class=\"sk-estimator-doc-link fitted\" rel=\"noreferrer\" target=\"_blank\" href=\"https://scikit-learn.org/1.6/modules/generated/sklearn.pipeline.Pipeline.html\">?<span>Documentation for Pipeline</span></a><span class=\"sk-estimator-doc-link fitted\">i<span>Fitted</span></span></div></label><div class=\"sk-toggleable__content fitted\"><pre>Pipeline(steps=[(&#x27;vect&#x27;, TfidfVectorizer(stop_words=&#x27;english&#x27;)),\n",
              "                (&#x27;clf&#x27;, RandomForestClassifier())])</pre></div> </div></div><div class=\"sk-serial\"><div class=\"sk-item\"><div class=\"sk-estimator fitted sk-toggleable\"><input class=\"sk-toggleable__control sk-hidden--visually\" id=\"sk-estimator-id-5\" type=\"checkbox\" ><label for=\"sk-estimator-id-5\" class=\"sk-toggleable__label fitted sk-toggleable__label-arrow\"><div><div>TfidfVectorizer</div></div><div><a class=\"sk-estimator-doc-link fitted\" rel=\"noreferrer\" target=\"_blank\" href=\"https://scikit-learn.org/1.6/modules/generated/sklearn.feature_extraction.text.TfidfVectorizer.html\">?<span>Documentation for TfidfVectorizer</span></a></div></label><div class=\"sk-toggleable__content fitted\"><pre>TfidfVectorizer(stop_words=&#x27;english&#x27;)</pre></div> </div></div><div class=\"sk-item\"><div class=\"sk-estimator fitted sk-toggleable\"><input class=\"sk-toggleable__control sk-hidden--visually\" id=\"sk-estimator-id-6\" type=\"checkbox\" ><label for=\"sk-estimator-id-6\" class=\"sk-toggleable__label fitted sk-toggleable__label-arrow\"><div><div>RandomForestClassifier</div></div><div><a class=\"sk-estimator-doc-link fitted\" rel=\"noreferrer\" target=\"_blank\" href=\"https://scikit-learn.org/1.6/modules/generated/sklearn.ensemble.RandomForestClassifier.html\">?<span>Documentation for RandomForestClassifier</span></a></div></label><div class=\"sk-toggleable__content fitted\"><pre>RandomForestClassifier()</pre></div> </div></div></div></div></div></div>"
            ]
          },
          "metadata": {},
          "execution_count": 40
        }
      ]
    },
    {
      "cell_type": "markdown",
      "source": [
        "In the following code cell, we will tabulate the performance metrics of the best-selected model combination, including **accuracy**, **F1-score**, **precision**, and **recall**, based on the testing dataset.\n",
        "\n"
      ],
      "metadata": {
        "id": "2UqZqTn-MVfZ"
      }
    },
    {
      "cell_type": "code",
      "source": [
        "y_preds_lr = lr_pipe.predict(test_texts)\n",
        "y_preds_rf = rf_pipe.predict(test_texts)\n",
        "rows = [\n",
        "    [\"LR\", f\"{accuracy_score(y_test, y_preds_lr)*100:.2f}\", f\"{f1_score(y_test, y_preds_lr):.3f}\", f\"{precision_score(y_test, y_preds_lr):.3f}\", f\"{recall_score(y_test, y_preds_lr):.3f}\"],\n",
        "    [\"RF\", f\"{accuracy_score(y_test, y_preds_rf)*100:.2f}\", f\"{f1_score(y_test, y_preds_rf):.3f}\", f\"{precision_score(y_test, y_preds_rf):.3f}\", f\"{recall_score(y_test, y_preds_rf):.3f}\"]\n",
        "]\n",
        "tabulate_data([\"PIPELINE\", \"ACCURACY\", \"F1-SCORE\", \"PRECISION\", 'RECALL'], rows, \"BEST MODELS' EVALUATION METRICS\")"
      ],
      "metadata": {
        "colab": {
          "base_uri": "https://localhost:8080/"
        },
        "id": "C6QMahTaMXPg",
        "outputId": "5c406ff4-f9c3-45bd-a034-f9badff217f7"
      },
      "execution_count": 45,
      "outputs": [
        {
          "output_type": "stream",
          "name": "stdout",
          "text": [
            "BEST MODELS' EVALUATION METRICS\n",
            "+----------+----------+----------+-----------+--------+\n",
            "| PIPELINE | ACCURACY | F1-SCORE | PRECISION | RECALL |\n",
            "+----------+----------+----------+-----------+--------+\n",
            "| LR       |    99.06 |    0.991 |     0.989 |  0.992 |\n",
            "| RF       |    98.69 |    0.987 |     0.994 |  0.980 |\n",
            "+----------+----------+----------+-----------+--------+\n"
          ]
        }
      ]
    },
    {
      "cell_type": "markdown",
      "source": [
        "### 🧮 Confusion Matrix\n",
        "\n",
        "In the following code cell, we will **plot the confusion matrix** for our models.  \n",
        "\n",
        "\n",
        "This visualization helps us understand how well the model predicts each phishing label and where misclassifications occur.\n"
      ],
      "metadata": {
        "id": "1s7c5KubCbu6"
      }
    },
    {
      "cell_type": "code",
      "source": [
        "plt.style.use('default')\n",
        "plot_complicated_confusion_matrix(y_test, y_preds_lr,\n",
        "  label_encoder.classes_, fontsize=10, figsize=(5, 5), title=\"LR: Confusion Matrix\"\n",
        ")"
      ],
      "metadata": {
        "colab": {
          "base_uri": "https://localhost:8080/",
          "height": 427
        },
        "id": "56nSZNTwCbsS",
        "outputId": "d79f0947-628c-44af-8a07-06e1ae79ecae"
      },
      "execution_count": 47,
      "outputs": [
        {
          "output_type": "display_data",
          "data": {
            "text/plain": [
              "<Figure size 500x500 with 2 Axes>"
            ],
            "image/png": "[encoded data removed]"
          },
          "metadata": {}
        }
      ]
    },
    {
      "cell_type": "code",
      "source": [
        "plot_complicated_confusion_matrix(y_test, y_preds_rf,\n",
        "  label_encoder.classes_, fontsize=10, figsize=(5, 5), title=\"RF: Confusion Matrix\"\n",
        ")"
      ],
      "metadata": {
        "colab": {
          "base_uri": "https://localhost:8080/",
          "height": 428
        },
        "id": "d7XTVcRF4Osu",
        "outputId": "02ffb6cf-358c-44e4-aa23-da2d8b3c0fdd"
      },
      "execution_count": 48,
      "outputs": [
        {
          "output_type": "display_data",
          "data": {
            "text/plain": [
              "<Figure size 500x500 with 2 Axes>"
            ],
            "image/png": "[encoded data removed]"
          },
          "metadata": {}
        }
      ]
    },
    {
      "cell_type": "markdown",
      "source": [
        "### 📋 Classification Report\n",
        "\n",
        "Next, we will **generate and display the classification report** for our model using the test dataset.  \n",
        "This report provides metrics such as **precision, recall, F1-score, and support** for each class.\n"
      ],
      "metadata": {
        "id": "vcwrwNS-r51m"
      }
    },
    {
      "cell_type": "code",
      "source": [
        "fig, ax = plot_classification_report(\n",
        "    y_test, y_preds_lr,\n",
        "    title='LR: Classification Report',\n",
        "    figsize=(10, 5), dpi=80,\n",
        "    target_names = label_encoder.classes_\n",
        ")"
      ],
      "metadata": {
        "colab": {
          "base_uri": "https://localhost:8080/",
          "height": 408
        },
        "id": "SDuF_k5ysORZ",
        "outputId": "934ce666-92ff-41dd-e7b4-8496970357ea"
      },
      "execution_count": 49,
      "outputs": [
        {
          "output_type": "display_data",
          "data": {
            "text/plain": [
              "<Figure size 800x400 with 2 Axes>"
            ],
            "image/png": "[encoded data removed]"
          },
          "metadata": {}
        }
      ]
    },
    {
      "cell_type": "code",
      "source": [
        "fig, ax = plot_classification_report(\n",
        "    y_test, y_preds_rf,\n",
        "    title='RF: Classification Report',\n",
        "    figsize=(10, 5), dpi=80,\n",
        "    target_names = label_encoder.classes_\n",
        ")"
      ],
      "metadata": {
        "colab": {
          "base_uri": "https://localhost:8080/",
          "height": 408
        },
        "id": "Vb8QFpwS4kjW",
        "outputId": "3019f85f-143c-49a5-e2df-d0c37110013e"
      },
      "execution_count": 50,
      "outputs": [
        {
          "output_type": "display_data",
          "data": {
            "text/plain": [
              "<Figure size 800x400 with 2 Axes>"
            ],
            "image/png": "[encoded data removed]"
          },
          "metadata": {}
        }
      ]
    },
    {
      "cell_type": "markdown",
      "source": [
        "### 🤖 Model Inference\n",
        "\n",
        "In this section, we will **test our model's ability to make predictions** based on user input.  \n",
        "\n",
        "In the following code cell, we will use the **best model pipelines** to generate predictions.\n"
      ],
      "metadata": {
        "id": "PUB92P0GE_W0"
      }
    },
    {
      "cell_type": "code",
      "source": [
        "MENTION_HASHTAG_RE = re.compile(r\"(@|#)([A-Za-z0-9]+)\")\n",
        "EMAIL_RE = re.compile(r\"([A-Za-z0-9]+[._-])*[A-Za-z0-9]+@[A-Za-z0-9-]+(\\.[A-Za-z]{2,})+\")\n",
        "URL_RE = re.compile(r\"https?\\S+\", re.MULTILINE)\n",
        "DIGIT_RE = re.compile(r\"\\d\")\n",
        "PUNCT_RE = re.compile(r\"[^\\w\\s\\']\")\n",
        "SPACE_RE = re.compile(r\"\\s+\")\n",
        "\n",
        "def clean_sentence(sent: str, lower: bool = True) -> str:\n",
        "    if lower:\n",
        "        sent = sent.lower()\n",
        "    sent = MENTION_HASHTAG_RE.sub(\" \", sent)\n",
        "    sent = EMAIL_RE.sub(\" \", sent)\n",
        "    sent = URL_RE.sub(\" \", sent)\n",
        "    sent = DIGIT_RE.sub(\" \", sent)\n",
        "    sent = PUNCT_RE.sub(\" \", sent)\n",
        "    sent = SPACE_RE.sub(\" \", sent).strip()\n",
        "    return sent"
      ],
      "metadata": {
        "id": "5wWvWDzS4-Q5"
      },
      "execution_count": 51,
      "outputs": []
    },
    {
      "cell_type": "code",
      "source": [
        "def predict_phishing(body, pipeline):\n",
        "  body = clean_sentence(body)\n",
        "  prediction = pipeline.predict([body])\n",
        "  return { \"prediction\": int(prediction[0]),\n",
        "          \"label\": label_encoder.inverse_transform(prediction)[0]}"
      ],
      "metadata": {
        "id": "2U5Hus6xFJvz"
      },
      "execution_count": 52,
      "outputs": []
    },
    {
      "cell_type": "markdown",
      "source": [
        "### 📝 Prediction Example\n",
        "\n",
        "In the following code cell, we will **predict a sample input**.\n",
        "\n"
      ],
      "metadata": {
        "id": "q8qamd8cNMF1"
      }
    },
    {
      "cell_type": "code",
      "source": [
        "test.head(2)"
      ],
      "metadata": {
        "colab": {
          "base_uri": "https://localhost:8080/",
          "height": 112
        },
        "id": "DGMx3gKnNOyQ",
        "outputId": "b7d61734-f223-4b5b-d6b1-d44c4f74c0d9"
      },
      "execution_count": 53,
      "outputs": [
        {
          "output_type": "execute_result",
          "data": {
            "text/plain": [
              "                                                    body       label\n",
              "5499   dear computer user your internet usage is bein...    phishing\n",
              "23254  sciencenow week in review all free articles to...  legitimate"
            ],
            "text/html": [
              "\n",
              "  <div id=\"df-ed539ef6-a6d4-41a2-bd5e-517d838943b5\" class=\"colab-df-container\">\n",
              "    <div>\n",
              "<style scoped>\n",
              "    .dataframe tbody tr th:only-of-type {\n",
              "        vertical-align: middle;\n",
              "    }\n",
              "\n",
              "    .dataframe tbody tr th {\n",
              "        vertical-align: top;\n",
              "    }\n",
              "\n",
              "    .dataframe thead th {\n",
              "        text-align: right;\n",
              "    }\n",
              "</style>\n",
              "<table border=\"1\" class=\"dataframe\">\n",
              "  <thead>\n",
              "    <tr style=\"text-align: right;\">\n",
              "      <th></th>\n",
              "      <th>body</th>\n",
              "      <th>label</th>\n",
              "    </tr>\n",
              "  </thead>\n",
              "  <tbody>\n",
              "    <tr>\n",
              "      <th>5499</th>\n",
              "      <td>dear computer user your internet usage is bein...</td>\n",
              "      <td>phishing</td>\n",
              "    </tr>\n",
              "    <tr>\n",
              "      <th>23254</th>\n",
              "      <td>sciencenow week in review all free articles to...</td>\n",
              "      <td>legitimate</td>\n",
              "    </tr>\n",
              "  </tbody>\n",
              "</table>\n",
              "</div>\n",
              "    <div class=\"colab-df-buttons\">\n",
              "\n",
              "  <div class=\"colab-df-container\">\n",
              "    <button class=\"colab-df-convert\" onclick=\"convertToInteractive('df-ed539ef6-a6d4-41a2-bd5e-517d838943b5')\"\n",
              "            title=\"Convert this dataframe to an interactive table.\"\n",
              "            style=\"display:none;\">\n",
              "\n",
              "  <svg xmlns=\"http://www.w3.org/2000/svg\" height=\"24px\" viewBox=\"0 -960 960 960\">\n",
              "    <path d=\"M120-120v-720h720v720H120Zm60-500h600v-160H180v160Zm220 220h160v-160H400v160Zm0 220h160v-160H400v160ZM180-400h160v-160H180v160Zm440 0h160v-160H620v160ZM180-180h160v-160H180v160Zm440 0h160v-160H620v160Z\"/>\n",
              "  </svg>\n",
              "    </button>\n",
              "\n",
              "  <style>\n",
              "    .colab-df-container {\n",
              "      display:flex;\n",
              "      gap: 12px;\n",
              "    }\n",
              "\n",
              "    .colab-df-convert {\n",
              "      background-color: #E8F0FE;\n",
              "      border: none;\n",
              "      border-radius: 50%;\n",
              "      cursor: pointer;\n",
              "      display: none;\n",
              "      fill: #1967D2;\n",
              "      height: 32px;\n",
              "      padding: 0 0 0 0;\n",
              "      width: 32px;\n",
              "    }\n",
              "\n",
              "    .colab-df-convert:hover {\n",
              "      background-color: #E2EBFA;\n",
              "      box-shadow: 0px 1px 2px rgba(60, 64, 67, 0.3), 0px 1px 3px 1px rgba(60, 64, 67, 0.15);\n",
              "      fill: #174EA6;\n",
              "    }\n",
              "\n",
              "    .colab-df-buttons div {\n",
              "      margin-bottom: 4px;\n",
              "    }\n",
              "\n",
              "    [theme=dark] .colab-df-convert {\n",
              "      background-color: #3B4455;\n",
              "      fill: #D2E3FC;\n",
              "    }\n",
              "\n",
              "    [theme=dark] .colab-df-convert:hover {\n",
              "      background-color: #434B5C;\n",
              "      box-shadow: 0px 1px 3px 1px rgba(0, 0, 0, 0.15);\n",
              "      filter: drop-shadow(0px 1px 2px rgba(0, 0, 0, 0.3));\n",
              "      fill: #FFFFFF;\n",
              "    }\n",
              "  </style>\n",
              "\n",
              "    <script>\n",
              "      const buttonEl =\n",
              "        document.querySelector('#df-ed539ef6-a6d4-41a2-bd5e-517d838943b5 button.colab-df-convert');\n",
              "      buttonEl.style.display =\n",
              "        google.colab.kernel.accessAllowed ? 'block' : 'none';\n",
              "\n",
              "      async function convertToInteractive(key) {\n",
              "        const element = document.querySelector('#df-ed539ef6-a6d4-41a2-bd5e-517d838943b5');\n",
              "        const dataTable =\n",
              "          await google.colab.kernel.invokeFunction('convertToInteractive',\n",
              "                                                    [key], {});\n",
              "        if (!dataTable) return;\n",
              "\n",
              "        const docLinkHtml = 'Like what you see? Visit the ' +\n",
              "          '<a target=\"_blank\" href=https://colab.research.google.com/notebooks/data_table.ipynb>data table notebook</a>'\n",
              "          + ' to learn more about interactive tables.';\n",
              "        element.innerHTML = '';\n",
              "        dataTable['output_type'] = 'display_data';\n",
              "        await google.colab.output.renderOutput(dataTable, element);\n",
              "        const docLink = document.createElement('div');\n",
              "        docLink.innerHTML = docLinkHtml;\n",
              "        element.appendChild(docLink);\n",
              "      }\n",
              "    </script>\n",
              "  </div>\n",
              "\n",
              "\n",
              "    <div id=\"df-e13cf3fe-f0a1-45d3-b0c2-3249cecd931c\">\n",
              "      <button class=\"colab-df-quickchart\" onclick=\"quickchart('df-e13cf3fe-f0a1-45d3-b0c2-3249cecd931c')\"\n",
              "                title=\"Suggest charts\"\n",
              "                style=\"display:none;\">\n",
              "\n",
              "<svg xmlns=\"http://www.w3.org/2000/svg\" height=\"24px\"viewBox=\"0 0 24 24\"\n",
              "     width=\"24px\">\n",
              "    <g>\n",
              "        <path d=\"M19 3H5c-1.1 0-2 .9-2 2v14c0 1.1.9 2 2 2h14c1.1 0 2-.9 2-2V5c0-1.1-.9-2-2-2zM9 17H7v-7h2v7zm4 0h-2V7h2v10zm4 0h-2v-4h2v4z\"/>\n",
              "    </g>\n",
              "</svg>\n",
              "      </button>\n",
              "\n",
              "<style>\n",
              "  .colab-df-quickchart {\n",
              "      --bg-color: #E8F0FE;\n",
              "      --fill-color: #1967D2;\n",
              "      --hover-bg-color: #E2EBFA;\n",
              "      --hover-fill-color: #174EA6;\n",
              "      --disabled-fill-color: #AAA;\n",
              "      --disabled-bg-color: #DDD;\n",
              "  }\n",
              "\n",
              "  [theme=dark] .colab-df-quickchart {\n",
              "      --bg-color: #3B4455;\n",
              "      --fill-color: #D2E3FC;\n",
              "      --hover-bg-color: #434B5C;\n",
              "      --hover-fill-color: #FFFFFF;\n",
              "      --disabled-bg-color: #3B4455;\n",
              "      --disabled-fill-color: #666;\n",
              "  }\n",
              "\n",
              "  .colab-df-quickchart {\n",
              "    background-color: var(--bg-color);\n",
              "    border: none;\n",
              "    border-radius: 50%;\n",
              "    cursor: pointer;\n",
              "    display: none;\n",
              "    fill: var(--fill-color);\n",
              "    height: 32px;\n",
              "    padding: 0;\n",
              "    width: 32px;\n",
              "  }\n",
              "\n",
              "  .colab-df-quickchart:hover {\n",
              "    background-color: var(--hover-bg-color);\n",
              "    box-shadow: 0 1px 2px rgba(60, 64, 67, 0.3), 0 1px 3px 1px rgba(60, 64, 67, 0.15);\n",
              "    fill: var(--button-hover-fill-color);\n",
              "  }\n",
              "\n",
              "  .colab-df-quickchart-complete:disabled,\n",
              "  .colab-df-quickchart-complete:disabled:hover {\n",
              "    background-color: var(--disabled-bg-color);\n",
              "    fill: var(--disabled-fill-color);\n",
              "    box-shadow: none;\n",
              "  }\n",
              "\n",
              "  .colab-df-spinner {\n",
              "    border: 2px solid var(--fill-color);\n",
              "    border-color: transparent;\n",
              "    border-bottom-color: var(--fill-color);\n",
              "    animation:\n",
              "      spin 1s steps(1) infinite;\n",
              "  }\n",
              "\n",
              "  @keyframes spin {\n",
              "    0% {\n",
              "      border-color: transparent;\n",
              "      border-bottom-color: var(--fill-color);\n",
              "      border-left-color: var(--fill-color);\n",
              "    }\n",
              "    20% {\n",
              "      border-color: transparent;\n",
              "      border-left-color: var(--fill-color);\n",
              "      border-top-color: var(--fill-color);\n",
              "    }\n",
              "    30% {\n",
              "      border-color: transparent;\n",
              "      border-left-color: var(--fill-color);\n",
              "      border-top-color: var(--fill-color);\n",
              "      border-right-color: var(--fill-color);\n",
              "    }\n",
              "    40% {\n",
              "      border-color: transparent;\n",
              "      border-right-color: var(--fill-color);\n",
              "      border-top-color: var(--fill-color);\n",
              "    }\n",
              "    60% {\n",
              "      border-color: transparent;\n",
              "      border-right-color: var(--fill-color);\n",
              "    }\n",
              "    80% {\n",
              "      border-color: transparent;\n",
              "      border-right-color: var(--fill-color);\n",
              "      border-bottom-color: var(--fill-color);\n",
              "    }\n",
              "    90% {\n",
              "      border-color: transparent;\n",
              "      border-bottom-color: var(--fill-color);\n",
              "    }\n",
              "  }\n",
              "</style>\n",
              "\n",
              "      <script>\n",
              "        async function quickchart(key) {\n",
              "          const quickchartButtonEl =\n",
              "            document.querySelector('#' + key + ' button');\n",
              "          quickchartButtonEl.disabled = true;  // To prevent multiple clicks.\n",
              "          quickchartButtonEl.classList.add('colab-df-spinner');\n",
              "          try {\n",
              "            const charts = await google.colab.kernel.invokeFunction(\n",
              "                'suggestCharts', [key], {});\n",
              "          } catch (error) {\n",
              "            console.error('Error during call to suggestCharts:', error);\n",
              "          }\n",
              "          quickchartButtonEl.classList.remove('colab-df-spinner');\n",
              "          quickchartButtonEl.classList.add('colab-df-quickchart-complete');\n",
              "        }\n",
              "        (() => {\n",
              "          let quickchartButtonEl =\n",
              "            document.querySelector('#df-e13cf3fe-f0a1-45d3-b0c2-3249cecd931c button');\n",
              "          quickchartButtonEl.style.display =\n",
              "            google.colab.kernel.accessAllowed ? 'block' : 'none';\n",
              "        })();\n",
              "      </script>\n",
              "    </div>\n",
              "\n",
              "    </div>\n",
              "  </div>\n"
            ],
            "application/vnd.google.colaboratory.intrinsic+json": {
              "type": "dataframe",
              "variable_name": "test",
              "summary": "{\n  \"name\": \"test\",\n  \"rows\": 8163,\n  \"fields\": [\n    {\n      \"column\": \"body\",\n      \"properties\": {\n        \"dtype\": \"string\",\n        \"num_unique_values\": 7472,\n        \"samples\": [\n          \"begin pgp signed message hash sha paul moore wrote i'll chime in here too i really want to like setuptools easy_install but i don't i'll try to be specific in my reasons in the hope that they can be addressed i know some of these are known about but one of my meta dislikes of setuptools is that known issues never seem to get addressed i know patches accepted but i haven't got the time either thanks for feedback from the windows world from whence i have been blissfully exiled now for years no integration with the system packager windows in my case if i do easy_install nose then nose does not show up in add remove programs that significantly affects the way i manage my pc point taken of course it isn't really a program at that point it is an installed add on to python however if windows users expect such add ons to show up in the system list that is good to know i'll note that i use easy_install only to work in non system locations if i want to install python packages to usr lib python x i use the standard system installer e g 'apt get install python frobnatz' but i routinely create non system python environments for development using either alternate pythons or virtualenv in those environments it works very well for me no uninstaller after easy_install nose how do i get rid of it later searching for files to delete even if there are only a few obviously named ones is not good enough people ask for this on unix platforms as well often adding a request that pacakges installed only as dependencies of the package being removed go away as well if you install everything in a way that works with system package manager of course you don't need this deleting the 'lib python x site packages foo x y x egg' directory is all that is actually required to uninstall an egg that was previouly added via easy_install cleaning out the equivalent entry in 'easy_install pth' in that directory is not strictly required i wonder if a gui for managing the add ons would fit the bill as an alternative to packaging them as though they were standalone programs the pkg_resources documentation in particular that's the one i've tried to follow is extremely hard to read partly this is just style but it's partly because it is couched in very unfamiliar terms distributions working sets interfaces providers etc it's also huge a tutorial style overview supported by api detail would be far better many of those terms are distutils jargon actually i think jeff rush' recent work looks like a good start here hard to use with limited connectivity at work i only have access to the internet via internet explorer ms based proxy there are workarounds but ultimately download an installer then run it is a far simpler approach for me i don't know how to make this requirement compatible with using shared dependencies except to make it easier for folks to download all the requirements and later install from the local distribution cache a directory full of zip egg tgs files it does turn out to be quite easy to build a pypi style simple index for such a cache your use case would then require run some command to fetch the desired package and the transitive closure of its dependencies into a working directory the cache run another command to build an index for that directory run 'easy_install' pointing to the local index auto discovery doesn't always work i'm sorry i really can't recall the example at the moment but sometimes easy_install says it can't find a package i know is available usually this indicates that there are incompatible dependencies between packages already installed and those on the index e g if i already have package foo installed but its version is not compatible with the requirements for package bar then i can't install bar even though the distribution is available because pypi is not a centrally managed index of packages such conflicts are pretty much inevitable over time for those who don't subset it in some form what we've been calling the known good set strategy in zope land splitting the community windows users rely heavily on binary installers at least i do we're starting to get a situation where some projects provide egg files and some provide traditional bdist_wininst bdist_msi installers this is bad one way to do it and all that if it weren't for the add remove programs requirement you mentioned above we would be better off if authors of pure python packages uploaded only 'sdist' distributions which can be cleanly converted to platform local eggs at install time even on windows packages which contain c extensions typically must upload the 'bdist_win' version for the benefit of the vast majority of windows users who can't bulid the extensions locally uploading any other binary distribution is pretty much a lose because the underlying platform dependencies ucs vs ucs i vs x framework vs universal vs macports vs fink etc lead to combinatorial expolosions and or segfaults better to let the installer fetch the source and build it locally but if these problems are solved then i have no problem with seeing the features of setuptools added to the standard library resource apis plugin entry point apis ways to create executable scripts and such things should be standardised dependency resolution and automatic installation isn't something i like probably because as a windows user i've never used such a system so i mistrust it but if it works with the system and not against it i don't mind i hope this helps very much thanks tres tres seaver zrkfcqe com palladion software excellence by design begin pgp signature version gnupg v gnu linux comment using gnupg with mozilla id dbqfh mof gerls ltq rapblajwi be ctskgpaydeyh qd k a qcen cf pg ot h a zwiouwlo s yf end pgp signature _______________________________________________ python dev mailing list zvllln eum org unsubscribe\",\n          \"facundo batista wrote guido van rossum bringing this from python ideas guido is talking about pep ehhh the pep's reference implementation is useless and probably doesn't even work the actual implementation is completely different if you want to help a rewrite of the pep to match reality would be most welcome guido i know that in this fight for reality some of the peps for py are not correct which is the plan to handle this will the original authors fix them and if not will these pep be marked as caution non compliant with reality or something peps are a great tool one of the python assets and it's a pity that we may not trust them some peps come to mind already carry such warnings the wording in those two peps suggests that this warning was added by the pep editors after the fact editor's note the ideas described in this pep have been incorporated into python the pep no longer accurately describes the implementation in other cases we have gone back and fixed the pep to match the implementation e g pep was updated to reflect changes that happened prior to release cheers nick nick coghlan uytankmf com brisbane australia _______________________________________________ python dev mailing list zvllln eum org unsubscribe\",\n          \"molly we can pay for the plane ticket we have to make sure that we shall extend the same treatment to other summer interns to avoid bad feelings vince from molly magee enron enronxgate on am to vince j kaminski hou ect ect stinson gibner hou ect ect cc subject jinbaek kim we received some correspondence this morning from jinbaek in which he says he plans to start on june since we are trying to offer a package comparable to that of an associate in the program i assume we will also pay for his plane ticket here just wanted to check before i contacted him so i ' ll wait to hear from you thanks molly x\"\n        ],\n        \"semantic_type\": \"\",\n        \"description\": \"\"\n      }\n    },\n    {\n      \"column\": \"label\",\n      \"properties\": {\n        \"dtype\": \"category\",\n        \"num_unique_values\": 2,\n        \"samples\": [\n          \"legitimate\",\n          \"phishing\"\n        ],\n        \"semantic_type\": \"\",\n        \"description\": \"\"\n      }\n    }\n  ]\n}"
            }
          },
          "metadata": {},
          "execution_count": 53
        }
      ]
    },
    {
      "cell_type": "markdown",
      "source": [
        "### `Phishing`"
      ],
      "metadata": {
        "id": "6Tn_DTntNPok"
      }
    },
    {
      "cell_type": "code",
      "source": [
        "phishing_txt = \"dear computer user your internet usage is being tracked you have no privacy protection will your boss wife or kids find out download ez internet privacy software you're in serious trouble it's a proven fact deleting internet cache and history will not protect you because any of the web pages pictures movies videos sounds e mail chat logs and everything else you see or do could easily be recovered to haunt you forever how would you feel if a snoop made this information public to your spouse mother father neighbors children boss or the media it could easily ruin your life solve all your problems and enjoy all the benefits of an as new pc ez internet privacy software can speed up your pc internet browser reclaim hard disk space and professionally clean your pc in one easy mouse click did you know for example that every click you make on windows start menu is logged and stored permanently on a hidden encrypted database within your own computer deleting internet cache and history will not protect you your pc is keeping frightening records of both your online and off line activity any of the web pages pictures movies videos sounds e mail and everything else you or anyone else have ever viewed could easily be recovered even many years later how would you feel if somebody snooped this information out of your computer and made it public do your children or their friends use your computers what have they downloaded and tried to delete act now and stop these files coming back from the dead to haunt you click here to be removed click here iys\"\n",
        "\n",
        "print(\"Using LR:\\n\")\n",
        "predict_phishing(\n",
        "    phishing_txt, lr_pipe\n",
        ")"
      ],
      "metadata": {
        "colab": {
          "base_uri": "https://localhost:8080/"
        },
        "id": "EvBDFQm_NSQT",
        "outputId": "8a4b7858-3b5b-4fbd-8687-94f84ac9c096"
      },
      "execution_count": 54,
      "outputs": [
        {
          "output_type": "stream",
          "name": "stdout",
          "text": [
            "Using LR:\n",
            "\n"
          ]
        },
        {
          "output_type": "execute_result",
          "data": {
            "text/plain": [
              "{'prediction': 1, 'label': 'phishing'}"
            ]
          },
          "metadata": {},
          "execution_count": 54
        }
      ]
    },
    {
      "cell_type": "code",
      "source": [
        "print(\"Using RF:\\n\")\n",
        "predict_phishing(\n",
        "    phishing_txt, rf_pipe\n",
        ")"
      ],
      "metadata": {
        "colab": {
          "base_uri": "https://localhost:8080/"
        },
        "id": "TyUaYXDr5pBQ",
        "outputId": "11649db8-6440-4f97-f839-4cbeabcf4d46"
      },
      "execution_count": 55,
      "outputs": [
        {
          "output_type": "stream",
          "name": "stdout",
          "text": [
            "Using RF:\n",
            "\n"
          ]
        },
        {
          "output_type": "execute_result",
          "data": {
            "text/plain": [
              "{'prediction': 1, 'label': 'phishing'}"
            ]
          },
          "metadata": {},
          "execution_count": 55
        }
      ]
    },
    {
      "cell_type": "markdown",
      "source": [
        "### `Legitimate`"
      ],
      "metadata": {
        "id": "qe0WAG4Q50D5"
      }
    },
    {
      "cell_type": "code",
      "source": [
        "legitimate_txt = \"sciencenow week in review all free articles top last month scienceshots daily news archive about sciencenow all these sciencenow stories and more are available at www sciencenow org monday february navigating uncertain seasnew study says researchers lack data to determine whether global warming is redirecting ocean currents i hear you my monkey brothera region of the monkey brain responds preferentially to the voices of other monkeys unsubscribe or edit your subscriptions for this service at written requests to unsubscribe may be sent to customer service page mill road palo alto ca u s a magazine news signaling careers multimedia collections help site map rss subscribe feedback privacy legal about us advertise with us contact us american association for the advancement of science all rights reserved aaas is a partner of hinari agora patientinform crossref and counter\"\n",
        "\n",
        "print(\"Using LR:\\n\")\n",
        "predict_phishing(\n",
        "    legitimate_txt, lr_pipe\n",
        ")\n"
      ],
      "metadata": {
        "id": "3rn-X_sOtBtc",
        "colab": {
          "base_uri": "https://localhost:8080/"
        },
        "outputId": "153650f2-c36f-4f68-f228-223266b9a995"
      },
      "execution_count": 56,
      "outputs": [
        {
          "output_type": "stream",
          "name": "stdout",
          "text": [
            "Using LR:\n",
            "\n"
          ]
        },
        {
          "output_type": "execute_result",
          "data": {
            "text/plain": [
              "{'prediction': 0, 'label': 'legitimate'}"
            ]
          },
          "metadata": {},
          "execution_count": 56
        }
      ]
    },
    {
      "cell_type": "code",
      "source": [
        "print(\"Using RF:\\n\")\n",
        "predict_phishing(\n",
        "    legitimate_txt, rf_pipe\n",
        ")"
      ],
      "metadata": {
        "colab": {
          "base_uri": "https://localhost:8080/"
        },
        "id": "ZSiqdb1r6AMV",
        "outputId": "3a01cc32-0f5f-4943-e00c-b923be6f5a94"
      },
      "execution_count": 57,
      "outputs": [
        {
          "output_type": "stream",
          "name": "stdout",
          "text": [
            "Using RF:\n",
            "\n"
          ]
        },
        {
          "output_type": "execute_result",
          "data": {
            "text/plain": [
              "{'prediction': 0, 'label': 'legitimate'}"
            ]
          },
          "metadata": {},
          "execution_count": 57
        }
      ]
    },
    {
      "cell_type": "code",
      "source": [],
      "metadata": {
        "id": "YhEuyncI6Eoj"
      },
      "execution_count": null,
      "outputs": []
    }
  ]
}