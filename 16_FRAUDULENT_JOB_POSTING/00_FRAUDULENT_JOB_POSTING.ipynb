{
  "cells": [
    {
      "cell_type": "markdown",
      "metadata": {
        "id": "hM1utmDx96W_"
      },
      "source": [
        "### Fraudulent Job Posting.\n",
        "\n",
        "In this notebook we are goin to create a model that does classification task for `Fraudulent Job Posting` from the social media using the dataset that we are going to use was found on [kaggle](https://www.kaggle.com/datasets/subhajournal/fraudulent-job-posting).\n",
        "\n",
        "> https://www.kaggle.com/datasets/subhajournal/fraudulent-job-posting\n",
        "\n",
        "\n",
        "\n",
        "### Installing Helper Packages\n",
        "\n",
        "In the following code cell we are going to install the package called ``helperfns`` that provide us with some usefull helper functions for machine learning."
      ]
    },
    {
      "cell_type": "code",
      "execution_count": 1,
      "metadata": {
        "id": "vAVnSFKsNiHN"
      },
      "outputs": [],
      "source": [
        "!pip install helperfns kaggle pigmenta -q"
      ]
    },
    {
      "cell_type": "markdown",
      "metadata": {
        "id": "igsBeZzxNhyr"
      },
      "source": [
        "### Imports\n",
        "\n",
        "In the following code cell we are going to import all the packages that we are going to use throughout this notebook"
      ]
    },
    {
      "cell_type": "code",
      "execution_count": 2,
      "metadata": {
        "colab": {
          "base_uri": "https://localhost:8080/"
        },
        "id": "KwW3ZpRa8M16",
        "outputId": "b601b3d9-d0fe-4102-dcaa-8a05de22ae55"
      },
      "outputs": [
        {
          "output_type": "stream",
          "name": "stdout",
          "text": [
            "torch:  2.6.0+cu124\n",
            "numpy:  2.0.2\n",
            "pandas:  2.2.2\n"
          ]
        }
      ],
      "source": [
        "import torch\n",
        "import random\n",
        "import warnings\n",
        "import seaborn as sns\n",
        "import os\n",
        "import json\n",
        "import re\n",
        "import time\n",
        "\n",
        "from collections import Counter, defaultdict\n",
        "from helperfns.tables import tabulate_data\n",
        "from pigmenta import PALETTES\n",
        "from helperfns.visualization import plot_wordcloud, plot_classification_report, plot_complicated_confusion_matrix\n",
        "from helperfns.utils import hms_string\n",
        "from sklearn.metrics import silhouette_score, davies_bouldin_score, calinski_harabasz_score, mutual_info_score, adjusted_rand_score\n",
        "from sklearn.manifold import TSNE\n",
        "from sklearn.cluster import SpectralClustering\n",
        "from torch import nn\n",
        "from sklearn.utils import resample\n",
        "from matplotlib import pyplot as plt\n",
        "import pandas as pd\n",
        "import numpy as np\n",
        "import torch.nn.functional as F\n",
        "from sklearn.model_selection import train_test_split\n",
        "\n",
        "warnings.filterwarnings('ignore')\n",
        "\n",
        "print(\"torch: \", torch.__version__)\n",
        "print(\"numpy: \", np.__version__)\n",
        "print(\"pandas: \", pd.__version__)"
      ]
    },
    {
      "cell_type": "markdown",
      "metadata": {
        "id": "b3t_igXyM9t1"
      },
      "source": [
        "### Setting seeds\n",
        "\n",
        "\n",
        "In the following code cell we are going to set the seed to all random operations for reproducivity."
      ]
    },
    {
      "cell_type": "code",
      "execution_count": 3,
      "metadata": {
        "id": "_IMd2xVfNARk"
      },
      "outputs": [],
      "source": [
        "SEED = 23\n",
        "np.random.seed(SEED)\n",
        "random.seed(SEED)\n",
        "torch.manual_seed(SEED)\n",
        "torch.cuda.manual_seed(SEED)\n",
        "torch.backends.cudnn.deteministic = True"
      ]
    },
    {
      "cell_type": "markdown",
      "metadata": {
        "id": "O_zVIe-MO2-p"
      },
      "source": [
        "### Device\n",
        "In the following code cell we are going to get ``gpu`` device if possible"
      ]
    },
    {
      "cell_type": "code",
      "execution_count": 4,
      "metadata": {
        "colab": {
          "base_uri": "https://localhost:8080/"
        },
        "id": "aUGf9TM4O1ut",
        "outputId": "675a8688-8846-422b-b9ff-a8a98c1881c8"
      },
      "outputs": [
        {
          "output_type": "execute_result",
          "data": {
            "text/plain": [
              "device(type='cuda')"
            ]
          },
          "metadata": {},
          "execution_count": 4
        }
      ],
      "source": [
        "device = torch.device('cuda' if torch.cuda.is_available() else 'cpu')\n",
        "device"
      ]
    },
    {
      "cell_type": "markdown",
      "metadata": {
        "id": "phqmZGaY1CYj"
      },
      "source": [
        "### Data\n",
        "We are going to download the data from `kaggle` at this url: https://www.kaggle.com/datasets/subhajournal/fraudulent-job-posting"
      ]
    },
    {
      "cell_type": "code",
      "execution_count": 5,
      "metadata": {
        "id": "H7va4olyeusw"
      },
      "outputs": [],
      "source": [
        "with open('kaggle.json', 'r') as reader:\n",
        "  keys = json.loads(reader.read())\n",
        "  os.environ['KAGGLE_USERNAME'] = keys['username']\n",
        "  os.environ['KAGGLE_KEY'] = keys['key']"
      ]
    },
    {
      "cell_type": "code",
      "execution_count": 6,
      "metadata": {
        "colab": {
          "base_uri": "https://localhost:8080/"
        },
        "id": "Q07CMfi5e60R",
        "outputId": "d7d07e1d-f848-48a6-8e86-f65ae1c85b6e"
      },
      "outputs": [
        {
          "output_type": "stream",
          "name": "stdout",
          "text": [
            "Dataset URL: https://www.kaggle.com/datasets/subhajournal/fraudulent-job-posting\n",
            "License(s): CC0-1.0\n",
            "Downloading fraudulent-job-posting.zip to /content\n",
            "  0% 0.00/8.01M [00:00<?, ?B/s]\n",
            "100% 8.01M/8.01M [00:00<00:00, 725MB/s]\n"
          ]
        }
      ],
      "source": [
        "!kaggle datasets download subhajournal/fraudulent-job-posting --unzip"
      ]
    },
    {
      "cell_type": "markdown",
      "metadata": {
        "id": "qtFFM4-xu60d"
      },
      "source": [
        "### Word Embeddings\n",
        "\n",
        "In the following code cell we are going to download word embeddings from kaggle:\n",
        "\n",
        "url: https://www.kaggle.com/datasets/rtatman/glove-global-vectors-for-word-representation"
      ]
    },
    {
      "cell_type": "code",
      "execution_count": 7,
      "metadata": {
        "colab": {
          "base_uri": "https://localhost:8080/"
        },
        "id": "7F_exVMqu2LL",
        "outputId": "58276064-edb4-488f-d282-2a99dd97bde3"
      },
      "outputs": [
        {
          "output_type": "stream",
          "name": "stdout",
          "text": [
            "Dataset URL: https://www.kaggle.com/datasets/rtatman/glove-global-vectors-for-word-representation\n",
            "License(s): other\n",
            "Downloading glove-global-vectors-for-word-representation.zip to /content\n",
            " 98% 451M/458M [00:05<00:00, 97.2MB/s]\n",
            "100% 458M/458M [00:05<00:00, 93.3MB/s]\n"
          ]
        }
      ],
      "source": [
        "!kaggle datasets download rtatman/glove-global-vectors-for-word-representation --unzip # glove vectors"
      ]
    },
    {
      "cell_type": "markdown",
      "metadata": {
        "id": "SzCd2jE1R96H"
      },
      "source": [
        "Next we are going to read our data from text files into pandas dataframe using the `read_csv` method."
      ]
    },
    {
      "cell_type": "code",
      "execution_count": 8,
      "metadata": {
        "colab": {
          "base_uri": "https://localhost:8080/",
          "height": 164
        },
        "id": "oZALx4s5RBBr",
        "outputId": "3e9dc798-d9ec-45fd-8294-b0cac7d96178"
      },
      "outputs": [
        {
          "output_type": "execute_result",
          "data": {
            "text/plain": [
              "   Unnamed: 0                  title             location  \\\n",
              "0           0  Lead UX / UI Designer      US, NY, Brookyn   \n",
              "1           1      Technical Manager  GB, CAM, Huntingdon   \n",
              "\n",
              "                                        requirements employment_type  \\\n",
              "0  4+ years of experience in UX / UI design prefe...       Full-time   \n",
              "1  Food Science/Technology Graduate or similar di...       Full-time   \n",
              "\n",
              "          industry           function fraudulent  \n",
              "0         Internet             Design       Real  \n",
              "1  Food Production  Quality Assurance       Real  "
            ],
            "text/html": [
              "\n",
              "  <div id=\"df-146fb00e-3c04-4094-8a70-dbbdaab9cdf7\" class=\"colab-df-container\">\n",
              "    <div>\n",
              "<style scoped>\n",
              "    .dataframe tbody tr th:only-of-type {\n",
              "        vertical-align: middle;\n",
              "    }\n",
              "\n",
              "    .dataframe tbody tr th {\n",
              "        vertical-align: top;\n",
              "    }\n",
              "\n",
              "    .dataframe thead th {\n",
              "        text-align: right;\n",
              "    }\n",
              "</style>\n",
              "<table border=\"1\" class=\"dataframe\">\n",
              "  <thead>\n",
              "    <tr style=\"text-align: right;\">\n",
              "      <th></th>\n",
              "      <th>Unnamed: 0</th>\n",
              "      <th>title</th>\n",
              "      <th>location</th>\n",
              "      <th>requirements</th>\n",
              "      <th>employment_type</th>\n",
              "      <th>industry</th>\n",
              "      <th>function</th>\n",
              "      <th>fraudulent</th>\n",
              "    </tr>\n",
              "  </thead>\n",
              "  <tbody>\n",
              "    <tr>\n",
              "      <th>0</th>\n",
              "      <td>0</td>\n",
              "      <td>Lead UX / UI Designer</td>\n",
              "      <td>US, NY, Brookyn</td>\n",
              "      <td>4+ years of experience in UX / UI design prefe...</td>\n",
              "      <td>Full-time</td>\n",
              "      <td>Internet</td>\n",
              "      <td>Design</td>\n",
              "      <td>Real</td>\n",
              "    </tr>\n",
              "    <tr>\n",
              "      <th>1</th>\n",
              "      <td>1</td>\n",
              "      <td>Technical Manager</td>\n",
              "      <td>GB, CAM, Huntingdon</td>\n",
              "      <td>Food Science/Technology Graduate or similar di...</td>\n",
              "      <td>Full-time</td>\n",
              "      <td>Food Production</td>\n",
              "      <td>Quality Assurance</td>\n",
              "      <td>Real</td>\n",
              "    </tr>\n",
              "  </tbody>\n",
              "</table>\n",
              "</div>\n",
              "    <div class=\"colab-df-buttons\">\n",
              "\n",
              "  <div class=\"colab-df-container\">\n",
              "    <button class=\"colab-df-convert\" onclick=\"convertToInteractive('df-146fb00e-3c04-4094-8a70-dbbdaab9cdf7')\"\n",
              "            title=\"Convert this dataframe to an interactive table.\"\n",
              "            style=\"display:none;\">\n",
              "\n",
              "  <svg xmlns=\"http://www.w3.org/2000/svg\" height=\"24px\" viewBox=\"0 -960 960 960\">\n",
              "    <path d=\"M120-120v-720h720v720H120Zm60-500h600v-160H180v160Zm220 220h160v-160H400v160Zm0 220h160v-160H400v160ZM180-400h160v-160H180v160Zm440 0h160v-160H620v160ZM180-180h160v-160H180v160Zm440 0h160v-160H620v160Z\"/>\n",
              "  </svg>\n",
              "    </button>\n",
              "\n",
              "  <style>\n",
              "    .colab-df-container {\n",
              "      display:flex;\n",
              "      gap: 12px;\n",
              "    }\n",
              "\n",
              "    .colab-df-convert {\n",
              "      background-color: #E8F0FE;\n",
              "      border: none;\n",
              "      border-radius: 50%;\n",
              "      cursor: pointer;\n",
              "      display: none;\n",
              "      fill: #1967D2;\n",
              "      height: 32px;\n",
              "      padding: 0 0 0 0;\n",
              "      width: 32px;\n",
              "    }\n",
              "\n",
              "    .colab-df-convert:hover {\n",
              "      background-color: #E2EBFA;\n",
              "      box-shadow: 0px 1px 2px rgba(60, 64, 67, 0.3), 0px 1px 3px 1px rgba(60, 64, 67, 0.15);\n",
              "      fill: #174EA6;\n",
              "    }\n",
              "\n",
              "    .colab-df-buttons div {\n",
              "      margin-bottom: 4px;\n",
              "    }\n",
              "\n",
              "    [theme=dark] .colab-df-convert {\n",
              "      background-color: #3B4455;\n",
              "      fill: #D2E3FC;\n",
              "    }\n",
              "\n",
              "    [theme=dark] .colab-df-convert:hover {\n",
              "      background-color: #434B5C;\n",
              "      box-shadow: 0px 1px 3px 1px rgba(0, 0, 0, 0.15);\n",
              "      filter: drop-shadow(0px 1px 2px rgba(0, 0, 0, 0.3));\n",
              "      fill: #FFFFFF;\n",
              "    }\n",
              "  </style>\n",
              "\n",
              "    <script>\n",
              "      const buttonEl =\n",
              "        document.querySelector('#df-146fb00e-3c04-4094-8a70-dbbdaab9cdf7 button.colab-df-convert');\n",
              "      buttonEl.style.display =\n",
              "        google.colab.kernel.accessAllowed ? 'block' : 'none';\n",
              "\n",
              "      async function convertToInteractive(key) {\n",
              "        const element = document.querySelector('#df-146fb00e-3c04-4094-8a70-dbbdaab9cdf7');\n",
              "        const dataTable =\n",
              "          await google.colab.kernel.invokeFunction('convertToInteractive',\n",
              "                                                    [key], {});\n",
              "        if (!dataTable) return;\n",
              "\n",
              "        const docLinkHtml = 'Like what you see? Visit the ' +\n",
              "          '<a target=\"_blank\" href=https://colab.research.google.com/notebooks/data_table.ipynb>data table notebook</a>'\n",
              "          + ' to learn more about interactive tables.';\n",
              "        element.innerHTML = '';\n",
              "        dataTable['output_type'] = 'display_data';\n",
              "        await google.colab.output.renderOutput(dataTable, element);\n",
              "        const docLink = document.createElement('div');\n",
              "        docLink.innerHTML = docLinkHtml;\n",
              "        element.appendChild(docLink);\n",
              "      }\n",
              "    </script>\n",
              "  </div>\n",
              "\n",
              "\n",
              "    <div id=\"df-cc6b0029-7328-417c-99aa-4daa8b96043c\">\n",
              "      <button class=\"colab-df-quickchart\" onclick=\"quickchart('df-cc6b0029-7328-417c-99aa-4daa8b96043c')\"\n",
              "                title=\"Suggest charts\"\n",
              "                style=\"display:none;\">\n",
              "\n",
              "<svg xmlns=\"http://www.w3.org/2000/svg\" height=\"24px\"viewBox=\"0 0 24 24\"\n",
              "     width=\"24px\">\n",
              "    <g>\n",
              "        <path d=\"M19 3H5c-1.1 0-2 .9-2 2v14c0 1.1.9 2 2 2h14c1.1 0 2-.9 2-2V5c0-1.1-.9-2-2-2zM9 17H7v-7h2v7zm4 0h-2V7h2v10zm4 0h-2v-4h2v4z\"/>\n",
              "    </g>\n",
              "</svg>\n",
              "      </button>\n",
              "\n",
              "<style>\n",
              "  .colab-df-quickchart {\n",
              "      --bg-color: #E8F0FE;\n",
              "      --fill-color: #1967D2;\n",
              "      --hover-bg-color: #E2EBFA;\n",
              "      --hover-fill-color: #174EA6;\n",
              "      --disabled-fill-color: #AAA;\n",
              "      --disabled-bg-color: #DDD;\n",
              "  }\n",
              "\n",
              "  [theme=dark] .colab-df-quickchart {\n",
              "      --bg-color: #3B4455;\n",
              "      --fill-color: #D2E3FC;\n",
              "      --hover-bg-color: #434B5C;\n",
              "      --hover-fill-color: #FFFFFF;\n",
              "      --disabled-bg-color: #3B4455;\n",
              "      --disabled-fill-color: #666;\n",
              "  }\n",
              "\n",
              "  .colab-df-quickchart {\n",
              "    background-color: var(--bg-color);\n",
              "    border: none;\n",
              "    border-radius: 50%;\n",
              "    cursor: pointer;\n",
              "    display: none;\n",
              "    fill: var(--fill-color);\n",
              "    height: 32px;\n",
              "    padding: 0;\n",
              "    width: 32px;\n",
              "  }\n",
              "\n",
              "  .colab-df-quickchart:hover {\n",
              "    background-color: var(--hover-bg-color);\n",
              "    box-shadow: 0 1px 2px rgba(60, 64, 67, 0.3), 0 1px 3px 1px rgba(60, 64, 67, 0.15);\n",
              "    fill: var(--button-hover-fill-color);\n",
              "  }\n",
              "\n",
              "  .colab-df-quickchart-complete:disabled,\n",
              "  .colab-df-quickchart-complete:disabled:hover {\n",
              "    background-color: var(--disabled-bg-color);\n",
              "    fill: var(--disabled-fill-color);\n",
              "    box-shadow: none;\n",
              "  }\n",
              "\n",
              "  .colab-df-spinner {\n",
              "    border: 2px solid var(--fill-color);\n",
              "    border-color: transparent;\n",
              "    border-bottom-color: var(--fill-color);\n",
              "    animation:\n",
              "      spin 1s steps(1) infinite;\n",
              "  }\n",
              "\n",
              "  @keyframes spin {\n",
              "    0% {\n",
              "      border-color: transparent;\n",
              "      border-bottom-color: var(--fill-color);\n",
              "      border-left-color: var(--fill-color);\n",
              "    }\n",
              "    20% {\n",
              "      border-color: transparent;\n",
              "      border-left-color: var(--fill-color);\n",
              "      border-top-color: var(--fill-color);\n",
              "    }\n",
              "    30% {\n",
              "      border-color: transparent;\n",
              "      border-left-color: var(--fill-color);\n",
              "      border-top-color: var(--fill-color);\n",
              "      border-right-color: var(--fill-color);\n",
              "    }\n",
              "    40% {\n",
              "      border-color: transparent;\n",
              "      border-right-color: var(--fill-color);\n",
              "      border-top-color: var(--fill-color);\n",
              "    }\n",
              "    60% {\n",
              "      border-color: transparent;\n",
              "      border-right-color: var(--fill-color);\n",
              "    }\n",
              "    80% {\n",
              "      border-color: transparent;\n",
              "      border-right-color: var(--fill-color);\n",
              "      border-bottom-color: var(--fill-color);\n",
              "    }\n",
              "    90% {\n",
              "      border-color: transparent;\n",
              "      border-bottom-color: var(--fill-color);\n",
              "    }\n",
              "  }\n",
              "</style>\n",
              "\n",
              "      <script>\n",
              "        async function quickchart(key) {\n",
              "          const quickchartButtonEl =\n",
              "            document.querySelector('#' + key + ' button');\n",
              "          quickchartButtonEl.disabled = true;  // To prevent multiple clicks.\n",
              "          quickchartButtonEl.classList.add('colab-df-spinner');\n",
              "          try {\n",
              "            const charts = await google.colab.kernel.invokeFunction(\n",
              "                'suggestCharts', [key], {});\n",
              "          } catch (error) {\n",
              "            console.error('Error during call to suggestCharts:', error);\n",
              "          }\n",
              "          quickchartButtonEl.classList.remove('colab-df-spinner');\n",
              "          quickchartButtonEl.classList.add('colab-df-quickchart-complete');\n",
              "        }\n",
              "        (() => {\n",
              "          let quickchartButtonEl =\n",
              "            document.querySelector('#df-cc6b0029-7328-417c-99aa-4daa8b96043c button');\n",
              "          quickchartButtonEl.style.display =\n",
              "            google.colab.kernel.accessAllowed ? 'block' : 'none';\n",
              "        })();\n",
              "      </script>\n",
              "    </div>\n",
              "\n",
              "    </div>\n",
              "  </div>\n"
            ],
            "application/vnd.google.colaboratory.intrinsic+json": {
              "type": "dataframe",
              "variable_name": "dataframe",
              "summary": "{\n  \"name\": \"dataframe\",\n  \"rows\": 17880,\n  \"fields\": [\n    {\n      \"column\": \"Unnamed: 0\",\n      \"properties\": {\n        \"dtype\": \"number\",\n        \"std\": 5161,\n        \"min\": 0,\n        \"max\": 17879,\n        \"num_unique_values\": 17880,\n        \"samples\": [\n          4708,\n          11079,\n          12357\n        ],\n        \"semantic_type\": \"\",\n        \"description\": \"\"\n      }\n    },\n    {\n      \"column\": \"title\",\n      \"properties\": {\n        \"dtype\": \"string\",\n        \"num_unique_values\": 11231,\n        \"samples\": [\n          \"Junior Community Monitor\",\n          \"Business Development Executive \",\n          \"SQL Developer\"\n        ],\n        \"semantic_type\": \"\",\n        \"description\": \"\"\n      }\n    },\n    {\n      \"column\": \"location\",\n      \"properties\": {\n        \"dtype\": \"category\",\n        \"num_unique_values\": 3106,\n        \"samples\": [\n          \"MX, COA, Saltillo\",\n          \"US, OK, Oklahoma City\",\n          \"US, MI, Covert\"\n        ],\n        \"semantic_type\": \"\",\n        \"description\": \"\"\n      }\n    },\n    {\n      \"column\": \"requirements\",\n      \"properties\": {\n        \"dtype\": \"string\",\n        \"num_unique_values\": 11968,\n        \"samples\": [\n          \"Solid object-oriented design, programming, and debugging skillsA demonstrated expert-level proficiency in PHP 5+A strong understanding of SQL and database design, especially MYSQLExperience with JQUERY, CSS3 and HTML5Experience with GIT source code managementExperience with Linux command lineTrack record of producing high-quality web applications through the full product lifecycleExcellent technical communication, both verbal and writtenRidiculous attention to detailNice to haveExperience with Cloud technologies and services like Amazon AWS or RackspacecloudExperience with an MVC framework like Zend or YiiExperience with SMARTY\",\n          \"A minimum of a High School Diploma or equivalent.At least 18 years of age or older.Typing skill of at least 50 WPM using a personal computer.Ability to work various schedules including weekdays, evening and weekends.Ability to learn ASL syntax.\",\n          \"Desired Skills and ExperienceAs the successful incumbent, you will possess a University Degree in Engineering(Electrical/Electronics) with at least 3 years of experience in Electrical, Instrumentation and Control Engineering in Process Industries . You will be able to read &amp; understand E&amp;I, CAD and P&amp;ID Drawings and be competent in PLC programming and SCADA/HMI.Additionally, you will be able to work independently as well as lead a team of engineers as and when required. You will have to be able to communicate effectively across cultures and different nationals, with the ability to work well in a matrix and structured organization. You may be required to travel.\"\n        ],\n        \"semantic_type\": \"\",\n        \"description\": \"\"\n      }\n    },\n    {\n      \"column\": \"employment_type\",\n      \"properties\": {\n        \"dtype\": \"category\",\n        \"num_unique_values\": 6,\n        \"samples\": [\n          \"Full-time\",\n          \"Not Mentioned\",\n          \"Temporary\"\n        ],\n        \"semantic_type\": \"\",\n        \"description\": \"\"\n      }\n    },\n    {\n      \"column\": \"industry\",\n      \"properties\": {\n        \"dtype\": \"category\",\n        \"num_unique_values\": 132,\n        \"samples\": [\n          \"Mechanical or Industrial Engineering\",\n          \"Transportation/Trucking/Railroad\",\n          \"Financial Services\"\n        ],\n        \"semantic_type\": \"\",\n        \"description\": \"\"\n      }\n    },\n    {\n      \"column\": \"function\",\n      \"properties\": {\n        \"dtype\": \"category\",\n        \"num_unique_values\": 38,\n        \"samples\": [\n          \"Legal\",\n          \"Purchasing\",\n          \"Distribution\"\n        ],\n        \"semantic_type\": \"\",\n        \"description\": \"\"\n      }\n    },\n    {\n      \"column\": \"fraudulent\",\n      \"properties\": {\n        \"dtype\": \"category\",\n        \"num_unique_values\": 2,\n        \"samples\": [\n          \"Fake\",\n          \"Real\"\n        ],\n        \"semantic_type\": \"\",\n        \"description\": \"\"\n      }\n    }\n  ]\n}"
            }
          },
          "metadata": {},
          "execution_count": 8
        }
      ],
      "source": [
        "dataframe = pd.read_csv('Fake_Real_Job_Posting.csv')\n",
        "dataframe.head(2)"
      ]
    },
    {
      "cell_type": "markdown",
      "source": [
        "In the next code cell we are then going to remove null values from the dataframe."
      ],
      "metadata": {
        "id": "LapiIWuLrfzj"
      }
    },
    {
      "cell_type": "code",
      "source": [
        "if sum(dataframe.isna().any()):\n",
        "  dataframe.dropna(inplace=True)\n",
        "  dataframe.reset_index(drop=True, inplace=True)\n",
        "dataframe.isna().any()"
      ],
      "metadata": {
        "colab": {
          "base_uri": "https://localhost:8080/",
          "height": 335
        },
        "id": "UEPqZ53PWkNH",
        "outputId": "98eaa487-d511-4b0d-f2d3-80c6bb7a48f0"
      },
      "execution_count": 9,
      "outputs": [
        {
          "output_type": "execute_result",
          "data": {
            "text/plain": [
              "Unnamed: 0         False\n",
              "title              False\n",
              "location           False\n",
              "requirements       False\n",
              "employment_type    False\n",
              "industry           False\n",
              "function           False\n",
              "fraudulent         False\n",
              "dtype: bool"
            ],
            "text/html": [
              "<div>\n",
              "<style scoped>\n",
              "    .dataframe tbody tr th:only-of-type {\n",
              "        vertical-align: middle;\n",
              "    }\n",
              "\n",
              "    .dataframe tbody tr th {\n",
              "        vertical-align: top;\n",
              "    }\n",
              "\n",
              "    .dataframe thead th {\n",
              "        text-align: right;\n",
              "    }\n",
              "</style>\n",
              "<table border=\"1\" class=\"dataframe\">\n",
              "  <thead>\n",
              "    <tr style=\"text-align: right;\">\n",
              "      <th></th>\n",
              "      <th>0</th>\n",
              "    </tr>\n",
              "  </thead>\n",
              "  <tbody>\n",
              "    <tr>\n",
              "      <th>Unnamed: 0</th>\n",
              "      <td>False</td>\n",
              "    </tr>\n",
              "    <tr>\n",
              "      <th>title</th>\n",
              "      <td>False</td>\n",
              "    </tr>\n",
              "    <tr>\n",
              "      <th>location</th>\n",
              "      <td>False</td>\n",
              "    </tr>\n",
              "    <tr>\n",
              "      <th>requirements</th>\n",
              "      <td>False</td>\n",
              "    </tr>\n",
              "    <tr>\n",
              "      <th>employment_type</th>\n",
              "      <td>False</td>\n",
              "    </tr>\n",
              "    <tr>\n",
              "      <th>industry</th>\n",
              "      <td>False</td>\n",
              "    </tr>\n",
              "    <tr>\n",
              "      <th>function</th>\n",
              "      <td>False</td>\n",
              "    </tr>\n",
              "    <tr>\n",
              "      <th>fraudulent</th>\n",
              "      <td>False</td>\n",
              "    </tr>\n",
              "  </tbody>\n",
              "</table>\n",
              "</div><br><label><b>dtype:</b> bool</label>"
            ]
          },
          "metadata": {},
          "execution_count": 9
        }
      ]
    },
    {
      "cell_type": "markdown",
      "source": [
        "In the next code cell we are then going to drop the columns that we are not intrested in."
      ],
      "metadata": {
        "id": "GAPS_HJgrnHy"
      }
    },
    {
      "cell_type": "code",
      "source": [
        "dataframe = dataframe[['title', 'requirements', 'employment_type', 'fraudulent']]\n",
        "dataframe.head(2)"
      ],
      "metadata": {
        "colab": {
          "base_uri": "https://localhost:8080/",
          "height": 112
        },
        "id": "jm8T3CAVW2cU",
        "outputId": "f5f43ae8-389a-4d9e-8b86-1427c0df6308"
      },
      "execution_count": 10,
      "outputs": [
        {
          "output_type": "execute_result",
          "data": {
            "text/plain": [
              "                   title                                       requirements  \\\n",
              "0  Lead UX / UI Designer  4+ years of experience in UX / UI design prefe...   \n",
              "1      Technical Manager  Food Science/Technology Graduate or similar di...   \n",
              "\n",
              "  employment_type fraudulent  \n",
              "0       Full-time       Real  \n",
              "1       Full-time       Real  "
            ],
            "text/html": [
              "\n",
              "  <div id=\"df-1ab18dc9-ee94-4293-a6f9-b7f7ab9371ce\" class=\"colab-df-container\">\n",
              "    <div>\n",
              "<style scoped>\n",
              "    .dataframe tbody tr th:only-of-type {\n",
              "        vertical-align: middle;\n",
              "    }\n",
              "\n",
              "    .dataframe tbody tr th {\n",
              "        vertical-align: top;\n",
              "    }\n",
              "\n",
              "    .dataframe thead th {\n",
              "        text-align: right;\n",
              "    }\n",
              "</style>\n",
              "<table border=\"1\" class=\"dataframe\">\n",
              "  <thead>\n",
              "    <tr style=\"text-align: right;\">\n",
              "      <th></th>\n",
              "      <th>title</th>\n",
              "      <th>requirements</th>\n",
              "      <th>employment_type</th>\n",
              "      <th>fraudulent</th>\n",
              "    </tr>\n",
              "  </thead>\n",
              "  <tbody>\n",
              "    <tr>\n",
              "      <th>0</th>\n",
              "      <td>Lead UX / UI Designer</td>\n",
              "      <td>4+ years of experience in UX / UI design prefe...</td>\n",
              "      <td>Full-time</td>\n",
              "      <td>Real</td>\n",
              "    </tr>\n",
              "    <tr>\n",
              "      <th>1</th>\n",
              "      <td>Technical Manager</td>\n",
              "      <td>Food Science/Technology Graduate or similar di...</td>\n",
              "      <td>Full-time</td>\n",
              "      <td>Real</td>\n",
              "    </tr>\n",
              "  </tbody>\n",
              "</table>\n",
              "</div>\n",
              "    <div class=\"colab-df-buttons\">\n",
              "\n",
              "  <div class=\"colab-df-container\">\n",
              "    <button class=\"colab-df-convert\" onclick=\"convertToInteractive('df-1ab18dc9-ee94-4293-a6f9-b7f7ab9371ce')\"\n",
              "            title=\"Convert this dataframe to an interactive table.\"\n",
              "            style=\"display:none;\">\n",
              "\n",
              "  <svg xmlns=\"http://www.w3.org/2000/svg\" height=\"24px\" viewBox=\"0 -960 960 960\">\n",
              "    <path d=\"M120-120v-720h720v720H120Zm60-500h600v-160H180v160Zm220 220h160v-160H400v160Zm0 220h160v-160H400v160ZM180-400h160v-160H180v160Zm440 0h160v-160H620v160ZM180-180h160v-160H180v160Zm440 0h160v-160H620v160Z\"/>\n",
              "  </svg>\n",
              "    </button>\n",
              "\n",
              "  <style>\n",
              "    .colab-df-container {\n",
              "      display:flex;\n",
              "      gap: 12px;\n",
              "    }\n",
              "\n",
              "    .colab-df-convert {\n",
              "      background-color: #E8F0FE;\n",
              "      border: none;\n",
              "      border-radius: 50%;\n",
              "      cursor: pointer;\n",
              "      display: none;\n",
              "      fill: #1967D2;\n",
              "      height: 32px;\n",
              "      padding: 0 0 0 0;\n",
              "      width: 32px;\n",
              "    }\n",
              "\n",
              "    .colab-df-convert:hover {\n",
              "      background-color: #E2EBFA;\n",
              "      box-shadow: 0px 1px 2px rgba(60, 64, 67, 0.3), 0px 1px 3px 1px rgba(60, 64, 67, 0.15);\n",
              "      fill: #174EA6;\n",
              "    }\n",
              "\n",
              "    .colab-df-buttons div {\n",
              "      margin-bottom: 4px;\n",
              "    }\n",
              "\n",
              "    [theme=dark] .colab-df-convert {\n",
              "      background-color: #3B4455;\n",
              "      fill: #D2E3FC;\n",
              "    }\n",
              "\n",
              "    [theme=dark] .colab-df-convert:hover {\n",
              "      background-color: #434B5C;\n",
              "      box-shadow: 0px 1px 3px 1px rgba(0, 0, 0, 0.15);\n",
              "      filter: drop-shadow(0px 1px 2px rgba(0, 0, 0, 0.3));\n",
              "      fill: #FFFFFF;\n",
              "    }\n",
              "  </style>\n",
              "\n",
              "    <script>\n",
              "      const buttonEl =\n",
              "        document.querySelector('#df-1ab18dc9-ee94-4293-a6f9-b7f7ab9371ce button.colab-df-convert');\n",
              "      buttonEl.style.display =\n",
              "        google.colab.kernel.accessAllowed ? 'block' : 'none';\n",
              "\n",
              "      async function convertToInteractive(key) {\n",
              "        const element = document.querySelector('#df-1ab18dc9-ee94-4293-a6f9-b7f7ab9371ce');\n",
              "        const dataTable =\n",
              "          await google.colab.kernel.invokeFunction('convertToInteractive',\n",
              "                                                    [key], {});\n",
              "        if (!dataTable) return;\n",
              "\n",
              "        const docLinkHtml = 'Like what you see? Visit the ' +\n",
              "          '<a target=\"_blank\" href=https://colab.research.google.com/notebooks/data_table.ipynb>data table notebook</a>'\n",
              "          + ' to learn more about interactive tables.';\n",
              "        element.innerHTML = '';\n",
              "        dataTable['output_type'] = 'display_data';\n",
              "        await google.colab.output.renderOutput(dataTable, element);\n",
              "        const docLink = document.createElement('div');\n",
              "        docLink.innerHTML = docLinkHtml;\n",
              "        element.appendChild(docLink);\n",
              "      }\n",
              "    </script>\n",
              "  </div>\n",
              "\n",
              "\n",
              "    <div id=\"df-f4cb245e-1354-4059-bc8a-429b24147ed8\">\n",
              "      <button class=\"colab-df-quickchart\" onclick=\"quickchart('df-f4cb245e-1354-4059-bc8a-429b24147ed8')\"\n",
              "                title=\"Suggest charts\"\n",
              "                style=\"display:none;\">\n",
              "\n",
              "<svg xmlns=\"http://www.w3.org/2000/svg\" height=\"24px\"viewBox=\"0 0 24 24\"\n",
              "     width=\"24px\">\n",
              "    <g>\n",
              "        <path d=\"M19 3H5c-1.1 0-2 .9-2 2v14c0 1.1.9 2 2 2h14c1.1 0 2-.9 2-2V5c0-1.1-.9-2-2-2zM9 17H7v-7h2v7zm4 0h-2V7h2v10zm4 0h-2v-4h2v4z\"/>\n",
              "    </g>\n",
              "</svg>\n",
              "      </button>\n",
              "\n",
              "<style>\n",
              "  .colab-df-quickchart {\n",
              "      --bg-color: #E8F0FE;\n",
              "      --fill-color: #1967D2;\n",
              "      --hover-bg-color: #E2EBFA;\n",
              "      --hover-fill-color: #174EA6;\n",
              "      --disabled-fill-color: #AAA;\n",
              "      --disabled-bg-color: #DDD;\n",
              "  }\n",
              "\n",
              "  [theme=dark] .colab-df-quickchart {\n",
              "      --bg-color: #3B4455;\n",
              "      --fill-color: #D2E3FC;\n",
              "      --hover-bg-color: #434B5C;\n",
              "      --hover-fill-color: #FFFFFF;\n",
              "      --disabled-bg-color: #3B4455;\n",
              "      --disabled-fill-color: #666;\n",
              "  }\n",
              "\n",
              "  .colab-df-quickchart {\n",
              "    background-color: var(--bg-color);\n",
              "    border: none;\n",
              "    border-radius: 50%;\n",
              "    cursor: pointer;\n",
              "    display: none;\n",
              "    fill: var(--fill-color);\n",
              "    height: 32px;\n",
              "    padding: 0;\n",
              "    width: 32px;\n",
              "  }\n",
              "\n",
              "  .colab-df-quickchart:hover {\n",
              "    background-color: var(--hover-bg-color);\n",
              "    box-shadow: 0 1px 2px rgba(60, 64, 67, 0.3), 0 1px 3px 1px rgba(60, 64, 67, 0.15);\n",
              "    fill: var(--button-hover-fill-color);\n",
              "  }\n",
              "\n",
              "  .colab-df-quickchart-complete:disabled,\n",
              "  .colab-df-quickchart-complete:disabled:hover {\n",
              "    background-color: var(--disabled-bg-color);\n",
              "    fill: var(--disabled-fill-color);\n",
              "    box-shadow: none;\n",
              "  }\n",
              "\n",
              "  .colab-df-spinner {\n",
              "    border: 2px solid var(--fill-color);\n",
              "    border-color: transparent;\n",
              "    border-bottom-color: var(--fill-color);\n",
              "    animation:\n",
              "      spin 1s steps(1) infinite;\n",
              "  }\n",
              "\n",
              "  @keyframes spin {\n",
              "    0% {\n",
              "      border-color: transparent;\n",
              "      border-bottom-color: var(--fill-color);\n",
              "      border-left-color: var(--fill-color);\n",
              "    }\n",
              "    20% {\n",
              "      border-color: transparent;\n",
              "      border-left-color: var(--fill-color);\n",
              "      border-top-color: var(--fill-color);\n",
              "    }\n",
              "    30% {\n",
              "      border-color: transparent;\n",
              "      border-left-color: var(--fill-color);\n",
              "      border-top-color: var(--fill-color);\n",
              "      border-right-color: var(--fill-color);\n",
              "    }\n",
              "    40% {\n",
              "      border-color: transparent;\n",
              "      border-right-color: var(--fill-color);\n",
              "      border-top-color: var(--fill-color);\n",
              "    }\n",
              "    60% {\n",
              "      border-color: transparent;\n",
              "      border-right-color: var(--fill-color);\n",
              "    }\n",
              "    80% {\n",
              "      border-color: transparent;\n",
              "      border-right-color: var(--fill-color);\n",
              "      border-bottom-color: var(--fill-color);\n",
              "    }\n",
              "    90% {\n",
              "      border-color: transparent;\n",
              "      border-bottom-color: var(--fill-color);\n",
              "    }\n",
              "  }\n",
              "</style>\n",
              "\n",
              "      <script>\n",
              "        async function quickchart(key) {\n",
              "          const quickchartButtonEl =\n",
              "            document.querySelector('#' + key + ' button');\n",
              "          quickchartButtonEl.disabled = true;  // To prevent multiple clicks.\n",
              "          quickchartButtonEl.classList.add('colab-df-spinner');\n",
              "          try {\n",
              "            const charts = await google.colab.kernel.invokeFunction(\n",
              "                'suggestCharts', [key], {});\n",
              "          } catch (error) {\n",
              "            console.error('Error during call to suggestCharts:', error);\n",
              "          }\n",
              "          quickchartButtonEl.classList.remove('colab-df-spinner');\n",
              "          quickchartButtonEl.classList.add('colab-df-quickchart-complete');\n",
              "        }\n",
              "        (() => {\n",
              "          let quickchartButtonEl =\n",
              "            document.querySelector('#df-f4cb245e-1354-4059-bc8a-429b24147ed8 button');\n",
              "          quickchartButtonEl.style.display =\n",
              "            google.colab.kernel.accessAllowed ? 'block' : 'none';\n",
              "        })();\n",
              "      </script>\n",
              "    </div>\n",
              "\n",
              "    </div>\n",
              "  </div>\n"
            ],
            "application/vnd.google.colaboratory.intrinsic+json": {
              "type": "dataframe",
              "variable_name": "dataframe",
              "summary": "{\n  \"name\": \"dataframe\",\n  \"rows\": 17879,\n  \"fields\": [\n    {\n      \"column\": \"title\",\n      \"properties\": {\n        \"dtype\": \"string\",\n        \"num_unique_values\": 11230,\n        \"samples\": [\n          \"Big Data Applications Architect / Manager \",\n          \"Kit Kat Architect (Android)\",\n          \"Data Warehouse Application Architect\"\n        ],\n        \"semantic_type\": \"\",\n        \"description\": \"\"\n      }\n    },\n    {\n      \"column\": \"requirements\",\n      \"properties\": {\n        \"dtype\": \"string\",\n        \"num_unique_values\": 11968,\n        \"samples\": [\n          \"Solid object-oriented design, programming, and debugging skillsA demonstrated expert-level proficiency in PHP 5+A strong understanding of SQL and database design, especially MYSQLExperience with JQUERY, CSS3 and HTML5Experience with GIT source code managementExperience with Linux command lineTrack record of producing high-quality web applications through the full product lifecycleExcellent technical communication, both verbal and writtenRidiculous attention to detailNice to haveExperience with Cloud technologies and services like Amazon AWS or RackspacecloudExperience with an MVC framework like Zend or YiiExperience with SMARTY\",\n          \"A minimum of a High School Diploma or equivalent.At least 18 years of age or older.Typing skill of at least 50 WPM using a personal computer.Ability to work various schedules including weekdays, evening and weekends.Ability to learn ASL syntax.\",\n          \"Desired Skills and ExperienceAs the successful incumbent, you will possess a University Degree in Engineering(Electrical/Electronics) with at least 3 years of experience in Electrical, Instrumentation and Control Engineering in Process Industries . You will be able to read &amp; understand E&amp;I, CAD and P&amp;ID Drawings and be competent in PLC programming and SCADA/HMI.Additionally, you will be able to work independently as well as lead a team of engineers as and when required. You will have to be able to communicate effectively across cultures and different nationals, with the ability to work well in a matrix and structured organization. You may be required to travel.\"\n        ],\n        \"semantic_type\": \"\",\n        \"description\": \"\"\n      }\n    },\n    {\n      \"column\": \"employment_type\",\n      \"properties\": {\n        \"dtype\": \"category\",\n        \"num_unique_values\": 6,\n        \"samples\": [\n          \"Full-time\",\n          \"Not Mentioned\",\n          \"Temporary\"\n        ],\n        \"semantic_type\": \"\",\n        \"description\": \"\"\n      }\n    },\n    {\n      \"column\": \"fraudulent\",\n      \"properties\": {\n        \"dtype\": \"category\",\n        \"num_unique_values\": 2,\n        \"samples\": [\n          \"Fake\",\n          \"Real\"\n        ],\n        \"semantic_type\": \"\",\n        \"description\": \"\"\n      }\n    }\n  ]\n}"
            }
          },
          "metadata": {},
          "execution_count": 10
        }
      ]
    },
    {
      "cell_type": "markdown",
      "source": [
        "Next we are going to check the distribution of labels in the dataset."
      ],
      "metadata": {
        "id": "7LVxDp9Nrvy6"
      }
    },
    {
      "cell_type": "code",
      "source": [
        "dataframe.fraudulent.value_counts()"
      ],
      "metadata": {
        "colab": {
          "base_uri": "https://localhost:8080/",
          "height": 178
        },
        "id": "n-8lLoAFVgSF",
        "outputId": "3325ad74-ceee-431f-db17-63ed4d286223"
      },
      "execution_count": 11,
      "outputs": [
        {
          "output_type": "execute_result",
          "data": {
            "text/plain": [
              "fraudulent\n",
              "Real    17013\n",
              "Fake      866\n",
              "Name: count, dtype: int64"
            ],
            "text/html": [
              "<div>\n",
              "<style scoped>\n",
              "    .dataframe tbody tr th:only-of-type {\n",
              "        vertical-align: middle;\n",
              "    }\n",
              "\n",
              "    .dataframe tbody tr th {\n",
              "        vertical-align: top;\n",
              "    }\n",
              "\n",
              "    .dataframe thead th {\n",
              "        text-align: right;\n",
              "    }\n",
              "</style>\n",
              "<table border=\"1\" class=\"dataframe\">\n",
              "  <thead>\n",
              "    <tr style=\"text-align: right;\">\n",
              "      <th></th>\n",
              "      <th>count</th>\n",
              "    </tr>\n",
              "    <tr>\n",
              "      <th>fraudulent</th>\n",
              "      <th></th>\n",
              "    </tr>\n",
              "  </thead>\n",
              "  <tbody>\n",
              "    <tr>\n",
              "      <th>Real</th>\n",
              "      <td>17013</td>\n",
              "    </tr>\n",
              "    <tr>\n",
              "      <th>Fake</th>\n",
              "      <td>866</td>\n",
              "    </tr>\n",
              "  </tbody>\n",
              "</table>\n",
              "</div><br><label><b>dtype:</b> int64</label>"
            ]
          },
          "metadata": {},
          "execution_count": 11
        }
      ]
    },
    {
      "cell_type": "markdown",
      "source": [
        "In the next code cell we are then going to balance the dataset based on the class that has minority labels in the entire dataset."
      ],
      "metadata": {
        "id": "a0gAyxpasFLJ"
      }
    },
    {
      "cell_type": "code",
      "source": [
        "new_dataframe = dataframe.copy()\n",
        "min_class_count = new_dataframe['fraudulent'].value_counts().min()\n",
        "downsampled_list = []\n",
        "for label in new_dataframe['fraudulent'].unique():\n",
        "    class_df = new_dataframe[new_dataframe['fraudulent'] == label]\n",
        "    downsampled_class_df = resample(\n",
        "        class_df,\n",
        "        replace=False,\n",
        "        n_samples=min_class_count,\n",
        "        random_state=SEED\n",
        "    )\n",
        "    downsampled_list.append(downsampled_class_df)\n",
        "balanced_df = pd.concat(downsampled_list).reset_index(drop=True)"
      ],
      "metadata": {
        "id": "fKcshU1OZZY3"
      },
      "execution_count": 12,
      "outputs": []
    },
    {
      "cell_type": "markdown",
      "source": [
        "In the following code cell we are then going to visualize the distribution of labels after the dataset was balanced."
      ],
      "metadata": {
        "id": "EHfT6IRWsT-b"
      }
    },
    {
      "cell_type": "code",
      "source": [
        "sns.set(font_scale=.8)\n",
        "sns.set_style(\"white\", rc={\"axes.spines.right\": True, \"axes.spines.top\": True})\n",
        "sns.set(rc={\"axes.facecolor\": \"#FFFFFF\", \"figure.facecolor\": \"#FFFFFF\"})\n",
        "\n",
        "fig, axes = plt.subplots(1, 2, figsize=(8, 3), sharey=False)\n",
        "axes = axes.flatten()\n",
        "sns.countplot(data=dataframe, x=\"fraudulent\", palette=PALETTES.gradient[:4],\n",
        "              legend=False,  ax=axes[0], fill=True)\n",
        "axes[0].set_xlabel(\"Label\", fontsize=8)\n",
        "axes[0].set_ylabel(\"Frequency\", fontsize=8)\n",
        "axes[0].set_title(f\"Distribution of labels in \\nthe unbalanced dataset.\", fontsize=10)\n",
        "axes[0].minorticks_on()\n",
        "axes[0].grid(which='major', color='gray', linestyle='-', linewidth=0.5)\n",
        "axes[0].grid(which='minor', color='#7ED4AD', linestyle='--', linewidth=0.3)\n",
        "\n",
        "sns.countplot(data=balanced_df, x=\"fraudulent\", palette=PALETTES.gradient[:4],\n",
        "              legend=False,  ax=axes[1], fill=True)\n",
        "axes[1].set_xlabel(\"Label\", fontsize=8)\n",
        "axes[1].set_ylabel(\"Frequency\", fontsize=8)\n",
        "axes[1].set_title(f\"Distribution of labels in \\nthe unbalanced dataset.\", fontsize=10)\n",
        "axes[1].minorticks_on()\n",
        "axes[1].grid(which='major', color='gray', linestyle='-', linewidth=0.5)\n",
        "axes[1].grid(which='minor', color='#7ED4AD', linestyle='--', linewidth=0.3)\n",
        "plt.tight_layout()\n",
        "plt.show()"
      ],
      "metadata": {
        "colab": {
          "base_uri": "https://localhost:8080/",
          "height": 301
        },
        "id": "ZVvGZm92Z3DM",
        "outputId": "ef2d806e-532d-4ac3-e83b-d15927ea660f"
      },
      "execution_count": 13,
      "outputs": [
        {
          "output_type": "display_data",
          "data": {
            "text/plain": [
              "<Figure size 800x300 with 2 Axes>"
            ],
            "image/png": "[encoded data removed]"
          },
          "metadata": {}
        }
      ]
    },
    {
      "cell_type": "markdown",
      "source": [
        "In the following code cell we are then going to extract the case text and then clean them."
      ],
      "metadata": {
        "id": "D6vUyi54skAL"
      }
    },
    {
      "cell_type": "code",
      "source": [
        "balanced_df.head()"
      ],
      "metadata": {
        "colab": {
          "base_uri": "https://localhost:8080/",
          "height": 206
        },
        "id": "G1VZU9p7mTDu",
        "outputId": "14cbf954-e263-4d24-be3b-b28b9a8f4c0a"
      },
      "execution_count": 14,
      "outputs": [
        {
          "output_type": "execute_result",
          "data": {
            "text/plain": [
              "                                               title  \\\n",
              "0      Talent Sourcer (6 months fixed-term contract)   \n",
              "1                               Driver II - On Call    \n",
              "2  Software Engineer (Delhi role, Singapore company)   \n",
              "3                                Mainframe Developer   \n",
              "4                           English Teacher Overseas   \n",
              "\n",
              "                                        requirements employment_type  \\\n",
              "0  We’re looking for someone who:Proven track rec...   Not Mentioned   \n",
              "1  Qualifications:Keyboarding and windows environ...       Part-time   \n",
              "2  Experience / Proficiency1+ Years (sorry freshe...       Full-time   \n",
              "3  Experience in Mainframe Technology with COBOL,...        Contract   \n",
              "4  University degree required. TEFL / TESOL / CEL...        Contract   \n",
              "\n",
              "  fraudulent  \n",
              "0       Real  \n",
              "1       Real  \n",
              "2       Real  \n",
              "3       Real  \n",
              "4       Real  "
            ],
            "text/html": [
              "\n",
              "  <div id=\"df-5f153d2b-b7d3-4a5d-ba68-d85145d98976\" class=\"colab-df-container\">\n",
              "    <div>\n",
              "<style scoped>\n",
              "    .dataframe tbody tr th:only-of-type {\n",
              "        vertical-align: middle;\n",
              "    }\n",
              "\n",
              "    .dataframe tbody tr th {\n",
              "        vertical-align: top;\n",
              "    }\n",
              "\n",
              "    .dataframe thead th {\n",
              "        text-align: right;\n",
              "    }\n",
              "</style>\n",
              "<table border=\"1\" class=\"dataframe\">\n",
              "  <thead>\n",
              "    <tr style=\"text-align: right;\">\n",
              "      <th></th>\n",
              "      <th>title</th>\n",
              "      <th>requirements</th>\n",
              "      <th>employment_type</th>\n",
              "      <th>fraudulent</th>\n",
              "    </tr>\n",
              "  </thead>\n",
              "  <tbody>\n",
              "    <tr>\n",
              "      <th>0</th>\n",
              "      <td>Talent Sourcer (6 months fixed-term contract)</td>\n",
              "      <td>We’re looking for someone who:Proven track rec...</td>\n",
              "      <td>Not Mentioned</td>\n",
              "      <td>Real</td>\n",
              "    </tr>\n",
              "    <tr>\n",
              "      <th>1</th>\n",
              "      <td>Driver II - On Call</td>\n",
              "      <td>Qualifications:Keyboarding and windows environ...</td>\n",
              "      <td>Part-time</td>\n",
              "      <td>Real</td>\n",
              "    </tr>\n",
              "    <tr>\n",
              "      <th>2</th>\n",
              "      <td>Software Engineer (Delhi role, Singapore company)</td>\n",
              "      <td>Experience / Proficiency1+ Years (sorry freshe...</td>\n",
              "      <td>Full-time</td>\n",
              "      <td>Real</td>\n",
              "    </tr>\n",
              "    <tr>\n",
              "      <th>3</th>\n",
              "      <td>Mainframe Developer</td>\n",
              "      <td>Experience in Mainframe Technology with COBOL,...</td>\n",
              "      <td>Contract</td>\n",
              "      <td>Real</td>\n",
              "    </tr>\n",
              "    <tr>\n",
              "      <th>4</th>\n",
              "      <td>English Teacher Overseas</td>\n",
              "      <td>University degree required. TEFL / TESOL / CEL...</td>\n",
              "      <td>Contract</td>\n",
              "      <td>Real</td>\n",
              "    </tr>\n",
              "  </tbody>\n",
              "</table>\n",
              "</div>\n",
              "    <div class=\"colab-df-buttons\">\n",
              "\n",
              "  <div class=\"colab-df-container\">\n",
              "    <button class=\"colab-df-convert\" onclick=\"convertToInteractive('df-5f153d2b-b7d3-4a5d-ba68-d85145d98976')\"\n",
              "            title=\"Convert this dataframe to an interactive table.\"\n",
              "            style=\"display:none;\">\n",
              "\n",
              "  <svg xmlns=\"http://www.w3.org/2000/svg\" height=\"24px\" viewBox=\"0 -960 960 960\">\n",
              "    <path d=\"M120-120v-720h720v720H120Zm60-500h600v-160H180v160Zm220 220h160v-160H400v160Zm0 220h160v-160H400v160ZM180-400h160v-160H180v160Zm440 0h160v-160H620v160ZM180-180h160v-160H180v160Zm440 0h160v-160H620v160Z\"/>\n",
              "  </svg>\n",
              "    </button>\n",
              "\n",
              "  <style>\n",
              "    .colab-df-container {\n",
              "      display:flex;\n",
              "      gap: 12px;\n",
              "    }\n",
              "\n",
              "    .colab-df-convert {\n",
              "      background-color: #E8F0FE;\n",
              "      border: none;\n",
              "      border-radius: 50%;\n",
              "      cursor: pointer;\n",
              "      display: none;\n",
              "      fill: #1967D2;\n",
              "      height: 32px;\n",
              "      padding: 0 0 0 0;\n",
              "      width: 32px;\n",
              "    }\n",
              "\n",
              "    .colab-df-convert:hover {\n",
              "      background-color: #E2EBFA;\n",
              "      box-shadow: 0px 1px 2px rgba(60, 64, 67, 0.3), 0px 1px 3px 1px rgba(60, 64, 67, 0.15);\n",
              "      fill: #174EA6;\n",
              "    }\n",
              "\n",
              "    .colab-df-buttons div {\n",
              "      margin-bottom: 4px;\n",
              "    }\n",
              "\n",
              "    [theme=dark] .colab-df-convert {\n",
              "      background-color: #3B4455;\n",
              "      fill: #D2E3FC;\n",
              "    }\n",
              "\n",
              "    [theme=dark] .colab-df-convert:hover {\n",
              "      background-color: #434B5C;\n",
              "      box-shadow: 0px 1px 3px 1px rgba(0, 0, 0, 0.15);\n",
              "      filter: drop-shadow(0px 1px 2px rgba(0, 0, 0, 0.3));\n",
              "      fill: #FFFFFF;\n",
              "    }\n",
              "  </style>\n",
              "\n",
              "    <script>\n",
              "      const buttonEl =\n",
              "        document.querySelector('#df-5f153d2b-b7d3-4a5d-ba68-d85145d98976 button.colab-df-convert');\n",
              "      buttonEl.style.display =\n",
              "        google.colab.kernel.accessAllowed ? 'block' : 'none';\n",
              "\n",
              "      async function convertToInteractive(key) {\n",
              "        const element = document.querySelector('#df-5f153d2b-b7d3-4a5d-ba68-d85145d98976');\n",
              "        const dataTable =\n",
              "          await google.colab.kernel.invokeFunction('convertToInteractive',\n",
              "                                                    [key], {});\n",
              "        if (!dataTable) return;\n",
              "\n",
              "        const docLinkHtml = 'Like what you see? Visit the ' +\n",
              "          '<a target=\"_blank\" href=https://colab.research.google.com/notebooks/data_table.ipynb>data table notebook</a>'\n",
              "          + ' to learn more about interactive tables.';\n",
              "        element.innerHTML = '';\n",
              "        dataTable['output_type'] = 'display_data';\n",
              "        await google.colab.output.renderOutput(dataTable, element);\n",
              "        const docLink = document.createElement('div');\n",
              "        docLink.innerHTML = docLinkHtml;\n",
              "        element.appendChild(docLink);\n",
              "      }\n",
              "    </script>\n",
              "  </div>\n",
              "\n",
              "\n",
              "    <div id=\"df-90994c4a-0de7-431f-8ca1-8f7609ae7531\">\n",
              "      <button class=\"colab-df-quickchart\" onclick=\"quickchart('df-90994c4a-0de7-431f-8ca1-8f7609ae7531')\"\n",
              "                title=\"Suggest charts\"\n",
              "                style=\"display:none;\">\n",
              "\n",
              "<svg xmlns=\"http://www.w3.org/2000/svg\" height=\"24px\"viewBox=\"0 0 24 24\"\n",
              "     width=\"24px\">\n",
              "    <g>\n",
              "        <path d=\"M19 3H5c-1.1 0-2 .9-2 2v14c0 1.1.9 2 2 2h14c1.1 0 2-.9 2-2V5c0-1.1-.9-2-2-2zM9 17H7v-7h2v7zm4 0h-2V7h2v10zm4 0h-2v-4h2v4z\"/>\n",
              "    </g>\n",
              "</svg>\n",
              "      </button>\n",
              "\n",
              "<style>\n",
              "  .colab-df-quickchart {\n",
              "      --bg-color: #E8F0FE;\n",
              "      --fill-color: #1967D2;\n",
              "      --hover-bg-color: #E2EBFA;\n",
              "      --hover-fill-color: #174EA6;\n",
              "      --disabled-fill-color: #AAA;\n",
              "      --disabled-bg-color: #DDD;\n",
              "  }\n",
              "\n",
              "  [theme=dark] .colab-df-quickchart {\n",
              "      --bg-color: #3B4455;\n",
              "      --fill-color: #D2E3FC;\n",
              "      --hover-bg-color: #434B5C;\n",
              "      --hover-fill-color: #FFFFFF;\n",
              "      --disabled-bg-color: #3B4455;\n",
              "      --disabled-fill-color: #666;\n",
              "  }\n",
              "\n",
              "  .colab-df-quickchart {\n",
              "    background-color: var(--bg-color);\n",
              "    border: none;\n",
              "    border-radius: 50%;\n",
              "    cursor: pointer;\n",
              "    display: none;\n",
              "    fill: var(--fill-color);\n",
              "    height: 32px;\n",
              "    padding: 0;\n",
              "    width: 32px;\n",
              "  }\n",
              "\n",
              "  .colab-df-quickchart:hover {\n",
              "    background-color: var(--hover-bg-color);\n",
              "    box-shadow: 0 1px 2px rgba(60, 64, 67, 0.3), 0 1px 3px 1px rgba(60, 64, 67, 0.15);\n",
              "    fill: var(--button-hover-fill-color);\n",
              "  }\n",
              "\n",
              "  .colab-df-quickchart-complete:disabled,\n",
              "  .colab-df-quickchart-complete:disabled:hover {\n",
              "    background-color: var(--disabled-bg-color);\n",
              "    fill: var(--disabled-fill-color);\n",
              "    box-shadow: none;\n",
              "  }\n",
              "\n",
              "  .colab-df-spinner {\n",
              "    border: 2px solid var(--fill-color);\n",
              "    border-color: transparent;\n",
              "    border-bottom-color: var(--fill-color);\n",
              "    animation:\n",
              "      spin 1s steps(1) infinite;\n",
              "  }\n",
              "\n",
              "  @keyframes spin {\n",
              "    0% {\n",
              "      border-color: transparent;\n",
              "      border-bottom-color: var(--fill-color);\n",
              "      border-left-color: var(--fill-color);\n",
              "    }\n",
              "    20% {\n",
              "      border-color: transparent;\n",
              "      border-left-color: var(--fill-color);\n",
              "      border-top-color: var(--fill-color);\n",
              "    }\n",
              "    30% {\n",
              "      border-color: transparent;\n",
              "      border-left-color: var(--fill-color);\n",
              "      border-top-color: var(--fill-color);\n",
              "      border-right-color: var(--fill-color);\n",
              "    }\n",
              "    40% {\n",
              "      border-color: transparent;\n",
              "      border-right-color: var(--fill-color);\n",
              "      border-top-color: var(--fill-color);\n",
              "    }\n",
              "    60% {\n",
              "      border-color: transparent;\n",
              "      border-right-color: var(--fill-color);\n",
              "    }\n",
              "    80% {\n",
              "      border-color: transparent;\n",
              "      border-right-color: var(--fill-color);\n",
              "      border-bottom-color: var(--fill-color);\n",
              "    }\n",
              "    90% {\n",
              "      border-color: transparent;\n",
              "      border-bottom-color: var(--fill-color);\n",
              "    }\n",
              "  }\n",
              "</style>\n",
              "\n",
              "      <script>\n",
              "        async function quickchart(key) {\n",
              "          const quickchartButtonEl =\n",
              "            document.querySelector('#' + key + ' button');\n",
              "          quickchartButtonEl.disabled = true;  // To prevent multiple clicks.\n",
              "          quickchartButtonEl.classList.add('colab-df-spinner');\n",
              "          try {\n",
              "            const charts = await google.colab.kernel.invokeFunction(\n",
              "                'suggestCharts', [key], {});\n",
              "          } catch (error) {\n",
              "            console.error('Error during call to suggestCharts:', error);\n",
              "          }\n",
              "          quickchartButtonEl.classList.remove('colab-df-spinner');\n",
              "          quickchartButtonEl.classList.add('colab-df-quickchart-complete');\n",
              "        }\n",
              "        (() => {\n",
              "          let quickchartButtonEl =\n",
              "            document.querySelector('#df-90994c4a-0de7-431f-8ca1-8f7609ae7531 button');\n",
              "          quickchartButtonEl.style.display =\n",
              "            google.colab.kernel.accessAllowed ? 'block' : 'none';\n",
              "        })();\n",
              "      </script>\n",
              "    </div>\n",
              "\n",
              "    </div>\n",
              "  </div>\n"
            ],
            "application/vnd.google.colaboratory.intrinsic+json": {
              "type": "dataframe",
              "variable_name": "balanced_df",
              "summary": "{\n  \"name\": \"balanced_df\",\n  \"rows\": 1732,\n  \"fields\": [\n    {\n      \"column\": \"title\",\n      \"properties\": {\n        \"dtype\": \"string\",\n        \"num_unique_values\": 1296,\n        \"samples\": [\n          \"Back End Software Engineer\",\n          \"Dev Ops Engineer \",\n          \"Controller\"\n        ],\n        \"semantic_type\": \"\",\n        \"description\": \"\"\n      }\n    },\n    {\n      \"column\": \"requirements\",\n      \"properties\": {\n        \"dtype\": \"string\",\n        \"num_unique_values\": 1157,\n        \"samples\": [\n          \"All normal requirements in the Adminstrative and Data Entry field but no special or specific requirements needed please apply if you are in the force as well we await your response as to attend to them ASAP!\",\n          \"Minimum Requirements:Minimum of 6 months customer service related experience requiredHigh school diploma or equivalent (GED) requiredPreferred Qualifications:Keyboarding and windows environment PC skills required (Word, Excel and PowerPoint preferred)Experience running mail posting equipment a plusExcellent communication skills both verbal and writtenLifting up to 55 lbs with or without accommodationsWillingness and availability to work additional hours if assignedWillingness to submit to a pre-employment drug screening and criminal background checkAbility to effectively work individually or in a team environmentCompetency in performing multiple functional tasksAbility to meet employer's attendance policy\",\n          \"2. Experience in change management. We need someone who is going to be an advocate to the business and help get them excited about the changes as this is a heavy functional upgrade. 3. Knowledge of the Financial processes. They want someone to be able to make recommendations on what they've seen in the past or what they think will work best for their business\"\n        ],\n        \"semantic_type\": \"\",\n        \"description\": \"\"\n      }\n    },\n    {\n      \"column\": \"employment_type\",\n      \"properties\": {\n        \"dtype\": \"category\",\n        \"num_unique_values\": 6,\n        \"samples\": [\n          \"Not Mentioned\",\n          \"Part-time\",\n          \"Other\"\n        ],\n        \"semantic_type\": \"\",\n        \"description\": \"\"\n      }\n    },\n    {\n      \"column\": \"fraudulent\",\n      \"properties\": {\n        \"dtype\": \"category\",\n        \"num_unique_values\": 2,\n        \"samples\": [\n          \"Fake\",\n          \"Real\"\n        ],\n        \"semantic_type\": \"\",\n        \"description\": \"\"\n      }\n    }\n  ]\n}"
            }
          },
          "metadata": {},
          "execution_count": 14
        }
      ]
    },
    {
      "cell_type": "code",
      "source": [
        "joined_data = []\n",
        "for row in balanced_df.itertuples():\n",
        "  # job_text = row.title + \"\\n\"+row.employment_type + \"\\n\" + row.requirements\n",
        "  job_text =  row.requirements\n",
        "  joined_data.append({\"post\": job_text, 'label': row.fraudulent})\n",
        "\n",
        "balanced_df = pd.DataFrame(joined_data)\n",
        "balanced_df.head(2)"
      ],
      "metadata": {
        "colab": {
          "base_uri": "https://localhost:8080/",
          "height": 112
        },
        "id": "-0RGlrdwmazl",
        "outputId": "8eb347a9-2f6c-4e15-cbaf-e011202f1f58"
      },
      "execution_count": 15,
      "outputs": [
        {
          "output_type": "execute_result",
          "data": {
            "text/plain": [
              "                                                post label\n",
              "0  We’re looking for someone who:Proven track rec...  Real\n",
              "1  Qualifications:Keyboarding and windows environ...  Real"
            ],
            "text/html": [
              "\n",
              "  <div id=\"df-c669beb1-fa58-4d07-bbbc-3febb9aae851\" class=\"colab-df-container\">\n",
              "    <div>\n",
              "<style scoped>\n",
              "    .dataframe tbody tr th:only-of-type {\n",
              "        vertical-align: middle;\n",
              "    }\n",
              "\n",
              "    .dataframe tbody tr th {\n",
              "        vertical-align: top;\n",
              "    }\n",
              "\n",
              "    .dataframe thead th {\n",
              "        text-align: right;\n",
              "    }\n",
              "</style>\n",
              "<table border=\"1\" class=\"dataframe\">\n",
              "  <thead>\n",
              "    <tr style=\"text-align: right;\">\n",
              "      <th></th>\n",
              "      <th>post</th>\n",
              "      <th>label</th>\n",
              "    </tr>\n",
              "  </thead>\n",
              "  <tbody>\n",
              "    <tr>\n",
              "      <th>0</th>\n",
              "      <td>We’re looking for someone who:Proven track rec...</td>\n",
              "      <td>Real</td>\n",
              "    </tr>\n",
              "    <tr>\n",
              "      <th>1</th>\n",
              "      <td>Qualifications:Keyboarding and windows environ...</td>\n",
              "      <td>Real</td>\n",
              "    </tr>\n",
              "  </tbody>\n",
              "</table>\n",
              "</div>\n",
              "    <div class=\"colab-df-buttons\">\n",
              "\n",
              "  <div class=\"colab-df-container\">\n",
              "    <button class=\"colab-df-convert\" onclick=\"convertToInteractive('df-c669beb1-fa58-4d07-bbbc-3febb9aae851')\"\n",
              "            title=\"Convert this dataframe to an interactive table.\"\n",
              "            style=\"display:none;\">\n",
              "\n",
              "  <svg xmlns=\"http://www.w3.org/2000/svg\" height=\"24px\" viewBox=\"0 -960 960 960\">\n",
              "    <path d=\"M120-120v-720h720v720H120Zm60-500h600v-160H180v160Zm220 220h160v-160H400v160Zm0 220h160v-160H400v160ZM180-400h160v-160H180v160Zm440 0h160v-160H620v160ZM180-180h160v-160H180v160Zm440 0h160v-160H620v160Z\"/>\n",
              "  </svg>\n",
              "    </button>\n",
              "\n",
              "  <style>\n",
              "    .colab-df-container {\n",
              "      display:flex;\n",
              "      gap: 12px;\n",
              "    }\n",
              "\n",
              "    .colab-df-convert {\n",
              "      background-color: #E8F0FE;\n",
              "      border: none;\n",
              "      border-radius: 50%;\n",
              "      cursor: pointer;\n",
              "      display: none;\n",
              "      fill: #1967D2;\n",
              "      height: 32px;\n",
              "      padding: 0 0 0 0;\n",
              "      width: 32px;\n",
              "    }\n",
              "\n",
              "    .colab-df-convert:hover {\n",
              "      background-color: #E2EBFA;\n",
              "      box-shadow: 0px 1px 2px rgba(60, 64, 67, 0.3), 0px 1px 3px 1px rgba(60, 64, 67, 0.15);\n",
              "      fill: #174EA6;\n",
              "    }\n",
              "\n",
              "    .colab-df-buttons div {\n",
              "      margin-bottom: 4px;\n",
              "    }\n",
              "\n",
              "    [theme=dark] .colab-df-convert {\n",
              "      background-color: #3B4455;\n",
              "      fill: #D2E3FC;\n",
              "    }\n",
              "\n",
              "    [theme=dark] .colab-df-convert:hover {\n",
              "      background-color: #434B5C;\n",
              "      box-shadow: 0px 1px 3px 1px rgba(0, 0, 0, 0.15);\n",
              "      filter: drop-shadow(0px 1px 2px rgba(0, 0, 0, 0.3));\n",
              "      fill: #FFFFFF;\n",
              "    }\n",
              "  </style>\n",
              "\n",
              "    <script>\n",
              "      const buttonEl =\n",
              "        document.querySelector('#df-c669beb1-fa58-4d07-bbbc-3febb9aae851 button.colab-df-convert');\n",
              "      buttonEl.style.display =\n",
              "        google.colab.kernel.accessAllowed ? 'block' : 'none';\n",
              "\n",
              "      async function convertToInteractive(key) {\n",
              "        const element = document.querySelector('#df-c669beb1-fa58-4d07-bbbc-3febb9aae851');\n",
              "        const dataTable =\n",
              "          await google.colab.kernel.invokeFunction('convertToInteractive',\n",
              "                                                    [key], {});\n",
              "        if (!dataTable) return;\n",
              "\n",
              "        const docLinkHtml = 'Like what you see? Visit the ' +\n",
              "          '<a target=\"_blank\" href=https://colab.research.google.com/notebooks/data_table.ipynb>data table notebook</a>'\n",
              "          + ' to learn more about interactive tables.';\n",
              "        element.innerHTML = '';\n",
              "        dataTable['output_type'] = 'display_data';\n",
              "        await google.colab.output.renderOutput(dataTable, element);\n",
              "        const docLink = document.createElement('div');\n",
              "        docLink.innerHTML = docLinkHtml;\n",
              "        element.appendChild(docLink);\n",
              "      }\n",
              "    </script>\n",
              "  </div>\n",
              "\n",
              "\n",
              "    <div id=\"df-ecc344a1-0e5a-4348-a571-b1c5b9df762c\">\n",
              "      <button class=\"colab-df-quickchart\" onclick=\"quickchart('df-ecc344a1-0e5a-4348-a571-b1c5b9df762c')\"\n",
              "                title=\"Suggest charts\"\n",
              "                style=\"display:none;\">\n",
              "\n",
              "<svg xmlns=\"http://www.w3.org/2000/svg\" height=\"24px\"viewBox=\"0 0 24 24\"\n",
              "     width=\"24px\">\n",
              "    <g>\n",
              "        <path d=\"M19 3H5c-1.1 0-2 .9-2 2v14c0 1.1.9 2 2 2h14c1.1 0 2-.9 2-2V5c0-1.1-.9-2-2-2zM9 17H7v-7h2v7zm4 0h-2V7h2v10zm4 0h-2v-4h2v4z\"/>\n",
              "    </g>\n",
              "</svg>\n",
              "      </button>\n",
              "\n",
              "<style>\n",
              "  .colab-df-quickchart {\n",
              "      --bg-color: #E8F0FE;\n",
              "      --fill-color: #1967D2;\n",
              "      --hover-bg-color: #E2EBFA;\n",
              "      --hover-fill-color: #174EA6;\n",
              "      --disabled-fill-color: #AAA;\n",
              "      --disabled-bg-color: #DDD;\n",
              "  }\n",
              "\n",
              "  [theme=dark] .colab-df-quickchart {\n",
              "      --bg-color: #3B4455;\n",
              "      --fill-color: #D2E3FC;\n",
              "      --hover-bg-color: #434B5C;\n",
              "      --hover-fill-color: #FFFFFF;\n",
              "      --disabled-bg-color: #3B4455;\n",
              "      --disabled-fill-color: #666;\n",
              "  }\n",
              "\n",
              "  .colab-df-quickchart {\n",
              "    background-color: var(--bg-color);\n",
              "    border: none;\n",
              "    border-radius: 50%;\n",
              "    cursor: pointer;\n",
              "    display: none;\n",
              "    fill: var(--fill-color);\n",
              "    height: 32px;\n",
              "    padding: 0;\n",
              "    width: 32px;\n",
              "  }\n",
              "\n",
              "  .colab-df-quickchart:hover {\n",
              "    background-color: var(--hover-bg-color);\n",
              "    box-shadow: 0 1px 2px rgba(60, 64, 67, 0.3), 0 1px 3px 1px rgba(60, 64, 67, 0.15);\n",
              "    fill: var(--button-hover-fill-color);\n",
              "  }\n",
              "\n",
              "  .colab-df-quickchart-complete:disabled,\n",
              "  .colab-df-quickchart-complete:disabled:hover {\n",
              "    background-color: var(--disabled-bg-color);\n",
              "    fill: var(--disabled-fill-color);\n",
              "    box-shadow: none;\n",
              "  }\n",
              "\n",
              "  .colab-df-spinner {\n",
              "    border: 2px solid var(--fill-color);\n",
              "    border-color: transparent;\n",
              "    border-bottom-color: var(--fill-color);\n",
              "    animation:\n",
              "      spin 1s steps(1) infinite;\n",
              "  }\n",
              "\n",
              "  @keyframes spin {\n",
              "    0% {\n",
              "      border-color: transparent;\n",
              "      border-bottom-color: var(--fill-color);\n",
              "      border-left-color: var(--fill-color);\n",
              "    }\n",
              "    20% {\n",
              "      border-color: transparent;\n",
              "      border-left-color: var(--fill-color);\n",
              "      border-top-color: var(--fill-color);\n",
              "    }\n",
              "    30% {\n",
              "      border-color: transparent;\n",
              "      border-left-color: var(--fill-color);\n",
              "      border-top-color: var(--fill-color);\n",
              "      border-right-color: var(--fill-color);\n",
              "    }\n",
              "    40% {\n",
              "      border-color: transparent;\n",
              "      border-right-color: var(--fill-color);\n",
              "      border-top-color: var(--fill-color);\n",
              "    }\n",
              "    60% {\n",
              "      border-color: transparent;\n",
              "      border-right-color: var(--fill-color);\n",
              "    }\n",
              "    80% {\n",
              "      border-color: transparent;\n",
              "      border-right-color: var(--fill-color);\n",
              "      border-bottom-color: var(--fill-color);\n",
              "    }\n",
              "    90% {\n",
              "      border-color: transparent;\n",
              "      border-bottom-color: var(--fill-color);\n",
              "    }\n",
              "  }\n",
              "</style>\n",
              "\n",
              "      <script>\n",
              "        async function quickchart(key) {\n",
              "          const quickchartButtonEl =\n",
              "            document.querySelector('#' + key + ' button');\n",
              "          quickchartButtonEl.disabled = true;  // To prevent multiple clicks.\n",
              "          quickchartButtonEl.classList.add('colab-df-spinner');\n",
              "          try {\n",
              "            const charts = await google.colab.kernel.invokeFunction(\n",
              "                'suggestCharts', [key], {});\n",
              "          } catch (error) {\n",
              "            console.error('Error during call to suggestCharts:', error);\n",
              "          }\n",
              "          quickchartButtonEl.classList.remove('colab-df-spinner');\n",
              "          quickchartButtonEl.classList.add('colab-df-quickchart-complete');\n",
              "        }\n",
              "        (() => {\n",
              "          let quickchartButtonEl =\n",
              "            document.querySelector('#df-ecc344a1-0e5a-4348-a571-b1c5b9df762c button');\n",
              "          quickchartButtonEl.style.display =\n",
              "            google.colab.kernel.accessAllowed ? 'block' : 'none';\n",
              "        })();\n",
              "      </script>\n",
              "    </div>\n",
              "\n",
              "    </div>\n",
              "  </div>\n"
            ],
            "application/vnd.google.colaboratory.intrinsic+json": {
              "type": "dataframe",
              "variable_name": "balanced_df",
              "summary": "{\n  \"name\": \"balanced_df\",\n  \"rows\": 1732,\n  \"fields\": [\n    {\n      \"column\": \"post\",\n      \"properties\": {\n        \"dtype\": \"string\",\n        \"num_unique_values\": 1157,\n        \"samples\": [\n          \"All normal requirements in the Adminstrative and Data Entry field but no special or specific requirements needed please apply if you are in the force as well we await your response as to attend to them ASAP!\",\n          \"Minimum Requirements:Minimum of 6 months customer service related experience requiredHigh school diploma or equivalent (GED) requiredPreferred Qualifications:Keyboarding and windows environment PC skills required (Word, Excel and PowerPoint preferred)Experience running mail posting equipment a plusExcellent communication skills both verbal and writtenLifting up to 55 lbs with or without accommodationsWillingness and availability to work additional hours if assignedWillingness to submit to a pre-employment drug screening and criminal background checkAbility to effectively work individually or in a team environmentCompetency in performing multiple functional tasksAbility to meet employer's attendance policy\",\n          \"2. Experience in change management. We need someone who is going to be an advocate to the business and help get them excited about the changes as this is a heavy functional upgrade. 3. Knowledge of the Financial processes. They want someone to be able to make recommendations on what they've seen in the past or what they think will work best for their business\"\n        ],\n        \"semantic_type\": \"\",\n        \"description\": \"\"\n      }\n    },\n    {\n      \"column\": \"label\",\n      \"properties\": {\n        \"dtype\": \"category\",\n        \"num_unique_values\": 2,\n        \"samples\": [\n          \"Fake\",\n          \"Real\"\n        ],\n        \"semantic_type\": \"\",\n        \"description\": \"\"\n      }\n    }\n  ]\n}"
            }
          },
          "metadata": {},
          "execution_count": 15
        }
      ]
    },
    {
      "cell_type": "code",
      "source": [
        "train, test = train_test_split(balanced_df, test_size=0.2, random_state=SEED)\n",
        "train.reset_index(drop=True, inplace=True)\n",
        "test.reset_index(drop=True, inplace=True)"
      ],
      "metadata": {
        "id": "WaW_GorMnnV-"
      },
      "execution_count": 16,
      "outputs": []
    },
    {
      "cell_type": "code",
      "source": [
        "\n",
        "train_dist_label\t= {i:0 for i in train.label.unique()}\n",
        "for val in train.label:\n",
        "  train_dist_label[val] += 1\n",
        "\n",
        "test_dist_label\t= {i:0 for i in test.label.unique()}\n",
        "for val in test.label:\n",
        "  test_dist_label[val] += 1\n",
        "\n",
        "fig, axes = plt.subplots(1, 2, figsize=(4, 3))\n",
        "\n",
        "axes[0].pie(train_dist_label.values(), labels=train_dist_label.keys(), autopct='%1.1f%%',\n",
        "            textprops={'color': 'white', 'fontsize':10}, radius=.8,\n",
        "            colors= PALETTES.retro[1:]\n",
        "            )\n",
        "axes[0].set_title(\"Training\", fontsize=10)\n",
        "\n",
        "axes[1].pie(test_dist_label.values(), labels=test_dist_label.keys(), autopct='%1.1f%%',\n",
        "            textprops={'color': 'white', 'fontsize':10}, radius=.8,\n",
        "            colors= PALETTES.retro[1:]\n",
        "            )\n",
        "axes[1].set_title(\"Testing\", fontsize=10)\n",
        "\n",
        "fig.legend(train.label.value_counts().index, loc=\"upper center\", bbox_to_anchor=(0.5, 0.1), ncol=2, fontsize=8)\n",
        "plt.tight_layout()\n",
        "plt.show()"
      ],
      "metadata": {
        "colab": {
          "base_uri": "https://localhost:8080/",
          "height": 287
        },
        "id": "1PPpXtR5oH5z",
        "outputId": "c5f09e92-05f5-491d-b6ad-40af1fef8b5e"
      },
      "execution_count": 17,
      "outputs": [
        {
          "output_type": "display_data",
          "data": {
            "text/plain": [
              "<Figure size 400x300 with 2 Axes>"
            ],
            "image/png": "[encoded data removed]"
          },
          "metadata": {}
        }
      ]
    },
    {
      "cell_type": "code",
      "source": [
        "train_texts = train.post.values\n",
        "train_labels = train.label.values\n",
        "test_texts = test.post.values\n",
        "test_labels = test.label.values\n",
        "\n",
        "MENTION_HASHTAG_RE = re.compile(r\"(@|#)([A-Za-z0-9]+)\")\n",
        "EMAIL_RE = re.compile(r\"([A-Za-z0-9]+[._-])*[A-Za-z0-9]+@[A-Za-z0-9-]+(\\.[A-Za-z]{2,})+\")\n",
        "URL_RE = re.compile(r\"https?\\S+\", re.MULTILINE)\n",
        "DIGIT_RE = re.compile(r\"\\d\")\n",
        "PUNCT_RE = re.compile(r\"[^\\w\\s\\']\")\n",
        "SPACE_RE = re.compile(r\"\\s+\")\n",
        "\n",
        "def clean_sentence(sent: str, lower: bool = True) -> str:\n",
        "    if lower:\n",
        "        sent = sent.lower()\n",
        "    sent = MENTION_HASHTAG_RE.sub(\" \", sent)\n",
        "    sent = EMAIL_RE.sub(\" \", sent)\n",
        "    sent = URL_RE.sub(\" \", sent)\n",
        "    sent = DIGIT_RE.sub(\" \", sent)\n",
        "    sent = PUNCT_RE.sub(\" \", sent)\n",
        "    sent = SPACE_RE.sub(\" \", sent).strip()\n",
        "    return sent"
      ],
      "metadata": {
        "id": "DbQT-p6OciE7"
      },
      "execution_count": 18,
      "outputs": []
    },
    {
      "cell_type": "code",
      "source": [
        "train_text = [clean_sentence(i) for i in train_texts]\n",
        "test_text = [clean_sentence(i) for i in test_texts]"
      ],
      "metadata": {
        "id": "k8nfsz68u4L2"
      },
      "execution_count": 19,
      "outputs": []
    },
    {
      "cell_type": "markdown",
      "source": [
        "Next we are goint to create a counter object that will contain word counts that we are going to use to create our own vocabulary later on."
      ],
      "metadata": {
        "id": "dvl30xlNs-iR"
      }
    },
    {
      "cell_type": "code",
      "execution_count": 20,
      "metadata": {
        "id": "OdCzhfXUVkea"
      },
      "outputs": [],
      "source": [
        "test_counter = Counter()\n",
        "train_counter = Counter()\n",
        "for line in train_texts:\n",
        "    train_counter.update(line.lower().split())\n",
        "for line in test_texts:\n",
        "    test_counter.update(line.lower().split())"
      ]
    },
    {
      "cell_type": "markdown",
      "source": [
        "Next we are going to visualize the most common words in the dataset after it was cleaned using word clouds."
      ],
      "metadata": {
        "id": "ai8WKSm7tcgk"
      }
    },
    {
      "cell_type": "code",
      "source": [
        "plot_wordcloud(\n",
        "    train_counter, title=\"Most Common Words in the Train Set\", mask=\"wine\", background_color=PALETTES.sky[0], figsize=(4, 4),\n",
        "    fontsize=10\n",
        ")\n",
        "plot_wordcloud(\n",
        "    test_counter, title=\"Most Common Words in the Test Set\", mask=\"wine\", background_color=PALETTES.sky[0], figsize=(4, 4),\n",
        "    fontsize=10\n",
        ")"
      ],
      "metadata": {
        "colab": {
          "base_uri": "https://localhost:8080/",
          "height": 711
        },
        "id": "bEm6w1jFc4gr",
        "outputId": "cfb668b1-ea57-4b74-f624-16cd31f7e7ca"
      },
      "execution_count": 21,
      "outputs": [
        {
          "output_type": "display_data",
          "data": {
            "text/plain": [
              "<Figure size 400x400 with 1 Axes>"
            ],
            "image/png": "[encoded data removed]"
          },
          "metadata": {}
        },
        {
          "output_type": "display_data",
          "data": {
            "text/plain": [
              "<Figure size 400x400 with 1 Axes>"
            ],
            "image/png": "[encoded data removed]"
          },
          "metadata": {}
        }
      ]
    },
    {
      "cell_type": "markdown",
      "source": [
        "### Label pipeline\n",
        "Our labels for now are just textual. We also need to convert these labels into numbers. This is very simple what we need to do is to get all the uniqe labels and then create a `labels_vocab` which is a label to integer representation."
      ],
      "metadata": {
        "id": "UJPrnQEAqtzk"
      }
    },
    {
      "cell_type": "code",
      "source": [
        "labels_dict = {k: v for v, k in enumerate(train.label.unique())}\n",
        "labels_dict"
      ],
      "metadata": {
        "colab": {
          "base_uri": "https://localhost:8080/"
        },
        "id": "t2jR-ETvqsw5",
        "outputId": "29183c5a-6c54-4eec-e23c-4989d7dcbf78"
      },
      "execution_count": 22,
      "outputs": [
        {
          "output_type": "execute_result",
          "data": {
            "text/plain": [
              "{'Fake': 0, 'Real': 1}"
            ]
          },
          "metadata": {},
          "execution_count": 22
        }
      ]
    },
    {
      "cell_type": "markdown",
      "source": [
        "The `label_pipeline` function will then takes in the label and then returns us an integer representation of that label.\n",
        "\n"
      ],
      "metadata": {
        "id": "asJ0xGBVq4Ja"
      }
    },
    {
      "cell_type": "code",
      "source": [
        "label_pipeline = lambda x: labels_dict[x]"
      ],
      "metadata": {
        "id": "ZwJjzX6Nq801"
      },
      "execution_count": 23,
      "outputs": []
    },
    {
      "cell_type": "markdown",
      "metadata": {
        "id": "Q1Ohtgs01q3u"
      },
      "source": [
        "### Vocabulary\n",
        "Next we are going to create a vocabulary class and initialize it based on the `counter` object. We are going to specify the ``min_freq`` to ``2`` meaning that the words that does not appear at least ``2`` times will be converted to unknown. We are also going to specify the special tokens during creation of the vocabulary object."
      ]
    },
    {
      "cell_type": "code",
      "execution_count": 24,
      "metadata": {
        "id": "Q_GiMOWQisIb"
      },
      "outputs": [],
      "source": [
        "class vocab:\n",
        "    def __init__(self, counter, min_freq=1, specials=('[unk]', '[pad]', '[sos]', '[eos]')):\n",
        "        self.freqs = counter\n",
        "        self.itos = list(specials)\n",
        "        self.stoi = {}\n",
        "        for token, freq in counter.items():\n",
        "            if freq >= min_freq and token not in self.itos:\n",
        "                self.itos.append(token)\n",
        "\n",
        "        self.stoi = defaultdict(lambda: self.itos.index('[unk]'))  # default to unk\n",
        "        for idx, token in enumerate(self.itos):\n",
        "            self.stoi[token] = idx\n",
        "\n",
        "    def __len__(self):\n",
        "        return len(self.itos)\n",
        "\n",
        "    def __getitem__(self, token):\n",
        "        return self.stoi[token]\n",
        "\n",
        "    def get_stoi(self):\n",
        "        return self.stoi\n",
        "    def get_itos(self):\n",
        "        return self.itos\n",
        "\n",
        "\n",
        "vocabulary = vocab(train_counter, min_freq=2, specials=('[unk]', '[pad]', '[sos]', '[eos]'))"
      ]
    },
    {
      "cell_type": "markdown",
      "metadata": {
        "id": "vnK6twNwabXX"
      },
      "source": [
        "### STOI - ``String To Integer``\n",
        "This will be a dictionary that contains a string to integer mapping which will be our actual vocabulary. In the following code cell we are going to create object called stoi which is essentially a dictionary of word to index mapping. This dictionary will be used during training as well as during model inference."
      ]
    },
    {
      "cell_type": "code",
      "execution_count": 25,
      "metadata": {
        "id": "Jmh4c22ZabUn"
      },
      "outputs": [],
      "source": [
        "stoi = vocabulary.get_stoi()"
      ]
    },
    {
      "cell_type": "markdown",
      "metadata": {
        "id": "XmbRrtfGczdO"
      },
      "source": [
        "### Text Pipeline\n",
        "After our text has been tokenized we need a way of converting those words into numbers because machine leaning models understand numbers not words. That's where we the ``text_pipeline`` function comes into play. So this function takes in a sentence and tokenize it then converts each word to a number. Note that the word that does not exists in the vocabulay (``stoi``) will be converted to an unkown (``'[unk]'``) token (0)."
      ]
    },
    {
      "cell_type": "code",
      "execution_count": 26,
      "metadata": {
        "id": "TOsxiW_EabSM"
      },
      "outputs": [],
      "source": [
        "def text_pipeline(x: str):\n",
        "  values = list()\n",
        "  tokens = x.lower().split(\" \") # convert to lower case.\n",
        "  for token in tokens:\n",
        "    try:\n",
        "      v = stoi[token]\n",
        "    except KeyError as e:\n",
        "      v = stoi['[unk]']\n",
        "    values.append(v)\n",
        "  return values"
      ]
    },
    {
      "cell_type": "markdown",
      "metadata": {
        "id": "aCWM7UZYdobA"
      },
      "source": [
        "### Pretrained vectors\n",
        "In the following code cell we are going to download the predtrained word vectors. We are going to use the ``GloVe.6B.100d``. These are pretrained vectors that were trained with about ``~6B`` words and have a vector representation of a word in ``100`` dimension for each word."
      ]
    },
    {
      "cell_type": "code",
      "execution_count": 27,
      "metadata": {
        "id": "yUdKukyldYsL"
      },
      "outputs": [],
      "source": [
        "embedding_path = \"glove.6B.100d.txt\"\n",
        "EMBEDDING_DIM = 100\n",
        "glove_vectors = dict()\n",
        "with open(embedding_path, encoding=\"utf8\") as glove:\n",
        "  for line in glove:\n",
        "    records = line.split();\n",
        "    word = records[0]\n",
        "    vectors = np.asarray(records[1: ], dtype=np.float32)\n",
        "    glove_vectors[word] = vectors"
      ]
    },
    {
      "cell_type": "markdown",
      "metadata": {
        "id": "fcXWQP87dYoN"
      },
      "source": [
        "### Creating Embedding matrix\n",
        "Now that we have our glove vectors we need to costomize them so that they fit our use case. We are going to create an embedding matrix that suits the our vocabulary. So essentially this embedding matrix will be the word to vector mapping for all the words that arein our vocabulary."
      ]
    },
    {
      "cell_type": "code",
      "execution_count": 28,
      "metadata": {
        "id": "HA9Y4jB7abNE"
      },
      "outputs": [],
      "source": [
        "VOCAB_SIZE = len(stoi)\n",
        "EMBEDDING_MATRIX= torch.zeros([VOCAB_SIZE, EMBEDDING_DIM])\n",
        "for word, index in stoi.items():\n",
        "  vector = glove_vectors.get(word)\n",
        "  if vector is not None:\n",
        "    try:\n",
        "      EMBEDDING_MATRIX[index] = torch.from_numpy(vector)\n",
        "    except IndexError or Exception:\n",
        "      pass\n"
      ]
    },
    {
      "cell_type": "code",
      "source": [
        "assert VOCAB_SIZE == EMBEDDING_MATRIX.size(0), \"They should be the same\""
      ],
      "metadata": {
        "id": "7WZF79i-ww94"
      },
      "execution_count": 29,
      "outputs": []
    },
    {
      "cell_type": "markdown",
      "metadata": {
        "id": "Kz4r0Mdmd-eO"
      },
      "source": [
        "In the followig code cell we are going to check the embedding matrix for the word ``\"people\"``."
      ]
    },
    {
      "cell_type": "code",
      "execution_count": 30,
      "metadata": {
        "colab": {
          "base_uri": "https://localhost:8080/"
        },
        "id": "CRubgb1Dd-bO",
        "outputId": "8f7a459f-6ea0-4f1d-dbaa-6e59883b6eed"
      },
      "outputs": [
        {
          "output_type": "execute_result",
          "data": {
            "text/plain": [
              "tensor([ 0.2902,  0.8050,  0.3119, -0.3271, -0.4724,  1.1363, -0.3797,  0.1157,\n",
              "         0.4191,  0.0163, -0.0654, -0.0040,  0.7769, -0.2494,  0.1882, -0.6401,\n",
              "        -0.0203, -0.1853, -1.0651,  0.6912,  1.0472,  0.3617,  0.8086, -0.4277,\n",
              "        -0.1830, -0.2785,  0.4384, -0.0233,  0.3736, -0.3588,  0.4726,  0.7395,\n",
              "         0.0151,  0.0599, -0.0668, -0.3884,  0.2236,  0.8057,  0.3379, -0.0522,\n",
              "        -1.1057, -0.1113,  0.1510, -0.6665, -0.0450, -0.0682,  0.0990, -0.5594,\n",
              "        -0.7811, -0.5095, -0.3733, -0.7567,  0.2258,  1.2963, -0.4818, -1.8180,\n",
              "         0.3853, -0.2185,  2.2418,  0.2009, -0.3521,  1.4893, -0.2170, -0.2462,\n",
              "         0.5519,  0.9722,  0.5853, -0.0298,  0.5794, -0.6480, -0.1237, -0.5346,\n",
              "        -0.2053, -0.5360,  0.3090,  0.5393,  0.1185,  0.4275, -1.0872, -0.2341,\n",
              "         0.7388,  0.1575, -0.5664,  0.1623, -1.9117, -0.0193, -0.5029, -0.1758,\n",
              "        -0.5388, -0.3940,  0.8133, -0.3165,  0.2597, -0.4820, -1.4452,  0.2742,\n",
              "        -0.7265, -0.3360,  0.4600, -0.1128])"
            ]
          },
          "metadata": {},
          "execution_count": 30
        }
      ],
      "source": [
        "EMBEDDING_MATRIX[stoi['people']]"
      ]
    },
    {
      "cell_type": "markdown",
      "metadata": {
        "id": "tVMx4jP4eOPx"
      },
      "source": [
        "### Creating Dataset for Training\n",
        "In the following code cell we are going to create a dataset class called `FraudulentJobPosting`. This dataset will takes in the labels and the text of a set."
      ]
    },
    {
      "cell_type": "code",
      "execution_count": 31,
      "metadata": {
        "id": "aJQVF5Z9d-Xm"
      },
      "outputs": [],
      "source": [
        "class FraudulentJobPosting(torch.utils.data.Dataset):\n",
        "  def __init__(self, labels, text):\n",
        "    super(FraudulentJobPosting, self).__init__()\n",
        "    self.text = text\n",
        "    self.labels = labels\n",
        "\n",
        "  def __getitem__(self, index):\n",
        "    return self.labels[index], self.text[index]\n",
        "\n",
        "  def __len__(self):\n",
        "    return len(self.text)"
      ]
    },
    {
      "cell_type": "markdown",
      "metadata": {
        "id": "3BKqJ90ZefI9"
      },
      "source": [
        "### ``collate_fn``\n",
        "We are going to create a collate function called ``tokenize_batch``. This function actually takes in a batch and does the preprocessing of the ``text`` . This function will be passed to the ``DataLoader`` class to do the preprocessing of ``features``.\n",
        "\n",
        "### ``tokenize_batch`` function:\n",
        "\n",
        "* this function takes in a batch in each set and convert the features to integer representation.\n",
        "* It goes ahead and ``pad`` and ``truncate`` the sequence to the same length and returns ``features``."
      ]
    },
    {
      "cell_type": "code",
      "execution_count": 32,
      "metadata": {
        "id": "WzCLHG5Pd-TJ"
      },
      "outputs": [],
      "source": [
        "def tokenize_batch(batch, max_len=100, padding=\"pre\"):\n",
        "  assert padding==\"pre\" or padding==\"post\", \"the padding can be either pre or post\"\n",
        "  labels_list, text_list = [], []\n",
        "  for _label, _text in batch:\n",
        "    labels_list.append(label_pipeline(_label))\n",
        "    text_holder = torch.zeros(max_len, dtype=torch.int32)\n",
        "    processed_text = torch.tensor(text_pipeline(_text), dtype=torch.int32)\n",
        "    pos = min(max_len, len(processed_text))\n",
        "    if padding == \"pre\":\n",
        "      text_holder[:pos] = processed_text[:pos]\n",
        "    else:\n",
        "      text_holder[-pos:] = processed_text[-pos:]\n",
        "    text_list.append(text_holder.unsqueeze(dim=0))\n",
        "  features = torch.cat(text_list, dim=0)\n",
        "  return torch.FloatTensor(labels_list) if len(set(labels_list)) == 2 else torch.LongTensor(labels_list), features"
      ]
    },
    {
      "cell_type": "markdown",
      "metadata": {
        "id": "tJngG-amd-Of"
      },
      "source": [
        "### Datasets\n",
        "In the following code cell we are going to create the datasets for all our three sets using the `FraudulentJobPosting` class."
      ]
    },
    {
      "cell_type": "code",
      "execution_count": 33,
      "metadata": {
        "id": "DxHSjEx4d-KJ"
      },
      "outputs": [],
      "source": [
        "train_dataset = FraudulentJobPosting(train_labels, train_texts)\n",
        "test_dataset = FraudulentJobPosting(test_labels, test_texts)"
      ]
    },
    {
      "cell_type": "markdown",
      "metadata": {
        "id": "qXmABbFBLYNc"
      },
      "source": [
        "### Iterators\n",
        "In the following code cell we are going to create loaders using the ``DataLoader`` class from ``torch.utils.data``."
      ]
    },
    {
      "cell_type": "code",
      "execution_count": 34,
      "metadata": {
        "id": "VL3roEBULWeD"
      },
      "outputs": [],
      "source": [
        "BATCH_SIZE = 128\n",
        "train_loader = torch.utils.data.DataLoader(train_dataset, batch_size=BATCH_SIZE, shuffle=True, collate_fn=tokenize_batch)\n",
        "test_loader = torch.utils.data.DataLoader(test_dataset, batch_size=BATCH_SIZE, shuffle=False, collate_fn=tokenize_batch)"
      ]
    },
    {
      "cell_type": "markdown",
      "metadata": {
        "id": "EgnVhtAyfxKy"
      },
      "source": [
        "Checking a single Batch Data"
      ]
    },
    {
      "cell_type": "code",
      "execution_count": 35,
      "metadata": {
        "id": "zHnpux11f0ac"
      },
      "outputs": [],
      "source": [
        "lbl, txt = next(iter(train_loader))"
      ]
    },
    {
      "cell_type": "markdown",
      "source": [
        "Checking a single batch of labels."
      ],
      "metadata": {
        "id": "PENt9RX0sRf4"
      }
    },
    {
      "cell_type": "code",
      "source": [
        "lbl"
      ],
      "metadata": {
        "colab": {
          "base_uri": "https://localhost:8080/"
        },
        "id": "Q5dLusfXsQuQ",
        "outputId": "63955e02-a555-4ea5-9385-dad884464245"
      },
      "execution_count": 36,
      "outputs": [
        {
          "output_type": "execute_result",
          "data": {
            "text/plain": [
              "tensor([1., 0., 1., 0., 0., 1., 0., 1., 0., 0., 0., 0., 0., 1., 0., 0., 1., 1.,\n",
              "        1., 0., 1., 1., 1., 0., 1., 0., 1., 0., 0., 0., 0., 0., 1., 0., 0., 0.,\n",
              "        0., 1., 0., 1., 1., 1., 1., 1., 0., 1., 0., 0., 0., 0., 1., 1., 1., 1.,\n",
              "        1., 0., 1., 0., 0., 0., 1., 1., 0., 0., 1., 1., 1., 0., 0., 0., 0., 1.,\n",
              "        1., 0., 1., 0., 0., 1., 1., 0., 1., 0., 0., 0., 0., 0., 1., 0., 1., 0.,\n",
              "        0., 1., 0., 1., 1., 1., 0., 0., 1., 1., 1., 1., 1., 1., 0., 0., 1., 1.,\n",
              "        0., 1., 0., 0., 0., 1., 0., 1., 1., 1., 1., 0., 1., 1., 1., 0., 0., 1.,\n",
              "        1., 0.])"
            ]
          },
          "metadata": {},
          "execution_count": 36
        }
      ]
    },
    {
      "cell_type": "markdown",
      "metadata": {
        "id": "kuk993nuf9rp"
      },
      "source": [
        "The first sentence in the batch."
      ]
    },
    {
      "cell_type": "code",
      "execution_count": 37,
      "metadata": {
        "colab": {
          "base_uri": "https://localhost:8080/"
        },
        "id": "6dmP77PjgCAL",
        "outputId": "c5400bef-013f-479e-c965-85bba56d5ab9"
      },
      "outputs": [
        {
          "output_type": "execute_result",
          "data": {
            "text/plain": [
              "tensor([1297,    0,  470,    0, 2251,  865,   38,    0, 2201,  746,    0,    0,\n",
              "        1173,   64,  854, 4966,    0,   26,  319,  104,   34,  788, 2236, 1387,\n",
              "         642,  834,   27,  318,    0, 4967,   47, 4476,   48,   16,    7,  580,\n",
              "        1523,   36,   39,    0, 2099,    0,    7,   97, 2186,    0,    0,    0,\n",
              "           0,    0,    0,    0,    0,    0,    0,    0,    0,    0,    0,    0,\n",
              "           0,    0,    0,    0,    0,    0,    0,    0,    0,    0,    0,    0,\n",
              "           0,    0,    0,    0,    0,    0,    0,    0,    0,    0,    0,    0,\n",
              "           0,    0,    0,    0,    0,    0,    0,    0,    0,    0,    0,    0,\n",
              "           0,    0,    0,    0], dtype=torch.int32)"
            ]
          },
          "metadata": {},
          "execution_count": 37
        }
      ],
      "source": [
        "txt[0]"
      ]
    },
    {
      "cell_type": "markdown",
      "metadata": {
        "id": "HgmtbdKdhIQJ"
      },
      "source": [
        "### FraudulentJobPostingBiLSTM\n",
        "\n",
        "In the following code cell we are going to build a model using `LSTM` layers which will convert the texts into a lower dimension that we can use for clustering."
      ]
    },
    {
      "cell_type": "code",
      "source": [
        "\n",
        "class FraudulentJobPostingBiLSTM(nn.Module):\n",
        "  def __init__(self, vocab_size, embedding_size,\n",
        "               hidden_size, output_size, num_layers,\n",
        "               bidirectional, dropout, pad_index\n",
        "               ):\n",
        "    super(FraudulentJobPostingBiLSTM, self).__init__()\n",
        "    self.embedding = nn.Sequential(\n",
        "          nn.Embedding(\n",
        "              vocab_size, embedding_size, padding_idx=pad_index\n",
        "        )\n",
        "    )\n",
        "\n",
        "    self.lstm = nn.Sequential(\n",
        "          nn.LSTM(\n",
        "              embedding_size, hidden_size = hidden_size,\n",
        "              bidirectional=bidirectional,\n",
        "              num_layers=num_layers,\n",
        "              dropout = dropout,\n",
        "              batch_first=True,\n",
        "          )\n",
        "    )\n",
        "    self.out = nn.Sequential(\n",
        "        nn.Linear(hidden_size * 2, out_features=output_size)\n",
        "    )\n",
        "\n",
        "  def forward(self, text, text_lengths):\n",
        "    embedded = self.embedding(text)\n",
        "    packed_embedded = nn.utils.rnn.pack_padded_sequence(\n",
        "            embedded, text_lengths, batch_first=True, enforce_sorted=False\n",
        "    )\n",
        "    packed_output, (hidden, cell) = self.lstm(packed_embedded)\n",
        "    if self.lstm[0].bidirectional:\n",
        "      hidden = torch.cat([hidden[-1], hidden[-2]], dim=-1)\n",
        "    else:\n",
        "      hidden = hidden[-1]\n",
        "    return self.out(hidden)"
      ],
      "metadata": {
        "id": "ArRvbpuQk8WB"
      },
      "execution_count": 38,
      "outputs": []
    },
    {
      "cell_type": "markdown",
      "metadata": {
        "id": "8KKSbQ__mZ-d"
      },
      "source": [
        "Next we are going to create an instance of a `FraudulentJobPostingBiLSTM`."
      ]
    },
    {
      "cell_type": "code",
      "source": [
        "INPUT_DIM = VOCAB_SIZE\n",
        "EMBEDDING_DIM = 100\n",
        "HIDDEN_DIM = 256\n",
        "OUTPUT_DIM = 1 if len(labels_dict) == 2 else len(labels_dict)\n",
        "N_LAYERS = 2\n",
        "BIDIRECTIONAL = True\n",
        "DROPOUT = 0.6578\n",
        "PAD_IDX = stoi['[pad]']\n",
        "bilstm = FraudulentJobPostingBiLSTM(\n",
        "              INPUT_DIM,\n",
        "              EMBEDDING_DIM,\n",
        "              HIDDEN_DIM,\n",
        "              OUTPUT_DIM,\n",
        "              N_LAYERS,\n",
        "              BIDIRECTIONAL,\n",
        "              DROPOUT,\n",
        "              PAD_IDX\n",
        ").to(device)\n",
        "bilstm"
      ],
      "metadata": {
        "colab": {
          "base_uri": "https://localhost:8080/"
        },
        "id": "z5571BF7lJPR",
        "outputId": "7ce1ecc4-396b-4669-cebb-e41ae2ba97eb"
      },
      "execution_count": 39,
      "outputs": [
        {
          "output_type": "execute_result",
          "data": {
            "text/plain": [
              "FraudulentJobPostingBiLSTM(\n",
              "  (embedding): Sequential(\n",
              "    (0): Embedding(5949, 100, padding_idx=1)\n",
              "  )\n",
              "  (lstm): Sequential(\n",
              "    (0): LSTM(100, 256, num_layers=2, batch_first=True, dropout=0.6578, bidirectional=True)\n",
              "  )\n",
              "  (out): Sequential(\n",
              "    (0): Linear(in_features=512, out_features=1, bias=True)\n",
              "  )\n",
              ")"
            ]
          },
          "metadata": {},
          "execution_count": 39
        }
      ]
    },
    {
      "cell_type": "markdown",
      "metadata": {
        "id": "5fQgn0-IQ4kd"
      },
      "source": [
        "### Model Parameters\n",
        "\n",
        "In the following code cell we are going to count parameters for our `FraudulentJobPostingBiLSTM` model."
      ]
    },
    {
      "cell_type": "code",
      "execution_count": 40,
      "metadata": {
        "colab": {
          "base_uri": "https://localhost:8080/"
        },
        "id": "cEaTKAgDQwxX",
        "outputId": "764fe8ad-4633-41ba-bea3-42bd247105b7"
      },
      "outputs": [
        {
          "output_type": "stream",
          "name": "stdout",
          "text": [
            "Models Parameters\n",
            "+--------+--------------+------------------+\n",
            "| MODEL  | TOTAL PARAMS | TRAINABLE PARAMS |\n",
            "+--------+--------------+------------------+\n",
            "| BiLSTM |    2,905,557 |        2,905,557 |\n",
            "+--------+--------------+------------------+\n"
          ]
        }
      ],
      "source": [
        "def count_trainable_params(model):\n",
        "  return f\"{sum(p.numel() for p in model.parameters()):,}\", f\"{sum(p.numel() for p in model.parameters() if p.requires_grad):,}\"\n",
        "\n",
        "columns = [\"MODEL\", \"TOTAL PARAMS\", \"TRAINABLE PARAMS\"]\n",
        "data = [\n",
        "    [\"BiLSTM\", *count_trainable_params(bilstm)],\n",
        "]\n",
        "tabulate_data(columns, data, title=\"Models Parameters\")"
      ]
    },
    {
      "cell_type": "markdown",
      "metadata": {
        "id": "RjvZJEiAR5vc"
      },
      "source": [
        "### Loading Embedding Vectors\n",
        "In the following code cells we are going to load the pretained custom vectors in our embedding layer to our model. We are going to load the embedding vectors tha suits our data using the ``model.embedding[0].weight.data.copy_(EMBEDDING_MATRIX)``"
      ]
    },
    {
      "cell_type": "code",
      "execution_count": 41,
      "metadata": {
        "id": "NO1AGmhtxhmp"
      },
      "outputs": [],
      "source": [
        "assert EMBEDDING_MATRIX.size(0) == VOCAB_SIZE, \"This should match!\""
      ]
    },
    {
      "cell_type": "code",
      "execution_count": 42,
      "metadata": {
        "colab": {
          "base_uri": "https://localhost:8080/"
        },
        "id": "HpzrHY1-oYTq",
        "outputId": "c8cbaeec-dd6e-4e3d-ff01-0bee1569e951"
      },
      "outputs": [
        {
          "output_type": "execute_result",
          "data": {
            "text/plain": [
              "tensor([[0., 0., 0.,  ..., 0., 0., 0.],\n",
              "        [0., 0., 0.,  ..., 0., 0., 0.],\n",
              "        [0., 0., 0.,  ..., 0., 0., 0.],\n",
              "        ...,\n",
              "        [0., 0., 0.,  ..., 0., 0., 0.],\n",
              "        [0., 0., 0.,  ..., 0., 0., 0.],\n",
              "        [0., 0., 0.,  ..., 0., 0., 0.]], device='cuda:0')"
            ]
          },
          "metadata": {},
          "execution_count": 42
        }
      ],
      "source": [
        "bilstm.embedding[0].weight.data.copy_(EMBEDDING_MATRIX)"
      ]
    },
    {
      "cell_type": "markdown",
      "source": [
        "### Optimizer and Criterion\n",
        "We are going to use the `Adam` optimizer with default parameters and for the criterion we are going to use the `BCEWithLogitsLoss()` function since this is a `binary-class` classification."
      ],
      "metadata": {
        "id": "62qzO9BJt48U"
      }
    },
    {
      "cell_type": "code",
      "source": [
        "optimizer = torch.optim.Adam(bilstm.parameters())\n",
        "criterion = nn.BCEWithLogitsLoss().to(device)"
      ],
      "metadata": {
        "id": "3eaKa6tkt-CU"
      },
      "execution_count": 43,
      "outputs": []
    },
    {
      "cell_type": "markdown",
      "source": [
        "In the following code cell we are going to create our `binary_accuracy` function, which is a function that calulates the the catecorical accuracy between the predicted labels and real labels."
      ],
      "metadata": {
        "id": "CRLupl4DuASB"
      }
    },
    {
      "cell_type": "code",
      "source": [
        "def binary_accuracy(y_preds, y_true):\n",
        "  rounded_preds = torch.round(torch.sigmoid(y_preds))\n",
        "  correct = (rounded_preds == y_true).float()\n",
        "  return correct.sum() / len(correct)"
      ],
      "metadata": {
        "id": "T0HI2O8cuFmN"
      },
      "execution_count": 44,
      "outputs": []
    },
    {
      "cell_type": "markdown",
      "source": [
        "### Training and evaluation functions.\n",
        "In the following code cell we are going to create our `train` and `evalute` functions:"
      ],
      "metadata": {
        "id": "cFIPv1QuuLeR"
      }
    },
    {
      "cell_type": "code",
      "source": [
        "def train(model, iterator, optimizer, criterion):\n",
        "  epoch_loss,epoch_acc = 0, 0\n",
        "  model.train()\n",
        "  for batch in iterator:\n",
        "    y, X = batch\n",
        "    X = X.to(device)\n",
        "    y = y.to(device)\n",
        "    lengths = torch.tensor([len(i) for i in X])\n",
        "    optimizer.zero_grad()\n",
        "\n",
        "    predictions = model(X, lengths).squeeze(1)\n",
        "    loss = criterion(predictions, y)\n",
        "    acc = binary_accuracy(predictions, y)\n",
        "    loss.backward()\n",
        "    optimizer.step()\n",
        "    epoch_loss += loss.item()\n",
        "    epoch_acc += acc.item()\n",
        "  return epoch_loss / len(iterator), epoch_acc / len(iterator)\n",
        "\n",
        "def evaluate(model, iterator, criterion):\n",
        "  epoch_loss,epoch_acc = 0, 0\n",
        "  model.eval()\n",
        "  with torch.no_grad():\n",
        "    for batch in iterator:\n",
        "      y, X = batch\n",
        "      X = X.to(device)\n",
        "      y = y.to(device)\n",
        "      lengths = torch.tensor([len(i) for i in X])\n",
        "      predictions = model(X, lengths).squeeze(1)\n",
        "      loss = criterion(predictions, y)\n",
        "      acc = binary_accuracy(predictions, y)\n",
        "      epoch_loss += loss.item()\n",
        "      epoch_acc += acc.item()\n",
        "  return epoch_loss / len(iterator), epoch_acc / len(iterator)"
      ],
      "metadata": {
        "id": "MxxqwkkAuPFq"
      },
      "execution_count": 45,
      "outputs": []
    },
    {
      "cell_type": "markdown",
      "source": [
        "### Training Loop.\n",
        "When training the model we are going to train our model. And we are also going to keep on tracking the training history of each model. The following `History` class is a data structure for our training history."
      ],
      "metadata": {
        "id": "OW1hk0O3uWPd"
      }
    },
    {
      "cell_type": "code",
      "source": [
        "class History:\n",
        "  def __init__(self):\n",
        "    self.train_losses = list()\n",
        "    self.train_acc = list()\n",
        "    self.epoch_train_time = list()\n",
        "    self.val_losses = list()\n",
        "    self.val_acc = list()\n",
        "\n",
        "  def add(self, train_loss:float, train_acc:float, val_loss:float, val_acc:float, elt:float):\n",
        "    self.train_losses.append(train_loss)\n",
        "    self.val_losses.append(val_loss)\n",
        "    self.train_acc.append(train_acc)\n",
        "    self.val_acc.append(val_acc)\n",
        "    self.epoch_train_time.append(elt)"
      ],
      "metadata": {
        "id": "UiwJijCmubDC"
      },
      "execution_count": 46,
      "outputs": []
    },
    {
      "cell_type": "markdown",
      "source": [
        "In the following code cell we are going to create the `run_train_loop` function."
      ],
      "metadata": {
        "id": "WPnpUuRAumiD"
      }
    },
    {
      "cell_type": "code",
      "source": [
        "def run_train_loop(model, model_name, train_loader, val_loader,  epochs=6, optimizer=None, criterion=None):\n",
        "  best_valid_loss = float('inf')\n",
        "  last_saved_epoch = 1\n",
        "  history = History()\n",
        "  training_start = time.time()\n",
        "  for epoch in range(epochs):\n",
        "    start = time.time()\n",
        "    train_loss, train_acc = train(model, train_loader, optimizer, criterion)\n",
        "    valid_loss, valid_acc = evaluate(model, val_loader, criterion)\n",
        "    title = f\"EPOCH: {epoch+1:02}/{epochs:02} {'saving best model...' if valid_loss < best_valid_loss else 'not saving...'}\"\n",
        "    if valid_loss < best_valid_loss:\n",
        "        best_valid_loss = valid_loss\n",
        "        torch.save(model.state_dict(), model_name)\n",
        "        last_saved_epoch = epoch+1\n",
        "    end = time.time()\n",
        "    history.add(train_loss, train_acc, valid_loss, valid_acc, end-start)\n",
        "    data = [\n",
        "        [\"Training\", f'{train_loss:.3f}', f'{train_acc:.3f}', f\"{hms_string(end - start)}\" ],\n",
        "        [\"Validation\", f'{valid_loss:.3f}', f'{valid_acc:.3f}', \"\" ],\n",
        "    ]\n",
        "    columns = [\"CATEGORY\", \"LOSS\", \"ACCURACY\", \"ETA\"]\n",
        "    tabulate_data(columns, data, title)\n",
        "\n",
        "  training_end = time.time()\n",
        "  return history, training_end - training_start, last_saved_epoch"
      ],
      "metadata": {
        "id": "eetF3lpUuj3v"
      },
      "execution_count": 47,
      "outputs": []
    },
    {
      "cell_type": "code",
      "source": [
        "EPOCHS = 20\n",
        "\n",
        "history, elt, last_saved_epoch = run_train_loop(\n",
        "    bilstm, 'lstm.pt', train_loader, test_loader, EPOCHS,\n",
        "    optimizer=optimizer, criterion=criterion\n",
        ")\n",
        ""
      ],
      "metadata": {
        "colab": {
          "base_uri": "https://localhost:8080/"
        },
        "id": "dj4os4EHxKtU",
        "outputId": "3ecf85fa-5dd5-4185-d919-c2175f52d655"
      },
      "execution_count": 48,
      "outputs": [
        {
          "output_type": "stream",
          "name": "stdout",
          "text": [
            "EPOCH: 01/20 saving best model...\n",
            "+------------+-------+----------+------------+\n",
            "| CATEGORY   |  LOSS | ACCURACY |        ETA |\n",
            "+------------+-------+----------+------------+\n",
            "| Training   | 0.687 |    0.539 | 0:00:01.18 |\n",
            "| Validation | 0.664 |    0.633 |            |\n",
            "+------------+-------+----------+------------+\n",
            "EPOCH: 02/20 saving best model...\n",
            "+------------+-------+----------+------------+\n",
            "| CATEGORY   |  LOSS | ACCURACY |        ETA |\n",
            "+------------+-------+----------+------------+\n",
            "| Training   | 0.626 |    0.659 | 0:00:00.84 |\n",
            "| Validation | 0.607 |    0.648 |            |\n",
            "+------------+-------+----------+------------+\n",
            "EPOCH: 03/20 saving best model...\n",
            "+------------+-------+----------+------------+\n",
            "| CATEGORY   |  LOSS | ACCURACY |        ETA |\n",
            "+------------+-------+----------+------------+\n",
            "| Training   | 0.572 |    0.692 | 0:00:00.83 |\n",
            "| Validation | 0.599 |    0.666 |            |\n",
            "+------------+-------+----------+------------+\n",
            "EPOCH: 04/20 saving best model...\n",
            "+------------+-------+----------+------------+\n",
            "| CATEGORY   |  LOSS | ACCURACY |        ETA |\n",
            "+------------+-------+----------+------------+\n",
            "| Training   | 0.513 |    0.731 | 0:00:00.83 |\n",
            "| Validation | 0.560 |    0.703 |            |\n",
            "+------------+-------+----------+------------+\n",
            "EPOCH: 05/20 not saving...\n",
            "+------------+-------+----------+------------+\n",
            "| CATEGORY   |  LOSS | ACCURACY |        ETA |\n",
            "+------------+-------+----------+------------+\n",
            "| Training   | 0.463 |    0.769 | 0:00:00.82 |\n",
            "| Validation | 0.589 |    0.694 |            |\n",
            "+------------+-------+----------+------------+\n",
            "EPOCH: 06/20 saving best model...\n",
            "+------------+-------+----------+------------+\n",
            "| CATEGORY   |  LOSS | ACCURACY |        ETA |\n",
            "+------------+-------+----------+------------+\n",
            "| Training   | 0.473 |    0.769 | 0:00:00.89 |\n",
            "| Validation | 0.554 |    0.710 |            |\n",
            "+------------+-------+----------+------------+\n",
            "EPOCH: 07/20 saving best model...\n",
            "+------------+-------+----------+------------+\n",
            "| CATEGORY   |  LOSS | ACCURACY |        ETA |\n",
            "+------------+-------+----------+------------+\n",
            "| Training   | 0.444 |    0.793 | 0:00:00.90 |\n",
            "| Validation | 0.541 |    0.738 |            |\n",
            "+------------+-------+----------+------------+\n",
            "EPOCH: 08/20 not saving...\n",
            "+------------+-------+----------+------------+\n",
            "| CATEGORY   |  LOSS | ACCURACY |        ETA |\n",
            "+------------+-------+----------+------------+\n",
            "| Training   | 0.386 |    0.811 | 0:00:00.86 |\n",
            "| Validation | 0.549 |    0.720 |            |\n",
            "+------------+-------+----------+------------+\n",
            "EPOCH: 09/20 saving best model...\n",
            "+------------+-------+----------+------------+\n",
            "| CATEGORY   |  LOSS | ACCURACY |        ETA |\n",
            "+------------+-------+----------+------------+\n",
            "| Training   | 0.321 |    0.839 | 0:00:00.85 |\n",
            "| Validation | 0.538 |    0.755 |            |\n",
            "+------------+-------+----------+------------+\n",
            "EPOCH: 10/20 not saving...\n",
            "+------------+-------+----------+------------+\n",
            "| CATEGORY   |  LOSS | ACCURACY |        ETA |\n",
            "+------------+-------+----------+------------+\n",
            "| Training   | 0.293 |    0.844 | 0:00:00.82 |\n",
            "| Validation | 0.568 |    0.748 |            |\n",
            "+------------+-------+----------+------------+\n",
            "EPOCH: 11/20 not saving...\n",
            "+------------+-------+----------+------------+\n",
            "| CATEGORY   |  LOSS | ACCURACY |        ETA |\n",
            "+------------+-------+----------+------------+\n",
            "| Training   | 0.248 |    0.866 | 0:00:00.82 |\n",
            "| Validation | 0.585 |    0.759 |            |\n",
            "+------------+-------+----------+------------+\n",
            "EPOCH: 12/20 not saving...\n",
            "+------------+-------+----------+------------+\n",
            "| CATEGORY   |  LOSS | ACCURACY |        ETA |\n",
            "+------------+-------+----------+------------+\n",
            "| Training   | 0.226 |    0.876 | 0:00:00.82 |\n",
            "| Validation | 0.632 |    0.755 |            |\n",
            "+------------+-------+----------+------------+\n",
            "EPOCH: 13/20 not saving...\n",
            "+------------+-------+----------+------------+\n",
            "| CATEGORY   |  LOSS | ACCURACY |        ETA |\n",
            "+------------+-------+----------+------------+\n",
            "| Training   | 0.202 |    0.881 | 0:00:00.82 |\n",
            "| Validation | 0.613 |    0.768 |            |\n",
            "+------------+-------+----------+------------+\n",
            "EPOCH: 14/20 not saving...\n",
            "+------------+-------+----------+------------+\n",
            "| CATEGORY   |  LOSS | ACCURACY |        ETA |\n",
            "+------------+-------+----------+------------+\n",
            "| Training   | 0.174 |    0.891 | 0:00:00.82 |\n",
            "| Validation | 0.690 |    0.782 |            |\n",
            "+------------+-------+----------+------------+\n",
            "EPOCH: 15/20 not saving...\n",
            "+------------+-------+----------+------------+\n",
            "| CATEGORY   |  LOSS | ACCURACY |        ETA |\n",
            "+------------+-------+----------+------------+\n",
            "| Training   | 0.152 |    0.899 | 0:00:00.82 |\n",
            "| Validation | 0.803 |    0.784 |            |\n",
            "+------------+-------+----------+------------+\n",
            "EPOCH: 16/20 not saving...\n",
            "+------------+-------+----------+------------+\n",
            "| CATEGORY   |  LOSS | ACCURACY |        ETA |\n",
            "+------------+-------+----------+------------+\n",
            "| Training   | 0.141 |    0.909 | 0:00:00.82 |\n",
            "| Validation | 0.882 |    0.763 |            |\n",
            "+------------+-------+----------+------------+\n",
            "EPOCH: 17/20 not saving...\n",
            "+------------+-------+----------+------------+\n",
            "| CATEGORY   |  LOSS | ACCURACY |        ETA |\n",
            "+------------+-------+----------+------------+\n",
            "| Training   | 0.140 |    0.914 | 0:00:00.83 |\n",
            "| Validation | 0.814 |    0.746 |            |\n",
            "+------------+-------+----------+------------+\n",
            "EPOCH: 18/20 not saving...\n",
            "+------------+-------+----------+------------+\n",
            "| CATEGORY   |  LOSS | ACCURACY |        ETA |\n",
            "+------------+-------+----------+------------+\n",
            "| Training   | 0.141 |    0.904 | 0:00:00.83 |\n",
            "| Validation | 0.903 |    0.731 |            |\n",
            "+------------+-------+----------+------------+\n",
            "EPOCH: 19/20 not saving...\n",
            "+------------+-------+----------+------------+\n",
            "| CATEGORY   |  LOSS | ACCURACY |        ETA |\n",
            "+------------+-------+----------+------------+\n",
            "| Training   | 0.175 |    0.895 | 0:00:00.83 |\n",
            "| Validation | 0.756 |    0.749 |            |\n",
            "+------------+-------+----------+------------+\n",
            "EPOCH: 20/20 not saving...\n",
            "+------------+-------+----------+------------+\n",
            "| CATEGORY   |  LOSS | ACCURACY |        ETA |\n",
            "+------------+-------+----------+------------+\n",
            "| Training   | 0.151 |    0.913 | 0:00:00.83 |\n",
            "| Validation | 0.751 |    0.749 |            |\n",
            "+------------+-------+----------+------------+\n"
          ]
        }
      ]
    },
    {
      "cell_type": "markdown",
      "source": [
        "Next we are going to save the the files that we are going to use for model inference."
      ],
      "metadata": {
        "id": "17okod7uyBXU"
      }
    },
    {
      "cell_type": "code",
      "source": [
        "with open(\"vocab.json\", 'w') as f:\n",
        "  f.write(json.dumps(stoi, indent=2))\n",
        "\n",
        "with open(\"labels_dict.json\", 'w') as f:\n",
        "  f.write(json.dumps(labels_dict, indent=2))\n",
        "print(\"Done!\")"
      ],
      "metadata": {
        "colab": {
          "base_uri": "https://localhost:8080/"
        },
        "id": "mSTCrAnwxNzk",
        "outputId": "7ca1f657-89ea-44cf-ffa6-f98b50335dc5"
      },
      "execution_count": 49,
      "outputs": [
        {
          "output_type": "stream",
          "name": "stdout",
          "text": [
            "Done!\n"
          ]
        }
      ]
    },
    {
      "cell_type": "markdown",
      "source": [
        "Then we going to download the static file."
      ],
      "metadata": {
        "id": "POlVcai-yLBv"
      }
    },
    {
      "cell_type": "code",
      "source": [
        "from google.colab import files\n",
        "files.download('lstm.pt')\n",
        "files.download('vocab.json')\n",
        "files.download('labels_dict.json')"
      ],
      "metadata": {
        "colab": {
          "base_uri": "https://localhost:8080/",
          "height": 17
        },
        "id": "OJx88qlRyMGC",
        "outputId": "bee18c29-57a1-444e-9b66-3e8fbb1ab5ea"
      },
      "execution_count": 50,
      "outputs": [
        {
          "output_type": "display_data",
          "data": {
            "text/plain": [
              "<IPython.core.display.Javascript object>"
            ],
            "application/javascript": [
              "\n",
              "    async function download(id, filename, size) {\n",
              "      if (!google.colab.kernel.accessAllowed) {\n",
              "        return;\n",
              "      }\n",
              "      const div = document.createElement('div');\n",
              "      const label = document.createElement('label');\n",
              "      label.textContent = `Downloading \"${filename}\": `;\n",
              "      div.appendChild(label);\n",
              "      const progress = document.createElement('progress');\n",
              "      progress.max = size;\n",
              "      div.appendChild(progress);\n",
              "      document.body.appendChild(div);\n",
              "\n",
              "      const buffers = [];\n",
              "      let downloaded = 0;\n",
              "\n",
              "      const channel = await google.colab.kernel.comms.open(id);\n",
              "      // Send a message to notify the kernel that we're ready.\n",
              "      channel.send({})\n",
              "\n",
              "      for await (const message of channel.messages) {\n",
              "        // Send a message to notify the kernel that we're ready.\n",
              "        channel.send({})\n",
              "        if (message.buffers) {\n",
              "          for (const buffer of message.buffers) {\n",
              "            buffers.push(buffer);\n",
              "            downloaded += buffer.byteLength;\n",
              "            progress.value = downloaded;\n",
              "          }\n",
              "        }\n",
              "      }\n",
              "      const blob = new Blob(buffers, {type: 'application/binary'});\n",
              "      const a = document.createElement('a');\n",
              "      a.href = window.URL.createObjectURL(blob);\n",
              "      a.download = filename;\n",
              "      div.appendChild(a);\n",
              "      a.click();\n",
              "      div.remove();\n",
              "    }\n",
              "  "
            ]
          },
          "metadata": {}
        },
        {
          "output_type": "display_data",
          "data": {
            "text/plain": [
              "<IPython.core.display.Javascript object>"
            ],
            "application/javascript": [
              "download(\"download_0ef8660d-3a40-4c61-bac1-a81eb5f6fc8a\", \"lstm.pt\", 11625656)"
            ]
          },
          "metadata": {}
        },
        {
          "output_type": "display_data",
          "data": {
            "text/plain": [
              "<IPython.core.display.Javascript object>"
            ],
            "application/javascript": [
              "\n",
              "    async function download(id, filename, size) {\n",
              "      if (!google.colab.kernel.accessAllowed) {\n",
              "        return;\n",
              "      }\n",
              "      const div = document.createElement('div');\n",
              "      const label = document.createElement('label');\n",
              "      label.textContent = `Downloading \"${filename}\": `;\n",
              "      div.appendChild(label);\n",
              "      const progress = document.createElement('progress');\n",
              "      progress.max = size;\n",
              "      div.appendChild(progress);\n",
              "      document.body.appendChild(div);\n",
              "\n",
              "      const buffers = [];\n",
              "      let downloaded = 0;\n",
              "\n",
              "      const channel = await google.colab.kernel.comms.open(id);\n",
              "      // Send a message to notify the kernel that we're ready.\n",
              "      channel.send({})\n",
              "\n",
              "      for await (const message of channel.messages) {\n",
              "        // Send a message to notify the kernel that we're ready.\n",
              "        channel.send({})\n",
              "        if (message.buffers) {\n",
              "          for (const buffer of message.buffers) {\n",
              "            buffers.push(buffer);\n",
              "            downloaded += buffer.byteLength;\n",
              "            progress.value = downloaded;\n",
              "          }\n",
              "        }\n",
              "      }\n",
              "      const blob = new Blob(buffers, {type: 'application/binary'});\n",
              "      const a = document.createElement('a');\n",
              "      a.href = window.URL.createObjectURL(blob);\n",
              "      a.download = filename;\n",
              "      div.appendChild(a);\n",
              "      a.click();\n",
              "      div.remove();\n",
              "    }\n",
              "  "
            ]
          },
          "metadata": {}
        },
        {
          "output_type": "display_data",
          "data": {
            "text/plain": [
              "<IPython.core.display.Javascript object>"
            ],
            "application/javascript": [
              "download(\"download_f9304ef4-2ee1-4bcb-997d-e1027bff5c97\", \"vocab.json\", 416655)"
            ]
          },
          "metadata": {}
        },
        {
          "output_type": "display_data",
          "data": {
            "text/plain": [
              "<IPython.core.display.Javascript object>"
            ],
            "application/javascript": [
              "\n",
              "    async function download(id, filename, size) {\n",
              "      if (!google.colab.kernel.accessAllowed) {\n",
              "        return;\n",
              "      }\n",
              "      const div = document.createElement('div');\n",
              "      const label = document.createElement('label');\n",
              "      label.textContent = `Downloading \"${filename}\": `;\n",
              "      div.appendChild(label);\n",
              "      const progress = document.createElement('progress');\n",
              "      progress.max = size;\n",
              "      div.appendChild(progress);\n",
              "      document.body.appendChild(div);\n",
              "\n",
              "      const buffers = [];\n",
              "      let downloaded = 0;\n",
              "\n",
              "      const channel = await google.colab.kernel.comms.open(id);\n",
              "      // Send a message to notify the kernel that we're ready.\n",
              "      channel.send({})\n",
              "\n",
              "      for await (const message of channel.messages) {\n",
              "        // Send a message to notify the kernel that we're ready.\n",
              "        channel.send({})\n",
              "        if (message.buffers) {\n",
              "          for (const buffer of message.buffers) {\n",
              "            buffers.push(buffer);\n",
              "            downloaded += buffer.byteLength;\n",
              "            progress.value = downloaded;\n",
              "          }\n",
              "        }\n",
              "      }\n",
              "      const blob = new Blob(buffers, {type: 'application/binary'});\n",
              "      const a = document.createElement('a');\n",
              "      a.href = window.URL.createObjectURL(blob);\n",
              "      a.download = filename;\n",
              "      div.appendChild(a);\n",
              "      a.click();\n",
              "      div.remove();\n",
              "    }\n",
              "  "
            ]
          },
          "metadata": {}
        },
        {
          "output_type": "display_data",
          "data": {
            "text/plain": [
              "<IPython.core.display.Javascript object>"
            ],
            "application/javascript": [
              "download(\"download_c9fda910-3bed-4ccd-a8bb-fa0d8667e70a\", \"labels_dict.json\", 28)"
            ]
          },
          "metadata": {}
        }
      ]
    },
    {
      "cell_type": "markdown",
      "source": [
        "Next we are going to check the the last saved epoch and the total training time the `LSTM` model took."
      ],
      "metadata": {
        "id": "s1yDITWLySqO"
      }
    },
    {
      "cell_type": "code",
      "source": [
        "rows = [\n",
        "      [\"TOTAL EPOCHS\", f'{EPOCHS}'],\n",
        "      [\"LAST SAVED EPOCH\", f'{last_saved_epoch}'],\n",
        "      [\"TOTAL TRAINING TIME\", f'{hms_string(elt)}']\n",
        "]\n",
        "tabulate_data(['', 'value'], rows, \"LSTM MODEL TOTAL TRAINING TIME AND LAST SAVED EPOCH\")"
      ],
      "metadata": {
        "colab": {
          "base_uri": "https://localhost:8080/"
        },
        "id": "UmTht6clyUgm",
        "outputId": "22ff990b-a691-4951-fb2c-1c52516d7503"
      },
      "execution_count": 51,
      "outputs": [
        {
          "output_type": "stream",
          "name": "stdout",
          "text": [
            "LSTM MODEL TOTAL TRAINING TIME AND LAST SAVED EPOCH\n",
            "+---------------------+------------+\n",
            "|                     |      value |\n",
            "+---------------------+------------+\n",
            "| TOTAL EPOCHS        |         20 |\n",
            "| LAST SAVED EPOCH    |          9 |\n",
            "| TOTAL TRAINING TIME | 0:00:17.06 |\n",
            "+---------------------+------------+\n"
          ]
        }
      ]
    },
    {
      "cell_type": "markdown",
      "source": [
        "### Training History\n",
        "In the following code cells we will be visualizing the training that we observed during training the model. The first plot that we will plot is about the training time that the model took to complete each epoch."
      ],
      "metadata": {
        "id": "rVu-n-1hycns"
      }
    },
    {
      "cell_type": "code",
      "source": [
        "epochs = np.arange(1, EPOCHS + 1)\n",
        "plt.figure(figsize=(5, 3), dpi=80)\n",
        "plt.plot(epochs, history.epoch_train_time, color=PALETTES.gradient[9], label='lstm')\n",
        "plt.title(\"EPOCH TRAINING TIME\", color=\"k\", fontsize=12)\n",
        "plt.xlabel(\"epochs\", fontsize=12)\n",
        "plt.ylabel(\"time(s)\", fontsize=12)\n",
        "\n",
        "plt.minorticks_on()\n",
        "plt.grid(which='major', color='gray', linestyle='-', linewidth=0.5)\n",
        "plt.grid(which='minor', color='#7ED4AD', linestyle='--', linewidth=0.3)\n",
        "\n",
        "plt.show()"
      ],
      "metadata": {
        "colab": {
          "base_uri": "https://localhost:8080/",
          "height": 275
        },
        "id": "mno4c_i5yXhM",
        "outputId": "c2c3a2cc-becc-4b01-e1c0-ba8c234621ff"
      },
      "execution_count": 52,
      "outputs": [
        {
          "output_type": "display_data",
          "data": {
            "text/plain": [
              "<Figure size 400x240 with 1 Axes>"
            ],
            "image/png": "[encoded data removed]"
          },
          "metadata": {}
        }
      ]
    },
    {
      "cell_type": "markdown",
      "source": [
        "Next we are going to visualize the training and validation loss using a line graph for the model that was observed during model training."
      ],
      "metadata": {
        "id": "QWJpOa08ygrB"
      }
    },
    {
      "cell_type": "code",
      "source": [
        "plt.figure(figsize=(5, 3), dpi=80)\n",
        "plt.plot(epochs, history.train_losses, color=PALETTES.gradient[14], label='training')\n",
        "plt.plot(epochs, history.val_losses, color=PALETTES.gradient[11], label='validation')\n",
        "plt.title(\"EPOCH TRAINING LOSSES\", color=\"k\", fontsize=12)\n",
        "plt.xlabel(\"epochs\", fontsize=12)\n",
        "plt.ylabel(\"loss\", fontsize=12)\n",
        "plt.legend(fontsize=10)\n",
        "plt.minorticks_on()\n",
        "plt.grid(which='major', color='gray', linestyle='-', linewidth=0.5)\n",
        "plt.grid(which='minor', color='#7ED4AD', linestyle='--', linewidth=0.3)\n",
        "\n",
        "plt.show()\n",
        ""
      ],
      "metadata": {
        "colab": {
          "base_uri": "https://localhost:8080/",
          "height": 275
        },
        "id": "ADYkhrf2ypdb",
        "outputId": "02464b76-dd6f-4637-a547-7a4d86515301"
      },
      "execution_count": 53,
      "outputs": [
        {
          "output_type": "display_data",
          "data": {
            "text/plain": [
              "<Figure size 400x240 with 1 Axes>"
            ],
            "image/png": "[encoded data removed]"
          },
          "metadata": {}
        }
      ]
    },
    {
      "cell_type": "markdown",
      "source": [
        "Next we are going to visualize the training and validation accuracies using a line graph for each model that was observed during model training."
      ],
      "metadata": {
        "id": "M8dN75_Qyzpa"
      }
    },
    {
      "cell_type": "code",
      "source": [
        "plt.figure(figsize=(5, 3), dpi=80)\n",
        "plt.plot(epochs, [acc * 100 for acc in history.train_acc], color=PALETTES.gradient[20], label='training')\n",
        "plt.plot(epochs, [acc * 100 for acc in history.val_acc], color=PALETTES.gradient[22], label='validation')\n",
        "\n",
        "plt.title(\"EPOCH TRAINING ACCURACIES\", color=\"k\", fontsize=12)\n",
        "plt.xlabel(\"epochs\", fontsize=12)\n",
        "plt.ylabel(\"accuracy(%)\", fontsize=12)\n",
        "plt.legend(fontsize=10)\n",
        "\n",
        "plt.minorticks_on()\n",
        "plt.grid(which='major', color='gray', linestyle='-', linewidth=0.5)\n",
        "plt.grid(which='minor', color='#7ED4AD', linestyle='--', linewidth=0.3)\n",
        "\n",
        "plt.show()"
      ],
      "metadata": {
        "colab": {
          "base_uri": "https://localhost:8080/",
          "height": 275
        },
        "id": "CwlcdIvIytkH",
        "outputId": "67536b68-5eaf-4218-c554-4d9cbd189022"
      },
      "execution_count": 54,
      "outputs": [
        {
          "output_type": "display_data",
          "data": {
            "text/plain": [
              "<Figure size 400x240 with 1 Axes>"
            ],
            "image/png": "[encoded data removed]"
          },
          "metadata": {}
        }
      ]
    },
    {
      "cell_type": "markdown",
      "source": [
        "### Best model evaluations.\n",
        "In the following code cell we are going to evaluate the best saved model for each model achitecture."
      ],
      "metadata": {
        "id": "KXbquLSRy-G3"
      }
    },
    {
      "cell_type": "code",
      "source": [
        "bilstm.load_state_dict(torch.load('lstm.pt'))\n",
        "bilstm_test_loss, bistm_test_acc = evaluate(bilstm, test_loader, criterion)\n",
        "print(f'Test Loss: {bilstm_test_loss:.3f} | Test Acc: {bistm_test_acc*100:.2f}%')"
      ],
      "metadata": {
        "colab": {
          "base_uri": "https://localhost:8080/"
        },
        "id": "Gj_z3Ajny3Nz",
        "outputId": "2053f888-8601-44b2-e69c-65bb88c14c96"
      },
      "execution_count": 55,
      "outputs": [
        {
          "output_type": "stream",
          "name": "stdout",
          "text": [
            "Test Loss: 0.538 | Test Acc: 75.48%\n"
          ]
        }
      ]
    },
    {
      "cell_type": "markdown",
      "source": [
        "Next we are going to make predictions based with our test dataset for using our model."
      ],
      "metadata": {
        "id": "bESE6-oFzGpj"
      }
    },
    {
      "cell_type": "code",
      "source": [
        "def get_predictions(model, iterator, device):\n",
        "  model.eval()\n",
        "  labels = []\n",
        "  predictions = []\n",
        "  with torch.no_grad():\n",
        "    for (y, X) in iterator:\n",
        "      X = X.to(device)\n",
        "      lengths = torch.tensor([len(i) for i in X])\n",
        "      y_pred = model(X, lengths).squeeze(1)\n",
        "      y_prob = F.sigmoid(y_pred).round().long()\n",
        "      labels.append(y.cpu())\n",
        "      predictions.append(y_prob.cpu())\n",
        "  labels = torch.cat(labels, dim = 0).numpy()\n",
        "  predictions = torch.cat(predictions, dim = 0).numpy()\n",
        "  return labels, predictions\n",
        "y_true, y_preds = get_predictions(bilstm, test_loader, device)"
      ],
      "metadata": {
        "id": "_Cu1df-WzCG-"
      },
      "execution_count": 56,
      "outputs": []
    },
    {
      "cell_type": "markdown",
      "source": [
        "### Confusion matrix\n",
        "In the following code cell we are going to plot the Confusion Matrix of our model."
      ],
      "metadata": {
        "id": "VFhocJS4zJUA"
      }
    },
    {
      "cell_type": "code",
      "source": [
        "plt.style.use('default')\n",
        "plot_complicated_confusion_matrix(y_true, y_preds,\n",
        "  labels_dict.keys(), fontsize=8, figsize=(5, 5)\n",
        ")"
      ],
      "metadata": {
        "colab": {
          "base_uri": "https://localhost:8080/",
          "height": 427
        },
        "id": "28di_pKszP5O",
        "outputId": "af2a8b23-9e97-42fc-dbe6-e7828ef0caac"
      },
      "execution_count": 57,
      "outputs": [
        {
          "output_type": "display_data",
          "data": {
            "text/plain": [
              "<Figure size 500x500 with 2 Axes>"
            ],
            "image/png": "[encoded data removed]"
          },
          "metadata": {}
        }
      ]
    },
    {
      "cell_type": "markdown",
      "source": [
        "### Classification Report\n",
        "Next we are going to plot the classification report of our model based on the test dataset."
      ],
      "metadata": {
        "id": "3HFSjJaZzTzN"
      }
    },
    {
      "cell_type": "code",
      "source": [
        "fig, ax = plot_classification_report(\n",
        "    y_true, y_preds,\n",
        "    title='Classification Report',\n",
        "    figsize=(10, 5), dpi=80,\n",
        "    target_names = labels_dict.keys()\n",
        ")"
      ],
      "metadata": {
        "colab": {
          "base_uri": "https://localhost:8080/",
          "height": 408
        },
        "id": "Cx8gcZOHzQpY",
        "outputId": "a05071b1-cb0c-4417-e860-a66d3b549863"
      },
      "execution_count": 58,
      "outputs": [
        {
          "output_type": "display_data",
          "data": {
            "text/plain": [
              "<Figure size 800x400 with 2 Axes>"
            ],
            "image/png": "[encoded data removed]"
          },
          "metadata": {}
        }
      ]
    },
    {
      "cell_type": "markdown",
      "source": [
        "### Model Inference\n",
        "In this section we are going to test our modelnif it can make predictions based on the user input.\n",
        "\n",
        "In the following code cell we are going to make predictions with the best model. We will have the function called `inference_preprocess_text` which is a function that process the text for inference."
      ],
      "metadata": {
        "id": "lqWy03cQzd4R"
      }
    },
    {
      "cell_type": "code",
      "source": [
        "def inference_preprocess_text(text, max_len=100, padding=\"pre\"):\n",
        "  assert padding==\"pre\" or padding==\"post\", \"the padding can be either pre or post\"\n",
        "  text_holder = torch.zeros(max_len, dtype=torch.int32) # fixed size tensor of max_len with  = 0\n",
        "  processed_text = torch.tensor(text_pipeline(text), dtype=torch.int32)\n",
        "  pos = min(max_len, len(processed_text))\n",
        "  if padding == \"pre\":\n",
        "    text_holder[:pos] = processed_text[:pos]\n",
        "  else:\n",
        "    text_holder[-pos:] = processed_text[-pos:]\n",
        "  text_list= text_holder.unsqueeze(dim=0)\n",
        "  return text_list"
      ],
      "metadata": {
        "id": "Yz1RfU7PzgLs"
      },
      "execution_count": 59,
      "outputs": []
    },
    {
      "cell_type": "code",
      "source": [
        "classes = list(labels_dict.keys())\n",
        "def predict_fraud(model, sentence, device):\n",
        "    model.eval()\n",
        "    with torch.no_grad():\n",
        "      tensor = inference_preprocess_text(sentence).to(device)\n",
        "      length = torch.tensor([len(t) for t in tensor])\n",
        "      prob = torch.sigmoid(model(tensor, length).squeeze(0)).cpu().item()\n",
        "      prediction = 1 if prob >= 0.5 else 0\n",
        "      class_name = classes[prediction]\n",
        "      confidence = prob if prediction == 1 else 1 - prob\n",
        "      pred_data = [\n",
        "          [\"class_id\",  prediction],\n",
        "          [\"class_name\",  class_name],\n",
        "          [\"probability\",  round(float(confidence), 3)],\n",
        "      ]\n",
        "      return dict(pred_data)"
      ],
      "metadata": {
        "id": "P5mSL3hy1ebi"
      },
      "execution_count": 60,
      "outputs": []
    },
    {
      "cell_type": "markdown",
      "source": [
        "### Real"
      ],
      "metadata": {
        "id": "LAfioaiV2rEx"
      }
    },
    {
      "cell_type": "code",
      "source": [
        "\n",
        "real = \"\"\"\n",
        "The Writer shall have at least five years of current experience. The Writer shall be able to do extensive research, original writing and reporting, voicing, and multi-media content production (including audio, video, still images). The Writer shall have expert knowledge in correcting and editing scripts and copy of reports. The Writer shall have the ability to adapt English materials to language of expertise. The Writer shall have knowledge of the target audience and news and events related to them. The Writer shall have knowledge of television production and post-production elements to assist producers to develop their work. The Writer shall demonstrate high standards of social media engagement as related to digital journalism needs and practices. The Writer shall be familiar with the Agency’s Best Practices Guide and shall adhere to its policies.Knowledge of Vietnamese language required.\n",
        "\"\"\"\n",
        "fake = \"\"\"\n",
        "High School DiplomaPreferable a Bachelors DegreeGood Communication SkillsFocusedSelf-ControlledGood WorkerOntime All The Time\n",
        "\"\"\"\n",
        "print(\"Real Job Post: \", real)\n",
        "\n",
        "print(\"\\n\\n\")\n",
        "predict_fraud(bilstm, real, device=device)"
      ],
      "metadata": {
        "colab": {
          "base_uri": "https://localhost:8080/"
        },
        "id": "OEgTUERv1o7X",
        "outputId": "eb01121d-3406-4e4e-ca0b-d8983ba135f5"
      },
      "execution_count": 61,
      "outputs": [
        {
          "output_type": "stream",
          "name": "stdout",
          "text": [
            "Real Job Post:  \n",
            "The Writer shall have at least five years of current experience. The Writer shall be able to do extensive research, original writing and reporting, voicing, and multi-media content production (including audio, video, still images). The Writer shall have expert knowledge in correcting and editing scripts and copy of reports. The Writer shall have the ability to adapt English materials to language of expertise. The Writer shall have knowledge of the target audience and news and events related to them. The Writer shall have knowledge of television production and post-production elements to assist producers to develop their work. The Writer shall demonstrate high standards of social media engagement as related to digital journalism needs and practices. The Writer shall be familiar with the Agency’s Best Practices Guide and shall adhere to its policies.Knowledge of Vietnamese language required. \n",
            "\n",
            "\n",
            "\n",
            "\n"
          ]
        },
        {
          "output_type": "execute_result",
          "data": {
            "text/plain": [
              "{'class_id': 1, 'class_name': 'Real', 'probability': 0.922}"
            ]
          },
          "metadata": {},
          "execution_count": 61
        }
      ]
    },
    {
      "cell_type": "markdown",
      "source": [
        "### Fake"
      ],
      "metadata": {
        "id": "UnfxiDMN2dyg"
      }
    },
    {
      "cell_type": "code",
      "source": [
        "print(\"Fake Job Post: \", fake)\n",
        "\n",
        "print(\"\\n\\n\")\n",
        "predict_fraud(bilstm, fake, device=device)"
      ],
      "metadata": {
        "colab": {
          "base_uri": "https://localhost:8080/"
        },
        "id": "lq52ykvr2c3C",
        "outputId": "c9d63aa0-8312-4eee-984c-8c924ae36a3d"
      },
      "execution_count": 62,
      "outputs": [
        {
          "output_type": "stream",
          "name": "stdout",
          "text": [
            "Fake Job Post:  \n",
            "High School DiplomaPreferable a Bachelors DegreeGood Communication SkillsFocusedSelf-ControlledGood WorkerOntime All The Time\n",
            "\n",
            "\n",
            "\n",
            "\n"
          ]
        },
        {
          "output_type": "execute_result",
          "data": {
            "text/plain": [
              "{'class_id': 0, 'class_name': 'Fake', 'probability': 0.919}"
            ]
          },
          "metadata": {},
          "execution_count": 62
        }
      ]
    },
    {
      "cell_type": "code",
      "source": [],
      "metadata": {
        "id": "2FyWxQUJ2l58"
      },
      "execution_count": 62,
      "outputs": []
    }
  ],
  "metadata": {
    "accelerator": "GPU",
    "colab": {
      "provenance": []
    },
    "kernelspec": {
      "display_name": "Python 3",
      "name": "python3"
    },
    "language_info": {
      "name": "python"
    }
  },
  "nbformat": 4,
  "nbformat_minor": 0
}