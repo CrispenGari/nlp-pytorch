{
  "cells": [
    {
      "cell_type": "markdown",
      "metadata": {
        "id": "hM1utmDx96W_"
      },
      "source": [
        "### 🖋️ Author Guess\n",
        "\n",
        "In this notebook, we will build a **classification model** for the **Spooky Author Identification** task.  \n",
        "The goal is to predict the author of a given text snippet based on their writing style.  \n",
        "\n",
        "The dataset used for this task is available on [Kaggle](https://www.kaggle.com/competitions/spooky-author-identification/).\n",
        "\n",
        "> Dataset link: https://www.kaggle.com/competitions/spooky-author-identification/\n",
        "\n",
        "---\n",
        "\n",
        "### ⚙️ Installing Helper Packages\n",
        "\n",
        "In the following code cell, we will install the packages `helperfns`, `kaggle`, and `pigmenta`.  \n",
        "These libraries provide useful utilities for machine learning workflows, including data preprocessing, visualization, and experiment management.\n",
        "\n",
        "**References:**\n",
        "\n",
        "1. [helperfns on PyPI](https://pypi.org/project/helperfns/)  \n",
        "2. [pigmenta on PyPI](https://pypi.org/project/pigmenta/)\n"
      ]
    },
    {
      "cell_type": "code",
      "execution_count": 1,
      "metadata": {
        "id": "vAVnSFKsNiHN",
        "colab": {
          "base_uri": "https://localhost:8080/"
        },
        "outputId": "4baf1a39-298c-46db-c38d-9ff4e316d656"
      },
      "outputs": [
        {
          "output_type": "stream",
          "name": "stdout",
          "text": [
            "\u001b[?25l   \u001b[90m━━━━━━━━━━━━━━━━━━━━━━━━━━━━━━━━━━━━━━━━\u001b[0m \u001b[32m0.0/186.5 kB\u001b[0m \u001b[31m?\u001b[0m eta \u001b[36m-:--:--\u001b[0m\r\u001b[2K   \u001b[90m━━━━━━━━━━━━━━━━━━━━━━━━━━━━━━━━━━━━━━━━\u001b[0m \u001b[32m186.5/186.5 kB\u001b[0m \u001b[31m7.3 MB/s\u001b[0m eta \u001b[36m0:00:00\u001b[0m\n",
            "\u001b[?25h\u001b[?25l   \u001b[90m━━━━━━━━━━━━━━━━━━━━━━━━━━━━━━━━━━━━━━━━\u001b[0m \u001b[32m0.0/650.3 kB\u001b[0m \u001b[31m?\u001b[0m eta \u001b[36m-:--:--\u001b[0m\r\u001b[2K   \u001b[90m━━━━━━━━━━━━━━━━━━━━━━━━━━━━━━━━━━━━━━━━\u001b[0m \u001b[32m650.3/650.3 kB\u001b[0m \u001b[31m33.0 MB/s\u001b[0m eta \u001b[36m0:00:00\u001b[0m\n",
            "\u001b[?25h"
          ]
        }
      ],
      "source": [
        "!pip install helperfns kaggle pigmenta -q"
      ]
    },
    {
      "cell_type": "markdown",
      "metadata": {
        "id": "igsBeZzxNhyr"
      },
      "source": [
        "### 📦 Imports\n",
        "\n",
        "In the following code cell, we will import all the necessary packages that will be used throughout this notebook.  \n",
        "These include libraries for data handling, visualization, and model development.\n"
      ]
    },
    {
      "cell_type": "code",
      "execution_count": 2,
      "metadata": {
        "colab": {
          "base_uri": "https://localhost:8080/"
        },
        "id": "KwW3ZpRa8M16",
        "outputId": "dd47a98e-746b-4499-bfcb-b405594bfb2f"
      },
      "outputs": [
        {
          "output_type": "stream",
          "name": "stderr",
          "text": [
            "[nltk_data] Downloading package words to /root/nltk_data...\n",
            "[nltk_data]   Unzipping corpora/words.zip.\n"
          ]
        },
        {
          "output_type": "stream",
          "name": "stdout",
          "text": [
            "torch:  2.8.0+cu126\n",
            "numpy:  2.0.2\n",
            "pandas:  2.2.2\n"
          ]
        }
      ],
      "source": [
        "\n",
        "import torch\n",
        "import random\n",
        "import warnings\n",
        "import seaborn as sns\n",
        "import os\n",
        "import json\n",
        "import re\n",
        "import time\n",
        "\n",
        "from pyspark.sql import SparkSession\n",
        "from pyspark.sql.functions import lower, regexp_replace, length, avg, explode, col, size\n",
        "from pyspark.ml.feature import Tokenizer\n",
        "from pyspark.sql import functions as Fn\n",
        "\n",
        "from collections import Counter, defaultdict\n",
        "from helperfns.tables import tabulate_data\n",
        "from pigmenta import PALETTES\n",
        "from helperfns.visualization import plot_wordcloud, plot_classification_report, plot_complicated_confusion_matrix\n",
        "from helperfns.utils import hms_string\n",
        "from sklearn.metrics import silhouette_score, davies_bouldin_score, calinski_harabasz_score, mutual_info_score, adjusted_rand_score\n",
        "from sklearn.manifold import TSNE\n",
        "from sklearn.cluster import SpectralClustering\n",
        "from torch import nn\n",
        "from sklearn.utils import resample\n",
        "from matplotlib import pyplot as plt\n",
        "import pandas as pd\n",
        "import numpy as np\n",
        "import torch.nn.functional as F\n",
        "from sklearn.model_selection import train_test_split\n",
        "from google.colab import drive\n",
        "\n",
        "warnings.filterwarnings('ignore')\n",
        "\n",
        "print(\"torch: \", torch.__version__)\n",
        "print(\"numpy: \", np.__version__)\n",
        "print(\"pandas: \", pd.__version__)"
      ]
    },
    {
      "cell_type": "markdown",
      "source": [
        "### Mounting Google Drive\n",
        "In the following code cell we are going to mount the google drive where our pretrained word vectors will be loaded from."
      ],
      "metadata": {
        "id": "-0xtoBGr1FMg"
      }
    },
    {
      "cell_type": "code",
      "source": [
        "drive.mount('/content/MyDrive')"
      ],
      "metadata": {
        "id": "_ylrD5EJ1T0_",
        "colab": {
          "base_uri": "https://localhost:8080/"
        },
        "outputId": "fc28e3c9-7443-41b0-b7af-099b4d95c9b0"
      },
      "execution_count": 3,
      "outputs": [
        {
          "output_type": "stream",
          "name": "stdout",
          "text": [
            "Mounted at /content/MyDrive\n"
          ]
        }
      ]
    },
    {
      "cell_type": "markdown",
      "metadata": {
        "id": "b3t_igXyM9t1"
      },
      "source": [
        "### 🎲 Setting Seeds\n",
        "\n",
        "In the following code cell, we will set a fixed seed value for all random operations to ensure **reproducibility** of the results.  \n",
        "This helps guarantee that the model produces consistent outputs every time the notebook is run.\n"
      ]
    },
    {
      "cell_type": "code",
      "execution_count": 4,
      "metadata": {
        "id": "_IMd2xVfNARk"
      },
      "outputs": [],
      "source": [
        "SEED = 23\n",
        "np.random.seed(SEED)\n",
        "random.seed(SEED)\n",
        "torch.manual_seed(SEED)\n",
        "torch.cuda.manual_seed(SEED)\n",
        "torch.backends.cudnn.deteministic = True"
      ]
    },
    {
      "cell_type": "markdown",
      "metadata": {
        "id": "O_zVIe-MO2-p"
      },
      "source": [
        "### 🖥️ Device\n",
        "\n",
        "In the following code cell, we will check for the availability of a **GPU** device and use it if possible.  \n",
        "Utilizing a GPU can significantly accelerate model training and computations `(Khairy et al., 2020)`.\n",
        "\n",
        "\n",
        "### Refs:\n",
        "\n",
        "1. Khairy, M., Shen, Z., Aamodt, T.M. and Rogers, T.G., 2020, May. Accel-sim: An extensible simulation framework for validated gpu modeling. In 2020 ACM/IEEE 47th Annual International Symposium on Computer Architecture (ISCA) (pp. 473-486). IEEE."
      ]
    },
    {
      "cell_type": "code",
      "execution_count": 5,
      "metadata": {
        "colab": {
          "base_uri": "https://localhost:8080/"
        },
        "id": "aUGf9TM4O1ut",
        "outputId": "b8e7c9a3-869c-43e0-d054-72e3772540fc"
      },
      "outputs": [
        {
          "output_type": "execute_result",
          "data": {
            "text/plain": [
              "device(type='cuda')"
            ]
          },
          "metadata": {},
          "execution_count": 5
        }
      ],
      "source": [
        "device = torch.device('cuda' if torch.cuda.is_available() else 'cpu')\n",
        "device"
      ]
    },
    {
      "cell_type": "markdown",
      "metadata": {
        "id": "SzCd2jE1R96H"
      },
      "source": [
        "### 📂 Dataset\n",
        "\n",
        "Next, we will read our data from text files into a **Pandas DataFrame** using the `read_csv` method.  \n",
        "We will load only the `train.csv` file, as it contains the text samples along with their corresponding **authors** and **labels**.\n",
        "\n",
        "\n",
        "### 📝 Dataset Description\n",
        "\n",
        "The dataset for this competition contains text excerpts from works of fiction written by **public-domain spooky authors**:\n",
        "\n",
        "- Edgar Allan Poe  \n",
        "- H.P. Lovecraft  \n",
        "- Mary Shelley  \n",
        "\n",
        "The text was prepared by **chunking larger works into individual sentences** using CoreNLP's MaxEnt sentence tokenizer. As a result, you may occasionally notice non-standard or partial sentences.  \n",
        "\n",
        "**Objective:** Accurately identify the author of each sentence in the test set based on writing style.\n"
      ]
    },
    {
      "cell_type": "markdown",
      "source": [
        "### 🔍 Data Analysis Using Spark\n",
        "\n",
        "**Objective**\n",
        "\n",
        "The goal is to analyze the text data to understand **stylistic differences among authors**, without building a predictive model at this stage.  \n",
        "The analysis may include:\n",
        "\n",
        "- Number of texts per author  \n",
        "- Average text length per author  \n",
        "- Most frequent words used by each author  \n",
        "- Distribution of sentence or word lengths  \n",
        "- Common stylistic markers (e.g., punctuation usage, stop-word ratios)\n",
        "\n",
        "\n",
        "We will start by **creating a Spark session** to handle the data efficiently and perform distributed analysis.\n"
      ],
      "metadata": {
        "id": "s_PT0nbp8S3s"
      }
    },
    {
      "cell_type": "code",
      "source": [
        "spark = SparkSession.builder.appName(\"AuthorStyleAnalysis\").getOrCreate()\n",
        "spark"
      ],
      "metadata": {
        "colab": {
          "base_uri": "https://localhost:8080/",
          "height": 219
        },
        "id": "KV2TPT1d8bGn",
        "outputId": "d2aa6c9b-1e95-433b-ff79-d7f9da4b3f1b"
      },
      "execution_count": 7,
      "outputs": [
        {
          "output_type": "execute_result",
          "data": {
            "text/plain": [
              "<pyspark.sql.session.SparkSession at 0x7db2ee5135c0>"
            ],
            "text/html": [
              "\n",
              "            <div>\n",
              "                <p><b>SparkSession - in-memory</b></p>\n",
              "                \n",
              "        <div>\n",
              "            <p><b>SparkContext</b></p>\n",
              "\n",
              "            <p><a href=\"http://05c2abcbbb0f:4040\">Spark UI</a></p>\n",
              "\n",
              "            <dl>\n",
              "              <dt>Version</dt>\n",
              "                <dd><code>v3.5.1</code></dd>\n",
              "              <dt>Master</dt>\n",
              "                <dd><code>local[*]</code></dd>\n",
              "              <dt>AppName</dt>\n",
              "                <dd><code>AuthorStyleAnalysis</code></dd>\n",
              "            </dl>\n",
              "        </div>\n",
              "        \n",
              "            </div>\n",
              "        "
            ]
          },
          "metadata": {},
          "execution_count": 7
        }
      ]
    },
    {
      "cell_type": "markdown",
      "source": [
        "Next we load the dataset in a csv file."
      ],
      "metadata": {
        "id": "ccnIQgg383sp"
      }
    },
    {
      "cell_type": "code",
      "source": [
        "df = spark.read.csv(\"train.csv\", header=True, inferSchema=True)\n",
        "df.printSchema()\n",
        "df.show(2)"
      ],
      "metadata": {
        "colab": {
          "base_uri": "https://localhost:8080/"
        },
        "id": "ogVOYmpg8nAO",
        "outputId": "b74a6ada-6c42-4733-bf9a-f6f74d5d4416"
      },
      "execution_count": 8,
      "outputs": [
        {
          "output_type": "stream",
          "name": "stdout",
          "text": [
            "root\n",
            " |-- id: string (nullable = true)\n",
            " |-- text: string (nullable = true)\n",
            " |-- author: string (nullable = true)\n",
            "\n",
            "+-------+--------------------+------+\n",
            "|     id|                text|author|\n",
            "+-------+--------------------+------+\n",
            "|id26305|This process, how...|   EAP|\n",
            "|id17569|It never once occ...|   HPL|\n",
            "+-------+--------------------+------+\n",
            "only showing top 2 rows\n",
            "\n"
          ]
        }
      ]
    },
    {
      "cell_type": "markdown",
      "source": [
        "Next, we will perform **basic cleaning** on the dataset to prepare the text for analysis.  \n",
        "This may include tasks such as removing special characters, converting text to lowercase, and other standard preprocessing steps."
      ],
      "metadata": {
        "id": "iRjtK8bx8m9h"
      }
    },
    {
      "cell_type": "code",
      "source": [
        "df = df.withColumn(\"clean_text\", lower(regexp_replace(\"text\", \"[^a-zA-Z\\\\s]\", \"\")))"
      ],
      "metadata": {
        "id": "wcxOKEPk8m6a"
      },
      "execution_count": 9,
      "outputs": []
    },
    {
      "cell_type": "markdown",
      "source": [
        "### 📊 Exploratory Data Analysis (EDA)\n",
        "\n",
        "**a) Number of Records per Author**\n",
        "\n",
        "In this step, we will analyze the **number of text samples contributed by each author** to understand the dataset distribution and identify any class imbalances.\n"
      ],
      "metadata": {
        "id": "7PSAM1hf8m3p"
      }
    },
    {
      "cell_type": "code",
      "source": [
        "df.groupBy(\"author\").count().orderBy(\"count\", ascending=False).show(3)\n"
      ],
      "metadata": {
        "colab": {
          "base_uri": "https://localhost:8080/"
        },
        "id": "a7FkXuOw8m0t",
        "outputId": "a80a4f4e-6f45-4857-8f5a-4550321b0c7b"
      },
      "execution_count": 10,
      "outputs": [
        {
          "output_type": "stream",
          "name": "stdout",
          "text": [
            "+------+-----+\n",
            "|author|count|\n",
            "+------+-----+\n",
            "|   EAP| 7044|\n",
            "|   MWS| 5552|\n",
            "|   HPL| 5451|\n",
            "+------+-----+\n",
            "only showing top 3 rows\n",
            "\n"
          ]
        }
      ]
    },
    {
      "cell_type": "markdown",
      "source": [
        "**b) Average Text Length per Author**\n",
        "\n",
        "We will calculate the **average length of text samples** for each author.  \n",
        "This helps us understand differences in writing style, such as whether some authors tend to write longer or shorter sentences.\n"
      ],
      "metadata": {
        "id": "RlFeAouO8mxi"
      }
    },
    {
      "cell_type": "code",
      "source": [
        "df = df.withColumn(\"text_length\", length(\"clean_text\"))\n",
        "df.groupBy(\"author\").agg(avg(\"text_length\").alias(\"avg_length\")).orderBy(\"avg_length\", ascending=False).show(10)"
      ],
      "metadata": {
        "colab": {
          "base_uri": "https://localhost:8080/"
        },
        "id": "2UF1l-Fb8muM",
        "outputId": "1568a85d-d55c-40de-8937-6b8f2bc78b02"
      },
      "execution_count": 11,
      "outputs": [
        {
          "output_type": "stream",
          "name": "stdout",
          "text": [
            "+--------------------+----------+\n",
            "|              author|avg_length|\n",
            "+--------------------+----------+\n",
            "| yet satisfied me...|    3669.0|\n",
            "|          nor device|     830.0|\n",
            "|\"\" c.; and Mr. He...|     651.0|\n",
            "| in a supplicatin...|     644.0|\n",
            "| in the minds of ...|     624.0|\n",
            "|\"\" she said: \"\"I ...|     591.0|\n",
            "|    clew up all sail|     513.0|\n",
            "| and strengthen w...|     483.0|\n",
            "|        \"\" by Mackey|     446.0|\n",
            "| and rendering me...|     442.0|\n",
            "+--------------------+----------+\n",
            "only showing top 10 rows\n",
            "\n"
          ]
        }
      ]
    },
    {
      "cell_type": "markdown",
      "source": [
        "**c) Most Common Words Overall**\n",
        "\n",
        "In this step, we will identify the **most frequently occurring words** across the entire dataset.  \n",
        "This analysis provides insights into common vocabulary and recurring themes in the texts.\n"
      ],
      "metadata": {
        "id": "qiXRghqz-T4G"
      }
    },
    {
      "cell_type": "code",
      "source": [
        "tokenizer = Tokenizer(inputCol=\"clean_text\", outputCol=\"words\")\n",
        "df = tokenizer.transform(df)"
      ],
      "metadata": {
        "id": "i26wyoAE8mq0"
      },
      "execution_count": 12,
      "outputs": []
    },
    {
      "cell_type": "markdown",
      "source": [
        "**d) Flatten and Count Words**\n",
        "\n",
        "We will **explode the tokenized words** from all texts and count their occurrences.  \n",
        "This allows us to determine the frequency of each word across the dataset for further analysis.\n"
      ],
      "metadata": {
        "id": "op1rlOes8meQ"
      }
    },
    {
      "cell_type": "code",
      "source": [
        "word_counts = df.select(explode(col(\"words\")).alias(\"word\")) \\\n",
        "                .groupBy(\"word\").count().orderBy(\"count\", ascending=False)\n",
        "word_counts.show(10)"
      ],
      "metadata": {
        "colab": {
          "base_uri": "https://localhost:8080/"
        },
        "id": "s3GzC4Tw8boJ",
        "outputId": "687d2f3f-7dcf-4f81-a615-8d6a95883b86"
      },
      "execution_count": 13,
      "outputs": [
        {
          "output_type": "stream",
          "name": "stdout",
          "text": [
            "+----+-----+\n",
            "|word|count|\n",
            "+----+-----+\n",
            "| the|33642|\n",
            "|  of|19828|\n",
            "| and|16913|\n",
            "|  to|12021|\n",
            "|   a|10059|\n",
            "|   i| 9927|\n",
            "|  in| 8888|\n",
            "| was| 6442|\n",
            "|that| 6005|\n",
            "|  my| 5012|\n",
            "+----+-----+\n",
            "only showing top 10 rows\n",
            "\n"
          ]
        }
      ]
    },
    {
      "cell_type": "markdown",
      "source": [
        "**e) Most Common Words per Author**\n",
        "\n",
        "In this step, we will analyze the **most frequently used words by each individual author**.  \n",
        "This helps highlight distinctive vocabulary and stylistic patterns unique to each writer.\n"
      ],
      "metadata": {
        "id": "EB68h6X0-771"
      }
    },
    {
      "cell_type": "code",
      "source": [
        "words_by_author = df.select(\"author\", explode(col(\"words\")).alias(\"word\")) \\\n",
        "                    .groupBy(\"author\", \"word\").count()\n",
        "words_by_author.orderBy(\"author\", \"count\", ascending=False).show(5)\n"
      ],
      "metadata": {
        "colab": {
          "base_uri": "https://localhost:8080/"
        },
        "id": "y3Nzw1-e-4EG",
        "outputId": "4ed9db3b-381e-4db2-c722-797bb4591c0f"
      },
      "execution_count": 14,
      "outputs": [
        {
          "output_type": "stream",
          "name": "stdout",
          "text": [
            "+------+----+-----+\n",
            "|author|word|count|\n",
            "+------+----+-----+\n",
            "|   MWS| the| 8828|\n",
            "|   MWS|  of| 5634|\n",
            "|   MWS| and| 5554|\n",
            "|   MWS|  to| 4325|\n",
            "|   MWS|   i| 3695|\n",
            "+------+----+-----+\n",
            "only showing top 5 rows\n",
            "\n"
          ]
        }
      ]
    },
    {
      "cell_type": "markdown",
      "source": [
        "**f) Average Number of Words per Text per Author**\n",
        "\n",
        "We will calculate the **average word count** for each text per author.  \n",
        "This metric provides insight into the typical length of sentences or excerpts used by different authors.\n"
      ],
      "metadata": {
        "id": "4JFh-2c3-4BM"
      }
    },
    {
      "cell_type": "code",
      "source": [
        "df = df.withColumn(\"word_count\", size(col(\"words\")))\n",
        "df.groupBy(\"author\").agg(avg(\"word_count\").alias(\"avg_words\")).orderBy(\"avg_words\", ascending=False).show(10)\n"
      ],
      "metadata": {
        "colab": {
          "base_uri": "https://localhost:8080/"
        },
        "id": "sxrJSecu-3-h",
        "outputId": "4a29cebc-16a6-4ece-9275-57afa25eb545"
      },
      "execution_count": 15,
      "outputs": [
        {
          "output_type": "stream",
          "name": "stdout",
          "text": [
            "+--------------------+---------+\n",
            "|              author|avg_words|\n",
            "+--------------------+---------+\n",
            "| yet satisfied me...|    671.0|\n",
            "|          nor device|    149.0|\n",
            "| in a supplicatin...|    119.0|\n",
            "|\"\" c.; and Mr. He...|    116.0|\n",
            "|\"\" she said: \"\"I ...|    113.0|\n",
            "| in the minds of ...|    106.0|\n",
            "|    clew up all sail|     93.0|\n",
            "| and strengthen w...|     82.0|\n",
            "| I placed her on ...|     82.0|\n",
            "|        \"\" by Mackey|     81.0|\n",
            "+--------------------+---------+\n",
            "only showing top 10 rows\n",
            "\n"
          ]
        }
      ]
    },
    {
      "cell_type": "markdown",
      "source": [
        "In the following code cell we are going to check the largest sentence in the dataset."
      ],
      "metadata": {
        "id": "8t_VyiUJv4Tm"
      }
    },
    {
      "cell_type": "code",
      "source": [
        "\n",
        "max_length_row = df.orderBy(col(\"word_count\").desc()).limit(1)\n",
        "result = max_length_row.collect()[0]\n",
        "print(f\"The largest sentence has {result['word_count']} words.\")\n",
        "print(f\"Sentence: {result['clean_text']}\")"
      ],
      "metadata": {
        "colab": {
          "base_uri": "https://localhost:8080/"
        },
        "id": "-P9Ur95K3Dvx",
        "outputId": "41f982e2-5f2d-4c9c-ade0-f3b0681515f9"
      },
      "execution_count": 16,
      "outputs": [
        {
          "output_type": "stream",
          "name": "stdout",
          "text": [
            "The largest sentence has 671 words.\n",
            "Sentence: diotima approached the fountain seated herself on a mossy mound near it and her disciples placed themselves on the grass near her without noticing me who sat close under her she continued her discourse addressing as it happened one or other of her listeners but before i attempt to repeat her words i will describe the chief of these whom she appeared to wish principally to impress one was a woman of about years of age in the full enjoyment of the most exquisite beauty her golden hair floated in ringlets on her shoulders her hazle eyes were shaded by heavy lids and her mouth the lips apart seemed to breathe sensibility but she appeared thoughtful unhappy her cheek was pale she seemed as if accustomed to suffer and as if the lessons she now heard were the only words of wisdom to which she had ever listened the youth beside her had a far different aspect his form was emaciated nearly to a shadow his features were handsome but thin worn his eyes glistened as if animating the visage of decay his forehead was expansive but there was a doubt perplexity in his looks that seemed to say that although he had sought wisdom he had got entangled in some mysterious mazes from which he in vain endeavoured to extricate himself as diotima spoke his colour went came with quick changes the flexible muscles of his countenance shewed every impression that his mind received he seemed one who in life had studied hard but whose feeble frame sunk beneath the weight of the mere exertion of life the spark of intelligence burned with uncommon strength within him but that of life seemed ever on the eve of fading at present i shall not describe any other of this groupe but with deep attention try to recall in my memory some of the words of diotima they were words of fire but their path is faintly marked on my recollection it requires a just hand said she continuing her discourse to weigh divide the good from evil on the earth they are inextricably entangled and if you would cast away what there appears an evil a multitude of beneficial causes or effects cling to it mock your labour when i was on earth and have walked in a solitary country during the silence of night have beheld the multitude of stars the soft radiance of the moon reflected on the sea which was studded by lovely islands when i have felt the soft breeze steal across my cheek as the words of love it has soothed cherished me then my mind seemed almost to quit the body that confined it to the earth with a quick mental sense to mingle with the scene that i hardly saw i felt then i have exclaimed oh world how beautiful thou art oh brightest universe behold thy worshiper spirit of beauty of sympathy which pervades all things now lifts my soul as with wings how have you animated the light the breezes deep inexplicable spirit give me words to express my adoration my mind is hurried away but with language i cannot tell how i feel thy loveliness silence or the song of the nightingale the momentary apparition of some bird that flies quietly past all seems animated with thee more than all the deep sky studded with worlds if the winds roared tore the sea and the dreadful lightnings seemed falling around me still love was mingled with the sacred terror i felt the majesty of loveliness was deeply impressed on me so also i have felt when i have seen a lovely countenance or heard solemn music or the eloquence of divine wisdom flowing from the lips of one of its worshippers a lovely animal or even the graceful undulations of trees inanimate objects have excited in me the same deep feeling of love beauty a feeling which while it made me alive eager to seek the cause animator of the scene\n"
          ]
        }
      ]
    },
    {
      "cell_type": "markdown",
      "source": [
        "### Stylometric Indicators\n",
        "\n",
        "In addition to basic statistics, we can compute **style-related metrics** to capture more nuanced differences in writing styles:\n",
        "\n",
        "- **Vocabulary Richness:** Ratio of unique words to total words.  \n",
        "- **Stop-word Ratio:** Proportion of stop-words compared to content words.  \n",
        "- **Average Sentence Length:** Indicator of writing complexity and sentence structure.\n",
        "\n",
        "**Example (Vocabulary Richness):**  \n",
        "We can calculate the ratio of unique words to total words for each author to compare their lexical diversity.\n"
      ],
      "metadata": {
        "id": "G4NSom21-37f"
      }
    },
    {
      "cell_type": "code",
      "source": [
        "unique_counts = df.select(\"author\", explode(\"words\").alias(\"word\")) \\\n",
        "    .groupBy(\"author\") \\\n",
        "    .agg(Fn.countDistinct(\"word\").alias(\"unique_words\"), Fn.count(\"word\").alias(\"total_words\"))\n",
        "\n",
        "vocab_richness = unique_counts.withColumn(\"vocab_ratio\", Fn.col(\"unique_words\") / Fn.col(\"total_words\"))\n",
        "vocab_richness.orderBy(\"vocab_ratio\", ascending=False).show(10)"
      ],
      "metadata": {
        "colab": {
          "base_uri": "https://localhost:8080/"
        },
        "id": "hTiZ2eTl-34i",
        "outputId": "4f016968-e2b1-4b60-9eff-897eacc306bb"
      },
      "execution_count": 17,
      "outputs": [
        {
          "output_type": "stream",
          "name": "stdout",
          "text": [
            "+--------------------+------------+-----------+-----------+\n",
            "|              author|unique_words|total_words|vocab_ratio|\n",
            "+--------------------+------------+-----------+-----------+\n",
            "| and we continued...|           5|          5|        1.0|\n",
            "| who gave me this...|           5|          5|        1.0|\n",
            "|  thet Afriky book?\"|           1|          1|        1.0|\n",
            "| who art called o...|           8|          8|        1.0|\n",
            "| and the supposit...|           8|          8|        1.0|\n",
            "| turning abruptly...|           4|          4|        1.0|\n",
            "|      and very happy|           2|          2|        1.0|\n",
            "| \"\"It gave me the...|          22|         22|        1.0|\n",
            "| \"\" continued Bedloe|           2|          2|        1.0|\n",
            "| astonished not m...|           4|          4|        1.0|\n",
            "+--------------------+------------+-----------+-----------+\n",
            "only showing top 10 rows\n",
            "\n"
          ]
        }
      ]
    },
    {
      "cell_type": "markdown",
      "source": [
        "In the next code cell, we will **convert our Spark DataFrame to a Pandas DataFrame**.  \n",
        "This allows us to leverage Pandas functionality for further analysis and visualization.\n"
      ],
      "metadata": {
        "id": "l-e93LucAqu8"
      }
    },
    {
      "cell_type": "code",
      "execution_count": 18,
      "metadata": {
        "colab": {
          "base_uri": "https://localhost:8080/",
          "height": 147
        },
        "id": "oZALx4s5RBBr",
        "outputId": "342c3bb5-f84e-4322-bf47-946266e9e11f"
      },
      "outputs": [
        {
          "output_type": "execute_result",
          "data": {
            "text/plain": [
              "        id                                               text author  \\\n",
              "0  id26305  This process, however, afforded me no means of...    EAP   \n",
              "1  id17569  It never once occurred to me that the fumbling...    HPL   \n",
              "\n",
              "                                          clean_text  text_length  \\\n",
              "0  this process however afforded me no means of a...          224   \n",
              "1  it never once occurred to me that the fumbling...           70   \n",
              "\n",
              "                                               words  word_count  \n",
              "0  [this, process, however, afforded, me, no, mea...          41  \n",
              "1  [it, never, once, occurred, to, me, that, the,...          14  "
            ],
            "text/html": [
              "\n",
              "  <div id=\"df-2f9be018-0ee8-4a95-9668-4d5b8a9dbafe\" class=\"colab-df-container\">\n",
              "    <div>\n",
              "<style scoped>\n",
              "    .dataframe tbody tr th:only-of-type {\n",
              "        vertical-align: middle;\n",
              "    }\n",
              "\n",
              "    .dataframe tbody tr th {\n",
              "        vertical-align: top;\n",
              "    }\n",
              "\n",
              "    .dataframe thead th {\n",
              "        text-align: right;\n",
              "    }\n",
              "</style>\n",
              "<table border=\"1\" class=\"dataframe\">\n",
              "  <thead>\n",
              "    <tr style=\"text-align: right;\">\n",
              "      <th></th>\n",
              "      <th>id</th>\n",
              "      <th>text</th>\n",
              "      <th>author</th>\n",
              "      <th>clean_text</th>\n",
              "      <th>text_length</th>\n",
              "      <th>words</th>\n",
              "      <th>word_count</th>\n",
              "    </tr>\n",
              "  </thead>\n",
              "  <tbody>\n",
              "    <tr>\n",
              "      <th>0</th>\n",
              "      <td>id26305</td>\n",
              "      <td>This process, however, afforded me no means of...</td>\n",
              "      <td>EAP</td>\n",
              "      <td>this process however afforded me no means of a...</td>\n",
              "      <td>224</td>\n",
              "      <td>[this, process, however, afforded, me, no, mea...</td>\n",
              "      <td>41</td>\n",
              "    </tr>\n",
              "    <tr>\n",
              "      <th>1</th>\n",
              "      <td>id17569</td>\n",
              "      <td>It never once occurred to me that the fumbling...</td>\n",
              "      <td>HPL</td>\n",
              "      <td>it never once occurred to me that the fumbling...</td>\n",
              "      <td>70</td>\n",
              "      <td>[it, never, once, occurred, to, me, that, the,...</td>\n",
              "      <td>14</td>\n",
              "    </tr>\n",
              "  </tbody>\n",
              "</table>\n",
              "</div>\n",
              "    <div class=\"colab-df-buttons\">\n",
              "\n",
              "  <div class=\"colab-df-container\">\n",
              "    <button class=\"colab-df-convert\" onclick=\"convertToInteractive('df-2f9be018-0ee8-4a95-9668-4d5b8a9dbafe')\"\n",
              "            title=\"Convert this dataframe to an interactive table.\"\n",
              "            style=\"display:none;\">\n",
              "\n",
              "  <svg xmlns=\"http://www.w3.org/2000/svg\" height=\"24px\" viewBox=\"0 -960 960 960\">\n",
              "    <path d=\"M120-120v-720h720v720H120Zm60-500h600v-160H180v160Zm220 220h160v-160H400v160Zm0 220h160v-160H400v160ZM180-400h160v-160H180v160Zm440 0h160v-160H620v160ZM180-180h160v-160H180v160Zm440 0h160v-160H620v160Z\"/>\n",
              "  </svg>\n",
              "    </button>\n",
              "\n",
              "  <style>\n",
              "    .colab-df-container {\n",
              "      display:flex;\n",
              "      gap: 12px;\n",
              "    }\n",
              "\n",
              "    .colab-df-convert {\n",
              "      background-color: #E8F0FE;\n",
              "      border: none;\n",
              "      border-radius: 50%;\n",
              "      cursor: pointer;\n",
              "      display: none;\n",
              "      fill: #1967D2;\n",
              "      height: 32px;\n",
              "      padding: 0 0 0 0;\n",
              "      width: 32px;\n",
              "    }\n",
              "\n",
              "    .colab-df-convert:hover {\n",
              "      background-color: #E2EBFA;\n",
              "      box-shadow: 0px 1px 2px rgba(60, 64, 67, 0.3), 0px 1px 3px 1px rgba(60, 64, 67, 0.15);\n",
              "      fill: #174EA6;\n",
              "    }\n",
              "\n",
              "    .colab-df-buttons div {\n",
              "      margin-bottom: 4px;\n",
              "    }\n",
              "\n",
              "    [theme=dark] .colab-df-convert {\n",
              "      background-color: #3B4455;\n",
              "      fill: #D2E3FC;\n",
              "    }\n",
              "\n",
              "    [theme=dark] .colab-df-convert:hover {\n",
              "      background-color: #434B5C;\n",
              "      box-shadow: 0px 1px 3px 1px rgba(0, 0, 0, 0.15);\n",
              "      filter: drop-shadow(0px 1px 2px rgba(0, 0, 0, 0.3));\n",
              "      fill: #FFFFFF;\n",
              "    }\n",
              "  </style>\n",
              "\n",
              "    <script>\n",
              "      const buttonEl =\n",
              "        document.querySelector('#df-2f9be018-0ee8-4a95-9668-4d5b8a9dbafe button.colab-df-convert');\n",
              "      buttonEl.style.display =\n",
              "        google.colab.kernel.accessAllowed ? 'block' : 'none';\n",
              "\n",
              "      async function convertToInteractive(key) {\n",
              "        const element = document.querySelector('#df-2f9be018-0ee8-4a95-9668-4d5b8a9dbafe');\n",
              "        const dataTable =\n",
              "          await google.colab.kernel.invokeFunction('convertToInteractive',\n",
              "                                                    [key], {});\n",
              "        if (!dataTable) return;\n",
              "\n",
              "        const docLinkHtml = 'Like what you see? Visit the ' +\n",
              "          '<a target=\"_blank\" href=https://colab.research.google.com/notebooks/data_table.ipynb>data table notebook</a>'\n",
              "          + ' to learn more about interactive tables.';\n",
              "        element.innerHTML = '';\n",
              "        dataTable['output_type'] = 'display_data';\n",
              "        await google.colab.output.renderOutput(dataTable, element);\n",
              "        const docLink = document.createElement('div');\n",
              "        docLink.innerHTML = docLinkHtml;\n",
              "        element.appendChild(docLink);\n",
              "      }\n",
              "    </script>\n",
              "  </div>\n",
              "\n",
              "\n",
              "    <div id=\"df-4e2ee981-562b-4dc4-afd5-977659c62996\">\n",
              "      <button class=\"colab-df-quickchart\" onclick=\"quickchart('df-4e2ee981-562b-4dc4-afd5-977659c62996')\"\n",
              "                title=\"Suggest charts\"\n",
              "                style=\"display:none;\">\n",
              "\n",
              "<svg xmlns=\"http://www.w3.org/2000/svg\" height=\"24px\"viewBox=\"0 0 24 24\"\n",
              "     width=\"24px\">\n",
              "    <g>\n",
              "        <path d=\"M19 3H5c-1.1 0-2 .9-2 2v14c0 1.1.9 2 2 2h14c1.1 0 2-.9 2-2V5c0-1.1-.9-2-2-2zM9 17H7v-7h2v7zm4 0h-2V7h2v10zm4 0h-2v-4h2v4z\"/>\n",
              "    </g>\n",
              "</svg>\n",
              "      </button>\n",
              "\n",
              "<style>\n",
              "  .colab-df-quickchart {\n",
              "      --bg-color: #E8F0FE;\n",
              "      --fill-color: #1967D2;\n",
              "      --hover-bg-color: #E2EBFA;\n",
              "      --hover-fill-color: #174EA6;\n",
              "      --disabled-fill-color: #AAA;\n",
              "      --disabled-bg-color: #DDD;\n",
              "  }\n",
              "\n",
              "  [theme=dark] .colab-df-quickchart {\n",
              "      --bg-color: #3B4455;\n",
              "      --fill-color: #D2E3FC;\n",
              "      --hover-bg-color: #434B5C;\n",
              "      --hover-fill-color: #FFFFFF;\n",
              "      --disabled-bg-color: #3B4455;\n",
              "      --disabled-fill-color: #666;\n",
              "  }\n",
              "\n",
              "  .colab-df-quickchart {\n",
              "    background-color: var(--bg-color);\n",
              "    border: none;\n",
              "    border-radius: 50%;\n",
              "    cursor: pointer;\n",
              "    display: none;\n",
              "    fill: var(--fill-color);\n",
              "    height: 32px;\n",
              "    padding: 0;\n",
              "    width: 32px;\n",
              "  }\n",
              "\n",
              "  .colab-df-quickchart:hover {\n",
              "    background-color: var(--hover-bg-color);\n",
              "    box-shadow: 0 1px 2px rgba(60, 64, 67, 0.3), 0 1px 3px 1px rgba(60, 64, 67, 0.15);\n",
              "    fill: var(--button-hover-fill-color);\n",
              "  }\n",
              "\n",
              "  .colab-df-quickchart-complete:disabled,\n",
              "  .colab-df-quickchart-complete:disabled:hover {\n",
              "    background-color: var(--disabled-bg-color);\n",
              "    fill: var(--disabled-fill-color);\n",
              "    box-shadow: none;\n",
              "  }\n",
              "\n",
              "  .colab-df-spinner {\n",
              "    border: 2px solid var(--fill-color);\n",
              "    border-color: transparent;\n",
              "    border-bottom-color: var(--fill-color);\n",
              "    animation:\n",
              "      spin 1s steps(1) infinite;\n",
              "  }\n",
              "\n",
              "  @keyframes spin {\n",
              "    0% {\n",
              "      border-color: transparent;\n",
              "      border-bottom-color: var(--fill-color);\n",
              "      border-left-color: var(--fill-color);\n",
              "    }\n",
              "    20% {\n",
              "      border-color: transparent;\n",
              "      border-left-color: var(--fill-color);\n",
              "      border-top-color: var(--fill-color);\n",
              "    }\n",
              "    30% {\n",
              "      border-color: transparent;\n",
              "      border-left-color: var(--fill-color);\n",
              "      border-top-color: var(--fill-color);\n",
              "      border-right-color: var(--fill-color);\n",
              "    }\n",
              "    40% {\n",
              "      border-color: transparent;\n",
              "      border-right-color: var(--fill-color);\n",
              "      border-top-color: var(--fill-color);\n",
              "    }\n",
              "    60% {\n",
              "      border-color: transparent;\n",
              "      border-right-color: var(--fill-color);\n",
              "    }\n",
              "    80% {\n",
              "      border-color: transparent;\n",
              "      border-right-color: var(--fill-color);\n",
              "      border-bottom-color: var(--fill-color);\n",
              "    }\n",
              "    90% {\n",
              "      border-color: transparent;\n",
              "      border-bottom-color: var(--fill-color);\n",
              "    }\n",
              "  }\n",
              "</style>\n",
              "\n",
              "      <script>\n",
              "        async function quickchart(key) {\n",
              "          const quickchartButtonEl =\n",
              "            document.querySelector('#' + key + ' button');\n",
              "          quickchartButtonEl.disabled = true;  // To prevent multiple clicks.\n",
              "          quickchartButtonEl.classList.add('colab-df-spinner');\n",
              "          try {\n",
              "            const charts = await google.colab.kernel.invokeFunction(\n",
              "                'suggestCharts', [key], {});\n",
              "          } catch (error) {\n",
              "            console.error('Error during call to suggestCharts:', error);\n",
              "          }\n",
              "          quickchartButtonEl.classList.remove('colab-df-spinner');\n",
              "          quickchartButtonEl.classList.add('colab-df-quickchart-complete');\n",
              "        }\n",
              "        (() => {\n",
              "          let quickchartButtonEl =\n",
              "            document.querySelector('#df-4e2ee981-562b-4dc4-afd5-977659c62996 button');\n",
              "          quickchartButtonEl.style.display =\n",
              "            google.colab.kernel.accessAllowed ? 'block' : 'none';\n",
              "        })();\n",
              "      </script>\n",
              "    </div>\n",
              "\n",
              "    </div>\n",
              "  </div>\n"
            ],
            "application/vnd.google.colaboratory.intrinsic+json": {
              "type": "dataframe",
              "variable_name": "dataframe",
              "summary": "{\n  \"name\": \"dataframe\",\n  \"rows\": 19579,\n  \"fields\": [\n    {\n      \"column\": \"id\",\n      \"properties\": {\n        \"dtype\": \"string\",\n        \"num_unique_values\": 19579,\n        \"samples\": [\n          \"id15695\",\n          \"id07954\",\n          \"id16303\"\n        ],\n        \"semantic_type\": \"\",\n        \"description\": \"\"\n      }\n    },\n    {\n      \"column\": \"text\",\n      \"properties\": {\n        \"dtype\": \"string\",\n        \"num_unique_values\": 19479,\n        \"samples\": [\n          \"So after that I did not listen for merriment or look for wayfarers, but kept on down past the hushed lighted farmhouses and shadowy stone walls to where the signs of ancient shops and sea taverns creaked in the salt breeze, and the grotesque knockers of pillared doorways glistened along deserted, unpaved lanes in the light of little, curtained windows.\",\n          \"Often at sunset, I have walked with her, in the sober, enshadowed forest paths, and listened with joyful sympathy.\",\n          \"I wondered for a moment what the strange affliction of this man might be, and whether his obstinate refusal of outside aid were not the result of a rather baseless eccentricity.\"\n        ],\n        \"semantic_type\": \"\",\n        \"description\": \"\"\n      }\n    },\n    {\n      \"column\": \"author\",\n      \"properties\": {\n        \"dtype\": \"category\",\n        \"num_unique_values\": 1294,\n        \"samples\": [\n          \"\\\"\\\" said Adrian\",\n          \" it was mostly a kind of force that doesn't belong in our part of space; a kind of force that acts and grows and shapes itself by other laws than those of our sort of Nature.\\\"\",\n          \" evidently in order to safeguard her from the peril of casual perusal.\\\"\"\n        ],\n        \"semantic_type\": \"\",\n        \"description\": \"\"\n      }\n    },\n    {\n      \"column\": \"clean_text\",\n      \"properties\": {\n        \"dtype\": \"string\",\n        \"num_unique_values\": 19468,\n        \"samples\": [\n          \"this ironical tone was discord to my bursting over boiling heart i was nettled by his insolence and replied with bitterness there is a spirit\",\n          \"these rumors must have had some foundation in fact\",\n          \"but business is business and to a robber whose soul is in his profession there is a lure and a challenge about a very old and very feeble man who has no account at the bank and who pays for his few necessities at the village store with spanish gold and silver minted two centuries ago\"\n        ],\n        \"semantic_type\": \"\",\n        \"description\": \"\"\n      }\n    },\n    {\n      \"column\": \"text_length\",\n      \"properties\": {\n        \"dtype\": \"int32\",\n        \"num_unique_values\": 571,\n        \"samples\": [\n          403,\n          178,\n          26\n        ],\n        \"semantic_type\": \"\",\n        \"description\": \"\"\n      }\n    },\n    {\n      \"column\": \"words\",\n      \"properties\": {\n        \"dtype\": \"object\",\n        \"semantic_type\": \"\",\n        \"description\": \"\"\n      }\n    },\n    {\n      \"column\": \"word_count\",\n      \"properties\": {\n        \"dtype\": \"int32\",\n        \"num_unique_values\": 139,\n        \"samples\": [\n          140,\n          69,\n          51\n        ],\n        \"semantic_type\": \"\",\n        \"description\": \"\"\n      }\n    }\n  ]\n}"
            }
          },
          "metadata": {},
          "execution_count": 18
        }
      ],
      "source": [
        "dataframe = df.toPandas()\n",
        "dataframe.head(2)"
      ]
    },
    {
      "cell_type": "markdown",
      "source": [
        "In the next code cell, we will **remove any null or missing values** from the DataFrame to ensure clean and consistent data for analysis."
      ],
      "metadata": {
        "id": "LapiIWuLrfzj"
      }
    },
    {
      "cell_type": "code",
      "source": [
        "if sum(dataframe.isna().any()):\n",
        "  dataframe.dropna(inplace=True)\n",
        "  dataframe.reset_index(drop=True, inplace=True)\n",
        "dataframe.isna().any()"
      ],
      "metadata": {
        "colab": {
          "base_uri": "https://localhost:8080/",
          "height": 303
        },
        "id": "pPX7vkiVA92-",
        "outputId": "20aa2c5a-8ca1-4703-b1d8-e55ae3c2bd24"
      },
      "execution_count": 19,
      "outputs": [
        {
          "output_type": "execute_result",
          "data": {
            "text/plain": [
              "id             False\n",
              "text           False\n",
              "author         False\n",
              "clean_text     False\n",
              "text_length    False\n",
              "words          False\n",
              "word_count     False\n",
              "dtype: bool"
            ],
            "text/html": [
              "<div>\n",
              "<style scoped>\n",
              "    .dataframe tbody tr th:only-of-type {\n",
              "        vertical-align: middle;\n",
              "    }\n",
              "\n",
              "    .dataframe tbody tr th {\n",
              "        vertical-align: top;\n",
              "    }\n",
              "\n",
              "    .dataframe thead th {\n",
              "        text-align: right;\n",
              "    }\n",
              "</style>\n",
              "<table border=\"1\" class=\"dataframe\">\n",
              "  <thead>\n",
              "    <tr style=\"text-align: right;\">\n",
              "      <th></th>\n",
              "      <th>0</th>\n",
              "    </tr>\n",
              "  </thead>\n",
              "  <tbody>\n",
              "    <tr>\n",
              "      <th>id</th>\n",
              "      <td>False</td>\n",
              "    </tr>\n",
              "    <tr>\n",
              "      <th>text</th>\n",
              "      <td>False</td>\n",
              "    </tr>\n",
              "    <tr>\n",
              "      <th>author</th>\n",
              "      <td>False</td>\n",
              "    </tr>\n",
              "    <tr>\n",
              "      <th>clean_text</th>\n",
              "      <td>False</td>\n",
              "    </tr>\n",
              "    <tr>\n",
              "      <th>text_length</th>\n",
              "      <td>False</td>\n",
              "    </tr>\n",
              "    <tr>\n",
              "      <th>words</th>\n",
              "      <td>False</td>\n",
              "    </tr>\n",
              "    <tr>\n",
              "      <th>word_count</th>\n",
              "      <td>False</td>\n",
              "    </tr>\n",
              "  </tbody>\n",
              "</table>\n",
              "</div><br><label><b>dtype:</b> bool</label>"
            ]
          },
          "metadata": {},
          "execution_count": 19
        }
      ]
    },
    {
      "cell_type": "markdown",
      "source": [
        "In the following code cell, we will **check the size of the dataset** after removing null values to confirm the number of remaining records.\n"
      ],
      "metadata": {
        "id": "u2tu2JSJ78iZ"
      }
    },
    {
      "cell_type": "code",
      "source": [
        "print(f\"The dataset size is: {len(dataframe):,}\")"
      ],
      "metadata": {
        "colab": {
          "base_uri": "https://localhost:8080/"
        },
        "id": "5ayVO7-ZBFoA",
        "outputId": "2cb82e17-ca3a-466f-bbc5-6150a9f9908e"
      },
      "execution_count": 235,
      "outputs": [
        {
          "output_type": "stream",
          "name": "stdout",
          "text": [
            "The dataset size is: 19,579\n"
          ]
        }
      ]
    },
    {
      "cell_type": "code",
      "source": [
        "dataframe2 = pd.read_csv(\"train.csv\")\n",
        "if sum(dataframe2.isna().any()):\n",
        "  dataframe2.dropna(inplace=True)\n",
        "  dataframe2.reset_index(drop=True, inplace=True)\n",
        "dataframe2.isna().any()\n",
        "dataframe2.head(2)"
      ],
      "metadata": {
        "colab": {
          "base_uri": "https://localhost:8080/",
          "height": 112
        },
        "id": "66xLhwMxCu3r",
        "outputId": "7238ae00-cb5c-4006-c36a-0d92513136f3"
      },
      "execution_count": 236,
      "outputs": [
        {
          "output_type": "execute_result",
          "data": {
            "text/plain": [
              "        id                                               text author\n",
              "0  id26305  This process, however, afforded me no means of...    EAP\n",
              "1  id17569  It never once occurred to me that the fumbling...    HPL"
            ],
            "text/html": [
              "\n",
              "  <div id=\"df-707a9cbc-2843-43b0-97cd-0dd587ac8a74\" class=\"colab-df-container\">\n",
              "    <div>\n",
              "<style scoped>\n",
              "    .dataframe tbody tr th:only-of-type {\n",
              "        vertical-align: middle;\n",
              "    }\n",
              "\n",
              "    .dataframe tbody tr th {\n",
              "        vertical-align: top;\n",
              "    }\n",
              "\n",
              "    .dataframe thead th {\n",
              "        text-align: right;\n",
              "    }\n",
              "</style>\n",
              "<table border=\"1\" class=\"dataframe\">\n",
              "  <thead>\n",
              "    <tr style=\"text-align: right;\">\n",
              "      <th></th>\n",
              "      <th>id</th>\n",
              "      <th>text</th>\n",
              "      <th>author</th>\n",
              "    </tr>\n",
              "  </thead>\n",
              "  <tbody>\n",
              "    <tr>\n",
              "      <th>0</th>\n",
              "      <td>id26305</td>\n",
              "      <td>This process, however, afforded me no means of...</td>\n",
              "      <td>EAP</td>\n",
              "    </tr>\n",
              "    <tr>\n",
              "      <th>1</th>\n",
              "      <td>id17569</td>\n",
              "      <td>It never once occurred to me that the fumbling...</td>\n",
              "      <td>HPL</td>\n",
              "    </tr>\n",
              "  </tbody>\n",
              "</table>\n",
              "</div>\n",
              "    <div class=\"colab-df-buttons\">\n",
              "\n",
              "  <div class=\"colab-df-container\">\n",
              "    <button class=\"colab-df-convert\" onclick=\"convertToInteractive('df-707a9cbc-2843-43b0-97cd-0dd587ac8a74')\"\n",
              "            title=\"Convert this dataframe to an interactive table.\"\n",
              "            style=\"display:none;\">\n",
              "\n",
              "  <svg xmlns=\"http://www.w3.org/2000/svg\" height=\"24px\" viewBox=\"0 -960 960 960\">\n",
              "    <path d=\"M120-120v-720h720v720H120Zm60-500h600v-160H180v160Zm220 220h160v-160H400v160Zm0 220h160v-160H400v160ZM180-400h160v-160H180v160Zm440 0h160v-160H620v160ZM180-180h160v-160H180v160Zm440 0h160v-160H620v160Z\"/>\n",
              "  </svg>\n",
              "    </button>\n",
              "\n",
              "  <style>\n",
              "    .colab-df-container {\n",
              "      display:flex;\n",
              "      gap: 12px;\n",
              "    }\n",
              "\n",
              "    .colab-df-convert {\n",
              "      background-color: #E8F0FE;\n",
              "      border: none;\n",
              "      border-radius: 50%;\n",
              "      cursor: pointer;\n",
              "      display: none;\n",
              "      fill: #1967D2;\n",
              "      height: 32px;\n",
              "      padding: 0 0 0 0;\n",
              "      width: 32px;\n",
              "    }\n",
              "\n",
              "    .colab-df-convert:hover {\n",
              "      background-color: #E2EBFA;\n",
              "      box-shadow: 0px 1px 2px rgba(60, 64, 67, 0.3), 0px 1px 3px 1px rgba(60, 64, 67, 0.15);\n",
              "      fill: #174EA6;\n",
              "    }\n",
              "\n",
              "    .colab-df-buttons div {\n",
              "      margin-bottom: 4px;\n",
              "    }\n",
              "\n",
              "    [theme=dark] .colab-df-convert {\n",
              "      background-color: #3B4455;\n",
              "      fill: #D2E3FC;\n",
              "    }\n",
              "\n",
              "    [theme=dark] .colab-df-convert:hover {\n",
              "      background-color: #434B5C;\n",
              "      box-shadow: 0px 1px 3px 1px rgba(0, 0, 0, 0.15);\n",
              "      filter: drop-shadow(0px 1px 2px rgba(0, 0, 0, 0.3));\n",
              "      fill: #FFFFFF;\n",
              "    }\n",
              "  </style>\n",
              "\n",
              "    <script>\n",
              "      const buttonEl =\n",
              "        document.querySelector('#df-707a9cbc-2843-43b0-97cd-0dd587ac8a74 button.colab-df-convert');\n",
              "      buttonEl.style.display =\n",
              "        google.colab.kernel.accessAllowed ? 'block' : 'none';\n",
              "\n",
              "      async function convertToInteractive(key) {\n",
              "        const element = document.querySelector('#df-707a9cbc-2843-43b0-97cd-0dd587ac8a74');\n",
              "        const dataTable =\n",
              "          await google.colab.kernel.invokeFunction('convertToInteractive',\n",
              "                                                    [key], {});\n",
              "        if (!dataTable) return;\n",
              "\n",
              "        const docLinkHtml = 'Like what you see? Visit the ' +\n",
              "          '<a target=\"_blank\" href=https://colab.research.google.com/notebooks/data_table.ipynb>data table notebook</a>'\n",
              "          + ' to learn more about interactive tables.';\n",
              "        element.innerHTML = '';\n",
              "        dataTable['output_type'] = 'display_data';\n",
              "        await google.colab.output.renderOutput(dataTable, element);\n",
              "        const docLink = document.createElement('div');\n",
              "        docLink.innerHTML = docLinkHtml;\n",
              "        element.appendChild(docLink);\n",
              "      }\n",
              "    </script>\n",
              "  </div>\n",
              "\n",
              "\n",
              "    <div id=\"df-87738c7f-a5c9-4aa7-82bd-14dc3985cc78\">\n",
              "      <button class=\"colab-df-quickchart\" onclick=\"quickchart('df-87738c7f-a5c9-4aa7-82bd-14dc3985cc78')\"\n",
              "                title=\"Suggest charts\"\n",
              "                style=\"display:none;\">\n",
              "\n",
              "<svg xmlns=\"http://www.w3.org/2000/svg\" height=\"24px\"viewBox=\"0 0 24 24\"\n",
              "     width=\"24px\">\n",
              "    <g>\n",
              "        <path d=\"M19 3H5c-1.1 0-2 .9-2 2v14c0 1.1.9 2 2 2h14c1.1 0 2-.9 2-2V5c0-1.1-.9-2-2-2zM9 17H7v-7h2v7zm4 0h-2V7h2v10zm4 0h-2v-4h2v4z\"/>\n",
              "    </g>\n",
              "</svg>\n",
              "      </button>\n",
              "\n",
              "<style>\n",
              "  .colab-df-quickchart {\n",
              "      --bg-color: #E8F0FE;\n",
              "      --fill-color: #1967D2;\n",
              "      --hover-bg-color: #E2EBFA;\n",
              "      --hover-fill-color: #174EA6;\n",
              "      --disabled-fill-color: #AAA;\n",
              "      --disabled-bg-color: #DDD;\n",
              "  }\n",
              "\n",
              "  [theme=dark] .colab-df-quickchart {\n",
              "      --bg-color: #3B4455;\n",
              "      --fill-color: #D2E3FC;\n",
              "      --hover-bg-color: #434B5C;\n",
              "      --hover-fill-color: #FFFFFF;\n",
              "      --disabled-bg-color: #3B4455;\n",
              "      --disabled-fill-color: #666;\n",
              "  }\n",
              "\n",
              "  .colab-df-quickchart {\n",
              "    background-color: var(--bg-color);\n",
              "    border: none;\n",
              "    border-radius: 50%;\n",
              "    cursor: pointer;\n",
              "    display: none;\n",
              "    fill: var(--fill-color);\n",
              "    height: 32px;\n",
              "    padding: 0;\n",
              "    width: 32px;\n",
              "  }\n",
              "\n",
              "  .colab-df-quickchart:hover {\n",
              "    background-color: var(--hover-bg-color);\n",
              "    box-shadow: 0 1px 2px rgba(60, 64, 67, 0.3), 0 1px 3px 1px rgba(60, 64, 67, 0.15);\n",
              "    fill: var(--button-hover-fill-color);\n",
              "  }\n",
              "\n",
              "  .colab-df-quickchart-complete:disabled,\n",
              "  .colab-df-quickchart-complete:disabled:hover {\n",
              "    background-color: var(--disabled-bg-color);\n",
              "    fill: var(--disabled-fill-color);\n",
              "    box-shadow: none;\n",
              "  }\n",
              "\n",
              "  .colab-df-spinner {\n",
              "    border: 2px solid var(--fill-color);\n",
              "    border-color: transparent;\n",
              "    border-bottom-color: var(--fill-color);\n",
              "    animation:\n",
              "      spin 1s steps(1) infinite;\n",
              "  }\n",
              "\n",
              "  @keyframes spin {\n",
              "    0% {\n",
              "      border-color: transparent;\n",
              "      border-bottom-color: var(--fill-color);\n",
              "      border-left-color: var(--fill-color);\n",
              "    }\n",
              "    20% {\n",
              "      border-color: transparent;\n",
              "      border-left-color: var(--fill-color);\n",
              "      border-top-color: var(--fill-color);\n",
              "    }\n",
              "    30% {\n",
              "      border-color: transparent;\n",
              "      border-left-color: var(--fill-color);\n",
              "      border-top-color: var(--fill-color);\n",
              "      border-right-color: var(--fill-color);\n",
              "    }\n",
              "    40% {\n",
              "      border-color: transparent;\n",
              "      border-right-color: var(--fill-color);\n",
              "      border-top-color: var(--fill-color);\n",
              "    }\n",
              "    60% {\n",
              "      border-color: transparent;\n",
              "      border-right-color: var(--fill-color);\n",
              "    }\n",
              "    80% {\n",
              "      border-color: transparent;\n",
              "      border-right-color: var(--fill-color);\n",
              "      border-bottom-color: var(--fill-color);\n",
              "    }\n",
              "    90% {\n",
              "      border-color: transparent;\n",
              "      border-bottom-color: var(--fill-color);\n",
              "    }\n",
              "  }\n",
              "</style>\n",
              "\n",
              "      <script>\n",
              "        async function quickchart(key) {\n",
              "          const quickchartButtonEl =\n",
              "            document.querySelector('#' + key + ' button');\n",
              "          quickchartButtonEl.disabled = true;  // To prevent multiple clicks.\n",
              "          quickchartButtonEl.classList.add('colab-df-spinner');\n",
              "          try {\n",
              "            const charts = await google.colab.kernel.invokeFunction(\n",
              "                'suggestCharts', [key], {});\n",
              "          } catch (error) {\n",
              "            console.error('Error during call to suggestCharts:', error);\n",
              "          }\n",
              "          quickchartButtonEl.classList.remove('colab-df-spinner');\n",
              "          quickchartButtonEl.classList.add('colab-df-quickchart-complete');\n",
              "        }\n",
              "        (() => {\n",
              "          let quickchartButtonEl =\n",
              "            document.querySelector('#df-87738c7f-a5c9-4aa7-82bd-14dc3985cc78 button');\n",
              "          quickchartButtonEl.style.display =\n",
              "            google.colab.kernel.accessAllowed ? 'block' : 'none';\n",
              "        })();\n",
              "      </script>\n",
              "    </div>\n",
              "\n",
              "    </div>\n",
              "  </div>\n"
            ],
            "application/vnd.google.colaboratory.intrinsic+json": {
              "type": "dataframe",
              "variable_name": "dataframe2",
              "summary": "{\n  \"name\": \"dataframe2\",\n  \"rows\": 19579,\n  \"fields\": [\n    {\n      \"column\": \"id\",\n      \"properties\": {\n        \"dtype\": \"string\",\n        \"num_unique_values\": 19579,\n        \"samples\": [\n          \"id15695\",\n          \"id07954\",\n          \"id16303\"\n        ],\n        \"semantic_type\": \"\",\n        \"description\": \"\"\n      }\n    },\n    {\n      \"column\": \"text\",\n      \"properties\": {\n        \"dtype\": \"string\",\n        \"num_unique_values\": 19579,\n        \"samples\": [\n          \"The gigantic magnitude and the immediately available nature of the sum, dazzled and bewildered all who thought upon the topic.\",\n          \"Shall I disturb this calm by mingling in the world?\",\n          \"He had seen so many customs and witnessed so great a variety of moral creeds that he had been obliged to form an independant one for himself which had no relation to the peculiar notions of any one country: his early prejudices of course influenced his judgement in the formation of his principles, and some raw colledge ideas were strangely mingled with the deepest deductions of his penetrating mind.\"\n        ],\n        \"semantic_type\": \"\",\n        \"description\": \"\"\n      }\n    },\n    {\n      \"column\": \"author\",\n      \"properties\": {\n        \"dtype\": \"category\",\n        \"num_unique_values\": 3,\n        \"samples\": [\n          \"EAP\",\n          \"HPL\",\n          \"MWS\"\n        ],\n        \"semantic_type\": \"\",\n        \"description\": \"\"\n      }\n    }\n  ]\n}"
            }
          },
          "metadata": {},
          "execution_count": 236
        }
      ]
    },
    {
      "cell_type": "markdown",
      "source": [
        "In the following code cell, we are going to define a threshold value and filter out all text entries that contain fewer words than this threshold."
      ],
      "metadata": {
        "id": "aIOdm2Xi9bI8"
      }
    },
    {
      "cell_type": "code",
      "source": [
        "threshold = 23\n",
        "dataframe2 = dataframe2[dataframe2['text'].apply(lambda x: len(str(x).split()) >= threshold)]\n",
        "dataframe2.head(2)"
      ],
      "metadata": {
        "colab": {
          "base_uri": "https://localhost:8080/",
          "height": 112
        },
        "id": "I-78eaRF8nRO",
        "outputId": "d1569c4f-1c13-4205-9eec-6324dcd1cb9d"
      },
      "execution_count": 237,
      "outputs": [
        {
          "output_type": "execute_result",
          "data": {
            "text/plain": [
              "        id                                               text author\n",
              "0  id26305  This process, however, afforded me no means of...    EAP\n",
              "2  id11008  In his left hand was a gold snuff box, from wh...    EAP"
            ],
            "text/html": [
              "\n",
              "  <div id=\"df-d9c3241d-2031-475f-bb9f-7364b56d4cfc\" class=\"colab-df-container\">\n",
              "    <div>\n",
              "<style scoped>\n",
              "    .dataframe tbody tr th:only-of-type {\n",
              "        vertical-align: middle;\n",
              "    }\n",
              "\n",
              "    .dataframe tbody tr th {\n",
              "        vertical-align: top;\n",
              "    }\n",
              "\n",
              "    .dataframe thead th {\n",
              "        text-align: right;\n",
              "    }\n",
              "</style>\n",
              "<table border=\"1\" class=\"dataframe\">\n",
              "  <thead>\n",
              "    <tr style=\"text-align: right;\">\n",
              "      <th></th>\n",
              "      <th>id</th>\n",
              "      <th>text</th>\n",
              "      <th>author</th>\n",
              "    </tr>\n",
              "  </thead>\n",
              "  <tbody>\n",
              "    <tr>\n",
              "      <th>0</th>\n",
              "      <td>id26305</td>\n",
              "      <td>This process, however, afforded me no means of...</td>\n",
              "      <td>EAP</td>\n",
              "    </tr>\n",
              "    <tr>\n",
              "      <th>2</th>\n",
              "      <td>id11008</td>\n",
              "      <td>In his left hand was a gold snuff box, from wh...</td>\n",
              "      <td>EAP</td>\n",
              "    </tr>\n",
              "  </tbody>\n",
              "</table>\n",
              "</div>\n",
              "    <div class=\"colab-df-buttons\">\n",
              "\n",
              "  <div class=\"colab-df-container\">\n",
              "    <button class=\"colab-df-convert\" onclick=\"convertToInteractive('df-d9c3241d-2031-475f-bb9f-7364b56d4cfc')\"\n",
              "            title=\"Convert this dataframe to an interactive table.\"\n",
              "            style=\"display:none;\">\n",
              "\n",
              "  <svg xmlns=\"http://www.w3.org/2000/svg\" height=\"24px\" viewBox=\"0 -960 960 960\">\n",
              "    <path d=\"M120-120v-720h720v720H120Zm60-500h600v-160H180v160Zm220 220h160v-160H400v160Zm0 220h160v-160H400v160ZM180-400h160v-160H180v160Zm440 0h160v-160H620v160ZM180-180h160v-160H180v160Zm440 0h160v-160H620v160Z\"/>\n",
              "  </svg>\n",
              "    </button>\n",
              "\n",
              "  <style>\n",
              "    .colab-df-container {\n",
              "      display:flex;\n",
              "      gap: 12px;\n",
              "    }\n",
              "\n",
              "    .colab-df-convert {\n",
              "      background-color: #E8F0FE;\n",
              "      border: none;\n",
              "      border-radius: 50%;\n",
              "      cursor: pointer;\n",
              "      display: none;\n",
              "      fill: #1967D2;\n",
              "      height: 32px;\n",
              "      padding: 0 0 0 0;\n",
              "      width: 32px;\n",
              "    }\n",
              "\n",
              "    .colab-df-convert:hover {\n",
              "      background-color: #E2EBFA;\n",
              "      box-shadow: 0px 1px 2px rgba(60, 64, 67, 0.3), 0px 1px 3px 1px rgba(60, 64, 67, 0.15);\n",
              "      fill: #174EA6;\n",
              "    }\n",
              "\n",
              "    .colab-df-buttons div {\n",
              "      margin-bottom: 4px;\n",
              "    }\n",
              "\n",
              "    [theme=dark] .colab-df-convert {\n",
              "      background-color: #3B4455;\n",
              "      fill: #D2E3FC;\n",
              "    }\n",
              "\n",
              "    [theme=dark] .colab-df-convert:hover {\n",
              "      background-color: #434B5C;\n",
              "      box-shadow: 0px 1px 3px 1px rgba(0, 0, 0, 0.15);\n",
              "      filter: drop-shadow(0px 1px 2px rgba(0, 0, 0, 0.3));\n",
              "      fill: #FFFFFF;\n",
              "    }\n",
              "  </style>\n",
              "\n",
              "    <script>\n",
              "      const buttonEl =\n",
              "        document.querySelector('#df-d9c3241d-2031-475f-bb9f-7364b56d4cfc button.colab-df-convert');\n",
              "      buttonEl.style.display =\n",
              "        google.colab.kernel.accessAllowed ? 'block' : 'none';\n",
              "\n",
              "      async function convertToInteractive(key) {\n",
              "        const element = document.querySelector('#df-d9c3241d-2031-475f-bb9f-7364b56d4cfc');\n",
              "        const dataTable =\n",
              "          await google.colab.kernel.invokeFunction('convertToInteractive',\n",
              "                                                    [key], {});\n",
              "        if (!dataTable) return;\n",
              "\n",
              "        const docLinkHtml = 'Like what you see? Visit the ' +\n",
              "          '<a target=\"_blank\" href=https://colab.research.google.com/notebooks/data_table.ipynb>data table notebook</a>'\n",
              "          + ' to learn more about interactive tables.';\n",
              "        element.innerHTML = '';\n",
              "        dataTable['output_type'] = 'display_data';\n",
              "        await google.colab.output.renderOutput(dataTable, element);\n",
              "        const docLink = document.createElement('div');\n",
              "        docLink.innerHTML = docLinkHtml;\n",
              "        element.appendChild(docLink);\n",
              "      }\n",
              "    </script>\n",
              "  </div>\n",
              "\n",
              "\n",
              "    <div id=\"df-03bb7e03-ae20-4cef-a725-7920ab57c016\">\n",
              "      <button class=\"colab-df-quickchart\" onclick=\"quickchart('df-03bb7e03-ae20-4cef-a725-7920ab57c016')\"\n",
              "                title=\"Suggest charts\"\n",
              "                style=\"display:none;\">\n",
              "\n",
              "<svg xmlns=\"http://www.w3.org/2000/svg\" height=\"24px\"viewBox=\"0 0 24 24\"\n",
              "     width=\"24px\">\n",
              "    <g>\n",
              "        <path d=\"M19 3H5c-1.1 0-2 .9-2 2v14c0 1.1.9 2 2 2h14c1.1 0 2-.9 2-2V5c0-1.1-.9-2-2-2zM9 17H7v-7h2v7zm4 0h-2V7h2v10zm4 0h-2v-4h2v4z\"/>\n",
              "    </g>\n",
              "</svg>\n",
              "      </button>\n",
              "\n",
              "<style>\n",
              "  .colab-df-quickchart {\n",
              "      --bg-color: #E8F0FE;\n",
              "      --fill-color: #1967D2;\n",
              "      --hover-bg-color: #E2EBFA;\n",
              "      --hover-fill-color: #174EA6;\n",
              "      --disabled-fill-color: #AAA;\n",
              "      --disabled-bg-color: #DDD;\n",
              "  }\n",
              "\n",
              "  [theme=dark] .colab-df-quickchart {\n",
              "      --bg-color: #3B4455;\n",
              "      --fill-color: #D2E3FC;\n",
              "      --hover-bg-color: #434B5C;\n",
              "      --hover-fill-color: #FFFFFF;\n",
              "      --disabled-bg-color: #3B4455;\n",
              "      --disabled-fill-color: #666;\n",
              "  }\n",
              "\n",
              "  .colab-df-quickchart {\n",
              "    background-color: var(--bg-color);\n",
              "    border: none;\n",
              "    border-radius: 50%;\n",
              "    cursor: pointer;\n",
              "    display: none;\n",
              "    fill: var(--fill-color);\n",
              "    height: 32px;\n",
              "    padding: 0;\n",
              "    width: 32px;\n",
              "  }\n",
              "\n",
              "  .colab-df-quickchart:hover {\n",
              "    background-color: var(--hover-bg-color);\n",
              "    box-shadow: 0 1px 2px rgba(60, 64, 67, 0.3), 0 1px 3px 1px rgba(60, 64, 67, 0.15);\n",
              "    fill: var(--button-hover-fill-color);\n",
              "  }\n",
              "\n",
              "  .colab-df-quickchart-complete:disabled,\n",
              "  .colab-df-quickchart-complete:disabled:hover {\n",
              "    background-color: var(--disabled-bg-color);\n",
              "    fill: var(--disabled-fill-color);\n",
              "    box-shadow: none;\n",
              "  }\n",
              "\n",
              "  .colab-df-spinner {\n",
              "    border: 2px solid var(--fill-color);\n",
              "    border-color: transparent;\n",
              "    border-bottom-color: var(--fill-color);\n",
              "    animation:\n",
              "      spin 1s steps(1) infinite;\n",
              "  }\n",
              "\n",
              "  @keyframes spin {\n",
              "    0% {\n",
              "      border-color: transparent;\n",
              "      border-bottom-color: var(--fill-color);\n",
              "      border-left-color: var(--fill-color);\n",
              "    }\n",
              "    20% {\n",
              "      border-color: transparent;\n",
              "      border-left-color: var(--fill-color);\n",
              "      border-top-color: var(--fill-color);\n",
              "    }\n",
              "    30% {\n",
              "      border-color: transparent;\n",
              "      border-left-color: var(--fill-color);\n",
              "      border-top-color: var(--fill-color);\n",
              "      border-right-color: var(--fill-color);\n",
              "    }\n",
              "    40% {\n",
              "      border-color: transparent;\n",
              "      border-right-color: var(--fill-color);\n",
              "      border-top-color: var(--fill-color);\n",
              "    }\n",
              "    60% {\n",
              "      border-color: transparent;\n",
              "      border-right-color: var(--fill-color);\n",
              "    }\n",
              "    80% {\n",
              "      border-color: transparent;\n",
              "      border-right-color: var(--fill-color);\n",
              "      border-bottom-color: var(--fill-color);\n",
              "    }\n",
              "    90% {\n",
              "      border-color: transparent;\n",
              "      border-bottom-color: var(--fill-color);\n",
              "    }\n",
              "  }\n",
              "</style>\n",
              "\n",
              "      <script>\n",
              "        async function quickchart(key) {\n",
              "          const quickchartButtonEl =\n",
              "            document.querySelector('#' + key + ' button');\n",
              "          quickchartButtonEl.disabled = true;  // To prevent multiple clicks.\n",
              "          quickchartButtonEl.classList.add('colab-df-spinner');\n",
              "          try {\n",
              "            const charts = await google.colab.kernel.invokeFunction(\n",
              "                'suggestCharts', [key], {});\n",
              "          } catch (error) {\n",
              "            console.error('Error during call to suggestCharts:', error);\n",
              "          }\n",
              "          quickchartButtonEl.classList.remove('colab-df-spinner');\n",
              "          quickchartButtonEl.classList.add('colab-df-quickchart-complete');\n",
              "        }\n",
              "        (() => {\n",
              "          let quickchartButtonEl =\n",
              "            document.querySelector('#df-03bb7e03-ae20-4cef-a725-7920ab57c016 button');\n",
              "          quickchartButtonEl.style.display =\n",
              "            google.colab.kernel.accessAllowed ? 'block' : 'none';\n",
              "        })();\n",
              "      </script>\n",
              "    </div>\n",
              "\n",
              "    </div>\n",
              "  </div>\n"
            ],
            "application/vnd.google.colaboratory.intrinsic+json": {
              "type": "dataframe",
              "variable_name": "dataframe2",
              "summary": "{\n  \"name\": \"dataframe2\",\n  \"rows\": 10183,\n  \"fields\": [\n    {\n      \"column\": \"id\",\n      \"properties\": {\n        \"dtype\": \"string\",\n        \"num_unique_values\": 10183,\n        \"samples\": [\n          \"id25882\",\n          \"id02372\",\n          \"id19369\"\n        ],\n        \"semantic_type\": \"\",\n        \"description\": \"\"\n      }\n    },\n    {\n      \"column\": \"text\",\n      \"properties\": {\n        \"dtype\": \"string\",\n        \"num_unique_values\": 10183,\n        \"samples\": [\n          \"I say 'his wishes,' for that he meant to include this note book among the miscellaneous papers directed 'to be burnt,' I think there can be no manner of doubt.\",\n          \"Kepler admitted that his three laws were guessed at these three laws of all laws which led the great Inglitch mathematician to his principle, the basis of all physical principle to go behind which we must enter the Kingdom of Metaphysics.\",\n          \"The real observer would have uttered an instant ejaculation of surprise however prepared by previous knowledge at the singularity of their position; the fictitious observer has not even mentioned the subject, but speaks of seeing the entire bodies of such creatures, when it is demonstrable that he could have seen only the diameter of their heads It might as well be remarked, in conclusion, that the size, and particularly the powers of the man bats for example, their ability to fly in so rare an atmosphere if, indeed, the moon have any, with most of the other fancies in regard to animal and vegetable existence, are at variance, generally, with all analogical reasoning on these themes; and that analogy here will often amount to conclusive demonstration.\"\n        ],\n        \"semantic_type\": \"\",\n        \"description\": \"\"\n      }\n    },\n    {\n      \"column\": \"author\",\n      \"properties\": {\n        \"dtype\": \"category\",\n        \"num_unique_values\": 3,\n        \"samples\": [\n          \"EAP\",\n          \"MWS\",\n          \"HPL\"\n        ],\n        \"semantic_type\": \"\",\n        \"description\": \"\"\n      }\n    }\n  ]\n}"
            }
          },
          "metadata": {},
          "execution_count": 237
        }
      ]
    },
    {
      "cell_type": "markdown",
      "source": [
        "Next, we are going to inspect a few examples from the dataset after removing all rows containing text with fewer words than the defined threshold.\n"
      ],
      "metadata": {
        "id": "yGPAUAjg9sTK"
      }
    },
    {
      "cell_type": "code",
      "source": [
        "print(f\"The dataset size is: {len(dataframe2):,}\")"
      ],
      "metadata": {
        "colab": {
          "base_uri": "https://localhost:8080/"
        },
        "id": "4hmIBmBm9YoF",
        "outputId": "ea936813-0a00-4dd1-b4c4-221ea703fac8"
      },
      "execution_count": 238,
      "outputs": [
        {
          "output_type": "stream",
          "name": "stdout",
          "text": [
            "The dataset size is: 10,183\n"
          ]
        }
      ]
    },
    {
      "cell_type": "markdown",
      "source": [
        "In this section, we will **visualize the dataset** using charts.  \n",
        "First, we will examine the **distribution of authors** with a bar chart to understand how the text samples are distributed across different authors.\n"
      ],
      "metadata": {
        "id": "QJhlTeJqBJut"
      }
    },
    {
      "cell_type": "code",
      "source": [
        "sns.set(font_scale=.8)\n",
        "sns.set_style(\"white\", rc={\"axes.spines.right\": True, \"axes.spines.top\": True})\n",
        "sns.set(rc={\"axes.facecolor\": \"#FFFFFF\", \"figure.facecolor\": \"#FFFFFF\"})\n",
        "\n",
        "plt.figure(figsize=(5, 4))\n",
        "sns.countplot(data=dataframe2, y=\"author\", palette=PALETTES.food,\n",
        "              legend=False,  fill=True)\n",
        "plt.xlabel(\"Label\", fontsize=10)\n",
        "plt.ylabel(\"Frequency\", fontsize=10)\n",
        "plt.xticks(fontsize=10)\n",
        "plt.yticks(fontsize=10)\n",
        "plt.title(f\"Label distribution in the dataset\", fontsize=12, weight=\"bold\")\n",
        "plt.minorticks_on()\n",
        "plt.grid(which='major', color='gray', linestyle='-', linewidth=0.5)\n",
        "plt.grid(which='minor', color='#7ED4AD', linestyle='--', linewidth=0.3)\n",
        "plt.tight_layout()\n",
        "plt.show()"
      ],
      "metadata": {
        "colab": {
          "base_uri": "https://localhost:8080/",
          "height": 401
        },
        "id": "ZVvGZm92Z3DM",
        "outputId": "b705a4ac-7ade-46b9-d223-3879545971bb"
      },
      "execution_count": 239,
      "outputs": [
        {
          "output_type": "display_data",
          "data": {
            "text/plain": [
              "<Figure size 500x400 with 1 Axes>"
            ],
            "image/png": "[encoded data removed]"
          },
          "metadata": {}
        }
      ]
    },
    {
      "cell_type": "markdown",
      "source": [
        "### ⚖️ Handling Class Imbalance\n",
        "\n",
        "The dataset is **not balanced**, meaning some author classes have significantly more examples than others.  \n",
        "To ensure that **accuracy** remains a reliable performance metric, we will **downsample the majority classes** so that each author class has approximately the same number of samples as the minority class.  \n",
        "\n",
        "This approach helps prevent the model from becoming biased toward the majority classes and allows for a more fair evaluation of model performance.\n"
      ],
      "metadata": {
        "id": "eAhmXauJrtbi"
      }
    },
    {
      "cell_type": "code",
      "source": [
        "new_dataframe = dataframe2.copy()\n",
        "\n",
        "min_class_count = new_dataframe['author'].value_counts().min()\n",
        "downsampled_list = []\n",
        "for author in new_dataframe['author'].unique():\n",
        "    class_df = new_dataframe[new_dataframe['author'] == author]\n",
        "    downsampled_class_df = resample(\n",
        "        class_df,\n",
        "        replace=False,\n",
        "        n_samples=min_class_count,\n",
        "        random_state=SEED\n",
        "    )\n",
        "    downsampled_list.append(downsampled_class_df)\n",
        "balanced_df = pd.concat(downsampled_list).reset_index(drop=True)"
      ],
      "metadata": {
        "id": "dQdzdyCUrHah"
      },
      "execution_count": 240,
      "outputs": []
    },
    {
      "cell_type": "markdown",
      "source": [
        "### 🍰 Visualizing the Balanced Dataset\n",
        "\n",
        "In the following code cell, we are going to **visualize the distribution** of the balanced dataset using a **pie chart**.  \n",
        "This visualization helps us confirm that all author classes now have approximately equal representation after the downsampling process.\n"
      ],
      "metadata": {
        "id": "iXALB6-tsDJR"
      }
    },
    {
      "cell_type": "code",
      "source": [
        "samples = dict(balanced_df.author.value_counts())\n",
        "\n",
        "def fmt(x, total):\n",
        "    return '{:.1f}%\\n({:.0f})'.format(x, total*x/100)\n",
        "\n",
        "plt.figure(figsize=(3, 3))\n",
        "plt.pie(\n",
        "    list(samples.values()),\n",
        "    labels=list(samples.keys()),\n",
        "    pctdistance=0.6, shadow=True,\n",
        "    autopct=lambda x: fmt(x, sum(samples.values())),\n",
        "    textprops={'color': 'black', 'fontsize': 8, 'weight': 'bold'},\n",
        "    radius=.6, colors=PALETTES.food,\n",
        "    explode=[.01 for _ in range(len(samples))]\n",
        ")\n",
        "plt.axis('equal')\n",
        "plt.title(\"Authors Distribution\", fontsize=10, weight=\"bold\")\n",
        "plt.legend(\n",
        "    labels=list(samples.keys()),\n",
        "    fontsize=8, loc=\"upper center\",\n",
        "    bbox_to_anchor=(0.5, -0.03),\n",
        "    title=\"Authors\", ncol=3, frameon=False, title_fontsize=8\n",
        ")\n",
        "plt.show()"
      ],
      "metadata": {
        "colab": {
          "base_uri": "https://localhost:8080/",
          "height": 334
        },
        "id": "KPI2mKzrraBL",
        "outputId": "cc397444-6d0f-477b-8878-fcc30ec53d9a"
      },
      "execution_count": 241,
      "outputs": [
        {
          "output_type": "display_data",
          "data": {
            "text/plain": [
              "<Figure size 300x300 with 1 Axes>"
            ],
            "image/png": "[encoded data removed]"
          },
          "metadata": {}
        }
      ]
    },
    {
      "cell_type": "markdown",
      "source": [
        "In the following code cell, we will **split the dataset into training, validation and testing sets**.  \n",
        "The testing set will also be used for **model evaluation** during training and **validation** to assess performance.\n"
      ],
      "metadata": {
        "id": "D6vUyi54skAL"
      }
    },
    {
      "cell_type": "code",
      "source": [
        "train, test = train_test_split(balanced_df, test_size=0.2, random_state=SEED)\n",
        "train, valid = train_test_split(train, test_size=0.2, random_state=SEED)\n",
        "train.reset_index(drop=True, inplace=True)\n",
        "test.reset_index(drop=True, inplace=True)\n",
        "valid.reset_index(drop=True, inplace=True)"
      ],
      "metadata": {
        "id": "WaW_GorMnnV-"
      },
      "execution_count": 242,
      "outputs": []
    },
    {
      "cell_type": "code",
      "source": [
        "train_dist_label\t= {i:0 for i in train.author.unique()}\n",
        "for val in train.author:\n",
        "  train_dist_label[val] += 1\n",
        "\n",
        "test_dist_label\t= {i:0 for i in test.author.unique()}\n",
        "for val in test.author:\n",
        "  test_dist_label[val] += 1\n",
        "\n",
        "valid_dist_label\t= {i:0 for i in valid.author.unique()}\n",
        "for val in valid.author:\n",
        "  valid_dist_label[val] += 1\n",
        "\n",
        "fig, axes = plt.subplots(1, 3)\n",
        "\n",
        "axes[0].pie(train_dist_label.values(), labels=train_dist_label.keys(), autopct='%1.1f%%',\n",
        "            textprops={'color': 'black', 'fontsize':8}, radius=1,\n",
        "            colors= PALETTES.food\n",
        "            )\n",
        "axes[0].set_title(\"Training\", fontsize=10)\n",
        "\n",
        "axes[1].pie(test_dist_label.values(), labels=test_dist_label.keys(), autopct='%1.1f%%',\n",
        "            textprops={'color': 'black', 'fontsize':8}, radius=1,\n",
        "            colors= PALETTES.food\n",
        "            )\n",
        "axes[1].set_title(\"Testing\", fontsize=10)\n",
        "\n",
        "axes[2].pie(valid_dist_label.values(), labels=valid_dist_label.keys(), autopct='%1.1f%%',\n",
        "            textprops={'color': 'black', 'fontsize':8}, radius=1,\n",
        "            colors= PALETTES.food)\n",
        "axes[2].set_title(\"Validation\", fontsize=10)\n",
        "\n",
        "fig.legend(train.author.value_counts().index, loc=\"upper center\", bbox_to_anchor=(0.5, 1.01), ncol=3, fontsize=8)\n",
        "plt.tight_layout()\n",
        "plt.show()"
      ],
      "metadata": {
        "colab": {
          "base_uri": "https://localhost:8080/",
          "height": 362
        },
        "id": "1PPpXtR5oH5z",
        "outputId": "bb327f26-7a33-46f8-a3d8-b578b6ed8833"
      },
      "execution_count": 243,
      "outputs": [
        {
          "output_type": "display_data",
          "data": {
            "text/plain": [
              "<Figure size 640x480 with 3 Axes>"
            ],
            "image/png": "[encoded data removed]"
          },
          "metadata": {}
        }
      ]
    },
    {
      "cell_type": "markdown",
      "source": [
        "In the next code cell, we will **clean the text** using our custom preprocessing function.  \n",
        "This step ensures that the text is standardized and ready for feature extraction or modeling.\n"
      ],
      "metadata": {
        "id": "bXGAhMtZEcVz"
      }
    },
    {
      "cell_type": "code",
      "source": [
        "train_texts = train.text.values\n",
        "train_labels = train.author.values\n",
        "\n",
        "\n",
        "test_texts = test.text.values\n",
        "test_labels = test.author.values\n",
        "\n",
        "valid_texts = valid.text.values\n",
        "valid_labels = valid.author.values\n",
        "\n",
        "MENTION_HASHTAG_RE = re.compile(r\"(@|#)([A-Za-z0-9]+)\")\n",
        "EMAIL_RE = re.compile(r\"([A-Za-z0-9]+[._-])*[A-Za-z0-9]+@[A-Za-z0-9-]+(\\.[A-Za-z]{2,})+\")\n",
        "URL_RE = re.compile(r\"https?\\S+\", re.MULTILINE)\n",
        "DIGIT_RE = re.compile(r\"\\d\")\n",
        "PUNCT_RE = re.compile(r\"[^\\w\\s\\']\")\n",
        "SPACE_RE = re.compile(r\"\\s+\")\n",
        "\n",
        "def clean_sentence(sent: str, lower: bool = True) -> str:\n",
        "    if lower:\n",
        "        sent = sent.lower()\n",
        "    sent = MENTION_HASHTAG_RE.sub(\" \", sent)\n",
        "    sent = EMAIL_RE.sub(\" \", sent)\n",
        "    sent = URL_RE.sub(\" \", sent)\n",
        "    sent = DIGIT_RE.sub(\" \", sent)\n",
        "    sent = PUNCT_RE.sub(\" \", sent)\n",
        "    sent = SPACE_RE.sub(\" \", sent).strip()\n",
        "    return sent"
      ],
      "metadata": {
        "id": "DbQT-p6OciE7"
      },
      "execution_count": 244,
      "outputs": []
    },
    {
      "cell_type": "code",
      "source": [
        "train_text = [clean_sentence(i) for i in train_texts]\n",
        "test_text = [clean_sentence(i) for i in test_texts]\n",
        "valid_text = [clean_sentence(i) for i in valid_texts]"
      ],
      "metadata": {
        "id": "k8nfsz68u4L2"
      },
      "execution_count": 245,
      "outputs": []
    },
    {
      "cell_type": "markdown",
      "source": [
        "Next, we will create a **Counter object** to store the word counts from the dataset.  \n",
        "These counts will be used to **build our custom vocabulary** for subsequent analysis or modeling.\n"
      ],
      "metadata": {
        "id": "dvl30xlNs-iR"
      }
    },
    {
      "cell_type": "code",
      "execution_count": 246,
      "metadata": {
        "id": "OdCzhfXUVkea"
      },
      "outputs": [],
      "source": [
        "test_counter = Counter()\n",
        "valid_counter = Counter()\n",
        "train_counter = Counter()\n",
        "\n",
        "for line in train_texts:\n",
        "    train_counter.update(line.lower().split())\n",
        "for line in test_texts:\n",
        "    test_counter.update(line.lower().split())\n",
        "\n",
        "for line in valid_texts:\n",
        "    valid_counter.update(line.lower().split())"
      ]
    },
    {
      "cell_type": "markdown",
      "source": [
        "Next, we will **visualize the most common words** in the cleaned dataset using **word clouds**.  \n",
        "This provides an intuitive way to see the most frequently occurring words and gain insights into the authors' writing styles.\n"
      ],
      "metadata": {
        "id": "ai8WKSm7tcgk"
      }
    },
    {
      "cell_type": "code",
      "source": [
        "plot_wordcloud(\n",
        "    train_counter, title=\"Most Common Words in the Train Set\", mask=\"chicken\", figsize=(4, 4),\n",
        "    fontsize=10\n",
        ")\n",
        "plot_wordcloud(\n",
        "    test_counter, title=\"Most Common Words in the Test Set\", mask=\"chicken\", figsize=(4, 4),\n",
        "    fontsize=10\n",
        ")\n",
        "\n",
        "plot_wordcloud(\n",
        "    valid_counter, title=\"Most Common Words in the Validation Set\", mask=\"chicken\", figsize=(4, 4),\n",
        "    fontsize=10\n",
        ")"
      ],
      "metadata": {
        "colab": {
          "base_uri": "https://localhost:8080/",
          "height": 1000
        },
        "id": "bEm6w1jFc4gr",
        "outputId": "81fc1e66-77cf-4646-e814-195ca4d86cb9"
      },
      "execution_count": 247,
      "outputs": [
        {
          "output_type": "display_data",
          "data": {
            "text/plain": [
              "<Figure size 400x400 with 1 Axes>"
            ],
            "image/png": "[encoded data removed]"
          },
          "metadata": {}
        },
        {
          "output_type": "display_data",
          "data": {
            "text/plain": [
              "<Figure size 400x400 with 1 Axes>"
            ],
            "image/png": "[encoded data removed]"
          },
          "metadata": {}
        },
        {
          "output_type": "display_data",
          "data": {
            "text/plain": [
              "<Figure size 400x400 with 1 Axes>"
            ],
            "image/png": "[encoded data removed]"
          },
          "metadata": {}
        }
      ]
    },
    {
      "cell_type": "markdown",
      "source": [
        "### 🔖 Label Pipeline\n",
        "\n",
        "Currently, our labels are in **text format**.  \n",
        "To use them in machine learning models, we need to **convert these labels into numerical values**.  \n",
        "\n",
        "The process is straightforward:  \n",
        "1. Extract all **unique labels** from the dataset.  \n",
        "2. Create a `labels_vocab` mapping that represents each label as an **integer**.  \n",
        "\n",
        "This mapping allows the model to work with numerical labels while preserving the correspondence to the original authors.\n"
      ],
      "metadata": {
        "id": "UJPrnQEAqtzk"
      }
    },
    {
      "cell_type": "code",
      "source": [
        "labels_dict = {k: v for v, k in enumerate(train.author.unique())}\n",
        "labels_dict"
      ],
      "metadata": {
        "colab": {
          "base_uri": "https://localhost:8080/"
        },
        "id": "t2jR-ETvqsw5",
        "outputId": "80f75ab7-bb24-4d79-c557-68efb47f36af"
      },
      "execution_count": 248,
      "outputs": [
        {
          "output_type": "execute_result",
          "data": {
            "text/plain": [
              "{'HPL': 0, 'EAP': 1, 'MWS': 2}"
            ]
          },
          "metadata": {},
          "execution_count": 248
        }
      ]
    },
    {
      "cell_type": "markdown",
      "source": [
        "The `label_pipeline` function takes a **text label** as input and returns its corresponding **integer representation**.  \n",
        "This allows us to consistently convert all author labels into numeric form for model training.\n"
      ],
      "metadata": {
        "id": "asJ0xGBVq4Ja"
      }
    },
    {
      "cell_type": "code",
      "source": [
        "label_pipeline = lambda x: labels_dict[x]"
      ],
      "metadata": {
        "id": "ZwJjzX6Nq801"
      },
      "execution_count": 249,
      "outputs": []
    },
    {
      "cell_type": "markdown",
      "metadata": {
        "id": "Q1Ohtgs01q3u"
      },
      "source": [
        "### 📖 Vocabulary\n",
        "\n",
        "Next, we will create a **Vocabulary class** and initialize it using the `counter` object.  \n",
        "\n",
        "- We will set `min_freq = 2`, meaning any word that appears **less than 2 times** will be treated as an **unknown token**.  \n",
        "- We will also specify **special tokens** (such as `<PAD>`, `<UNK>`, etc.) during the creation of the vocabulary object.  \n",
        "\n",
        "This ensures that our vocabulary captures meaningful words while handling rare or unseen words appropriately.\n"
      ]
    },
    {
      "cell_type": "code",
      "execution_count": 250,
      "metadata": {
        "id": "Q_GiMOWQisIb"
      },
      "outputs": [],
      "source": [
        "class vocab:\n",
        "    def __init__(self, counter, min_freq=1, specials=('[unk]', '[pad]', '[sos]', '[eos]')):\n",
        "        self.freqs = counter\n",
        "        self.itos = list(specials)\n",
        "        self.stoi = {}\n",
        "        for token, freq in counter.items():\n",
        "            if freq >= min_freq and token not in self.itos:\n",
        "                self.itos.append(token)\n",
        "\n",
        "        self.stoi = defaultdict(lambda: self.itos.index('[unk]'))  # default to unk\n",
        "        for idx, token in enumerate(self.itos):\n",
        "            self.stoi[token] = idx\n",
        "\n",
        "    def __len__(self):\n",
        "        return len(self.itos)\n",
        "\n",
        "    def __getitem__(self, token):\n",
        "        return self.stoi[token]\n",
        "\n",
        "    def get_stoi(self):\n",
        "        return self.stoi\n",
        "    def get_itos(self):\n",
        "        return self.itos\n",
        "\n",
        "vocabulary = vocab(train_counter, min_freq=2, specials=('[unk]', '[pad]', '[sos]', '[eos]'))"
      ]
    },
    {
      "cell_type": "markdown",
      "metadata": {
        "id": "vnK6twNwabXX"
      },
      "source": [
        "### 🔢 STOI - `String To Integer`\n",
        "\n",
        "We will create a **dictionary mapping each word to a unique integer**, which will serve as our **actual vocabulary**.  \n",
        "\n",
        "In the following code cell, we will initialize an object called `stoi` — a **word-to-index mapping**.  \n",
        "This dictionary will be used both during **model training** and **inference** to convert words into numerical representations.\n"
      ]
    },
    {
      "cell_type": "code",
      "execution_count": 251,
      "metadata": {
        "id": "Jmh4c22ZabUn"
      },
      "outputs": [],
      "source": [
        "stoi = vocabulary.get_stoi()"
      ]
    },
    {
      "cell_type": "markdown",
      "metadata": {
        "id": "XmbRrtfGczdO"
      },
      "source": [
        "### 📝 Text Pipeline\n",
        "\n",
        "After tokenizing the text, we need a way to **convert words into numbers**, since machine learning models can only process numerical inputs.  \n",
        "\n",
        "This is where the `text_pipeline` function comes in. The function:\n",
        "\n",
        "1. Takes a **sentence** as input.  \n",
        "2. Tokenizes the sentence into words.  \n",
        "3. Converts each word into its corresponding **integer index** from the `stoi` vocabulary.  \n",
        "\n",
        "**Note:** Any word not found in the vocabulary (`stoi`) will be mapped to the **unknown token** (`'[UNK]'`) with index `0`.\n"
      ]
    },
    {
      "cell_type": "code",
      "execution_count": 252,
      "metadata": {
        "id": "TOsxiW_EabSM"
      },
      "outputs": [],
      "source": [
        "def text_pipeline(x: str):\n",
        "  values = list()\n",
        "  tokens = x.lower().split(\" \")\n",
        "  for token in tokens:\n",
        "    try:\n",
        "      v = stoi[token]\n",
        "    except KeyError as e:\n",
        "      v = stoi['[unk]']\n",
        "    values.append(v)\n",
        "  return values"
      ]
    },
    {
      "cell_type": "markdown",
      "metadata": {
        "id": "phqmZGaY1CYj"
      },
      "source": [
        "### 📊 Data\n",
        "\n",
        "The dataset was downloaded from the Kaggle repository linked above. In addition to the labeled texts and authors, we will use **pre-trained GloVe word embeddings** to convert words into dense semantic vectors. These embeddings help capture global word co-occurrence statistics, which can improve performance in text classification and stylometry tasks.\n",
        "\n",
        "### 🔍 How GloVe Will Be Used\n",
        "\n",
        "- We'll download pre-trained GloVe embeddings (e.g. 100-dim or 300-dim vectors).\n",
        "- Use them to convert each word in our dataset into its embedding vector.\n",
        "- Possibly average (or apply more advanced aggregation) the word vectors to represent each text snippet.\n",
        "- Use these embedded text vectors for exploratory data analysis (comparing author style by vector similarity, clustering), before any classification modeling.\n",
        "\n",
        "\n",
        "\n"
      ]
    },
    {
      "cell_type": "markdown",
      "metadata": {
        "id": "aCWM7UZYdobA"
      },
      "source": [
        "### 🌐 Pretrained Vectors\n",
        "\n",
        "In the following code cell, we will download **pretrained word vectors** using `GloVe.6B.300d`.  \n",
        "\n",
        "- These vectors were trained on approximately **6 billion words**.  \n",
        "- Each word is represented as a **300-dimensional vector**, capturing semantic relationships between words.  \n",
        "- Using these pretrained embeddings allows us to leverage prior knowledge of word semantics, which can improve model performance.\n"
      ]
    },
    {
      "cell_type": "code",
      "execution_count": 253,
      "metadata": {
        "id": "yUdKukyldYsL"
      },
      "outputs": [],
      "source": [
        "embedding_path = \"/content/MyDrive/MyDrive/NLP Data/glove.6B/glove.6B.300d.txt\"\n",
        "EMBEDDING_DIM = 300\n",
        "glove_vectors = dict()\n",
        "with open(embedding_path, encoding=\"utf8\") as glove:\n",
        "  for line in glove:\n",
        "    records = line.split();\n",
        "    word = records[0]\n",
        "    vectors = np.asarray(records[1: ], dtype=np.float32)\n",
        "    glove_vectors[word] = vectors"
      ]
    },
    {
      "cell_type": "markdown",
      "metadata": {
        "id": "fcXWQP87dYoN"
      },
      "source": [
        "### 🧩 Creating Embedding Matrix\n",
        "\n",
        "Now that we have the GloVe vectors, we need to **customize them** to fit our use case.  \n",
        "\n",
        "We will create an **embedding matrix** that aligns with our vocabulary.  \n",
        "Essentially, this matrix provides a **word-to-vector mapping** for all the words in our vocabulary, allowing the model to convert each word index into its corresponding vector representation during training and inference.\n"
      ]
    },
    {
      "cell_type": "code",
      "execution_count": 355,
      "metadata": {
        "id": "HA9Y4jB7abNE"
      },
      "outputs": [],
      "source": [
        "VOCAB_SIZE = len(stoi)\n",
        "\n",
        "EMBEDDING_MATRIX = torch.zeros((VOCAB_SIZE, EMBEDDING_DIM))\n",
        "for word, index in stoi.items():\n",
        "    vector = glove_vectors.get(word)\n",
        "    try:\n",
        "        if vector is not None:\n",
        "            if isinstance(vector, torch.Tensor):\n",
        "                EMBEDDING_MATRIX[index] = vector\n",
        "            else:\n",
        "                EMBEDDING_MATRIX[index] = torch.from_numpy(vector)\n",
        "        else:\n",
        "            EMBEDDING_MATRIX[index] = torch.zeros(EMBEDDING_DIM)\n",
        "    except (IndexError, Exception):\n",
        "        continue"
      ]
    },
    {
      "cell_type": "code",
      "source": [
        "assert VOCAB_SIZE == EMBEDDING_MATRIX.size(0), \"They should be the same\""
      ],
      "metadata": {
        "id": "7WZF79i-ww94"
      },
      "execution_count": 356,
      "outputs": []
    },
    {
      "cell_type": "markdown",
      "metadata": {
        "id": "Kz4r0Mdmd-eO"
      },
      "source": [
        "In the following code cell, we will **inspect the embedding matrix** by checking the vector representation for the word `\"the\"`.  \n",
        "This helps verify that our embeddings have been correctly mapped to the vocabulary.\n"
      ]
    },
    {
      "cell_type": "code",
      "execution_count": 357,
      "metadata": {
        "colab": {
          "base_uri": "https://localhost:8080/"
        },
        "id": "CRubgb1Dd-bO",
        "outputId": "64d8131d-828b-4e17-8af2-227bc656fb55"
      },
      "outputs": [
        {
          "output_type": "execute_result",
          "data": {
            "text/plain": [
              "tensor([ 4.6560e-02,  2.1318e-01, -7.4364e-03, -4.5854e-01, -3.5639e-02,\n",
              "         2.3643e-01, -2.8836e-01,  2.1521e-01, -1.3486e-01, -1.6413e+00,\n",
              "        -2.6091e-01,  3.2434e-02,  5.6621e-02, -4.3296e-02, -2.1672e-02,\n",
              "         2.2476e-01, -7.5129e-02, -6.7018e-02, -1.4247e-01,  3.8825e-02,\n",
              "        -1.8951e-01,  2.9977e-01,  3.9305e-01,  1.7887e-01, -1.7343e-01,\n",
              "        -2.1178e-01,  2.3617e-01, -6.3681e-02, -4.2318e-01, -1.1661e-01,\n",
              "         9.3754e-02,  1.7296e-01, -3.3073e-01,  4.9112e-01, -6.8995e-01,\n",
              "        -9.2462e-02,  2.4742e-01, -1.7991e-01,  9.7908e-02,  8.3118e-02,\n",
              "         1.5299e-01, -2.7276e-01, -3.8934e-02,  5.4453e-01,  5.3737e-01,\n",
              "         2.9105e-01, -7.3514e-03,  4.7880e-02, -4.0760e-01, -2.6759e-02,\n",
              "         1.7919e-01,  1.0977e-02, -1.0963e-01, -2.6395e-01,  7.3990e-02,\n",
              "         2.6236e-01, -1.5080e-01,  3.4623e-01,  2.5758e-01,  1.1971e-01,\n",
              "        -3.7135e-02, -7.1593e-02,  4.3898e-01, -4.0764e-02,  1.6425e-02,\n",
              "        -4.4640e-01,  1.7197e-01,  4.6246e-02,  5.8639e-02,  4.1499e-02,\n",
              "         5.3948e-01,  5.2495e-01,  1.1361e-01, -4.8315e-02, -3.6385e-01,\n",
              "         1.8704e-01,  9.2761e-02, -1.1129e-01, -4.2085e-01,  1.3992e-01,\n",
              "        -3.9338e-01, -6.7945e-02,  1.2188e-01,  1.6707e-01,  7.5169e-02,\n",
              "        -1.5529e-02, -1.9499e-01,  1.9638e-01,  5.3194e-02,  2.5170e-01,\n",
              "        -3.4845e-01, -1.0638e-01, -3.4692e-01, -1.9024e-01, -2.0040e-01,\n",
              "         1.2154e-01, -2.9208e-01,  2.3353e-02, -1.1618e-01, -3.5768e-01,\n",
              "         6.2304e-02,  3.5884e-01,  2.9060e-02,  7.3005e-03,  4.9482e-03,\n",
              "        -1.5048e-01, -1.2313e-01,  1.9337e-01,  1.2173e-01,  4.4503e-01,\n",
              "         2.5147e-01,  1.0781e-01, -1.7716e-01,  3.8691e-02,  8.1530e-02,\n",
              "         1.4667e-01,  6.3666e-02,  6.1332e-02, -7.5569e-02, -3.7724e-01,\n",
              "         1.5850e-02, -3.0342e-01,  2.8374e-01, -4.2013e-02, -4.0715e-02,\n",
              "        -1.5269e-01,  7.4980e-02,  1.5577e-01,  1.0433e-01,  3.1393e-01,\n",
              "         1.9309e-01,  1.9429e-01,  1.5185e-01, -1.0192e-01, -1.8785e-02,\n",
              "         2.0791e-01,  1.3366e-01,  1.9038e-01, -2.5558e-01,  3.0400e-01,\n",
              "        -1.8960e-02,  2.0147e-01, -4.2110e-01, -7.5156e-03, -2.7977e-01,\n",
              "        -1.9314e-01,  4.6204e-02,  1.9971e-01, -3.0207e-01,  2.5735e-01,\n",
              "         6.8107e-01, -1.9409e-01,  2.3984e-01,  2.2493e-01,  6.5224e-01,\n",
              "        -1.3561e-01, -1.7383e-01, -4.8209e-02, -1.1860e-01,  2.1588e-03,\n",
              "        -1.9525e-02,  1.1948e-01,  1.9346e-01, -4.0820e-01, -8.2966e-02,\n",
              "         1.6626e-01, -1.0601e-01,  3.5861e-01,  1.6922e-01,  7.2590e-02,\n",
              "        -2.4803e-01, -1.0024e-01, -5.2491e-01, -1.7745e-01, -3.6647e-01,\n",
              "         2.6180e-01, -1.2077e-02,  8.3190e-02, -2.1528e-01,  4.1045e-01,\n",
              "         2.9136e-01,  3.0869e-01,  7.8864e-02,  3.2207e-01, -4.1023e-02,\n",
              "        -1.0970e-01, -9.2041e-02, -1.2339e-01, -1.6416e-01,  3.5382e-01,\n",
              "        -8.2774e-02,  3.3171e-01, -2.4738e-01, -4.8928e-02,  1.5746e-01,\n",
              "         1.8988e-01, -2.6642e-02,  6.3315e-02, -1.0673e-02,  3.4089e-01,\n",
              "         1.4106e+00,  1.3417e-01,  2.8191e-01, -2.5940e-01,  5.5267e-02,\n",
              "        -5.2425e-02, -2.5789e-01,  1.9127e-02, -2.2084e-02,  3.2113e-01,\n",
              "         6.8818e-02,  5.1207e-01,  1.6478e-01, -2.0194e-01,  2.9232e-01,\n",
              "         9.8575e-02,  1.3145e-02, -1.0652e-01,  1.3510e-01, -4.5332e-02,\n",
              "         2.0697e-01, -4.8425e-01, -4.4706e-01,  3.3305e-03,  2.9264e-03,\n",
              "        -1.0975e-01, -2.3325e-01,  2.2442e-01, -1.0503e-01,  1.2339e-01,\n",
              "         1.0978e-01,  4.8994e-02, -2.5157e-01,  4.0319e-01,  3.5318e-01,\n",
              "         1.8651e-01, -2.3622e-02, -1.2734e-01,  1.1475e-01,  2.7359e-01,\n",
              "        -2.1866e-01,  1.5794e-02,  8.1754e-01, -2.3792e-02, -8.5469e-01,\n",
              "        -1.6203e-01,  1.8076e-01,  2.8014e-02, -1.4340e-01,  1.3139e-03,\n",
              "        -9.1735e-02, -8.9704e-02,  1.1105e-01, -1.6703e-01,  6.8377e-02,\n",
              "        -8.7388e-02, -3.9789e-02,  1.4184e-02,  2.1187e-01,  2.8579e-01,\n",
              "        -2.8797e-01, -5.8996e-02, -3.2436e-02, -4.7009e-03, -1.7052e-01,\n",
              "        -3.4741e-02, -1.1489e-01,  7.5093e-02,  9.9526e-02,  4.8183e-02,\n",
              "        -7.3775e-02, -4.1817e-01,  4.1268e-03,  4.4414e-01, -1.6062e-01,\n",
              "         1.4294e-01, -2.2628e+00, -2.7347e-02,  8.1311e-01,  7.7417e-01,\n",
              "        -2.5639e-01, -1.1576e-01, -1.1982e-01, -2.1363e-01,  2.8429e-02,\n",
              "         2.7261e-01,  3.1026e-02,  9.6782e-02,  6.7769e-03,  1.4082e-01,\n",
              "        -1.3064e-02, -2.9686e-01, -7.9913e-02,  1.9500e-01,  3.1549e-02,\n",
              "         2.8506e-01, -8.7461e-02,  9.0611e-03, -2.0989e-01,  5.3913e-02])"
            ]
          },
          "metadata": {},
          "execution_count": 357
        }
      ],
      "source": [
        "EMBEDDING_MATRIX[stoi['the']]"
      ]
    },
    {
      "cell_type": "markdown",
      "metadata": {
        "id": "tVMx4jP4eOPx"
      },
      "source": [
        "### 📂 Creating Dataset for Training\n",
        "\n",
        "In the following code cell, we will create a **dataset class** called `AuthorsDataset`.  \n",
        "This class takes in the **text samples** and their corresponding **labels**, allowing us to efficiently load and preprocess data for model training.\n"
      ]
    },
    {
      "cell_type": "code",
      "execution_count": 358,
      "metadata": {
        "id": "aJQVF5Z9d-Xm"
      },
      "outputs": [],
      "source": [
        "class AuthorsDataset(torch.utils.data.Dataset):\n",
        "  def __init__(self, labels, text):\n",
        "    super(AuthorsDataset, self).__init__()\n",
        "    self.text = text\n",
        "    self.labels = labels\n",
        "\n",
        "  def __getitem__(self, index):\n",
        "    return self.labels[index], self.text[index]\n",
        "\n",
        "  def __len__(self):\n",
        "    return len(self.text)"
      ]
    },
    {
      "cell_type": "markdown",
      "metadata": {
        "id": "3BKqJ90ZefI9"
      },
      "source": [
        "### 🔄 `collate_fn`\n",
        "\n",
        "We will create a **collate function** called `tokenize_batch`.  \n",
        "This function takes a batch of data and performs **preprocessing on the text**, and it will be passed to the `DataLoader` to handle batch preparation efficiently.\n",
        "\n",
        "\n",
        "### `tokenize_batch` Function Details\n",
        "\n",
        "- The function takes in a **batch of samples** and converts the text features into their **integer representations**.  \n",
        "- It **pads** or **truncates** sequences to a uniform length so that all inputs in a batch have the same size.  \n",
        "- The function returns the processed **features**, ready for model input.\n"
      ]
    },
    {
      "cell_type": "code",
      "execution_count": 359,
      "metadata": {
        "id": "WzCLHG5Pd-TJ"
      },
      "outputs": [],
      "source": [
        "def tokenize_batch(batch, max_len=300, padding=\"pre\"):\n",
        "  assert padding==\"pre\" or padding==\"post\", \"the padding can be either pre or post\"\n",
        "  labels_list, text_list = [], []\n",
        "  for _label, _text in batch:\n",
        "    labels_list.append(label_pipeline(_label))\n",
        "    text_holder = torch.zeros(max_len, dtype=torch.int32)\n",
        "    processed_text = torch.tensor(text_pipeline(_text), dtype=torch.int32)\n",
        "    pos = min(max_len, len(processed_text))\n",
        "    if padding == \"pre\":\n",
        "      text_holder[:pos] = processed_text[:pos]\n",
        "    else:\n",
        "      text_holder[-pos:] = processed_text[-pos:]\n",
        "    text_list.append(text_holder.unsqueeze(dim=0))\n",
        "  features = torch.cat(text_list, dim=0)\n",
        "  return torch.FloatTensor(labels_list) if len(set(labels_list)) == 2 else torch.LongTensor(labels_list), features"
      ]
    },
    {
      "cell_type": "markdown",
      "metadata": {
        "id": "tJngG-amd-Of"
      },
      "source": [
        "### 📂 Datasets\n",
        "\n",
        "In the following code cell, we will create the **datasets** for all three sets using the `AuthorsDataset` class.  \n",
        "This organizes the data for **training, validation, and testing**, ensuring each set is properly prepared for model input.\n"
      ]
    },
    {
      "cell_type": "code",
      "execution_count": 360,
      "metadata": {
        "id": "DxHSjEx4d-KJ"
      },
      "outputs": [],
      "source": [
        "train_dataset = AuthorsDataset(train_labels, train_texts)\n",
        "test_dataset = AuthorsDataset(test_labels, test_texts)\n",
        "valid_dataset = AuthorsDataset(valid_labels, valid_texts)"
      ]
    },
    {
      "cell_type": "markdown",
      "metadata": {
        "id": "qXmABbFBLYNc"
      },
      "source": [
        "### 🔁 Iterators\n",
        "\n",
        "In the following code cell, we will create **data loaders** using the `DataLoader` class from `torch.utils.data`.  \n",
        "These loaders will handle **batching, shuffling, and preprocessing** of the datasets during training and evaluation.\n"
      ]
    },
    {
      "cell_type": "code",
      "execution_count": 361,
      "metadata": {
        "id": "VL3roEBULWeD"
      },
      "outputs": [],
      "source": [
        "BATCH_SIZE = 128\n",
        "train_loader = torch.utils.data.DataLoader(train_dataset, batch_size=BATCH_SIZE, shuffle=True, collate_fn=tokenize_batch)\n",
        "test_loader = torch.utils.data.DataLoader(test_dataset, batch_size=BATCH_SIZE, shuffle=False, collate_fn=tokenize_batch)\n",
        "valid_loader = torch.utils.data.DataLoader(valid_dataset, batch_size=BATCH_SIZE, shuffle=False, collate_fn=tokenize_batch)"
      ]
    },
    {
      "cell_type": "markdown",
      "metadata": {
        "id": "EgnVhtAyfxKy"
      },
      "source": [
        "### ✅ Checking a Single Batch\n",
        "\n",
        "In this step, we will inspect a **single batch of data** from the DataLoader.  \n",
        "This allows us to verify that the **features and labels** are correctly processed and ready for model training.\n"
      ]
    },
    {
      "cell_type": "code",
      "execution_count": 362,
      "metadata": {
        "id": "zHnpux11f0ac"
      },
      "outputs": [],
      "source": [
        "lbl, txt = next(iter(train_loader))"
      ]
    },
    {
      "cell_type": "markdown",
      "source": [
        "Checking a single batch of labels."
      ],
      "metadata": {
        "id": "PENt9RX0sRf4"
      }
    },
    {
      "cell_type": "code",
      "source": [
        "lbl"
      ],
      "metadata": {
        "colab": {
          "base_uri": "https://localhost:8080/"
        },
        "id": "Q5dLusfXsQuQ",
        "outputId": "17649894-e75f-418f-ae9a-d83ad4a40b41"
      },
      "execution_count": 363,
      "outputs": [
        {
          "output_type": "execute_result",
          "data": {
            "text/plain": [
              "tensor([0, 1, 2, 0, 2, 0, 1, 1, 0, 0, 0, 0, 0, 1, 1, 0, 0, 0, 0, 0, 1, 1, 1, 2,\n",
              "        2, 1, 0, 0, 1, 1, 1, 0, 1, 1, 2, 0, 1, 0, 1, 2, 0, 2, 1, 1, 2, 1, 0, 2,\n",
              "        2, 2, 2, 2, 0, 0, 0, 1, 2, 0, 0, 2, 1, 2, 1, 2, 0, 2, 1, 0, 1, 2, 1, 1,\n",
              "        1, 0, 2, 2, 2, 0, 0, 2, 0, 0, 1, 2, 1, 0, 1, 0, 1, 0, 0, 2, 2, 0, 0, 1,\n",
              "        0, 0, 2, 0, 0, 1, 2, 0, 1, 2, 1, 2, 2, 0, 1, 2, 0, 1, 2, 2, 0, 1, 0, 1,\n",
              "        1, 1, 1, 1, 2, 2, 2, 2])"
            ]
          },
          "metadata": {},
          "execution_count": 363
        }
      ]
    },
    {
      "cell_type": "markdown",
      "metadata": {
        "id": "kuk993nuf9rp"
      },
      "source": [
        "The first sentence in the batch."
      ]
    },
    {
      "cell_type": "code",
      "execution_count": 364,
      "metadata": {
        "colab": {
          "base_uri": "https://localhost:8080/"
        },
        "id": "6dmP77PjgCAL",
        "outputId": "e4fc9519-afe5-4565-be12-e48b7e6812c1"
      },
      "outputs": [
        {
          "output_type": "execute_result",
          "data": {
            "text/plain": [
              "tensor([  115,   129,  2337,    82, 11408,    44,   199, 10964, 11542,   141,\n",
              "          327,   107, 12332,     0,   165,    11,  5559,  1465,  8985,  7861,\n",
              "           32,  9458,    15,    11,  1497,  5248,   107,   539,  3332,  5161,\n",
              "           30,  4439,    28,    30,  4669,     0,     0,     0,     0,     0,\n",
              "            0,     0,     0,     0,     0,     0,     0,     0,     0,     0,\n",
              "            0,     0,     0,     0,     0,     0,     0,     0,     0,     0,\n",
              "            0,     0,     0,     0,     0,     0,     0,     0,     0,     0,\n",
              "            0,     0,     0,     0,     0,     0,     0,     0,     0,     0,\n",
              "            0,     0,     0,     0,     0,     0,     0,     0,     0,     0,\n",
              "            0,     0,     0,     0,     0,     0,     0,     0,     0,     0,\n",
              "            0,     0,     0,     0,     0,     0,     0,     0,     0,     0,\n",
              "            0,     0,     0,     0,     0,     0,     0,     0,     0,     0,\n",
              "            0,     0,     0,     0,     0,     0,     0,     0,     0,     0,\n",
              "            0,     0,     0,     0,     0,     0,     0,     0,     0,     0,\n",
              "            0,     0,     0,     0,     0,     0,     0,     0,     0,     0,\n",
              "            0,     0,     0,     0,     0,     0,     0,     0,     0,     0,\n",
              "            0,     0,     0,     0,     0,     0,     0,     0,     0,     0,\n",
              "            0,     0,     0,     0,     0,     0,     0,     0,     0,     0,\n",
              "            0,     0,     0,     0,     0,     0,     0,     0,     0,     0,\n",
              "            0,     0,     0,     0,     0,     0,     0,     0,     0,     0,\n",
              "            0,     0,     0,     0,     0,     0,     0,     0,     0,     0,\n",
              "            0,     0,     0,     0,     0,     0,     0,     0,     0,     0,\n",
              "            0,     0,     0,     0,     0,     0,     0,     0,     0,     0,\n",
              "            0,     0,     0,     0,     0,     0,     0,     0,     0,     0,\n",
              "            0,     0,     0,     0,     0,     0,     0,     0,     0,     0,\n",
              "            0,     0,     0,     0,     0,     0,     0,     0,     0,     0,\n",
              "            0,     0,     0,     0,     0,     0,     0,     0,     0,     0,\n",
              "            0,     0,     0,     0,     0,     0,     0,     0,     0,     0,\n",
              "            0,     0,     0,     0,     0,     0,     0,     0,     0,     0,\n",
              "            0,     0,     0,     0,     0,     0,     0,     0,     0,     0],\n",
              "       dtype=torch.int32)"
            ]
          },
          "metadata": {},
          "execution_count": 364
        }
      ],
      "source": [
        "txt[0]"
      ]
    },
    {
      "cell_type": "markdown",
      "metadata": {
        "id": "HgmtbdKdhIQJ"
      },
      "source": [
        "### 🧠 AuthorsBiLSTM\n",
        "\n",
        "In the following code cell, we will **build a model using LSTM layers** for classifying text by author.  \n",
        "\n",
        "We use a **BiLSTM (Bidirectional LSTM)** model because it is well-suited for efficiently processing **sequential data**, as supported by previous studies (Ngwenya & Garidzira, 2025; Vambe & Garidzira, 2024; Siami-Namini et al., 2019).\n",
        "\n",
        "**References:**\n",
        "\n",
        "1. Ngwenya, S. & Garidzira, T.C. (2025). *Enhanced Fake News Detection with Domain-Specific Word Embeddings: A TorchText-Based Method for News Semantics Representation.* The Indonesian Journal of Computer Science, 14(4).  \n",
        "2. Vambe, W.T. & Garidzira, T.C. (2024, November). *A Comparative Analysis of Convolutional Neural Networks, Bi-Directional Gated Recurrent Units, and Bi-Directional Long Short-Term Memory for Sequential Data Processing Using Human Emotions Dataset.* In 2024 4th International Multidisciplinary Information Technology and Engineering Conference (IMITEC) (pp. 01-08). IEEE.  \n",
        "3. Siami-Namini, S., Tavakoli, N., & Namin, A.S. (2019, December). *The Performance of LSTM and BiLSTM in Forecasting Time Series.* In 2019 IEEE International Conference on Big Data (Big Data) (pp. 3285-3292). IEEE.\n"
      ]
    },
    {
      "cell_type": "code",
      "source": [
        "class AuthorsBiLSTM(nn.Module):\n",
        "    def __init__(\n",
        "        self,\n",
        "        vocab_size,\n",
        "        embedding_size,\n",
        "        hidden_size,\n",
        "        output_size,\n",
        "        num_layers=2,\n",
        "        bidirectional=True,\n",
        "        dropout=0.5,\n",
        "        pad_index=0,\n",
        "        embedding_matrix=None\n",
        "    ):\n",
        "        super(AuthorsBiLSTM, self).__init__()\n",
        "        self.embedding = nn.Embedding(\n",
        "            num_embeddings=vocab_size,\n",
        "            embedding_dim=embedding_size,\n",
        "            padding_idx=pad_index\n",
        "        )\n",
        "\n",
        "        if embedding_matrix is not None:\n",
        "            self.embedding.weight.data.copy_(embedding_matrix)\n",
        "        self.lstm = nn.LSTM(\n",
        "            input_size=embedding_size,\n",
        "            hidden_size=hidden_size,\n",
        "            num_layers=num_layers,\n",
        "            bidirectional=bidirectional,\n",
        "            dropout=dropout if num_layers > 1 else 0,\n",
        "            batch_first=True\n",
        "        )\n",
        "        self.layer_norm = nn.LayerNorm(hidden_size * 2 if bidirectional else hidden_size)\n",
        "        self.out = nn.Linear(hidden_size * 2 if bidirectional else hidden_size, output_size)\n",
        "        self.dropout = nn.Dropout(dropout)\n",
        "        self.bidirectional = bidirectional\n",
        "\n",
        "    def forward(self, text, text_lengths):\n",
        "        embedded = self.embedding(text)  # (batch_size, seq_len, embedding_size)\n",
        "        packed_embedded = nn.utils.rnn.pack_padded_sequence(\n",
        "            embedded, text_lengths.cpu(), batch_first=True, enforce_sorted=False\n",
        "        )\n",
        "\n",
        "        packed_output, (hidden, cell) = self.lstm(packed_embedded)\n",
        "        if self.bidirectional:\n",
        "            hidden = torch.cat([hidden[-2], hidden[-1]], dim=1)\n",
        "        else:\n",
        "            hidden = hidden[-1]\n",
        "\n",
        "        hidden = self.layer_norm(hidden)\n",
        "        hidden = self.dropout(hidden)\n",
        "        return self.out(hidden)"
      ],
      "metadata": {
        "id": "ArRvbpuQk8WB"
      },
      "execution_count": 365,
      "outputs": []
    },
    {
      "cell_type": "markdown",
      "metadata": {
        "id": "8KKSbQ__mZ-d"
      },
      "source": [
        "Next, we will create an **instance of the `AuthorsBiLSTM` model**.  \n",
        "This initializes the network with the specified architecture, ready for training on our dataset.\n"
      ]
    },
    {
      "cell_type": "code",
      "source": [
        "INPUT_DIM = VOCAB_SIZE\n",
        "EMBEDDING_DIM = 300\n",
        "HIDDEN_DIM = 128\n",
        "OUTPUT_DIM = 1 if len(labels_dict) == 2 else len(labels_dict)\n",
        "N_LAYERS = 2\n",
        "BIDIRECTIONAL = True\n",
        "DROPOUT = 0.6321\n",
        "PAD_IDX = stoi['[pad]']\n",
        "author_bilstm = AuthorsBiLSTM(\n",
        "              INPUT_DIM,\n",
        "              EMBEDDING_DIM,\n",
        "              HIDDEN_DIM,\n",
        "              OUTPUT_DIM,\n",
        "              N_LAYERS,\n",
        "              BIDIRECTIONAL,\n",
        "              DROPOUT,\n",
        "              PAD_IDX\n",
        ").to(device)\n",
        "author_bilstm"
      ],
      "metadata": {
        "colab": {
          "base_uri": "https://localhost:8080/"
        },
        "id": "z5571BF7lJPR",
        "outputId": "5e9f73d1-1036-4123-be78-4b1a657dedf8"
      },
      "execution_count": 366,
      "outputs": [
        {
          "output_type": "execute_result",
          "data": {
            "text/plain": [
              "AuthorsBiLSTM(\n",
              "  (embedding): Embedding(33626, 300, padding_idx=1)\n",
              "  (lstm): LSTM(300, 128, num_layers=2, batch_first=True, dropout=0.6321, bidirectional=True)\n",
              "  (layer_norm): LayerNorm((256,), eps=1e-05, elementwise_affine=True)\n",
              "  (out): Linear(in_features=256, out_features=3, bias=True)\n",
              "  (dropout): Dropout(p=0.6321, inplace=False)\n",
              ")"
            ]
          },
          "metadata": {},
          "execution_count": 366
        }
      ]
    },
    {
      "cell_type": "markdown",
      "metadata": {
        "id": "5fQgn0-IQ4kd"
      },
      "source": [
        "### ⚙️ Model Parameters\n",
        "\n",
        "In the following code cell, we will **count the number of parameters** in our `AuthorsBiLSTM` model.  \n",
        "This helps us understand the **model's complexity** and the number of learnable weights.\n"
      ]
    },
    {
      "cell_type": "code",
      "execution_count": 367,
      "metadata": {
        "colab": {
          "base_uri": "https://localhost:8080/"
        },
        "id": "cEaTKAgDQwxX",
        "outputId": "cfebdcee-2e36-4388-b276-879a60f6477a"
      },
      "outputs": [
        {
          "output_type": "stream",
          "name": "stdout",
          "text": [
            "Models Parameters\n",
            "+--------+--------------+------------------+\n",
            "| MODEL  | TOTAL PARAMS | TRAINABLE PARAMS |\n",
            "+--------+--------------+------------------+\n",
            "| BiLSTM |   10,924,667 |       10,924,667 |\n",
            "+--------+--------------+------------------+\n"
          ]
        }
      ],
      "source": [
        "def count_trainable_params(model):\n",
        "  return f\"{sum(p.numel() for p in model.parameters()):,}\", f\"{sum(p.numel() for p in model.parameters() if p.requires_grad):,}\"\n",
        "\n",
        "columns = [\"MODEL\", \"TOTAL PARAMS\", \"TRAINABLE PARAMS\"]\n",
        "data = [\n",
        "    [\"BiLSTM\", *count_trainable_params(author_bilstm)],\n",
        "]\n",
        "tabulate_data(columns, data, title=\"Models Parameters\")"
      ]
    },
    {
      "cell_type": "markdown",
      "metadata": {
        "id": "RjvZJEiAR5vc"
      },
      "source": [
        "### 🌐 Loading Embedding Vectors\n",
        "\n",
        "In the following code cells, we will **load the pretrained custom vectors** into the embedding layer of our model.  \n",
        "We will assign the vectors that correspond to our vocabulary using:\n",
        "\n",
        "```python\n",
        "model.embedding[0].weight.data.copy_(EMBEDDING_MATRIX)\n",
        "```\n",
        "\n",
        "> This ensures that the model starts with meaningful word representations based on GloVe embeddings."
      ]
    },
    {
      "cell_type": "code",
      "execution_count": 368,
      "metadata": {
        "id": "NO1AGmhtxhmp"
      },
      "outputs": [],
      "source": [
        "assert EMBEDDING_MATRIX.size(0) == VOCAB_SIZE, \"This must match!\""
      ]
    },
    {
      "cell_type": "code",
      "execution_count": 369,
      "metadata": {
        "colab": {
          "base_uri": "https://localhost:8080/"
        },
        "id": "HpzrHY1-oYTq",
        "outputId": "400f75de-fbf5-418b-89b1-3d242d375380"
      },
      "outputs": [
        {
          "output_type": "execute_result",
          "data": {
            "text/plain": [
              "tensor([[0., 0., 0.,  ..., 0., 0., 0.],\n",
              "        [0., 0., 0.,  ..., 0., 0., 0.],\n",
              "        [0., 0., 0.,  ..., 0., 0., 0.],\n",
              "        ...,\n",
              "        [0., 0., 0.,  ..., 0., 0., 0.],\n",
              "        [0., 0., 0.,  ..., 0., 0., 0.],\n",
              "        [0., 0., 0.,  ..., 0., 0., 0.]], device='cuda:0')"
            ]
          },
          "metadata": {},
          "execution_count": 369
        }
      ],
      "source": [
        "author_bilstm.embedding.weight.data.copy_(EMBEDDING_MATRIX)"
      ]
    },
    {
      "cell_type": "markdown",
      "source": [
        "### ⚡ Optimizer and Criterion\n",
        "\n",
        "We will use the **Adam optimizer** for training the model.  \n",
        "\n",
        "For the loss function, we will use **`CrossEntropyLoss()`**, as this is a **multi-class classification** problem where each text sample belongs to one of several authors.\n"
      ],
      "metadata": {
        "id": "62qzO9BJt48U"
      }
    },
    {
      "cell_type": "code",
      "source": [
        "optimizer = torch.optim.Adam(\n",
        "    author_bilstm.parameters(),\n",
        "    lr=1e-3,\n",
        "    weight_decay=1e-5,\n",
        "    betas=(0.9, 0.999),\n",
        "    eps=1e-8\n",
        ")\n",
        "\n",
        "criterion = nn.CrossEntropyLoss().to(device)"
      ],
      "metadata": {
        "id": "3eaKa6tkt-CU"
      },
      "execution_count": 372,
      "outputs": []
    },
    {
      "cell_type": "markdown",
      "source": [
        "In the following code cell, we will create the **`categorical_accuracy` function**.  \n",
        "This function calculates the **categorical accuracy** by comparing the predicted labels with the true labels, providing a measure of model performance for multi-class classification.\n"
      ],
      "metadata": {
        "id": "CRLupl4DuASB"
      }
    },
    {
      "cell_type": "code",
      "source": [
        "def categorical_accuracy(preds, y):\n",
        "  top_pred = preds.argmax(1, keepdim = True)\n",
        "  correct = top_pred.eq(y.view_as(top_pred)).sum()\n",
        "  acc = correct.float() / y.shape[0]\n",
        "  return acc"
      ],
      "metadata": {
        "id": "T0HI2O8cuFmN"
      },
      "execution_count": 373,
      "outputs": []
    },
    {
      "cell_type": "markdown",
      "source": [
        "### 🏋️ Training and Evaluation Functions\n",
        "\n",
        "In the following code cell, we will define the **`train_fn`** and **`evaluate_fn`** functions:  \n",
        "\n",
        "- **`train_fn`**: Handles the forward pass, loss computation, and backpropagation for model training.  \n",
        "- **`evaluate_fn`**: Computes the loss and accuracy on validation or test data without updating the model weights.\n"
      ],
      "metadata": {
        "id": "cFIPv1QuuLeR"
      }
    },
    {
      "cell_type": "code",
      "source": [
        "def train_fn(model, iterator, optimizer, criterion):\n",
        "  epoch_loss,epoch_acc = 0, 0\n",
        "  model.train()\n",
        "  for batch in iterator:\n",
        "    y, X = batch\n",
        "    X = X.to(device)\n",
        "    y = y.to(device).long()\n",
        "    lengths = torch.tensor([len(i) for i in X])\n",
        "    optimizer.zero_grad()\n",
        "    predictions = model(X, lengths).squeeze(1)\n",
        "    loss = criterion(predictions, y)\n",
        "    acc = categorical_accuracy(predictions, y)\n",
        "    loss.backward()\n",
        "    optimizer.step()\n",
        "    epoch_loss += loss.item()\n",
        "    epoch_acc += acc.item()\n",
        "  return epoch_loss / len(iterator), epoch_acc / len(iterator)\n",
        "\n",
        "def evaluate_fn(model, iterator, criterion):\n",
        "  epoch_loss,epoch_acc = 0, 0\n",
        "  model.eval()\n",
        "  with torch.no_grad():\n",
        "    for batch in iterator:\n",
        "      y, X = batch\n",
        "      X = X.to(device)\n",
        "      y = y.to(device).long()\n",
        "      lengths = torch.tensor([len(i) for i in X])\n",
        "      predictions = model(X, lengths).squeeze(1)\n",
        "      loss = criterion(predictions, y)\n",
        "      acc = categorical_accuracy(predictions, y)\n",
        "      epoch_loss += loss.item()\n",
        "      epoch_acc += acc.item()\n",
        "  return epoch_loss / len(iterator), epoch_acc / len(iterator)"
      ],
      "metadata": {
        "id": "MxxqwkkAuPFq"
      },
      "execution_count": 374,
      "outputs": []
    },
    {
      "cell_type": "markdown",
      "source": [
        "### 🔄 Training Loop\n",
        "\n",
        "During model training, we will **train the model** while continuously tracking its performance.  \n",
        "\n",
        "The following `History` class serves as a **data structure to store the training history**, including metrics such as loss and accuracy for each epoch.\n"
      ],
      "metadata": {
        "id": "OW1hk0O3uWPd"
      }
    },
    {
      "cell_type": "code",
      "source": [
        "class History:\n",
        "  def __init__(self):\n",
        "    self.train_losses = list()\n",
        "    self.train_acc = list()\n",
        "    self.epoch_train_time = list()\n",
        "    self.val_losses = list()\n",
        "    self.val_acc = list()\n",
        "\n",
        "  def add(self, train_loss:float, train_acc:float, val_loss:float, val_acc:float, elt:float):\n",
        "    self.train_losses.append(train_loss)\n",
        "    self.val_losses.append(val_loss)\n",
        "    self.train_acc.append(train_acc)\n",
        "    self.val_acc.append(val_acc)\n",
        "    self.epoch_train_time.append(elt)"
      ],
      "metadata": {
        "id": "UiwJijCmubDC"
      },
      "execution_count": 375,
      "outputs": []
    },
    {
      "cell_type": "markdown",
      "source": [
        "In the following code cell, we will define the **`run_train_loop` function**.  \n",
        "This function orchestrates the **entire training process**, including running the training and evaluation steps for multiple epochs and updating the training history.\n"
      ],
      "metadata": {
        "id": "WPnpUuRAumiD"
      }
    },
    {
      "cell_type": "code",
      "source": [
        "def run_train_loop(model, model_name, train_loader, val_loader,  epochs=6, optimizer=None, criterion=None):\n",
        "  best_valid_loss = float('inf')\n",
        "  last_saved_epoch = 1\n",
        "  history = History()\n",
        "  training_start = time.time()\n",
        "  for epoch in range(epochs):\n",
        "    start = time.time()\n",
        "    train_loss, train_acc = train_fn(model, train_loader, optimizer, criterion)\n",
        "    valid_loss, valid_acc = evaluate_fn(model, val_loader, criterion)\n",
        "    title = f\"EPOCH: {epoch+1:02}/{epochs:02} {'saving best model...' if valid_loss < best_valid_loss else 'not saving...'}\"\n",
        "    if valid_loss < best_valid_loss:\n",
        "        best_valid_loss = valid_loss\n",
        "        torch.save(model.state_dict(), model_name)\n",
        "        last_saved_epoch = epoch+1\n",
        "    end = time.time()\n",
        "    history.add(train_loss, train_acc, valid_loss, valid_acc, end-start)\n",
        "    data = [\n",
        "        [\"Training\", f'{train_loss:.3f}', f'{train_acc:.3f}', f\"{hms_string(end - start)}\" ],\n",
        "        [\"Validation\", f'{valid_loss:.3f}', f'{valid_acc:.3f}', \"\" ],\n",
        "    ]\n",
        "    columns = [\"CATEGORY\", \"LOSS\", \"ACCURACY\", \"ETA\"]\n",
        "    tabulate_data(columns, data, title)\n",
        "\n",
        "  training_end = time.time()\n",
        "  return history, training_end - training_start, last_saved_epoch"
      ],
      "metadata": {
        "id": "eetF3lpUuj3v"
      },
      "execution_count": 376,
      "outputs": []
    },
    {
      "cell_type": "code",
      "source": [
        "EPOCHS = 10\n",
        "history, elt, last_saved_epoch = run_train_loop(\n",
        "    author_bilstm, 'lstm.pt', train_loader, test_loader, EPOCHS,\n",
        "    optimizer=optimizer, criterion=criterion\n",
        ")\n"
      ],
      "metadata": {
        "colab": {
          "base_uri": "https://localhost:8080/"
        },
        "id": "dj4os4EHxKtU",
        "outputId": "589a5c7e-d46c-46b3-f414-2ac00eb5ac0b"
      },
      "execution_count": 377,
      "outputs": [
        {
          "output_type": "stream",
          "name": "stdout",
          "text": [
            "EPOCH: 01/10 saving best model...\n",
            "+------------+-------+----------+------------+\n",
            "| CATEGORY   |  LOSS | ACCURACY |        ETA |\n",
            "+------------+-------+----------+------------+\n",
            "| Training   | 1.117 |    0.414 | 0:00:05.25 |\n",
            "| Validation | 1.005 |    0.496 |            |\n",
            "+------------+-------+----------+------------+\n",
            "EPOCH: 02/10 saving best model...\n",
            "+------------+-------+----------+------------+\n",
            "| CATEGORY   |  LOSS | ACCURACY |        ETA |\n",
            "+------------+-------+----------+------------+\n",
            "| Training   | 0.851 |    0.627 | 0:00:05.31 |\n",
            "| Validation | 0.705 |    0.714 |            |\n",
            "+------------+-------+----------+------------+\n",
            "EPOCH: 03/10 not saving...\n",
            "+------------+-------+----------+------------+\n",
            "| CATEGORY   |  LOSS | ACCURACY |        ETA |\n",
            "+------------+-------+----------+------------+\n",
            "| Training   | 0.515 |    0.810 | 0:00:05.26 |\n",
            "| Validation | 0.744 |    0.704 |            |\n",
            "+------------+-------+----------+------------+\n",
            "EPOCH: 04/10 saving best model...\n",
            "+------------+-------+----------+------------+\n",
            "| CATEGORY   |  LOSS | ACCURACY |        ETA |\n",
            "+------------+-------+----------+------------+\n",
            "| Training   | 0.303 |    0.898 | 0:00:05.43 |\n",
            "| Validation | 0.591 |    0.811 |            |\n",
            "+------------+-------+----------+------------+\n",
            "EPOCH: 05/10 saving best model...\n",
            "+------------+-------+----------+------------+\n",
            "| CATEGORY   |  LOSS | ACCURACY |        ETA |\n",
            "+------------+-------+----------+------------+\n",
            "| Training   | 0.167 |    0.948 | 0:00:05.38 |\n",
            "| Validation | 0.548 |    0.828 |            |\n",
            "+------------+-------+----------+------------+\n",
            "EPOCH: 06/10 not saving...\n",
            "+------------+-------+----------+------------+\n",
            "| CATEGORY   |  LOSS | ACCURACY |        ETA |\n",
            "+------------+-------+----------+------------+\n",
            "| Training   | 0.057 |    0.985 | 0:00:05.30 |\n",
            "| Validation | 0.676 |    0.821 |            |\n",
            "+------------+-------+----------+------------+\n",
            "EPOCH: 07/10 not saving...\n",
            "+------------+-------+----------+------------+\n",
            "| CATEGORY   |  LOSS | ACCURACY |        ETA |\n",
            "+------------+-------+----------+------------+\n",
            "| Training   | 0.024 |    0.995 | 0:00:05.30 |\n",
            "| Validation | 0.685 |    0.829 |            |\n",
            "+------------+-------+----------+------------+\n",
            "EPOCH: 08/10 not saving...\n",
            "+------------+-------+----------+------------+\n",
            "| CATEGORY   |  LOSS | ACCURACY |        ETA |\n",
            "+------------+-------+----------+------------+\n",
            "| Training   | 0.013 |    0.998 | 0:00:05.29 |\n",
            "| Validation | 0.904 |    0.811 |            |\n",
            "+------------+-------+----------+------------+\n",
            "EPOCH: 09/10 not saving...\n",
            "+------------+-------+----------+------------+\n",
            "| CATEGORY   |  LOSS | ACCURACY |        ETA |\n",
            "+------------+-------+----------+------------+\n",
            "| Training   | 0.010 |    0.997 | 0:00:05.29 |\n",
            "| Validation | 0.902 |    0.823 |            |\n",
            "+------------+-------+----------+------------+\n",
            "EPOCH: 10/10 not saving...\n",
            "+------------+-------+----------+------------+\n",
            "| CATEGORY   |  LOSS | ACCURACY |        ETA |\n",
            "+------------+-------+----------+------------+\n",
            "| Training   | 0.076 |    0.983 | 0:00:05.26 |\n",
            "| Validation | 0.699 |    0.808 |            |\n",
            "+------------+-------+----------+------------+\n"
          ]
        }
      ]
    },
    {
      "cell_type": "markdown",
      "source": [
        "Next, we will **save the files** that will be used later for **model inference**.  \n",
        "This ensures that the trained model and necessary artifacts (e.g., vocabulary, embeddings) are preserved for making predictions on new data.\n"
      ],
      "metadata": {
        "id": "17okod7uyBXU"
      }
    },
    {
      "cell_type": "code",
      "source": [
        "with open(\"vocab.json\", \"w\", encoding=\"utf-8\") as f:\n",
        "    json.dump(stoi, f, indent=2, ensure_ascii=False)\n",
        "\n",
        "with open(\"labels_dict.json\", 'w',  encoding=\"utf-8\") as f:\n",
        "    json.dump(labels_dict, f, indent=2, ensure_ascii=False)\n",
        "print(\"Done!\")"
      ],
      "metadata": {
        "colab": {
          "base_uri": "https://localhost:8080/"
        },
        "id": "mSTCrAnwxNzk",
        "outputId": "41d8a96f-70ee-440e-ac2f-352e20e3a75b"
      },
      "execution_count": 397,
      "outputs": [
        {
          "output_type": "stream",
          "name": "stdout",
          "text": [
            "Done!\n"
          ]
        }
      ]
    },
    {
      "cell_type": "markdown",
      "source": [
        "Next, we will **download the static file**.  \n",
        "This file contains the necessary resources or model artifacts required for inference or further analysis.\n"
      ],
      "metadata": {
        "id": "POlVcai-yLBv"
      }
    },
    {
      "cell_type": "code",
      "source": [
        "from google.colab import files\n",
        "files.download('lstm.pt')\n",
        "files.download('vocab.json')\n",
        "files.download('labels_dict.json')"
      ],
      "metadata": {
        "colab": {
          "base_uri": "https://localhost:8080/",
          "height": 17
        },
        "id": "OJx88qlRyMGC",
        "outputId": "6bc5e168-4b6a-411a-bfa9-c727d2b66fa6"
      },
      "execution_count": 379,
      "outputs": [
        {
          "output_type": "display_data",
          "data": {
            "text/plain": [
              "<IPython.core.display.Javascript object>"
            ],
            "application/javascript": [
              "\n",
              "    async function download(id, filename, size) {\n",
              "      if (!google.colab.kernel.accessAllowed) {\n",
              "        return;\n",
              "      }\n",
              "      const div = document.createElement('div');\n",
              "      const label = document.createElement('label');\n",
              "      label.textContent = `Downloading \"${filename}\": `;\n",
              "      div.appendChild(label);\n",
              "      const progress = document.createElement('progress');\n",
              "      progress.max = size;\n",
              "      div.appendChild(progress);\n",
              "      document.body.appendChild(div);\n",
              "\n",
              "      const buffers = [];\n",
              "      let downloaded = 0;\n",
              "\n",
              "      const channel = await google.colab.kernel.comms.open(id);\n",
              "      // Send a message to notify the kernel that we're ready.\n",
              "      channel.send({})\n",
              "\n",
              "      for await (const message of channel.messages) {\n",
              "        // Send a message to notify the kernel that we're ready.\n",
              "        channel.send({})\n",
              "        if (message.buffers) {\n",
              "          for (const buffer of message.buffers) {\n",
              "            buffers.push(buffer);\n",
              "            downloaded += buffer.byteLength;\n",
              "            progress.value = downloaded;\n",
              "          }\n",
              "        }\n",
              "      }\n",
              "      const blob = new Blob(buffers, {type: 'application/binary'});\n",
              "      const a = document.createElement('a');\n",
              "      a.href = window.URL.createObjectURL(blob);\n",
              "      a.download = filename;\n",
              "      div.appendChild(a);\n",
              "      a.click();\n",
              "      div.remove();\n",
              "    }\n",
              "  "
            ]
          },
          "metadata": {}
        },
        {
          "output_type": "display_data",
          "data": {
            "text/plain": [
              "<IPython.core.display.Javascript object>"
            ],
            "application/javascript": [
              "download(\"download_a1b0e852-b183-4166-a6d8-bc010a77cff4\", \"lstm.pt\", 43702833)"
            ]
          },
          "metadata": {}
        },
        {
          "output_type": "display_data",
          "data": {
            "text/plain": [
              "<IPython.core.display.Javascript object>"
            ],
            "application/javascript": [
              "\n",
              "    async function download(id, filename, size) {\n",
              "      if (!google.colab.kernel.accessAllowed) {\n",
              "        return;\n",
              "      }\n",
              "      const div = document.createElement('div');\n",
              "      const label = document.createElement('label');\n",
              "      label.textContent = `Downloading \"${filename}\": `;\n",
              "      div.appendChild(label);\n",
              "      const progress = document.createElement('progress');\n",
              "      progress.max = size;\n",
              "      div.appendChild(progress);\n",
              "      document.body.appendChild(div);\n",
              "\n",
              "      const buffers = [];\n",
              "      let downloaded = 0;\n",
              "\n",
              "      const channel = await google.colab.kernel.comms.open(id);\n",
              "      // Send a message to notify the kernel that we're ready.\n",
              "      channel.send({})\n",
              "\n",
              "      for await (const message of channel.messages) {\n",
              "        // Send a message to notify the kernel that we're ready.\n",
              "        channel.send({})\n",
              "        if (message.buffers) {\n",
              "          for (const buffer of message.buffers) {\n",
              "            buffers.push(buffer);\n",
              "            downloaded += buffer.byteLength;\n",
              "            progress.value = downloaded;\n",
              "          }\n",
              "        }\n",
              "      }\n",
              "      const blob = new Blob(buffers, {type: 'application/binary'});\n",
              "      const a = document.createElement('a');\n",
              "      a.href = window.URL.createObjectURL(blob);\n",
              "      a.download = filename;\n",
              "      div.appendChild(a);\n",
              "      a.click();\n",
              "      div.remove();\n",
              "    }\n",
              "  "
            ]
          },
          "metadata": {}
        },
        {
          "output_type": "display_data",
          "data": {
            "text/plain": [
              "<IPython.core.display.Javascript object>"
            ],
            "application/javascript": [
              "download(\"download_a7c90344-9d0d-467b-bcec-f8cd1402c2f9\", \"vocab.json\", 604335)"
            ]
          },
          "metadata": {}
        },
        {
          "output_type": "display_data",
          "data": {
            "text/plain": [
              "<IPython.core.display.Javascript object>"
            ],
            "application/javascript": [
              "\n",
              "    async function download(id, filename, size) {\n",
              "      if (!google.colab.kernel.accessAllowed) {\n",
              "        return;\n",
              "      }\n",
              "      const div = document.createElement('div');\n",
              "      const label = document.createElement('label');\n",
              "      label.textContent = `Downloading \"${filename}\": `;\n",
              "      div.appendChild(label);\n",
              "      const progress = document.createElement('progress');\n",
              "      progress.max = size;\n",
              "      div.appendChild(progress);\n",
              "      document.body.appendChild(div);\n",
              "\n",
              "      const buffers = [];\n",
              "      let downloaded = 0;\n",
              "\n",
              "      const channel = await google.colab.kernel.comms.open(id);\n",
              "      // Send a message to notify the kernel that we're ready.\n",
              "      channel.send({})\n",
              "\n",
              "      for await (const message of channel.messages) {\n",
              "        // Send a message to notify the kernel that we're ready.\n",
              "        channel.send({})\n",
              "        if (message.buffers) {\n",
              "          for (const buffer of message.buffers) {\n",
              "            buffers.push(buffer);\n",
              "            downloaded += buffer.byteLength;\n",
              "            progress.value = downloaded;\n",
              "          }\n",
              "        }\n",
              "      }\n",
              "      const blob = new Blob(buffers, {type: 'application/binary'});\n",
              "      const a = document.createElement('a');\n",
              "      a.href = window.URL.createObjectURL(blob);\n",
              "      a.download = filename;\n",
              "      div.appendChild(a);\n",
              "      a.click();\n",
              "      div.remove();\n",
              "    }\n",
              "  "
            ]
          },
          "metadata": {}
        },
        {
          "output_type": "display_data",
          "data": {
            "text/plain": [
              "<IPython.core.display.Javascript object>"
            ],
            "application/javascript": [
              "download(\"download_0d6ddfbe-449e-46c2-b5cb-7ed3a8100533\", \"labels_dict.json\", 604335)"
            ]
          },
          "metadata": {}
        }
      ]
    },
    {
      "cell_type": "markdown",
      "source": [
        "Next, we will **check the last saved epoch** and the **total training time** for the `LSTM` model.  \n",
        "This helps us understand the training duration and confirm the point at which the model was last saved.\n"
      ],
      "metadata": {
        "id": "s1yDITWLySqO"
      }
    },
    {
      "cell_type": "code",
      "source": [
        "rows = [\n",
        "      [\"TOTAL EPOCHS\", f'{EPOCHS}'],\n",
        "      [\"LAST SAVED EPOCH\", f'{last_saved_epoch}'],\n",
        "      [\"TOTAL TRAINING TIME\", f'{hms_string(elt)}']\n",
        "]\n",
        "tabulate_data(['', 'value'], rows, \"LSTM MODEL TOTAL TRAINING TIME AND LAST SAVED EPOCH\")"
      ],
      "metadata": {
        "colab": {
          "base_uri": "https://localhost:8080/"
        },
        "id": "UmTht6clyUgm",
        "outputId": "53806d73-e6cc-4061-c0a7-0871c5f31c34"
      },
      "execution_count": 380,
      "outputs": [
        {
          "output_type": "stream",
          "name": "stdout",
          "text": [
            "LSTM MODEL TOTAL TRAINING TIME AND LAST SAVED EPOCH\n",
            "+---------------------+------------+\n",
            "|                     |      value |\n",
            "+---------------------+------------+\n",
            "| TOTAL EPOCHS        |         10 |\n",
            "| LAST SAVED EPOCH    |          5 |\n",
            "| TOTAL TRAINING TIME | 0:00:53.08 |\n",
            "+---------------------+------------+\n"
          ]
        }
      ]
    },
    {
      "cell_type": "markdown",
      "source": [
        "### 📈 Training History\n",
        "\n",
        "In the following code cells, we will **visualize the training progress** observed during model training.  \n",
        "\n",
        "The first plot will show the **time taken to complete each epoch**, providing insights into training efficiency and computational performance.\n"
      ],
      "metadata": {
        "id": "rVu-n-1hycns"
      }
    },
    {
      "cell_type": "code",
      "source": [
        "epochs = np.arange(1, EPOCHS + 1)\n",
        "plt.figure(figsize=(5, 3), dpi=80)\n",
        "plt.plot(epochs, history.epoch_train_time, color=PALETTES.gradient[9], label='lstm')\n",
        "plt.title(\"EPOCH TRAINING TIME\", color=\"k\", fontsize=12)\n",
        "plt.xlabel(\"epochs\", fontsize=12)\n",
        "plt.ylabel(\"time(s)\", fontsize=12)\n",
        "\n",
        "plt.minorticks_on()\n",
        "plt.grid(which='major', color='gray', linestyle='-', linewidth=0.5)\n",
        "plt.grid(which='minor', color='#7ED4AD', linestyle='--', linewidth=0.3)\n",
        "\n",
        "plt.show()"
      ],
      "metadata": {
        "colab": {
          "base_uri": "https://localhost:8080/",
          "height": 269
        },
        "id": "mno4c_i5yXhM",
        "outputId": "751a67f8-2656-4caa-d35c-f7a9b60e3a9f"
      },
      "execution_count": 381,
      "outputs": [
        {
          "output_type": "display_data",
          "data": {
            "text/plain": [
              "<Figure size 400x240 with 1 Axes>"
            ],
            "image/png": "[encoded data removed]"
          },
          "metadata": {}
        }
      ]
    },
    {
      "cell_type": "markdown",
      "source": [
        "Next, we will **visualize the training and validation loss** using a line graph.  \n",
        "This plot shows how the loss evolved during training, helping us assess model convergence and detect potential overfitting.\n"
      ],
      "metadata": {
        "id": "QWJpOa08ygrB"
      }
    },
    {
      "cell_type": "code",
      "source": [
        "plt.figure(figsize=(5, 3), dpi=80)\n",
        "plt.plot(epochs, history.train_losses, color=PALETTES.gradient[14], label='training')\n",
        "plt.plot(epochs, history.val_losses, color=PALETTES.gradient[11], label='validation')\n",
        "plt.title(\"EPOCH TRAINING LOSSES\", color=\"k\", fontsize=12)\n",
        "plt.xlabel(\"epochs\", fontsize=12)\n",
        "plt.ylabel(\"loss\", fontsize=12)\n",
        "plt.legend(fontsize=10)\n",
        "plt.minorticks_on()\n",
        "plt.grid(which='major', color='gray', linestyle='-', linewidth=0.5)\n",
        "plt.grid(which='minor', color='#7ED4AD', linestyle='--', linewidth=0.3)\n",
        "\n",
        "plt.show()\n"
      ],
      "metadata": {
        "colab": {
          "base_uri": "https://localhost:8080/",
          "height": 269
        },
        "id": "ADYkhrf2ypdb",
        "outputId": "af4bb07f-87cb-4d19-9df7-656d6e6423c8"
      },
      "execution_count": 382,
      "outputs": [
        {
          "output_type": "display_data",
          "data": {
            "text/plain": [
              "<Figure size 400x240 with 1 Axes>"
            ],
            "image/png": "[encoded data removed]"
          },
          "metadata": {}
        }
      ]
    },
    {
      "cell_type": "markdown",
      "source": [
        "Next, we will **visualize the training and validation accuracies** using a line graph.  \n",
        "This plot shows how the model's accuracy evolved during training, allowing us to evaluate performance and monitor potential overfitting.\n"
      ],
      "metadata": {
        "id": "M8dN75_Qyzpa"
      }
    },
    {
      "cell_type": "code",
      "source": [
        "plt.figure(figsize=(5, 3), dpi=80)\n",
        "plt.plot(epochs, [acc * 100 for acc in history.train_acc], color=PALETTES.gradient[20], label='training')\n",
        "plt.plot(epochs, [acc * 100 for acc in history.val_acc], color=PALETTES.gradient[22], label='validation')\n",
        "\n",
        "plt.title(\"EPOCH TRAINING ACCURACIES\", color=\"k\", fontsize=12)\n",
        "plt.xlabel(\"epochs\", fontsize=12)\n",
        "plt.ylabel(\"accuracy(%)\", fontsize=12)\n",
        "plt.legend(fontsize=10)\n",
        "\n",
        "plt.minorticks_on()\n",
        "plt.grid(which='major', color='gray', linestyle='-', linewidth=0.5)\n",
        "plt.grid(which='minor', color='#7ED4AD', linestyle='--', linewidth=0.3)\n",
        "\n",
        "plt.show()"
      ],
      "metadata": {
        "colab": {
          "base_uri": "https://localhost:8080/",
          "height": 269
        },
        "id": "CwlcdIvIytkH",
        "outputId": "a326f233-2e30-4f1c-9e74-119ac5279295"
      },
      "execution_count": 383,
      "outputs": [
        {
          "output_type": "display_data",
          "data": {
            "text/plain": [
              "<Figure size 400x240 with 1 Axes>"
            ],
            "image/png": "[encoded data removed]"
          },
          "metadata": {}
        }
      ]
    },
    {
      "cell_type": "markdown",
      "source": [
        "### 🏆 Best Model Evaluations\n",
        "\n",
        "In the following code cell, we will **evaluate the best saved model** for each architecture.  \n",
        "This allows us to assess the performance of the top-performing model on the validation or test data.\n"
      ],
      "metadata": {
        "id": "KXbquLSRy-G3"
      }
    },
    {
      "cell_type": "code",
      "source": [
        "author_bilstm.load_state_dict(torch.load('lstm.pt'))\n",
        "bilstm_test_loss, bistm_test_acc = evaluate_fn(author_bilstm, test_loader, criterion)\n",
        "print(f'Test Loss: {bilstm_test_loss:.3f} | Test Acc: {bistm_test_acc*100:.2f}%')"
      ],
      "metadata": {
        "colab": {
          "base_uri": "https://localhost:8080/"
        },
        "id": "Gj_z3Ajny3Nz",
        "outputId": "7f742e5f-ba1a-4e3b-d2ef-76231ff162fb"
      },
      "execution_count": 384,
      "outputs": [
        {
          "output_type": "stream",
          "name": "stdout",
          "text": [
            "Test Loss: 0.548 | Test Acc: 82.78%\n"
          ]
        }
      ]
    },
    {
      "cell_type": "markdown",
      "source": [
        "Next, we will **make predictions on the test dataset** using our trained model.  \n",
        "This step allows us to see how well the model generalizes to unseen data.\n"
      ],
      "metadata": {
        "id": "bESE6-oFzGpj"
      }
    },
    {
      "cell_type": "code",
      "source": [
        "def get_predictions(model, iterator, device):\n",
        "  model.eval()\n",
        "  labels = []\n",
        "  predictions = []\n",
        "  with torch.no_grad():\n",
        "    for (y, X) in iterator:\n",
        "      X = X.to(device)\n",
        "      lengths = torch.tensor([len(i) for i in X])\n",
        "      y_pred = model(X, lengths).squeeze(1)\n",
        "      y_prob = F.softmax(y_pred).cpu().argmax(dim=1)\n",
        "      labels.append(y.cpu())\n",
        "      predictions.append(y_prob.cpu())\n",
        "  labels = torch.cat(labels, dim = 0).numpy()\n",
        "  predictions = torch.cat(predictions, dim = 0).numpy()\n",
        "  return labels, predictions\n",
        "y_true, y_preds = get_predictions(author_bilstm, test_loader, device)"
      ],
      "metadata": {
        "id": "_Cu1df-WzCG-"
      },
      "execution_count": 385,
      "outputs": []
    },
    {
      "cell_type": "markdown",
      "source": [
        "### 🧮 Confusion Matrix\n",
        "\n",
        "In the following code cell, we will **plot the confusion matrix** for our model.  \n",
        "This visualization helps us understand how well the model predicts each author and where misclassifications occur.\n"
      ],
      "metadata": {
        "id": "VFhocJS4zJUA"
      }
    },
    {
      "cell_type": "code",
      "source": [
        "plt.style.use('default')\n",
        "plot_complicated_confusion_matrix(y_true, y_preds,\n",
        "  labels_dict.keys(), fontsize=6, figsize=(5, 5)\n",
        ")"
      ],
      "metadata": {
        "colab": {
          "base_uri": "https://localhost:8080/",
          "height": 427
        },
        "id": "28di_pKszP5O",
        "outputId": "1451e162-5ae1-4677-afde-4cda7c7a66a1"
      },
      "execution_count": 386,
      "outputs": [
        {
          "output_type": "display_data",
          "data": {
            "text/plain": [
              "<Figure size 500x500 with 2 Axes>"
            ],
            "image/png": "[encoded data removed]"
          },
          "metadata": {}
        }
      ]
    },
    {
      "cell_type": "markdown",
      "source": [
        "### 📋 Classification Report\n",
        "\n",
        "Next, we will **generate and display the classification report** for our model using the test dataset.  \n",
        "This report provides metrics such as **precision, recall, F1-score, and support** for each author class.\n"
      ],
      "metadata": {
        "id": "3HFSjJaZzTzN"
      }
    },
    {
      "cell_type": "code",
      "source": [
        "fig, ax = plot_classification_report(\n",
        "    y_true, y_preds,\n",
        "    title='Classification Report',\n",
        "    figsize=(10, 5), dpi=80,\n",
        "    target_names = labels_dict.keys()\n",
        ")"
      ],
      "metadata": {
        "colab": {
          "base_uri": "https://localhost:8080/",
          "height": 408
        },
        "id": "Cx8gcZOHzQpY",
        "outputId": "0070a3f3-4173-4232-b126-b8ccb6525e69"
      },
      "execution_count": 387,
      "outputs": [
        {
          "output_type": "display_data",
          "data": {
            "text/plain": [
              "<Figure size 800x400 with 2 Axes>"
            ],
            "image/png": "[encoded data removed]"
          },
          "metadata": {}
        }
      ]
    },
    {
      "cell_type": "markdown",
      "source": [
        "### 🤖 Model Inference\n",
        "\n",
        "In this section, we will **test our model's ability to make predictions** based on user input.  \n",
        "\n",
        "In the following code cell, we will use the **best model** to generate predictions.  \n",
        "We will define a function called `inference_preprocess_text`, which **preprocesses the input text** to prepare it for inference.\n"
      ],
      "metadata": {
        "id": "lqWy03cQzd4R"
      }
    },
    {
      "cell_type": "code",
      "source": [
        "def inference_preprocess_text(text, max_len=300, padding=\"pre\"):\n",
        "  assert padding==\"pre\" or padding==\"post\", \"the padding can be either pre or post\"\n",
        "  text_holder = torch.zeros(max_len, dtype=torch.int32) # fixed size tensor of max_len with  = 0\n",
        "  processed_text = torch.tensor(text_pipeline(text), dtype=torch.int32)\n",
        "  pos = min(max_len, len(processed_text))\n",
        "  if padding == \"pre\":\n",
        "    text_holder[:pos] = processed_text[:pos]\n",
        "  else:\n",
        "    text_holder[-pos:] = processed_text[-pos:]\n",
        "  text_list= text_holder.unsqueeze(dim=0)\n",
        "  return text_list"
      ],
      "metadata": {
        "id": "Yz1RfU7PzgLs"
      },
      "execution_count": 388,
      "outputs": []
    },
    {
      "cell_type": "code",
      "source": [
        "classes = list(labels_dict.keys())\n",
        "authors =   [ \"HP Lovecraft\",  \"Edgar Allan Poe\", \"Mary Shelley\" ]\n",
        "def predict_author(model, sentence, device):\n",
        "    model.eval()\n",
        "    with torch.no_grad():\n",
        "      tensor = inference_preprocess_text(sentence).to(device)\n",
        "      length = torch.tensor([len(t) for t in tensor])\n",
        "      probs = F.softmax(model(tensor, length).squeeze(0))\n",
        "      top = {\n",
        "          'label': int(probs.argmax().item()),\n",
        "          'probability': float(probs.max().item()),\n",
        "          \"class\": classes[probs.argmax().item()],\n",
        "          \"author\": authors[probs.argmax().item()]\n",
        "      }\n",
        "      predictions = [\n",
        "          {\n",
        "              'label': i,\n",
        "              'probability': float(prob),\n",
        "              \"class\": classes[i],\n",
        "              \"author\": authors[i]\n",
        "          } for i, prob in enumerate(probs)\n",
        "      ]\n",
        "      return {'top': top, 'predictions': predictions}"
      ],
      "metadata": {
        "id": "P5mSL3hy1ebi"
      },
      "execution_count": 399,
      "outputs": []
    },
    {
      "cell_type": "markdown",
      "source": [
        "### 📝 Prediction Example\n",
        "\n",
        "In the following code cell, we will **predict a sample input**.  \n",
        "This example demonstrates how the model can classify a simple text, such as an order cancellation request, based on learned patterns.\n"
      ],
      "metadata": {
        "id": "LAfioaiV2rEx"
      }
    },
    {
      "cell_type": "code",
      "source": [
        "test.head()"
      ],
      "metadata": {
        "colab": {
          "base_uri": "https://localhost:8080/",
          "height": 206
        },
        "id": "IworgxVSNFdh",
        "outputId": "4c072ab1-5f88-435c-f8ee-58a91d717d91"
      },
      "execution_count": 400,
      "outputs": [
        {
          "output_type": "execute_result",
          "data": {
            "text/plain": [
              "        id                                               text author\n",
              "0  id07955  What, indeed, was my passion for the young gir...    EAP\n",
              "1  id00315  I shall say nothing more upon this point; and,...    EAP\n",
              "2  id21451  Some of the neighbouring families who had hear...    HPL\n",
              "3  id04917  It was in one of the most open and least frequ...    HPL\n",
              "4  id26199  After some delay, a cart arrived at the wharf,...    EAP"
            ],
            "text/html": [
              "\n",
              "  <div id=\"df-6f381c7b-c60d-41c6-9eb3-aa6a277f3bde\" class=\"colab-df-container\">\n",
              "    <div>\n",
              "<style scoped>\n",
              "    .dataframe tbody tr th:only-of-type {\n",
              "        vertical-align: middle;\n",
              "    }\n",
              "\n",
              "    .dataframe tbody tr th {\n",
              "        vertical-align: top;\n",
              "    }\n",
              "\n",
              "    .dataframe thead th {\n",
              "        text-align: right;\n",
              "    }\n",
              "</style>\n",
              "<table border=\"1\" class=\"dataframe\">\n",
              "  <thead>\n",
              "    <tr style=\"text-align: right;\">\n",
              "      <th></th>\n",
              "      <th>id</th>\n",
              "      <th>text</th>\n",
              "      <th>author</th>\n",
              "    </tr>\n",
              "  </thead>\n",
              "  <tbody>\n",
              "    <tr>\n",
              "      <th>0</th>\n",
              "      <td>id07955</td>\n",
              "      <td>What, indeed, was my passion for the young gir...</td>\n",
              "      <td>EAP</td>\n",
              "    </tr>\n",
              "    <tr>\n",
              "      <th>1</th>\n",
              "      <td>id00315</td>\n",
              "      <td>I shall say nothing more upon this point; and,...</td>\n",
              "      <td>EAP</td>\n",
              "    </tr>\n",
              "    <tr>\n",
              "      <th>2</th>\n",
              "      <td>id21451</td>\n",
              "      <td>Some of the neighbouring families who had hear...</td>\n",
              "      <td>HPL</td>\n",
              "    </tr>\n",
              "    <tr>\n",
              "      <th>3</th>\n",
              "      <td>id04917</td>\n",
              "      <td>It was in one of the most open and least frequ...</td>\n",
              "      <td>HPL</td>\n",
              "    </tr>\n",
              "    <tr>\n",
              "      <th>4</th>\n",
              "      <td>id26199</td>\n",
              "      <td>After some delay, a cart arrived at the wharf,...</td>\n",
              "      <td>EAP</td>\n",
              "    </tr>\n",
              "  </tbody>\n",
              "</table>\n",
              "</div>\n",
              "    <div class=\"colab-df-buttons\">\n",
              "\n",
              "  <div class=\"colab-df-container\">\n",
              "    <button class=\"colab-df-convert\" onclick=\"convertToInteractive('df-6f381c7b-c60d-41c6-9eb3-aa6a277f3bde')\"\n",
              "            title=\"Convert this dataframe to an interactive table.\"\n",
              "            style=\"display:none;\">\n",
              "\n",
              "  <svg xmlns=\"http://www.w3.org/2000/svg\" height=\"24px\" viewBox=\"0 -960 960 960\">\n",
              "    <path d=\"M120-120v-720h720v720H120Zm60-500h600v-160H180v160Zm220 220h160v-160H400v160Zm0 220h160v-160H400v160ZM180-400h160v-160H180v160Zm440 0h160v-160H620v160ZM180-180h160v-160H180v160Zm440 0h160v-160H620v160Z\"/>\n",
              "  </svg>\n",
              "    </button>\n",
              "\n",
              "  <style>\n",
              "    .colab-df-container {\n",
              "      display:flex;\n",
              "      gap: 12px;\n",
              "    }\n",
              "\n",
              "    .colab-df-convert {\n",
              "      background-color: #E8F0FE;\n",
              "      border: none;\n",
              "      border-radius: 50%;\n",
              "      cursor: pointer;\n",
              "      display: none;\n",
              "      fill: #1967D2;\n",
              "      height: 32px;\n",
              "      padding: 0 0 0 0;\n",
              "      width: 32px;\n",
              "    }\n",
              "\n",
              "    .colab-df-convert:hover {\n",
              "      background-color: #E2EBFA;\n",
              "      box-shadow: 0px 1px 2px rgba(60, 64, 67, 0.3), 0px 1px 3px 1px rgba(60, 64, 67, 0.15);\n",
              "      fill: #174EA6;\n",
              "    }\n",
              "\n",
              "    .colab-df-buttons div {\n",
              "      margin-bottom: 4px;\n",
              "    }\n",
              "\n",
              "    [theme=dark] .colab-df-convert {\n",
              "      background-color: #3B4455;\n",
              "      fill: #D2E3FC;\n",
              "    }\n",
              "\n",
              "    [theme=dark] .colab-df-convert:hover {\n",
              "      background-color: #434B5C;\n",
              "      box-shadow: 0px 1px 3px 1px rgba(0, 0, 0, 0.15);\n",
              "      filter: drop-shadow(0px 1px 2px rgba(0, 0, 0, 0.3));\n",
              "      fill: #FFFFFF;\n",
              "    }\n",
              "  </style>\n",
              "\n",
              "    <script>\n",
              "      const buttonEl =\n",
              "        document.querySelector('#df-6f381c7b-c60d-41c6-9eb3-aa6a277f3bde button.colab-df-convert');\n",
              "      buttonEl.style.display =\n",
              "        google.colab.kernel.accessAllowed ? 'block' : 'none';\n",
              "\n",
              "      async function convertToInteractive(key) {\n",
              "        const element = document.querySelector('#df-6f381c7b-c60d-41c6-9eb3-aa6a277f3bde');\n",
              "        const dataTable =\n",
              "          await google.colab.kernel.invokeFunction('convertToInteractive',\n",
              "                                                    [key], {});\n",
              "        if (!dataTable) return;\n",
              "\n",
              "        const docLinkHtml = 'Like what you see? Visit the ' +\n",
              "          '<a target=\"_blank\" href=https://colab.research.google.com/notebooks/data_table.ipynb>data table notebook</a>'\n",
              "          + ' to learn more about interactive tables.';\n",
              "        element.innerHTML = '';\n",
              "        dataTable['output_type'] = 'display_data';\n",
              "        await google.colab.output.renderOutput(dataTable, element);\n",
              "        const docLink = document.createElement('div');\n",
              "        docLink.innerHTML = docLinkHtml;\n",
              "        element.appendChild(docLink);\n",
              "      }\n",
              "    </script>\n",
              "  </div>\n",
              "\n",
              "\n",
              "    <div id=\"df-649f5ced-e52e-449f-aa0c-5b1e1225560b\">\n",
              "      <button class=\"colab-df-quickchart\" onclick=\"quickchart('df-649f5ced-e52e-449f-aa0c-5b1e1225560b')\"\n",
              "                title=\"Suggest charts\"\n",
              "                style=\"display:none;\">\n",
              "\n",
              "<svg xmlns=\"http://www.w3.org/2000/svg\" height=\"24px\"viewBox=\"0 0 24 24\"\n",
              "     width=\"24px\">\n",
              "    <g>\n",
              "        <path d=\"M19 3H5c-1.1 0-2 .9-2 2v14c0 1.1.9 2 2 2h14c1.1 0 2-.9 2-2V5c0-1.1-.9-2-2-2zM9 17H7v-7h2v7zm4 0h-2V7h2v10zm4 0h-2v-4h2v4z\"/>\n",
              "    </g>\n",
              "</svg>\n",
              "      </button>\n",
              "\n",
              "<style>\n",
              "  .colab-df-quickchart {\n",
              "      --bg-color: #E8F0FE;\n",
              "      --fill-color: #1967D2;\n",
              "      --hover-bg-color: #E2EBFA;\n",
              "      --hover-fill-color: #174EA6;\n",
              "      --disabled-fill-color: #AAA;\n",
              "      --disabled-bg-color: #DDD;\n",
              "  }\n",
              "\n",
              "  [theme=dark] .colab-df-quickchart {\n",
              "      --bg-color: #3B4455;\n",
              "      --fill-color: #D2E3FC;\n",
              "      --hover-bg-color: #434B5C;\n",
              "      --hover-fill-color: #FFFFFF;\n",
              "      --disabled-bg-color: #3B4455;\n",
              "      --disabled-fill-color: #666;\n",
              "  }\n",
              "\n",
              "  .colab-df-quickchart {\n",
              "    background-color: var(--bg-color);\n",
              "    border: none;\n",
              "    border-radius: 50%;\n",
              "    cursor: pointer;\n",
              "    display: none;\n",
              "    fill: var(--fill-color);\n",
              "    height: 32px;\n",
              "    padding: 0;\n",
              "    width: 32px;\n",
              "  }\n",
              "\n",
              "  .colab-df-quickchart:hover {\n",
              "    background-color: var(--hover-bg-color);\n",
              "    box-shadow: 0 1px 2px rgba(60, 64, 67, 0.3), 0 1px 3px 1px rgba(60, 64, 67, 0.15);\n",
              "    fill: var(--button-hover-fill-color);\n",
              "  }\n",
              "\n",
              "  .colab-df-quickchart-complete:disabled,\n",
              "  .colab-df-quickchart-complete:disabled:hover {\n",
              "    background-color: var(--disabled-bg-color);\n",
              "    fill: var(--disabled-fill-color);\n",
              "    box-shadow: none;\n",
              "  }\n",
              "\n",
              "  .colab-df-spinner {\n",
              "    border: 2px solid var(--fill-color);\n",
              "    border-color: transparent;\n",
              "    border-bottom-color: var(--fill-color);\n",
              "    animation:\n",
              "      spin 1s steps(1) infinite;\n",
              "  }\n",
              "\n",
              "  @keyframes spin {\n",
              "    0% {\n",
              "      border-color: transparent;\n",
              "      border-bottom-color: var(--fill-color);\n",
              "      border-left-color: var(--fill-color);\n",
              "    }\n",
              "    20% {\n",
              "      border-color: transparent;\n",
              "      border-left-color: var(--fill-color);\n",
              "      border-top-color: var(--fill-color);\n",
              "    }\n",
              "    30% {\n",
              "      border-color: transparent;\n",
              "      border-left-color: var(--fill-color);\n",
              "      border-top-color: var(--fill-color);\n",
              "      border-right-color: var(--fill-color);\n",
              "    }\n",
              "    40% {\n",
              "      border-color: transparent;\n",
              "      border-right-color: var(--fill-color);\n",
              "      border-top-color: var(--fill-color);\n",
              "    }\n",
              "    60% {\n",
              "      border-color: transparent;\n",
              "      border-right-color: var(--fill-color);\n",
              "    }\n",
              "    80% {\n",
              "      border-color: transparent;\n",
              "      border-right-color: var(--fill-color);\n",
              "      border-bottom-color: var(--fill-color);\n",
              "    }\n",
              "    90% {\n",
              "      border-color: transparent;\n",
              "      border-bottom-color: var(--fill-color);\n",
              "    }\n",
              "  }\n",
              "</style>\n",
              "\n",
              "      <script>\n",
              "        async function quickchart(key) {\n",
              "          const quickchartButtonEl =\n",
              "            document.querySelector('#' + key + ' button');\n",
              "          quickchartButtonEl.disabled = true;  // To prevent multiple clicks.\n",
              "          quickchartButtonEl.classList.add('colab-df-spinner');\n",
              "          try {\n",
              "            const charts = await google.colab.kernel.invokeFunction(\n",
              "                'suggestCharts', [key], {});\n",
              "          } catch (error) {\n",
              "            console.error('Error during call to suggestCharts:', error);\n",
              "          }\n",
              "          quickchartButtonEl.classList.remove('colab-df-spinner');\n",
              "          quickchartButtonEl.classList.add('colab-df-quickchart-complete');\n",
              "        }\n",
              "        (() => {\n",
              "          let quickchartButtonEl =\n",
              "            document.querySelector('#df-649f5ced-e52e-449f-aa0c-5b1e1225560b button');\n",
              "          quickchartButtonEl.style.display =\n",
              "            google.colab.kernel.accessAllowed ? 'block' : 'none';\n",
              "        })();\n",
              "      </script>\n",
              "    </div>\n",
              "\n",
              "    </div>\n",
              "  </div>\n"
            ],
            "application/vnd.google.colaboratory.intrinsic+json": {
              "type": "dataframe",
              "variable_name": "test",
              "summary": "{\n  \"name\": \"test\",\n  \"rows\": 1911,\n  \"fields\": [\n    {\n      \"column\": \"id\",\n      \"properties\": {\n        \"dtype\": \"string\",\n        \"num_unique_values\": 1911,\n        \"samples\": [\n          \"id22943\",\n          \"id02611\",\n          \"id21137\"\n        ],\n        \"semantic_type\": \"\",\n        \"description\": \"\"\n      }\n    },\n    {\n      \"column\": \"text\",\n      \"properties\": {\n        \"dtype\": \"string\",\n        \"num_unique_values\": 1911,\n        \"samples\": [\n          \"It seemed to me impossible that she could recognise the sound, but she persisted in her assertion till she gained credit with the crowd about.\",\n          \"All this I endeavoured to veil, so that it might least impress my Idris; yet, as I have said, my courage survived even despair: I might be vanquished, but I would not yield.\",\n          \"Jupiter and myself are going upon an expedition into the hills, upon the main land, and, in this expedition we shall need the aid of some person in whom we can confide.\"\n        ],\n        \"semantic_type\": \"\",\n        \"description\": \"\"\n      }\n    },\n    {\n      \"column\": \"author\",\n      \"properties\": {\n        \"dtype\": \"category\",\n        \"num_unique_values\": 3,\n        \"samples\": [\n          \"EAP\",\n          \"HPL\",\n          \"MWS\"\n        ],\n        \"semantic_type\": \"\",\n        \"description\": \"\"\n      }\n    }\n  ]\n}"
            }
          },
          "metadata": {},
          "execution_count": 400
        }
      ]
    },
    {
      "cell_type": "code",
      "source": [
        "test.iloc[4].text"
      ],
      "metadata": {
        "colab": {
          "base_uri": "https://localhost:8080/",
          "height": 36
        },
        "id": "zDdsnCOwAE_2",
        "outputId": "7a99d58d-afc5-4881-dd60-dc9fd74fe9eb"
      },
      "execution_count": 401,
      "outputs": [
        {
          "output_type": "execute_result",
          "data": {
            "text/plain": [
              "'After some delay, a cart arrived at the wharf, with an oblong pine box, which was every thing that seemed to be expected.'"
            ],
            "application/vnd.google.colaboratory.intrinsic+json": {
              "type": "string"
            }
          },
          "metadata": {},
          "execution_count": 401
        }
      ]
    },
    {
      "cell_type": "markdown",
      "source": [
        "### `Author: HPL`"
      ],
      "metadata": {
        "id": "5K1WgCbeMbIO"
      }
    },
    {
      "cell_type": "code",
      "source": [
        "predict_author(author_bilstm,\n",
        "               'dee Hi Hi Randy\" A swaying lantern came around the black bend, and old Benijah pounced on the silent and bewildered form of the pilgrim.',\n",
        "               device=device)"
      ],
      "metadata": {
        "colab": {
          "base_uri": "https://localhost:8080/"
        },
        "id": "OEgTUERv1o7X",
        "outputId": "f8eb303a-0cc3-4e16-9323-5e969a63ae8c"
      },
      "execution_count": 402,
      "outputs": [
        {
          "output_type": "execute_result",
          "data": {
            "text/plain": [
              "{'top': {'label': 0,\n",
              "  'probability': 0.9894408583641052,\n",
              "  'class': 'HPL',\n",
              "  'author': 'HP Lovecraft'},\n",
              " 'predictions': [{'label': 0,\n",
              "   'probability': 0.9894408583641052,\n",
              "   'class': 'HPL',\n",
              "   'author': 'HP Lovecraft'},\n",
              "  {'label': 1,\n",
              "   'probability': 0.009701662696897984,\n",
              "   'class': 'EAP',\n",
              "   'author': 'Edgar Allan Poe'},\n",
              "  {'label': 2,\n",
              "   'probability': 0.0008575011161155999,\n",
              "   'class': 'MWS',\n",
              "   'author': 'Mary Shelley'}]}"
            ]
          },
          "metadata": {},
          "execution_count": 402
        }
      ]
    },
    {
      "cell_type": "markdown",
      "source": [
        "### `Author: MWS`"
      ],
      "metadata": {
        "id": "QcSII-jGMgNW"
      }
    },
    {
      "cell_type": "code",
      "source": [
        "predict_author(\n",
        "    author_bilstm, 'How mutable are our feelings, and how strange is that clinging love we have of life even in the excess of misery I constructed another sail with a part of my dress and eagerly steered my course towards the land.',\n",
        "    device=device\n",
        ")"
      ],
      "metadata": {
        "colab": {
          "base_uri": "https://localhost:8080/"
        },
        "id": "IDGG9ZpJ2DdB",
        "outputId": "b4b34b67-2a55-4f38-de50-9daf08e49862"
      },
      "execution_count": 403,
      "outputs": [
        {
          "output_type": "execute_result",
          "data": {
            "text/plain": [
              "{'top': {'label': 2,\n",
              "  'probability': 0.9945909976959229,\n",
              "  'class': 'MWS',\n",
              "  'author': 'Mary Shelley'},\n",
              " 'predictions': [{'label': 0,\n",
              "   'probability': 0.0010808007791638374,\n",
              "   'class': 'HPL',\n",
              "   'author': 'HP Lovecraft'},\n",
              "  {'label': 1,\n",
              "   'probability': 0.004328244831413031,\n",
              "   'class': 'EAP',\n",
              "   'author': 'Edgar Allan Poe'},\n",
              "  {'label': 2,\n",
              "   'probability': 0.9945909976959229,\n",
              "   'class': 'MWS',\n",
              "   'author': 'Mary Shelley'}]}"
            ]
          },
          "metadata": {},
          "execution_count": 403
        }
      ]
    },
    {
      "cell_type": "markdown",
      "source": [
        "### `Author: EAP`"
      ],
      "metadata": {
        "id": "uKZ0quUhMl0c"
      }
    },
    {
      "cell_type": "code",
      "source": [
        "predict_author(\n",
        "    author_bilstm, 'These peculiarities are, no doubt, mere mannerisms of M. Maelzel, or, if he is aware of them at all, he puts them in practice with a view of exciting in the spectators a false idea of the pure mechanism in the Automaton.',\n",
        "    device=device\n",
        ")"
      ],
      "metadata": {
        "colab": {
          "base_uri": "https://localhost:8080/"
        },
        "id": "hnPSUpKqMn_B",
        "outputId": "7a2502e3-30d6-4222-b2ee-0c4ded50f8c4"
      },
      "execution_count": 404,
      "outputs": [
        {
          "output_type": "execute_result",
          "data": {
            "text/plain": [
              "{'top': {'label': 1,\n",
              "  'probability': 0.9966593980789185,\n",
              "  'class': 'EAP',\n",
              "  'author': 'Edgar Allan Poe'},\n",
              " 'predictions': [{'label': 0,\n",
              "   'probability': 0.0019294441444799304,\n",
              "   'class': 'HPL',\n",
              "   'author': 'HP Lovecraft'},\n",
              "  {'label': 1,\n",
              "   'probability': 0.9966593980789185,\n",
              "   'class': 'EAP',\n",
              "   'author': 'Edgar Allan Poe'},\n",
              "  {'label': 2,\n",
              "   'probability': 0.0014111659256741405,\n",
              "   'class': 'MWS',\n",
              "   'author': 'Mary Shelley'}]}"
            ]
          },
          "metadata": {},
          "execution_count": 404
        }
      ]
    },
    {
      "cell_type": "code",
      "source": [],
      "metadata": {
        "id": "KneZNLAzJo9V"
      },
      "execution_count": null,
      "outputs": []
    }
  ],
  "metadata": {
    "colab": {
      "provenance": [],
      "gpuType": "T4"
    },
    "kernelspec": {
      "display_name": "Python 3",
      "name": "python3"
    },
    "language_info": {
      "name": "python"
    },
    "accelerator": "GPU"
  },
  "nbformat": 4,
  "nbformat_minor": 0
}